{
  "nbformat": 4,
  "nbformat_minor": 0,
  "metadata": {
    "colab": {
      "provenance": [],
      "authorship_tag": "ABX9TyPp7nFsxK2GLe9AUq/P3F9B",
      "include_colab_link": true
    },
    "kernelspec": {
      "name": "python3",
      "display_name": "Python 3"
    },
    "language_info": {
      "name": "python"
    }
  },
  "cells": [
    {
      "cell_type": "markdown",
      "metadata": {
        "id": "view-in-github",
        "colab_type": "text"
      },
      "source": [
        "<a href=\"https://colab.research.google.com/github/dercodeKoenig/image-upscaling.net_API/blob/main/image_upscaling_api.ipynb\" target=\"_parent\"><img src=\"https://colab.research.google.com/assets/colab-badge.svg\" alt=\"Open In Colab\"/></a>"
      ]
    },
    {
      "cell_type": "code",
      "source": [
        "# remove default files and download test image for upscaling and background removal\n",
        "!rm -r *\n",
        "!wget https://image-upscaling.net/assets/images/test_image.jpg"
      ],
      "metadata": {
        "colab": {
          "base_uri": "https://localhost:8080/"
        },
        "id": "dVwMu7NAPqTj",
        "outputId": "45286971-507b-4539-8f20-1350695ea1eb"
      },
      "execution_count": 13,
      "outputs": [
        {
          "output_type": "stream",
          "name": "stdout",
          "text": [
            "--2025-08-08 20:05:20--  https://image-upscaling.net/assets/images/test_image.jpg\n",
            "Resolving image-upscaling.net (image-upscaling.net)... 172.67.180.202, 104.21.31.237, 2606:4700:3033::6815:1fed, ...\n",
            "Connecting to image-upscaling.net (image-upscaling.net)|172.67.180.202|:443... connected.\n",
            "HTTP request sent, awaiting response... 302 Found\n",
            "Location: /static/assets/images/test_image.jpg [following]\n",
            "--2025-08-08 20:05:20--  https://image-upscaling.net/static/assets/images/test_image.jpg\n",
            "Reusing existing connection to image-upscaling.net:443.\n",
            "HTTP request sent, awaiting response... 200 OK\n",
            "Length: 28794 (28K) [image/jpeg]\n",
            "Saving to: ‘test_image.jpg’\n",
            "\n",
            "test_image.jpg      100%[===================>]  28.12K  --.-KB/s    in 0.02s   \n",
            "\n",
            "2025-08-08 20:05:21 (1.31 MB/s) - ‘test_image.jpg’ saved [28794/28794]\n",
            "\n"
          ]
        }
      ]
    },
    {
      "cell_type": "markdown",
      "source": [
        "# setting server url and client id for future requests"
      ],
      "metadata": {
        "id": "RAL6Qy_6WLQl"
      }
    },
    {
      "cell_type": "code",
      "source": [
        "import requests\n",
        "import json\n",
        "\n",
        "serverurl = \"https://image-upscaling.net\"\n",
        "client_id = \"1234567890asdfghjklqwertzUIOPYXC\"\n",
        "\n",
        "# Cookie with a valid 32-digit client_id will always be sent with the request\n",
        "cookies = {\n",
        "    \"client_id\": client_id\n",
        "}"
      ],
      "metadata": {
        "id": "fyqcDad3R5a7"
      },
      "execution_count": 14,
      "outputs": []
    },
    {
      "cell_type": "markdown",
      "source": [
        "# upscaling api"
      ],
      "metadata": {
        "id": "Iqecdc3UWEpn"
      }
    },
    {
      "cell_type": "code",
      "execution_count": 15,
      "metadata": {
        "colab": {
          "base_uri": "https://localhost:8080/"
        },
        "id": "jiwkZIYaPlIM",
        "outputId": "b2b6727a-ed88-44c8-8b37-b52764880148"
      },
      "outputs": [
        {
          "output_type": "stream",
          "name": "stdout",
          "text": [
            "image will be upscaled by 4\n"
          ]
        }
      ],
      "source": [
        "## uploading an image to be processed\n",
        "\n",
        "use_face_enhance = False\n",
        "scale = 4\n",
        "path = \"test_image.jpg\"\n",
        "\n",
        "url = \"/\".join([serverurl, \"upscaling_upload\"])\n",
        "\n",
        "data = {}\n",
        "if use_face_enhance:\n",
        "        data[\"fx\"] = \"\"\n",
        "data[\"scale\"] = scale\n",
        "\n",
        "files = {\n",
        "    \"image\": (\"my_custom_name.jpg\", open(path, \"rb\"))\n",
        "}\n",
        "\n",
        "response = requests.post(url, data=data, files=files, cookies=cookies)\n",
        "print(response.text)"
      ]
    },
    {
      "cell_type": "code",
      "source": [
        "## getting information about the images on the server\n",
        "\n",
        "url = \"/\".join([serverurl, \"upscaling_get_status\"])\n",
        "response = requests.get(url, cookies=cookies)\n",
        "print(response.json())"
      ],
      "metadata": {
        "colab": {
          "base_uri": "https://localhost:8080/"
        },
        "id": "kHHFwsC8PrGf",
        "outputId": "12fa4f7d-1dc1-43bf-a87c-7d9f33a8bfc5"
      },
      "execution_count": 16,
      "outputs": [
        {
          "output_type": "stream",
          "name": "stdout",
          "text": [
            "{'pending': ['https://image-upscaling.net/download_upscaling_data/pending/my_custom_name_2025-08-08_20:05:22.039715.jpg'], 'processed': [], 'processing': []}\n"
          ]
        }
      ]
    },
    {
      "cell_type": "code",
      "source": [
        "## downloading the processed file(s)\n",
        "\n",
        "while True:\n",
        "  url = \"/\".join([serverurl, \"upscaling_get_status\"])\n",
        "  response = requests.get(url, cookies=cookies).json()\n",
        "\n",
        "  pending = response[\"pending\"]\n",
        "  processing = response[\"processing\"]\n",
        "  processed = response[\"processed\"]\n",
        "  print(pending, processing, processed)\n",
        "\n",
        "  # download all processed images\n",
        "  for url in processed:\n",
        "    filename = url.split(\"/\")[-1]\n",
        "\n",
        "    preview = False\n",
        "    delete_after_download = True\n",
        "    params = {}\n",
        "    if preview:\n",
        "      params[\"preview\"] = \"\"\n",
        "    if delete_after_download:\n",
        "      params[\"delete_after_download\"] = \"\"\n",
        "\n",
        "    print(\"downloading\", filename)\n",
        "    respone = requests.get(url, cookies=cookies, params = params)\n",
        "    with open(filename, \"wb\") as f:\n",
        "      f.write(respone.content)\n",
        "\n",
        "  # if no requests are pending or processing or processed, everything is complete\n",
        "  if len(pending) == 0 and len(processing) == 0 and len(processed) == 0:\n",
        "    break\n",
        "  else:\n",
        "    import time\n",
        "    time.sleep(1)\n",
        "\n"
      ],
      "metadata": {
        "colab": {
          "base_uri": "https://localhost:8080/"
        },
        "id": "nFHaQrasRYjn",
        "outputId": "f85aeac4-2194-4df3-8742-4f4b7a785341"
      },
      "execution_count": 17,
      "outputs": [
        {
          "output_type": "stream",
          "name": "stdout",
          "text": [
            "[] ['https://image-upscaling.net/download_upscaling_data/processing/my_custom_name_2025-08-08_20:05:22.039715.jpg'] []\n",
            "[] [] ['https://image-upscaling.net/download_upscaling_data/processed/my_custom_name_2025-08-08_20:05:22.039715.jpg.png']\n",
            "downloading my_custom_name_2025-08-08_20:05:22.039715.jpg.png\n",
            "[] [] []\n"
          ]
        }
      ]
    },
    {
      "cell_type": "markdown",
      "source": [
        "# remove-background api"
      ],
      "metadata": {
        "id": "PEAVlxyjXc5q"
      }
    },
    {
      "cell_type": "code",
      "source": [
        "## uploading an image to be processed\n",
        "\n",
        "path = \"test_image.jpg\"\n",
        "\n",
        "url = \"/\".join([serverurl, \"removebg_upload\"])\n",
        "\n",
        "files = {\n",
        "        \"image\": open(path, \"rb\")\n",
        "}\n",
        "\n",
        "response = requests.post(url, files=files, cookies=cookies)\n",
        "print(response.text)"
      ],
      "metadata": {
        "colab": {
          "base_uri": "https://localhost:8080/"
        },
        "id": "BaL3PNnJSTia",
        "outputId": "3d87b4fb-4f5e-4566-db9d-2372e7796c57"
      },
      "execution_count": 18,
      "outputs": [
        {
          "output_type": "stream",
          "name": "stdout",
          "text": [
            "image will be processed\n"
          ]
        }
      ]
    },
    {
      "cell_type": "code",
      "source": [
        "## getting information about the images on the server\n",
        "\n",
        "url = \"/\".join([serverurl, \"removebg_get_status\"])\n",
        "response = requests.get(url, cookies=cookies)\n",
        "print(response.json())"
      ],
      "metadata": {
        "colab": {
          "base_uri": "https://localhost:8080/"
        },
        "id": "I-RI5Q5iXbAG",
        "outputId": "aa5d2963-8f04-4c2a-e426-fcdfbd04ec96"
      },
      "execution_count": 19,
      "outputs": [
        {
          "output_type": "stream",
          "name": "stdout",
          "text": [
            "{'pending': ['https://image-upscaling.net/download_removebg_data/pending/test_image_2025-08-08_20:05:27.250156.jpg'], 'processed': [], 'processing': []}\n"
          ]
        }
      ]
    },
    {
      "cell_type": "code",
      "source": [
        "## downloading the processed file(s)\n",
        "\n",
        "while True:\n",
        "  url = \"/\".join([serverurl, \"removebg_get_status\"])\n",
        "  response = requests.get(url, cookies=cookies).json()\n",
        "\n",
        "  pending = response[\"pending\"]\n",
        "  processing = response[\"processing\"]\n",
        "  processed = response[\"processed\"]\n",
        "  print(pending, processing, processed)\n",
        "\n",
        "  # download all processed images\n",
        "  for url in processed:\n",
        "    filename = url.split(\"/\")[-1]\n",
        "\n",
        "    preview = False\n",
        "    delete_after_download = True\n",
        "    params = {}\n",
        "    if preview:\n",
        "      params[\"preview\"] = \"\"\n",
        "    if delete_after_download:\n",
        "      params[\"delete_after_download\"] = \"\"\n",
        "\n",
        "    print(\"downloading\", filename)\n",
        "    respone = requests.get(url, cookies=cookies, params = params)\n",
        "    with open(filename, \"wb\") as f:\n",
        "      f.write(respone.content)\n",
        "\n",
        "  # if no requests are pending or processing or processed, everything is complete\n",
        "  if len(pending) == 0 and len(processing) == 0 and len(processed) == 0:\n",
        "    break\n",
        "  else:\n",
        "    import time\n",
        "    time.sleep(1)\n",
        "\n"
      ],
      "metadata": {
        "colab": {
          "base_uri": "https://localhost:8080/"
        },
        "id": "O5q3nq19Xkqi",
        "outputId": "ffbb5154-25df-4345-edd6-2a7de21ff189"
      },
      "execution_count": 20,
      "outputs": [
        {
          "output_type": "stream",
          "name": "stdout",
          "text": [
            "[] ['https://image-upscaling.net/download_removebg_data/processing/test_image_2025-08-08_20:05:27.250156.jpg'] []\n",
            "[] [] ['https://image-upscaling.net/download_removebg_data/processed/test_image_2025-08-08_20:05:27.250156.jpg.png']\n",
            "downloading test_image_2025-08-08_20:05:27.250156.jpg.png\n",
            "[] [] []\n"
          ]
        }
      ]
    },
    {
      "cell_type": "markdown",
      "source": [
        "# text-to-speech api"
      ],
      "metadata": {
        "id": "j96qBi7YXswe"
      }
    },
    {
      "cell_type": "code",
      "source": [
        "## submit text to be processed\n",
        "\n",
        "url = \"/\".join([serverurl, \"tts_submit\"])\n",
        "\n",
        "data = {}\n",
        "data[\"text\"] = \"This is the text to speech api\"\n",
        "data[\"voice\"] = \"am_michael\"\n",
        "data[\"speed\"] = 1.1\n",
        "\n",
        "response = requests.post(url, json=data, cookies=cookies)\n",
        "print(response.text)"
      ],
      "metadata": {
        "colab": {
          "base_uri": "https://localhost:8080/"
        },
        "id": "DjuiroC8XjTy",
        "outputId": "ebd9ffc6-c8e5-41c8-8f21-e69fbb5ffcef"
      },
      "execution_count": 21,
      "outputs": [
        {
          "output_type": "stream",
          "name": "stdout",
          "text": [
            "1754683532108\n"
          ]
        }
      ]
    },
    {
      "cell_type": "code",
      "source": [
        "## getting information on requests\n",
        "\n",
        "url = \"/\".join([serverurl, \"tts_get_data\"])\n",
        "response = requests.get(url, cookies = cookies)\n",
        "print(response.json())"
      ],
      "metadata": {
        "colab": {
          "base_uri": "https://localhost:8080/"
        },
        "id": "SnxlpIp9ZMM8",
        "outputId": "e0cf1c57-ce5c-47a9-f02c-d56b8955154d"
      },
      "execution_count": 22,
      "outputs": [
        {
          "output_type": "stream",
          "name": "stdout",
          "text": [
            "[{'req_id': 1754683532108, 'result': 'https://image-upscaling.net/download_tts_result/1754683532108', 'speed': 1.1, 'status': 'processed', 'text': 'This is the text to speech api', 'voice': 'am_michael'}]\n"
          ]
        }
      ]
    },
    {
      "cell_type": "code",
      "source": [
        "## downloading all results\n",
        "\n",
        "while True:\n",
        "  url = \"/\".join([serverurl, \"tts_get_data\"])\n",
        "  response = requests.get(url, cookies = cookies).json()\n",
        "\n",
        "  for element in response:\n",
        "    url = element[\"result\"] # get the download url here, (mp3 file)\n",
        "    if url != \"\":\n",
        "      print(url)\n",
        "\n",
        "      params = {}\n",
        "      params[\"delete_after_download\"] = \"\" # delete the file after downloading it\n",
        "      file_content = requests.get(url, params=params, cookies=cookies).content\n",
        "\n",
        "      filename = url.split(\"/\")[-1]+\".mp3\"\n",
        "      with open(filename, \"wb\") as f:\n",
        "        f.write(file_content)\n",
        "\n",
        "  if len(response) == 0:\n",
        "    break\n",
        "  else:\n",
        "    import time\n",
        "    time.sleep(1)\n"
      ],
      "metadata": {
        "colab": {
          "base_uri": "https://localhost:8080/"
        },
        "id": "5kLl0khUaJWC",
        "outputId": "0d7a6bf9-6a2b-4132-b241-7b98a21ff2fd"
      },
      "execution_count": 23,
      "outputs": [
        {
          "output_type": "stream",
          "name": "stdout",
          "text": [
            "https://image-upscaling.net/download_tts_result/1754683532108\n"
          ]
        }
      ]
    },
    {
      "cell_type": "code",
      "source": [
        "# display the mp3 file\n",
        "from IPython.display import Audio\n",
        "Audio(filename)"
      ],
      "metadata": {
        "colab": {
          "base_uri": "https://localhost:8080/",
          "height": 75
        },
        "id": "r3nTfiRMa47d",
        "outputId": "63fd5009-dec2-47f1-b95c-db2fe775908c"
      },
      "execution_count": 24,
      "outputs": [
        {
          "output_type": "execute_result",
          "data": {
            "text/plain": [
              "<IPython.lib.display.Audio object>"
            ],
            "text/html": [
              "\n",
              "                <audio  controls=\"controls\" >\n",
              "                    <source src=\"data:audio/mpeg;base64,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\" type=\"audio/mpeg\" />\n",
              "                    Your browser does not support the audio element.\n",
              "                </audio>\n",
              "              "
            ]
          },
          "metadata": {},
          "execution_count": 24
        }
      ]
    },
    {
      "cell_type": "code",
      "source": [],
      "metadata": {
        "id": "NmOGXT3FKSUi"
      },
      "execution_count": 24,
      "outputs": []
    }
  ]
}