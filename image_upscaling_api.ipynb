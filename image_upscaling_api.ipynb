{
  "nbformat": 4,
  "nbformat_minor": 0,
  "metadata": {
    "colab": {
      "provenance": [],
      "authorship_tag": "ABX9TyMMnRoVwE1iXD7K3qGbT3yX",
      "include_colab_link": true
    },
    "kernelspec": {
      "name": "python3",
      "display_name": "Python 3"
    },
    "language_info": {
      "name": "python"
    }
  },
  "cells": [
    {
      "cell_type": "markdown",
      "metadata": {
        "id": "view-in-github",
        "colab_type": "text"
      },
      "source": [
        "<a href=\"https://colab.research.google.com/github/dercodeKoenig/image-upscaling.net_API/blob/main/image_upscaling_api.ipynb\" target=\"_parent\"><img src=\"https://colab.research.google.com/assets/colab-badge.svg\" alt=\"Open In Colab\"/></a>"
      ]
    },
    {
      "cell_type": "code",
      "source": [
        "# remove default files and download test image for upscaling and background removal\n",
        "!rm -r *\n",
        "!wget https://image-upscaling.net/assets/images/test_image.jpg"
      ],
      "metadata": {
        "colab": {
          "base_uri": "https://localhost:8080/"
        },
        "id": "dVwMu7NAPqTj",
        "outputId": "e5f8603e-3570-43a7-cfc0-94debec6926a"
      },
      "execution_count": 1,
      "outputs": [
        {
          "output_type": "stream",
          "name": "stdout",
          "text": [
            "--2025-06-23 19:05:34--  https://image-upscaling.net/assets/images/test_image.jpg\n",
            "Resolving image-upscaling.net (image-upscaling.net)... 91.216.248.20, 91.216.248.21, 91.216.248.23, ...\n",
            "Connecting to image-upscaling.net (image-upscaling.net)|91.216.248.20|:443... connected.\n",
            "HTTP request sent, awaiting response... 200 OK\n",
            "Length: 28794 (28K) [image/jpeg]\n",
            "Saving to: ‘test_image.jpg’\n",
            "\n",
            "test_image.jpg      100%[===================>]  28.12K  --.-KB/s    in 0s      \n",
            "\n",
            "2025-06-23 19:05:35 (300 MB/s) - ‘test_image.jpg’ saved [28794/28794]\n",
            "\n"
          ]
        }
      ]
    },
    {
      "cell_type": "markdown",
      "source": [
        "# setting server url and client id for future requests"
      ],
      "metadata": {
        "id": "RAL6Qy_6WLQl"
      }
    },
    {
      "cell_type": "code",
      "source": [
        "import requests\n",
        "import json\n",
        "\n",
        "serverurl = \"https://image-upscaling.net\"\n",
        "client_id = \"1234567890asdfghjklqwertzUIOPYXC\"\n",
        "\n",
        "# Cookie with a valid 32-digit client_id will always be sent with the request\n",
        "cookies = {\n",
        "    \"client_id\": client_id\n",
        "}"
      ],
      "metadata": {
        "id": "fyqcDad3R5a7"
      },
      "execution_count": 2,
      "outputs": []
    },
    {
      "cell_type": "markdown",
      "source": [
        "# upscaling api"
      ],
      "metadata": {
        "id": "Iqecdc3UWEpn"
      }
    },
    {
      "cell_type": "code",
      "execution_count": 3,
      "metadata": {
        "colab": {
          "base_uri": "https://localhost:8080/"
        },
        "id": "jiwkZIYaPlIM",
        "outputId": "c57d2ac0-3094-4d87-cca6-b4fe80c75b67"
      },
      "outputs": [
        {
          "output_type": "stream",
          "name": "stdout",
          "text": [
            "image will be upscaled by 4\n"
          ]
        }
      ],
      "source": [
        "## uploading an image to be processed\n",
        "\n",
        "use_face_enhance = False\n",
        "scale = 4\n",
        "path = \"test_image.jpg\"\n",
        "\n",
        "url = \"/\".join([serverurl, \"upscaling_upload\"])\n",
        "\n",
        "data = {}\n",
        "if use_face_enhance:\n",
        "        data[\"fx\"] = \"\"\n",
        "data[\"scale\"] = scale\n",
        "\n",
        "files = {\n",
        "        \"image\": open(path, \"rb\")\n",
        "}\n",
        "\n",
        "response = requests.post(url, data=data, files=files, cookies=cookies)\n",
        "print(response.text)"
      ]
    },
    {
      "cell_type": "code",
      "source": [
        "## getting information about the images on the server\n",
        "\n",
        "url = \"/\".join([serverurl, \"upscaling_get_status\"])\n",
        "response = requests.get(url, cookies=cookies)\n",
        "print(response.json())"
      ],
      "metadata": {
        "colab": {
          "base_uri": "https://localhost:8080/"
        },
        "id": "kHHFwsC8PrGf",
        "outputId": "c3ded796-ca60-4cc7-da17-05e129a384ce"
      },
      "execution_count": 4,
      "outputs": [
        {
          "output_type": "stream",
          "name": "stdout",
          "text": [
            "{'pending': [], 'processed': [], 'processing': ['http://93.210.149.31:81/download_upscaling_data/processing/test_image_2025-06-23_21:05:38.014599.jpg']}\n"
          ]
        }
      ]
    },
    {
      "cell_type": "code",
      "source": [
        "## downloading the processed file(s)\n",
        "\n",
        "while True:\n",
        "  url = \"/\".join([serverurl, \"upscaling_get_status\"])\n",
        "  response = requests.get(url, cookies=cookies).json()\n",
        "\n",
        "  pending = response[\"pending\"]\n",
        "  processing = response[\"processing\"]\n",
        "  processed = response[\"processed\"]\n",
        "  print(pending, processing, processed)\n",
        "\n",
        "  # download all processed images\n",
        "  for url in processed:\n",
        "    filename = url.split(\"/\")[-1]\n",
        "\n",
        "    preview = False\n",
        "    delete_after_download = True\n",
        "    params = {}\n",
        "    if preview:\n",
        "      params[\"preview\"] = \"\"\n",
        "    if delete_after_download:\n",
        "      params[\"delete_after_download\"] = \"\"\n",
        "\n",
        "    print(\"downloading\", filename)\n",
        "    respone = requests.get(url, cookies=cookies, params = params)\n",
        "    with open(filename, \"wb\") as f:\n",
        "      f.write(respone.content)\n",
        "\n",
        "  # if no requests are pending or processing or processed, everything is complete\n",
        "  if len(pending) == 0 and len(processing) == 0 and len(processed) == 0:\n",
        "    break\n",
        "  else:\n",
        "    import time\n",
        "    time.sleep(1)\n",
        "\n"
      ],
      "metadata": {
        "colab": {
          "base_uri": "https://localhost:8080/"
        },
        "id": "nFHaQrasRYjn",
        "outputId": "0fa9ac21-d938-47c2-f2e1-3b49c8fdd62f"
      },
      "execution_count": 5,
      "outputs": [
        {
          "output_type": "stream",
          "name": "stdout",
          "text": [
            "[] ['http://93.210.149.31:81/download_upscaling_data/processing/test_image_2025-06-23_21:05:38.014599.jpg'] []\n",
            "[] ['http://93.210.149.31:81/download_upscaling_data/processing/test_image_2025-06-23_21:05:38.014599.jpg'] []\n",
            "[] ['http://93.210.149.31:81/download_upscaling_data/processing/test_image_2025-06-23_21:05:38.014599.jpg'] []\n",
            "[] ['http://93.210.149.31:81/download_upscaling_data/processing/test_image_2025-06-23_21:05:38.014599.jpg'] []\n",
            "[] ['http://93.210.149.31:81/download_upscaling_data/processing/test_image_2025-06-23_21:05:38.014599.jpg'] []\n",
            "[] [] ['http://93.210.149.31:81/download_upscaling_data/processed/test_image_2025-06-23_21:05:38.014599.jpg.png']\n",
            "downloading test_image_2025-06-23_21:05:38.014599.jpg.png\n",
            "[] [] []\n"
          ]
        }
      ]
    },
    {
      "cell_type": "markdown",
      "source": [
        "# remove-background api"
      ],
      "metadata": {
        "id": "PEAVlxyjXc5q"
      }
    },
    {
      "cell_type": "code",
      "source": [
        "## uploading an image to be processed\n",
        "\n",
        "path = \"test_image.jpg\"\n",
        "\n",
        "url = \"/\".join([serverurl, \"removebg_upload\"])\n",
        "\n",
        "files = {\n",
        "        \"image\": open(path, \"rb\")\n",
        "}\n",
        "\n",
        "response = requests.post(url, files=files, cookies=cookies)\n",
        "print(response.text)"
      ],
      "metadata": {
        "colab": {
          "base_uri": "https://localhost:8080/"
        },
        "id": "BaL3PNnJSTia",
        "outputId": "fa18c595-40b5-46f5-c5fe-930772f45288"
      },
      "execution_count": 6,
      "outputs": [
        {
          "output_type": "stream",
          "name": "stdout",
          "text": [
            "image will be processed!\n"
          ]
        }
      ]
    },
    {
      "cell_type": "code",
      "source": [
        "## getting information about the images on the server\n",
        "\n",
        "url = \"/\".join([serverurl, \"removebg_get_status\"])\n",
        "response = requests.get(url, cookies=cookies)\n",
        "print(response.json())"
      ],
      "metadata": {
        "colab": {
          "base_uri": "https://localhost:8080/"
        },
        "id": "I-RI5Q5iXbAG",
        "outputId": "32e87c51-b5f7-4d48-f2a4-5c372cbc5429"
      },
      "execution_count": 7,
      "outputs": [
        {
          "output_type": "stream",
          "name": "stdout",
          "text": [
            "{'pending': [], 'processed': [], 'processing': ['http://93.210.149.31:81/download_removebg_data/processing/test_image_2025-06-23_21:05:51.257816.jpg']}\n"
          ]
        }
      ]
    },
    {
      "cell_type": "code",
      "source": [
        "## downloading the processed file(s)\n",
        "\n",
        "while True:\n",
        "  url = \"/\".join([serverurl, \"removebg_get_status\"])\n",
        "  response = requests.get(url, cookies=cookies).json()\n",
        "\n",
        "  pending = response[\"pending\"]\n",
        "  processing = response[\"processing\"]\n",
        "  processed = response[\"processed\"]\n",
        "  print(pending, processing, processed)\n",
        "\n",
        "  # download all processed images\n",
        "  for url in processed:\n",
        "    filename = url.split(\"/\")[-1]\n",
        "\n",
        "    preview = False\n",
        "    delete_after_download = True\n",
        "    params = {}\n",
        "    if preview:\n",
        "      params[\"preview\"] = \"\"\n",
        "    if delete_after_download:\n",
        "      params[\"delete_after_download\"] = \"\"\n",
        "\n",
        "    print(\"downloading\", filename)\n",
        "    respone = requests.get(url, cookies=cookies, params = params)\n",
        "    with open(filename, \"wb\") as f:\n",
        "      f.write(respone.content)\n",
        "\n",
        "  # if no requests are pending or processing or processed, everything is complete\n",
        "  if len(pending) == 0 and len(processing) == 0 and len(processed) == 0:\n",
        "    break\n",
        "  else:\n",
        "    import time\n",
        "    time.sleep(1)\n",
        "\n"
      ],
      "metadata": {
        "colab": {
          "base_uri": "https://localhost:8080/"
        },
        "id": "O5q3nq19Xkqi",
        "outputId": "9fbe00a7-c342-4d06-d506-f256553a4c3d"
      },
      "execution_count": 8,
      "outputs": [
        {
          "output_type": "stream",
          "name": "stdout",
          "text": [
            "[] ['http://93.210.149.31:81/download_removebg_data/processing/test_image_2025-06-23_21:05:51.257816.jpg'] []\n",
            "[] ['http://93.210.149.31:81/download_removebg_data/processing/test_image_2025-06-23_21:05:51.257816.jpg'] []\n",
            "[] ['http://93.210.149.31:81/download_removebg_data/processing/test_image_2025-06-23_21:05:51.257816.jpg'] []\n",
            "[] [] ['http://93.210.149.31:81/download_removebg_data/processed/test_image_2025-06-23_21:05:51.257816.jpg.png']\n",
            "downloading test_image_2025-06-23_21:05:51.257816.jpg.png\n",
            "[] [] []\n"
          ]
        }
      ]
    },
    {
      "cell_type": "markdown",
      "source": [
        "# text-to-speech api"
      ],
      "metadata": {
        "id": "j96qBi7YXswe"
      }
    },
    {
      "cell_type": "code",
      "source": [
        "## submit text to be processed\n",
        "\n",
        "url = \"/\".join([serverurl, \"tts_submit\"])\n",
        "\n",
        "data = {}\n",
        "data[\"text\"] = \"This is the text to speech api\"\n",
        "data[\"voice\"] = \"am_michael\"\n",
        "data[\"speed\"] = 1.1\n",
        "\n",
        "response = requests.post(url, json=data, cookies=cookies)\n",
        "print(response.text)"
      ],
      "metadata": {
        "colab": {
          "base_uri": "https://localhost:8080/"
        },
        "id": "DjuiroC8XjTy",
        "outputId": "ca515daa-94f0-49c5-edbd-164bef5083ca"
      },
      "execution_count": 9,
      "outputs": [
        {
          "output_type": "stream",
          "name": "stdout",
          "text": [
            "text will be processed\n"
          ]
        }
      ]
    },
    {
      "cell_type": "code",
      "source": [
        "## getting information on requests\n",
        "\n",
        "url = \"/\".join([serverurl, \"tts_get_data\"])\n",
        "response = requests.get(url, cookies = cookies)\n",
        "print(response.json())"
      ],
      "metadata": {
        "colab": {
          "base_uri": "https://localhost:8080/"
        },
        "id": "SnxlpIp9ZMM8",
        "outputId": "ceb0b6b7-ed28-47e5-c43c-c46b87e6ecc0"
      },
      "execution_count": 10,
      "outputs": [
        {
          "output_type": "stream",
          "name": "stdout",
          "text": [
            "[{'req_id': 0, 'result': 'http://93.210.149.31:81/download_tts_result/0', 'speed': 1.1, 'status': 'processed', 'text': 'This is the text to speech api', 'voice': 'am_michael'}]\n"
          ]
        }
      ]
    },
    {
      "cell_type": "code",
      "source": [
        "## downloading all results\n",
        "\n",
        "while True:\n",
        "  url = \"/\".join([serverurl, \"tts_get_data\"])\n",
        "  response = requests.get(url, cookies = cookies).json()\n",
        "\n",
        "  for element in response:\n",
        "    url = element[\"result\"] # get the download url here, (mp3 file)\n",
        "    if url != \"\":\n",
        "      print(url)\n",
        "\n",
        "      params = {}\n",
        "      params[\"delete_after_download\"] = \"\" # delete the file after downloading it\n",
        "      file_content = requests.get(url, params=params, cookies=cookies).content\n",
        "\n",
        "      filename = url.split(\"/\")[-1]+\".mp3\"\n",
        "      with open(filename, \"wb\") as f:\n",
        "        f.write(file_content)\n",
        "\n",
        "  if len(response) == 0:\n",
        "    break\n",
        "  else:\n",
        "    import time\n",
        "    time.sleep(1)\n"
      ],
      "metadata": {
        "colab": {
          "base_uri": "https://localhost:8080/"
        },
        "id": "5kLl0khUaJWC",
        "outputId": "3fde7813-f8d5-4030-ff62-15c0235610ba"
      },
      "execution_count": 11,
      "outputs": [
        {
          "output_type": "stream",
          "name": "stdout",
          "text": [
            "http://93.210.149.31:81/download_tts_result/0\n"
          ]
        }
      ]
    },
    {
      "cell_type": "code",
      "source": [
        "# prompt: display the mp3 file \"0.mp3\"\n",
        "\n",
        "from IPython.display import Audio\n",
        "Audio(\"0.mp3\")"
      ],
      "metadata": {
        "colab": {
          "base_uri": "https://localhost:8080/",
          "height": 75
        },
        "id": "r3nTfiRMa47d",
        "outputId": "6f7606fb-e08f-446b-e204-d267d8546708"
      },
      "execution_count": 12,
      "outputs": [
        {
          "output_type": "execute_result",
          "data": {
            "text/plain": [
              "<IPython.lib.display.Audio object>"
            ],
            "text/html": [
              "\n",
              "                <audio  controls=\"controls\" >\n",
              "                    <source src=\"data:audio/mpeg;base64,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\" type=\"audio/mpeg\" />\n",
              "                    Your browser does not support the audio element.\n",
              "                </audio>\n",
              "              "
            ]
          },
          "metadata": {},
          "execution_count": 12
        }
      ]
    }
  ]
}