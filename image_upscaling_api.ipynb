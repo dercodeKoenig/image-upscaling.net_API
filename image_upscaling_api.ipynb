{
  "nbformat": 4,
  "nbformat_minor": 0,
  "metadata": {
    "colab": {
      "provenance": [],
      "authorship_tag": "ABX9TyMg3VzMEfHp6pX5uUST10SS",
      "include_colab_link": true
    },
    "kernelspec": {
      "name": "python3",
      "display_name": "Python 3"
    },
    "language_info": {
      "name": "python"
    }
  },
  "cells": [
    {
      "cell_type": "markdown",
      "metadata": {
        "id": "view-in-github",
        "colab_type": "text"
      },
      "source": [
        "<a href=\"https://colab.research.google.com/github/dercodeKoenig/image-upscaling.net_API/blob/main/image_upscaling_api.ipynb\" target=\"_parent\"><img src=\"https://colab.research.google.com/assets/colab-badge.svg\" alt=\"Open In Colab\"/></a>"
      ]
    },
    {
      "cell_type": "code",
      "source": [
        "# remove default files and download test image for upscaling and background removal\n",
        "!rm -r *\n",
        "!wget https://image-upscaling.net/assets/images/test_image.jpg"
      ],
      "metadata": {
        "colab": {
          "base_uri": "https://localhost:8080/"
        },
        "id": "dVwMu7NAPqTj",
        "outputId": "d6d2df16-be4b-41ef-b4c0-680a7227ecc8"
      },
      "execution_count": 1,
      "outputs": [
        {
          "output_type": "stream",
          "name": "stdout",
          "text": [
            "--2025-07-30 21:06:29--  https://image-upscaling.net/assets/images/test_image.jpg\n",
            "Resolving image-upscaling.net (image-upscaling.net)... 172.67.180.202, 104.21.31.237, 2606:4700:3032::ac43:b4ca, ...\n",
            "Connecting to image-upscaling.net (image-upscaling.net)|172.67.180.202|:443... connected.\n",
            "HTTP request sent, awaiting response... 302 Found\n",
            "Location: /static/assets/images/test_image.jpg [following]\n",
            "--2025-07-30 21:06:30--  https://image-upscaling.net/static/assets/images/test_image.jpg\n",
            "Reusing existing connection to image-upscaling.net:443.\n",
            "HTTP request sent, awaiting response... 200 OK\n",
            "Length: 28794 (28K) [image/jpeg]\n",
            "Saving to: ‘test_image.jpg’\n",
            "\n",
            "test_image.jpg      100%[===================>]  28.12K  --.-KB/s    in 0s      \n",
            "\n",
            "2025-07-30 21:06:30 (107 MB/s) - ‘test_image.jpg’ saved [28794/28794]\n",
            "\n"
          ]
        }
      ]
    },
    {
      "cell_type": "markdown",
      "source": [
        "# setting server url and client id for future requests"
      ],
      "metadata": {
        "id": "RAL6Qy_6WLQl"
      }
    },
    {
      "cell_type": "code",
      "source": [
        "import requests\n",
        "import json\n",
        "\n",
        "serverurl = \"https://image-upscaling.net\"\n",
        "client_id = \"1234567890asdfghjklqwertzUIOPYXC\"\n",
        "\n",
        "# Cookie with a valid 32-digit client_id will always be sent with the request\n",
        "cookies = {\n",
        "    \"client_id\": client_id\n",
        "}"
      ],
      "metadata": {
        "id": "fyqcDad3R5a7"
      },
      "execution_count": 2,
      "outputs": []
    },
    {
      "cell_type": "markdown",
      "source": [
        "# upscaling api"
      ],
      "metadata": {
        "id": "Iqecdc3UWEpn"
      }
    },
    {
      "cell_type": "code",
      "execution_count": 3,
      "metadata": {
        "colab": {
          "base_uri": "https://localhost:8080/"
        },
        "id": "jiwkZIYaPlIM",
        "outputId": "0e7697ae-053c-443e-92c4-989c29c7096e"
      },
      "outputs": [
        {
          "output_type": "stream",
          "name": "stdout",
          "text": [
            "image will be upscaled by 4\n"
          ]
        }
      ],
      "source": [
        "## uploading an image to be processed\n",
        "\n",
        "use_face_enhance = False\n",
        "scale = 4\n",
        "path = \"test_image.jpg\"\n",
        "\n",
        "url = \"/\".join([serverurl, \"upscaling_upload\"])\n",
        "\n",
        "data = {}\n",
        "if use_face_enhance:\n",
        "        data[\"fx\"] = \"\"\n",
        "data[\"scale\"] = scale\n",
        "\n",
        "files = {\n",
        "        \"image\": open(path, \"rb\")\n",
        "}\n",
        "\n",
        "response = requests.post(url, data=data, files=files, cookies=cookies)\n",
        "print(response.text)"
      ]
    },
    {
      "cell_type": "code",
      "source": [
        "## getting information about the images on the server\n",
        "\n",
        "url = \"/\".join([serverurl, \"upscaling_get_status\"])\n",
        "response = requests.get(url, cookies=cookies)\n",
        "print(response.json())"
      ],
      "metadata": {
        "colab": {
          "base_uri": "https://localhost:8080/"
        },
        "id": "kHHFwsC8PrGf",
        "outputId": "e54ebe0e-0562-4ea5-99fc-5df2a47d1231"
      },
      "execution_count": 4,
      "outputs": [
        {
          "output_type": "stream",
          "name": "stdout",
          "text": [
            "{'pending': ['https://image-upscaling.net/download_upscaling_data/pending/test_image_2025-07-30_21:06:31.116907.jpg'], 'processed': [], 'processing': []}\n"
          ]
        }
      ]
    },
    {
      "cell_type": "code",
      "source": [
        "## downloading the processed file(s)\n",
        "\n",
        "while True:\n",
        "  url = \"/\".join([serverurl, \"upscaling_get_status\"])\n",
        "  response = requests.get(url, cookies=cookies).json()\n",
        "\n",
        "  pending = response[\"pending\"]\n",
        "  processing = response[\"processing\"]\n",
        "  processed = response[\"processed\"]\n",
        "  print(pending, processing, processed)\n",
        "\n",
        "  # download all processed images\n",
        "  for url in processed:\n",
        "    filename = url.split(\"/\")[-1]\n",
        "\n",
        "    preview = False\n",
        "    delete_after_download = True\n",
        "    params = {}\n",
        "    if preview:\n",
        "      params[\"preview\"] = \"\"\n",
        "    if delete_after_download:\n",
        "      params[\"delete_after_download\"] = \"\"\n",
        "\n",
        "    print(\"downloading\", filename)\n",
        "    respone = requests.get(url, cookies=cookies, params = params)\n",
        "    with open(filename, \"wb\") as f:\n",
        "      f.write(respone.content)\n",
        "\n",
        "  # if no requests are pending or processing or processed, everything is complete\n",
        "  if len(pending) == 0 and len(processing) == 0 and len(processed) == 0:\n",
        "    break\n",
        "  else:\n",
        "    import time\n",
        "    time.sleep(1)\n",
        "\n"
      ],
      "metadata": {
        "colab": {
          "base_uri": "https://localhost:8080/"
        },
        "id": "nFHaQrasRYjn",
        "outputId": "c8974426-903e-4077-c1cb-522c7fa1da80"
      },
      "execution_count": 5,
      "outputs": [
        {
          "output_type": "stream",
          "name": "stdout",
          "text": [
            "[] ['https://image-upscaling.net/download_upscaling_data/processing/test_image_2025-07-30_21:06:31.116907.jpg'] []\n",
            "[] ['https://image-upscaling.net/download_upscaling_data/processing/test_image_2025-07-30_21:06:31.116907.jpg'] []\n",
            "[] ['https://image-upscaling.net/download_upscaling_data/processing/test_image_2025-07-30_21:06:31.116907.jpg'] []\n",
            "[] ['https://image-upscaling.net/download_upscaling_data/processing/test_image_2025-07-30_21:06:31.116907.jpg'] []\n",
            "[] [] ['https://image-upscaling.net/download_upscaling_data/processed/test_image_2025-07-30_21:06:31.116907.jpg.png']\n",
            "downloading test_image_2025-07-30_21:06:31.116907.jpg.png\n",
            "[] [] []\n"
          ]
        }
      ]
    },
    {
      "cell_type": "markdown",
      "source": [
        "# remove-background api"
      ],
      "metadata": {
        "id": "PEAVlxyjXc5q"
      }
    },
    {
      "cell_type": "code",
      "source": [
        "## uploading an image to be processed\n",
        "\n",
        "path = \"test_image.jpg\"\n",
        "\n",
        "url = \"/\".join([serverurl, \"removebg_upload\"])\n",
        "\n",
        "files = {\n",
        "        \"image\": open(path, \"rb\")\n",
        "}\n",
        "\n",
        "response = requests.post(url, files=files, cookies=cookies)\n",
        "print(response.text)"
      ],
      "metadata": {
        "colab": {
          "base_uri": "https://localhost:8080/"
        },
        "id": "BaL3PNnJSTia",
        "outputId": "bd2e3d0f-02d7-4e52-9538-a309bc08a2b6"
      },
      "execution_count": 6,
      "outputs": [
        {
          "output_type": "stream",
          "name": "stdout",
          "text": [
            "image will be processed\n"
          ]
        }
      ]
    },
    {
      "cell_type": "code",
      "source": [
        "## getting information about the images on the server\n",
        "\n",
        "url = \"/\".join([serverurl, \"removebg_get_status\"])\n",
        "response = requests.get(url, cookies=cookies)\n",
        "print(response.json())"
      ],
      "metadata": {
        "colab": {
          "base_uri": "https://localhost:8080/"
        },
        "id": "I-RI5Q5iXbAG",
        "outputId": "5e06ef13-0f00-4384-e77c-ecb3c8ae5fa8"
      },
      "execution_count": 7,
      "outputs": [
        {
          "output_type": "stream",
          "name": "stdout",
          "text": [
            "{'pending': ['https://image-upscaling.net/download_removebg_data/pending/test_image_2025-07-30_21:06:40.988159.jpg'], 'processed': [], 'processing': []}\n"
          ]
        }
      ]
    },
    {
      "cell_type": "code",
      "source": [
        "## downloading the processed file(s)\n",
        "\n",
        "while True:\n",
        "  url = \"/\".join([serverurl, \"removebg_get_status\"])\n",
        "  response = requests.get(url, cookies=cookies).json()\n",
        "\n",
        "  pending = response[\"pending\"]\n",
        "  processing = response[\"processing\"]\n",
        "  processed = response[\"processed\"]\n",
        "  print(pending, processing, processed)\n",
        "\n",
        "  # download all processed images\n",
        "  for url in processed:\n",
        "    filename = url.split(\"/\")[-1]\n",
        "\n",
        "    preview = False\n",
        "    delete_after_download = True\n",
        "    params = {}\n",
        "    if preview:\n",
        "      params[\"preview\"] = \"\"\n",
        "    if delete_after_download:\n",
        "      params[\"delete_after_download\"] = \"\"\n",
        "\n",
        "    print(\"downloading\", filename)\n",
        "    respone = requests.get(url, cookies=cookies, params = params)\n",
        "    with open(filename, \"wb\") as f:\n",
        "      f.write(respone.content)\n",
        "\n",
        "  # if no requests are pending or processing or processed, everything is complete\n",
        "  if len(pending) == 0 and len(processing) == 0 and len(processed) == 0:\n",
        "    break\n",
        "  else:\n",
        "    import time\n",
        "    time.sleep(1)\n",
        "\n"
      ],
      "metadata": {
        "colab": {
          "base_uri": "https://localhost:8080/"
        },
        "id": "O5q3nq19Xkqi",
        "outputId": "18a08287-730e-4e24-9466-187cba2718cf"
      },
      "execution_count": 8,
      "outputs": [
        {
          "output_type": "stream",
          "name": "stdout",
          "text": [
            "[] ['https://image-upscaling.net/download_removebg_data/processing/test_image_2025-07-30_21:06:40.988159.jpg'] []\n",
            "[] ['https://image-upscaling.net/download_removebg_data/processing/test_image_2025-07-30_21:06:40.988159.jpg'] []\n",
            "[] ['https://image-upscaling.net/download_removebg_data/processing/test_image_2025-07-30_21:06:40.988159.jpg'] []\n",
            "[] ['https://image-upscaling.net/download_removebg_data/processing/test_image_2025-07-30_21:06:40.988159.jpg'] []\n",
            "[] ['https://image-upscaling.net/download_removebg_data/processing/test_image_2025-07-30_21:06:40.988159.jpg'] []\n",
            "[] ['https://image-upscaling.net/download_removebg_data/processing/test_image_2025-07-30_21:06:40.988159.jpg'] []\n",
            "[] ['https://image-upscaling.net/download_removebg_data/processing/test_image_2025-07-30_21:06:40.988159.jpg'] []\n",
            "[] ['https://image-upscaling.net/download_removebg_data/processing/test_image_2025-07-30_21:06:40.988159.jpg'] []\n",
            "[] ['https://image-upscaling.net/download_removebg_data/processing/test_image_2025-07-30_21:06:40.988159.jpg'] []\n",
            "[] [] ['https://image-upscaling.net/download_removebg_data/processed/test_image_2025-07-30_21:06:40.988159.jpg.png']\n",
            "downloading test_image_2025-07-30_21:06:40.988159.jpg.png\n",
            "[] [] []\n"
          ]
        }
      ]
    },
    {
      "cell_type": "markdown",
      "source": [
        "# text-to-speech api"
      ],
      "metadata": {
        "id": "j96qBi7YXswe"
      }
    },
    {
      "cell_type": "code",
      "source": [
        "## submit text to be processed\n",
        "\n",
        "url = \"/\".join([serverurl, \"tts_submit\"])\n",
        "\n",
        "data = {}\n",
        "data[\"text\"] = \"This is the text to speech api\"\n",
        "data[\"voice\"] = \"am_michael\"\n",
        "data[\"speed\"] = 1.1\n",
        "\n",
        "response = requests.post(url, json=data, cookies=cookies)\n",
        "print(response.text)"
      ],
      "metadata": {
        "colab": {
          "base_uri": "https://localhost:8080/"
        },
        "id": "DjuiroC8XjTy",
        "outputId": "d61408ce-aa3e-4ace-8249-68fb1effaecf"
      },
      "execution_count": 9,
      "outputs": [
        {
          "output_type": "stream",
          "name": "stdout",
          "text": [
            "1753909616650\n"
          ]
        }
      ]
    },
    {
      "cell_type": "code",
      "source": [
        "## getting information on requests\n",
        "\n",
        "url = \"/\".join([serverurl, \"tts_get_data\"])\n",
        "response = requests.get(url, cookies = cookies)\n",
        "print(response.json())"
      ],
      "metadata": {
        "colab": {
          "base_uri": "https://localhost:8080/"
        },
        "id": "SnxlpIp9ZMM8",
        "outputId": "6b99cf4c-71d4-415f-f31c-08e11fcbed8e"
      },
      "execution_count": 10,
      "outputs": [
        {
          "output_type": "stream",
          "name": "stdout",
          "text": [
            "[{'req_id': 1753909616650, 'result': 'https://image-upscaling.net/download_tts_result/1753909616650', 'speed': 1.1, 'status': 'processed', 'text': 'This is the text to speech api', 'voice': 'am_michael'}]\n"
          ]
        }
      ]
    },
    {
      "cell_type": "code",
      "source": [
        "## downloading all results\n",
        "\n",
        "while True:\n",
        "  url = \"/\".join([serverurl, \"tts_get_data\"])\n",
        "  response = requests.get(url, cookies = cookies).json()\n",
        "\n",
        "  for element in response:\n",
        "    url = element[\"result\"] # get the download url here, (mp3 file)\n",
        "    if url != \"\":\n",
        "      print(url)\n",
        "\n",
        "      params = {}\n",
        "      params[\"delete_after_download\"] = \"\" # delete the file after downloading it\n",
        "      file_content = requests.get(url, params=params, cookies=cookies).content\n",
        "\n",
        "      filename = url.split(\"/\")[-1]+\".mp3\"\n",
        "      with open(filename, \"wb\") as f:\n",
        "        f.write(file_content)\n",
        "\n",
        "  if len(response) == 0:\n",
        "    break\n",
        "  else:\n",
        "    import time\n",
        "    time.sleep(1)\n"
      ],
      "metadata": {
        "colab": {
          "base_uri": "https://localhost:8080/"
        },
        "id": "5kLl0khUaJWC",
        "outputId": "2d9f4aec-4e21-4f40-cff2-9a94590363b9"
      },
      "execution_count": 11,
      "outputs": [
        {
          "output_type": "stream",
          "name": "stdout",
          "text": [
            "https://image-upscaling.net/download_tts_result/1753909616650\n"
          ]
        }
      ]
    },
    {
      "cell_type": "code",
      "source": [
        "# display the mp3 file\n",
        "from IPython.display import Audio\n",
        "Audio(filename)"
      ],
      "metadata": {
        "colab": {
          "base_uri": "https://localhost:8080/",
          "height": 75
        },
        "id": "r3nTfiRMa47d",
        "outputId": "66fa2295-e298-4147-ffde-c5fc2971d322"
      },
      "execution_count": 13,
      "outputs": [
        {
          "output_type": "execute_result",
          "data": {
            "text/plain": [
              "<IPython.lib.display.Audio object>"
            ],
            "text/html": [
              "\n",
              "                <audio  controls=\"controls\" >\n",
              "                    <source src=\"data:audio/mpeg;base64,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\" type=\"audio/mpeg\" />\n",
              "                    Your browser does not support the audio element.\n",
              "                </audio>\n",
              "              "
            ]
          },
          "metadata": {},
          "execution_count": 13
        }
      ]
    },
    {
      "cell_type": "code",
      "source": [],
      "metadata": {
        "id": "NmOGXT3FKSUi"
      },
      "execution_count": null,
      "outputs": []
    }
  ]
}