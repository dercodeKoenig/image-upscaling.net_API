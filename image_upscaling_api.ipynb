{
  "nbformat": 4,
  "nbformat_minor": 0,
  "metadata": {
    "colab": {
      "provenance": [],
      "authorship_tag": "ABX9TyOpxafAR+46rmXTyjzL8cAL",
      "include_colab_link": true
    },
    "kernelspec": {
      "name": "python3",
      "display_name": "Python 3"
    },
    "language_info": {
      "name": "python"
    }
  },
  "cells": [
    {
      "cell_type": "markdown",
      "metadata": {
        "id": "view-in-github",
        "colab_type": "text"
      },
      "source": [
        "<a href=\"https://colab.research.google.com/github/dercodeKoenig/image-upscaling.net_API/blob/main/image_upscaling_api.ipynb\" target=\"_parent\"><img src=\"https://colab.research.google.com/assets/colab-badge.svg\" alt=\"Open In Colab\"/></a>"
      ]
    },
    {
      "cell_type": "code",
      "source": [
        "# remove default files and download test image for upscaling and background removal\n",
        "!rm -r *\n",
        "!wget https://image-upscaling.net/assets/images/test_image.jpg"
      ],
      "metadata": {
        "colab": {
          "base_uri": "https://localhost:8080/"
        },
        "id": "dVwMu7NAPqTj",
        "outputId": "e40d2cc2-ce73-414c-e6cd-aa0984199a9e"
      },
      "execution_count": 1,
      "outputs": [
        {
          "output_type": "stream",
          "name": "stdout",
          "text": [
            "--2025-06-23 11:02:39--  https://image-upscaling.net/assets/images/test_image.jpg\n",
            "Resolving image-upscaling.net (image-upscaling.net)... 91.216.248.20, 91.216.248.21, 91.216.248.23, ...\n",
            "Connecting to image-upscaling.net (image-upscaling.net)|91.216.248.20|:443... connected.\n",
            "HTTP request sent, awaiting response... 200 OK\n",
            "Length: 28794 (28K) [image/jpeg]\n",
            "Saving to: ‘test_image.jpg’\n",
            "\n",
            "test_image.jpg      100%[===================>]  28.12K  --.-KB/s    in 0s      \n",
            "\n",
            "2025-06-23 11:02:40 (126 MB/s) - ‘test_image.jpg’ saved [28794/28794]\n",
            "\n"
          ]
        }
      ]
    },
    {
      "cell_type": "markdown",
      "source": [
        "# setting server url and client id for future requests"
      ],
      "metadata": {
        "id": "RAL6Qy_6WLQl"
      }
    },
    {
      "cell_type": "code",
      "source": [
        "import requests\n",
        "import json\n",
        "\n",
        "serverurl = \"http://93.210.149.31:81\"\n",
        "client_id = \"1234567890asdfghjklqwertzUIOPYXC\"\n",
        "\n",
        "# Cookie with a valid 32-digit client_id will always be sent with the request\n",
        "cookies = {\n",
        "    \"client_id\": client_id\n",
        "}"
      ],
      "metadata": {
        "id": "fyqcDad3R5a7"
      },
      "execution_count": 2,
      "outputs": []
    },
    {
      "cell_type": "markdown",
      "source": [
        "# upscaling api"
      ],
      "metadata": {
        "id": "Iqecdc3UWEpn"
      }
    },
    {
      "cell_type": "code",
      "execution_count": 3,
      "metadata": {
        "colab": {
          "base_uri": "https://localhost:8080/"
        },
        "id": "jiwkZIYaPlIM",
        "outputId": "0ff11c0a-8d2f-4d02-cefc-755e9330a1da"
      },
      "outputs": [
        {
          "output_type": "stream",
          "name": "stdout",
          "text": [
            "image will be upscaled by 4\n"
          ]
        }
      ],
      "source": [
        "## uploading an image to be processed\n",
        "\n",
        "use_face_enhance = False\n",
        "scale = 4\n",
        "path = \"test_image.jpg\"\n",
        "\n",
        "url = \"/\".join([serverurl, \"upscaling_upload\"])\n",
        "\n",
        "data = {}\n",
        "if use_face_enhance:\n",
        "        data[\"fx\"] = \"\"\n",
        "data[\"scale\"] = scale\n",
        "\n",
        "files = {\n",
        "        \"image\": open(path, \"rb\")\n",
        "}\n",
        "\n",
        "response = requests.post(url, data=data, files=files, cookies=cookies)\n",
        "print(response.text)"
      ]
    },
    {
      "cell_type": "code",
      "source": [
        "## getting information about the images on the server\n",
        "\n",
        "url = \"/\".join([serverurl, \"upscaling_get_status\"])\n",
        "response = requests.get(url, cookies=cookies)\n",
        "print(response.json())"
      ],
      "metadata": {
        "colab": {
          "base_uri": "https://localhost:8080/"
        },
        "id": "kHHFwsC8PrGf",
        "outputId": "d2df2ab5-d223-4f6f-ddf1-8e04f1298078"
      },
      "execution_count": 4,
      "outputs": [
        {
          "output_type": "stream",
          "name": "stdout",
          "text": [
            "{'pending': [], 'processed': [], 'processing': ['http://93.210.149.31:81/download_upscaling_data/processing/test_image_2025-06-23_13:02:42.369299.jpg']}\n"
          ]
        }
      ]
    },
    {
      "cell_type": "code",
      "source": [
        "## downloading the processed file(s)\n",
        "\n",
        "while True:\n",
        "  url = \"/\".join([serverurl, \"upscaling_get_status\"])\n",
        "  response = requests.get(url, cookies=cookies).json()\n",
        "\n",
        "  pending = response[\"pending\"]\n",
        "  processing = response[\"processing\"]\n",
        "  processed = response[\"processed\"]\n",
        "  print(pending, processing, processed)\n",
        "\n",
        "  # download all processed images\n",
        "  for url in processed:\n",
        "    filename = url.split(\"/\")[-1]\n",
        "\n",
        "    preview = False\n",
        "    delete_after_download = True\n",
        "    params = {}\n",
        "    if preview:\n",
        "      params[\"preview\"] = \"\"\n",
        "    if delete_after_download:\n",
        "      params[\"delete_after_download\"] = \"\"\n",
        "\n",
        "    print(\"downloading\", filename)\n",
        "    respone = requests.get(url, cookies=cookies, params = params)\n",
        "    with open(filename, \"wb\") as f:\n",
        "      f.write(respone.content)\n",
        "\n",
        "  # if no requests are pending or processing or processed, everything is complete\n",
        "  if len(pending) == 0 and len(processing) == 0 and len(processed) == 0:\n",
        "    break\n",
        "  else:\n",
        "    import time\n",
        "    time.sleep(1)\n",
        "\n",
        ""
      ],
      "metadata": {
        "colab": {
          "base_uri": "https://localhost:8080/"
        },
        "id": "nFHaQrasRYjn",
        "outputId": "51588838-8bef-46f7-a6e3-77182f9f42b0"
      },
      "execution_count": 5,
      "outputs": [
        {
          "output_type": "stream",
          "name": "stdout",
          "text": [
            "[] ['http://93.210.149.31:81/download_upscaling_data/processing/test_image_2025-06-23_13:02:42.369299.jpg'] []\n",
            "[] ['http://93.210.149.31:81/download_upscaling_data/processing/test_image_2025-06-23_13:02:42.369299.jpg'] []\n",
            "[] ['http://93.210.149.31:81/download_upscaling_data/processing/test_image_2025-06-23_13:02:42.369299.jpg'] []\n",
            "[] ['http://93.210.149.31:81/download_upscaling_data/processing/test_image_2025-06-23_13:02:42.369299.jpg'] []\n",
            "[] ['http://93.210.149.31:81/download_upscaling_data/processing/test_image_2025-06-23_13:02:42.369299.jpg'] []\n",
            "[] ['http://93.210.149.31:81/download_upscaling_data/processing/test_image_2025-06-23_13:02:42.369299.jpg'] []\n",
            "[] ['http://93.210.149.31:81/download_upscaling_data/processing/test_image_2025-06-23_13:02:42.369299.jpg'] []\n",
            "[] ['http://93.210.149.31:81/download_upscaling_data/processing/test_image_2025-06-23_13:02:42.369299.jpg'] []\n",
            "[] [] ['http://93.210.149.31:81/download_upscaling_data/processed/test_image_2025-06-23_13:02:42.369299.jpg.png']\n",
            "downloading test_image_2025-06-23_13:02:42.369299.jpg.png\n",
            "[] [] []\n"
          ]
        }
      ]
    },
    {
      "cell_type": "markdown",
      "source": [
        "# remove-background api"
      ],
      "metadata": {
        "id": "PEAVlxyjXc5q"
      }
    },
    {
      "cell_type": "code",
      "source": [
        "## uploading an image to be processed\n",
        "\n",
        "path = \"test_image.jpg\"\n",
        "\n",
        "url = \"/\".join([serverurl, \"removebg_upload\"])\n",
        "\n",
        "files = {\n",
        "        \"image\": open(path, \"rb\")\n",
        "}\n",
        "\n",
        "response = requests.post(url, files=files, cookies=cookies)\n",
        "print(response.text)"
      ],
      "metadata": {
        "colab": {
          "base_uri": "https://localhost:8080/"
        },
        "id": "BaL3PNnJSTia",
        "outputId": "cb8fd1ee-a2a6-4b57-b03a-9fc6f6d6c6cb"
      },
      "execution_count": 6,
      "outputs": [
        {
          "output_type": "stream",
          "name": "stdout",
          "text": [
            "image will be processed!\n"
          ]
        }
      ]
    },
    {
      "cell_type": "code",
      "source": [
        "## getting information about the images on the server\n",
        "\n",
        "url = \"/\".join([serverurl, \"removebg_get_status\"])\n",
        "response = requests.get(url, cookies=cookies)\n",
        "print(response.json())"
      ],
      "metadata": {
        "colab": {
          "base_uri": "https://localhost:8080/"
        },
        "id": "I-RI5Q5iXbAG",
        "outputId": "62b81a3a-699a-48d4-9dfc-9cdcf0d553d9"
      },
      "execution_count": 7,
      "outputs": [
        {
          "output_type": "stream",
          "name": "stdout",
          "text": [
            "{'pending': [], 'processed': [], 'processing': ['http://93.210.149.31:81/download_removebg_data/processing/test_image_2025-06-23_13:02:57.340974.jpg']}\n"
          ]
        }
      ]
    },
    {
      "cell_type": "code",
      "source": [
        "## downloading the processed file(s)\n",
        "\n",
        "while True:\n",
        "  url = \"/\".join([serverurl, \"removebg_get_status\"])\n",
        "  response = requests.get(url, cookies=cookies).json()\n",
        "\n",
        "  pending = response[\"pending\"]\n",
        "  processing = response[\"processing\"]\n",
        "  processed = response[\"processed\"]\n",
        "  print(pending, processing, processed)\n",
        "\n",
        "  # download all processed images\n",
        "  for url in processed:\n",
        "    filename = url.split(\"/\")[-1]\n",
        "\n",
        "    preview = False\n",
        "    delete_after_download = True\n",
        "    params = {}\n",
        "    if preview:\n",
        "      params[\"preview\"] = \"\"\n",
        "    if delete_after_download:\n",
        "      params[\"delete_after_download\"] = \"\"\n",
        "\n",
        "    print(\"downloading\", filename)\n",
        "    respone = requests.get(url, cookies=cookies, params = params)\n",
        "    with open(filename, \"wb\") as f:\n",
        "      f.write(respone.content)\n",
        "\n",
        "  # if no requests are pending or processing or processed, everything is complete\n",
        "  if len(pending) == 0 and len(processing) == 0 and len(processed) == 0:\n",
        "    break\n",
        "  else:\n",
        "    import time\n",
        "    time.sleep(1)\n",
        "\n",
        ""
      ],
      "metadata": {
        "colab": {
          "base_uri": "https://localhost:8080/"
        },
        "id": "O5q3nq19Xkqi",
        "outputId": "09190505-5442-4793-e443-7e1aaebbb27c"
      },
      "execution_count": 8,
      "outputs": [
        {
          "output_type": "stream",
          "name": "stdout",
          "text": [
            "[] ['http://93.210.149.31:81/download_removebg_data/processing/test_image_2025-06-23_13:02:57.340974.jpg'] []\n",
            "[] ['http://93.210.149.31:81/download_removebg_data/processing/test_image_2025-06-23_13:02:57.340974.jpg'] []\n",
            "[] ['http://93.210.149.31:81/download_removebg_data/processing/test_image_2025-06-23_13:02:57.340974.jpg'] []\n",
            "[] [] ['http://93.210.149.31:81/download_removebg_data/processed/test_image_2025-06-23_13:02:57.340974.jpg.png']\n",
            "downloading test_image_2025-06-23_13:02:57.340974.jpg.png\n",
            "[] [] []\n"
          ]
        }
      ]
    },
    {
      "cell_type": "markdown",
      "source": [
        "# text-to-speech api"
      ],
      "metadata": {
        "id": "j96qBi7YXswe"
      }
    },
    {
      "cell_type": "code",
      "source": [
        "## submit text to be processed\n",
        "\n",
        "url = \"/\".join([serverurl, \"tts_submit\"])\n",
        "\n",
        "data = {}\n",
        "data[\"text\"] = \"This is the text to speech api\"\n",
        "data[\"voice\"] = \"am_michael\"\n",
        "data[\"speed\"] = 1.1\n",
        "\n",
        "response = requests.post(url, json=data, cookies=cookies)\n",
        "print(response.text)"
      ],
      "metadata": {
        "colab": {
          "base_uri": "https://localhost:8080/"
        },
        "id": "DjuiroC8XjTy",
        "outputId": "0d0a4c80-37dc-400a-b8b5-b2af44371028"
      },
      "execution_count": 9,
      "outputs": [
        {
          "output_type": "stream",
          "name": "stdout",
          "text": [
            "text will be processed\n"
          ]
        }
      ]
    },
    {
      "cell_type": "code",
      "source": [
        "## getting information on requests\n",
        "\n",
        "url = \"/\".join([serverurl, \"tts_get_data\"])\n",
        "response = requests.get(url, cookies = cookies)\n",
        "print(response.json())"
      ],
      "metadata": {
        "colab": {
          "base_uri": "https://localhost:8080/"
        },
        "id": "SnxlpIp9ZMM8",
        "outputId": "06e77014-78e3-4baa-8dc6-89c668ca995b"
      },
      "execution_count": 10,
      "outputs": [
        {
          "output_type": "stream",
          "name": "stdout",
          "text": [
            "[{'req_id': 0, 'result': 'http://93.210.149.31:81/download_tts_result/0', 'speed': 1.1, 'status': 'processed', 'text': 'This is the text to speech api', 'voice': 'am_michael'}]\n"
          ]
        }
      ]
    },
    {
      "cell_type": "code",
      "source": [
        "## downloading all results\n",
        "\n",
        "while True:\n",
        "  url = \"/\".join([serverurl, \"tts_get_data\"])\n",
        "  response = requests.get(url, cookies = cookies).json()\n",
        "\n",
        "  for element in response:\n",
        "    if \"result\" in element:\n",
        "      url = element[\"result\"] # get the download url here, (mp3 file)\n",
        "      print(url)\n",
        "\n",
        "      params = {}\n",
        "      params[\"delete_after_download\"] = \"\" # delete the file after downloading it\n",
        "      file_content = requests.get(url, params=params, cookies=cookies).content\n",
        "\n",
        "      filename = url.split(\"/\")[-1]+\".mp3\"\n",
        "      with open(filename, \"wb\") as f:\n",
        "        f.write(file_content)\n",
        "\n",
        "  if len(response) == 0:\n",
        "    break\n",
        "  else:\n",
        "    import time\n",
        "    time.sleep(1)\n",
        ""
      ],
      "metadata": {
        "colab": {
          "base_uri": "https://localhost:8080/"
        },
        "id": "5kLl0khUaJWC",
        "outputId": "3bdc12e4-cad6-4d73-f92e-1da91b431950"
      },
      "execution_count": 11,
      "outputs": [
        {
          "output_type": "stream",
          "name": "stdout",
          "text": [
            "http://93.210.149.31:81/download_tts_result/0\n"
          ]
        }
      ]
    },
    {
      "cell_type": "code",
      "source": [
        "# prompt: display the mp3 file \"0.mp3\"\n",
        "\n",
        "from IPython.display import Audio\n",
        "Audio(\"0.mp3\")"
      ],
      "metadata": {
        "colab": {
          "base_uri": "https://localhost:8080/",
          "height": 75
        },
        "id": "r3nTfiRMa47d",
        "outputId": "796772bd-e655-4190-c038-b1536e313f57"
      },
      "execution_count": 12,
      "outputs": [
        {
          "output_type": "execute_result",
          "data": {
            "text/plain": [
              "<IPython.lib.display.Audio object>"
            ],
            "text/html": [
              "\n",
              "                <audio  controls=\"controls\" >\n",
              "                    <source src=\"data:audio/mpeg;base64,SUQzBAAAAAAAIlRTU0UAAAAOAAADTGF2ZjYxLjcuMTAwAAAAAAAAAAAAAAD/8+TAAAAAAAAAAAAASW5mbwAAAA8AAABuAADQIAAGCQsNEBIUFxkdICIkJykrLjAyNzk7PkBCRUdJTFBTVVdZXF5gY2VqbG5xc3V3enx+g4WIioyOkZOVmJyfoaOmqKqsr7G2uLq9v8HExsjKz9HU1tjb3d/i5Ojr7e/y9Pb5+/0AAAAATGF2YzYxLjE5AAAAAAAAAAAAAAAAJAPYAAAAAAAA0CDK/fwCAAAAAAAAAAAAAAAAAAAAAAAAAAAAAAAAAAAAAAAAAAAAAAAAAAAAAAAAAAAAAAAAAAAAAAAAAAAAAAAAAAAAAAAAAAAAAAAAAAAAAAAAAAAAAAAAAAAAAAAAAAAAAAAAAAAAAAAAAAAAAAAAAAAAAAAAAAAAAAAAAAAAAAAAAAAAAAAAAAAAAAAAAAAAAAAAAAAAAAAAAAAAAAAAAAAAAAAAAAAAAAAAAAAAAAAAAAAAAAAAAAAAAAAAAAAAAAAAAAAAAAAAAAAAAAAAAAAAAAAAAAAAAAAAAAAAAAAAAAAAAAAAAAAAAAAAAAAAAAAAAAAAAAAAAAAAAAAAAAAAAAAAAAAAAAAAAAAAAAAAAAAAAAAAAAAAAAAAAAAAAAAAAAAAAAAAAAAAAAAAAAAAAAAAAAAAAAD/8+TEAGOUOZ2MzjAACAAmgwHwwioDhFhwRI7KGkJ6JemQhZgwALaFnC2hcAwENCDvE4xOKS14FGZRgEJlOCjl2EiGWJyIoQhwFUy6dlGxJBkbSgAQIAux8liNjXW2BTRoqYa+C8CP6Pav4iWfU5WI8K61MEHHkZGmHAURfZvAoAuhSpGI4U7KJC8CEtoS7GGIqP7Coi7wBCYSmkLJ3Ll6E8FDZeiYAEGwykHjLhrWAAggCKbZy9iGjWISoGypOh/0v2hxkuuhuytY7GEK3QSoLMN6sO87M2Ps3TEUXX8hpD6AhDRYRNdPQtoxExpDDu+whbhcBjj/wYsIuxdjwvMXfTDWPGl2QgQjNZ0K1O0f40wAtgyVoaXj2s4jM9GIgziMo9r/Z3Rug5pf9dwAIZjLUdBiDVS27N4msO09paAB9X6WJJXqRUeWRSJHhekQcSJt0aZca+4YJKaRsWL2GQidJZsxGAVEPwUMt2Bjp+JmP2sgyCWoFCBBC8gKYsG0oypNJTKUHDWO75fcDLTHMQC2iliegCI9giAZiKQVO1FYteFh2aGIVmJJyJptHwOPJGegFCAaQCFBkICHCU46wmGDUwuMDAgAiDljSMEiEeplCAQBgY9E8aFW+HMFyFBx0gT/8+TERHK8OawA5jIAiCzA4AQADE5vhq0F0wuODkyhsLCDwqHyowxNVRMWVGi+ZkRlHBUdMtlbQGrmAabrJgLDAg1gaYqdY8cYxQtaJRjgqExN0veFSTiEBRzH1YwMMCuAMOaKIBIGmDB1B20GJ/onGUqRXPDBha4yhAfIy01hCCBBHFQNGCWFAgwQKoiTYciUhAgQWOHkRoIqhwIIBEUzKiWsFHgTmTngldCaDRwYMIywIk8xNWZjIPeIRywQy5iDomIUk8iwSGpMl6lyOAY7JfQOJJRDIGXeDFBKRDMRDJWAUVDZHgQgt+RCKAiyzLjSAU2LoAodUIiGYqzN02AMBAQb7LCCIczR1gogimSCKwrsQBMyph00RBgacGEuOCk2wCgJQEl4GLg5FCoCkuCLBJCEQK9AAYAg2xJAmqWZBQJDRHQoRZCBysQYSLrBC4CnAzIgIHhhFSKIvuhPM44FboAUUSA4DLt1AMwKxGRjj7NZwiXLYmAYUKCy0ZHBjEPTyN+MUFGAAIqYZQNnAQYCKbiNSjtgEMcC8w6GDSo8dBOQAAf2i0AQjDLE1wMaENiwgQoXGFsTBFBU5aoOzN0M50C5SKQgfSKBDSPogRAwJfVE9HQ11g5UsyGmqomICk//8+TETHO0OawA5jIELLUpEj2JmWKJUhhxcUXgHQjJcELAi5S+HnzeyOMMLHAZJAIDi2IgaUueIiC+jNyABLY30TTRJnQ4UA2A7AVODDTLmU2ElyyoXClBeAVfKK06EI2NmuiXRIjAAuN1GEyZYYVuDGAtmaNK0BEoYBZecBQL0GyDaFOUo62xRUA4AVoHBkVASSRBmUMmiHDCApmJhjmPEWOFcpdkIpfIvUVWwMCcKIVENlgGhAsAywDFYXcJTIcgiRIUmVL7ISFbzCEZ2OCMBdEUlURBRSioBBZOZAyvy4r+CMNtTIAEZqAAaPCCUJSdDBQUGk6CiUaFHFBgNMDBmHDobDIdT4EglWkAIhMFgzBIVQT1CA1BEHXKUYLKBQhEUSUhwedSCIUWPKhR7FRWFlzzWEAhhfkcKMBpEASMBxIYsPFDyMNjLpjyvGY4xOSi4AExpdOOHoWgLSERqg8mtUHKB11ji4WIHDj0oNFBBciePUMJHFSzAaAWJsEAqNXYKrVTBQCgCAUSngQ0wSgaGA6QEiqAS1IoIWhCIEAorGCgWXZMCg4CAdViX6ORdVJYcBIgAxgoDGJAMnaz4wKBQYCEUBYLoaDQARTXoYLAJeN4xAKvseFEASHI1ywMGGD/8+TEUHVsObAQ5nUcQlIVUC6JeoEhgIMYCSBJS1cJ2KpjBAZCIwSEU+cAUSAADQBFEzkTjLfCgBpCmeOZERXQnGFwAmczZwxAwUTg+MSYdiNWcJHDFUAjLDEDDgAuoIwlIgQ4lJFUS0oIVEDZl2glMaHAwQIFCziwIELMMYSLNYxfgqqOqwydChnAG0iRyAFZDmEWo3j6ZvJiwIkO+IZeazxmMDnZcEHbLuULMI4gATFASgkgYAABLMANQZsa8xZcosq66FxKSIVGAACwBI5ItVdMISFP6agWk2BQK3YGU0GQbGygKW2VWgRhbSUzS+a22IAgGoQNC4fdqmhkLDFJApG1RX2iIE3UBFn4FiSyWVJVt8rssBSYGshOcQBEH1fiEYrSAAyg5EMc0ScLwQYd5DVBxHNCYgEMaIBR0ti568ioaEJwIChYuZckA4oqNBQwWpAEciKQhTAjAIGdAyQkiEOaGGxYKoCISZWDCA5qyQRAZMh6DnqHEBGhJkBgYwJHRpFACoRSkver1CYwtyQubHQtI1QYCCJgkFGEhKLBEVAAQFgIAEShUHgQDmBwa8ziqGgUFoNsuJAABg6KAMFAUwKE2TOa5CEhmKyR0AAgCDQkgUMAQGCztAgDo+mEAAr/8+TETXWkObAA5nc84SQBC5aUwgCQEqr0ghBGhjJPGCE/lLGLBcoKCWwQKLRgwBWILAFwy/6AJgQsSglBTClqspdMySxI0eCUdLlMVgNW0SPXMIgSE1Jx3hJErCUHSokxiJJCCh6Iptxr5HpkKS5JiyNKKyBKEyHQoeQRGGwlouUJDR5NlQLTk0BhhFsyQswwAQgXRQYoEAJCKWDgFgFUxkgHrAZUDfsNlpoggUoQquYba6oyUdAMLEF51Aw8kKhsspC/KzqExg0tRoQlHAqpeNDgmaX/Fh3EVsJRUQlEVQsHR+lqsJgIKpmEAZd1FUtavhwHad1MtTZXiGS9kJKEwHDztvcpe04u48JUA0URQLRzKApdCOaQy/FMl1prsqAgYHB5ggW0BnoBCi1iwwXC2aAIIRgUBBIA1gmNk9zHhUKBpKIGKD5yIWYuAGNCK1CEACoIJAQKCl5AQHWeBit1wMBhwwPAwGCnzCo+YsdpxphGJhQhCRgBHBJASj2TBQYJCIJMdEwsGg4LX4LBYiHSgTMOFjBA5TvAMMcBAMK4SAcqSBiwp3hhYdTAVgMgQzR3rSreNCgORHRjJNTfTVGcRwCTIARKUueXBJW0upwFAgYypeVgiIGEAhVqnA+QKHL/8+TESXccOawA5nQchieTgtJLmuQmgk1AbQCoQUVeBVJqYgfI7GFRjQkKhQwsEAkGgMth4BHzNDhQYCAoQCSnBw9OAEjSE6AkJUCgk8WSMOZLeM5EZlIgyI8MPMMTBKDppgRakIDGmWmAZpjGPAF94bQNKo4BCwVUbUKCTIlQ7mCB4c+QQHRIUxzzAUKhgEBAzAm2FhzUyw5uyZxawQETCAzCLAcdGhINJK/KHBgzhb8SQgZm/pa0xYgVAg4sZUEShQcGCFjrlUCwVKkwBYoMKGl7lkoChCSAhIzQAw4MuVLkvDGiFMggkQA0EgqiMSHLikwcOIgYaMiRQHNGGBkIEITJkpMCIQHFVroDEWEexCFFjLfIpBcBDkcXuYwY2qDbECEIkgGAkUFop5BAslAp7QAWTRzTiHASSpjQBMQIgitpjErCVcAZMFhJgBwKUhBAkcBQAYUEPKzzWiZSBk4GqkAJJ5sQXGppJgZGHXwGnAIgRMgM+WGChgBAMiAgUackAgQIMAIoi0oeYQBNtPedIkFHAuNDEoVGBwcHKhDKXUoJTqWhQEzAwYLRGBgyCQGYBEJgYGGCQKy5YwEBaJBfxywaAEMUZzJ4AYKYQAaDo8NGolzEi1HCAJIggEFwAhT/8+TEP3GEObAA5nVcLSXIsOk+gkAISSiAIDTrGgVA60oJVsaSAUkTRJJFtKlMgKBiNMOKEcaA9awK2EnzEBEgFEwaA7BYAUxFk4uscEppmJzAgsAt0rGC+YCGHSFBlg2xLrM4CSkBA4GlUI1gEcBgj2TJKxYcIWZaDlAK2FCyweqMKih0QZQUQF1ArMahoSQbF5iKHSiGKUANJJAhIFHUOGuqrpTm6+KjjSgKAMtRRcWiCA6ppNjB4UOjo9SzhIMiDAoAJQC66iwqO01YgwIoArHAiBiwMTQSixzNy86boAHEZTAgAY4bmIAFzIYrQHAncAICYDcWys9SuW+ZoKhidzQyYJKsBOpXs4MEVE4DHsPbxqCwgIHd6LqHeWhWenyYgUjwiuGFAsKU2X4HG0lGjAEA4hfAqBU/QEBCoRqQYKUDIUjzgk2ABYMIGeIAHWEGzACB0mpe1AUGI7uQ/jX1kSIDIQ5eWtHBoBJmDDmrehQQDCI8vMgBcAu+tEQjSIABihjxwkREANAtPEkEgQ8PQoSRFBZwNj0ECQkD46LB0DlzhUBocSIL7F4DUEvGsKrhcRZWoWEv2WUBWRh4chWqQtcchhihw01L5caEsOGzUtOXSPFSAJQgUPT/Xqp5liT/8+TETHJ8ObQS5jQ8OgZAiAaRF3Uay6iJgcTaGaAkiqBTJElQvMeDQ1RXQHxUwggFE17F4ygWIhZf5EtNZBUyYQGCQcNEYYwImPQWsKFEy5hGJaCWsAUoxcMBZzIlDRITcSTEii2yZqMoVKlA9cphxoXPkKUw5sWLIIiJUadMZuaUEzdQx08Y8SAhClYWDCwQGBhIoGB01jKlgKUCpcCgwhCAhQcSCCJgzQVEgYuOCxIUWuBAcQCAgSGAR0uMAzECEmkQwMD2YsSCiaaQcBCogRDhUQWcMEUnRCDZuDBJiAae6KitYiFLEGAqgStySwyILmUavU30h09pY8rHwYCRqUNS+bpEE0GVtZfZY7dhELKA7lKru0mSk7kXGasgDUNQMeFEVAxepIBWYJDxwAnQwlGZN8IBoFITG+XaAjY8NCx4aQMSBI85c5AMIA4ONMcCwcwQsOHKkYKw4qF0uygMPD1YgcVXKqiCmirDHggcOLXLFQEoqp1MFZYl2HEHyLLs6VeIDBMFBKUiWydQt4BQaroPNME4JBWCAwrkIrmSYYQ4NAR6AgqmZeCyPkBEGVXHipWgdgOOlgGj0BQ4MAGEBF+GDRdOgILspEiYQiMKFDBBbwHBWaqHPMWgRKEAYoP/8+TEVXT8ObAA5nQQJgw5d0cJBUGgCcxLA44EaHJyAo0HCzDEBIK1lMdnKwYsOQTKZpPlpgcQLzlgYSHJgkCkwhoAKIK3A0CTIk3QSGIAQ8BEYFRsLAmbiMwBnpUcgIUYMkVgS3wEDCNEhwBIpuZhgw1IFmKtYGFAaSAowjHGvFm0OGENGOFLpCDBQBCEo4HHh5QIZyjYIVQYKKpEwogEhR6MGFRwuDjiFwKHLoBxoWAJsLMBIBkANHo1uyGD36bVVREUMCJugYWxMHDUaWfMAeQDAm4plspeswpEACHnSodpWuHwwaFwayhgCnbQF9wsJHgjLi6hehbjEgQCLtrdHjAhCpQgQECQMmLmNhV8hNFgRCBTGR7MUASqSSDAwODqsTTEiCdCCW0XTe0BDWDtaGgxfwaOBUMpSDAAYODipjiAYEP0vFmoKHoyTZbBNEw5EgHofSZVYDGzAFAEdMAQCwAGhgSOA0YwQIxwsSNGcKtyTsZGEEB4OWXQgZ6skuCYAkQizLsBENAqtpQ40BACHDHgKEK1QseKDgsBRzCAgIIM4sNQpOXpOK5Dj5k3JxWZnyJp5JvXIZvNihR/LmgWcJPS6U6FDz9lN0Q4sjgQJWDieCxYRIZOpvwmaqes56z/8+TEVHI0ObgA5rIUqzghRTUS0AxAtKvovehyLIIOgUMRko4jQqQo8GKBHEcFczDJNRAxBhow2ywM2OCIKBdswQyyjJHtkJVEM4K+BhCYglQARkTBhhhlyEwgAeQhUCgzhVMohD4GHmAyzcxwDYEVjVpbZQGPiEMQAmQQBBgIEpmAcx5QtmE/B0RsAhSYBpgqI0xy1RjCFFg9gBpBqxLwkMHQ1pl6wSKBm07AMYwMAkio4GPJUizAOZiamhcpW+4XuXYrhGdC8v6YZrB2DgVEMKaWu2OIUBxTohUVHJNCHWYF4DIGjSNoqCg0hMDJAAC3dZSAZCNLZwGcN4YwRaBH4aEVVQbdBpSIAIBWEYMxUQhl10ELNi8jM3FZu+QYQliv5l7TUGS47El3hwQJASpWMEIAYhYAxgEqDQMMNczQyAQzXkrRwgIEFAkx0N2FMRihAA+Tno/qmKowJHDgwEqBERU13wsUmII12qI7FADFVhi7o1ImmykzSxocmMQjEIoiEgwgfAMmnD5g5WaKPGChI0AmSi5ioUGKRixMJCJl4acoSENzQJTSlyq2NEiMCpOABBzE0qUlbBkQZcGcFAZAYQaZmIGeAG7GGAYZSRL3GdBhUIjUYZQFEJkQpsXpgBj/8+TEXnZEOcQq3rJ8MEjRITGPzQmTMGjRikMgEkK0BjEYYSOG2HDAxFCOxkIyQBqAxBiscBDlQ8xjVogEMEMg1QdTBYTGBlIaLNdMuSABBk4t4gobxIKAMMoHBBx5kEtxEQaOwaMDHQwolOFlxpEGFAQZAK+qCUzyRQgODFilMDEABwIUPVjSjMYBki3yhIxAAEWYhxiuGLCShAIkyw2cs5UFGRzQVFQgUWHFgQkAmgc4wBUAAAKMlVHYvgkubRDGR6d51wIDFsiI9CBaRdImQR3ACogTYUW9L5moWGFKADoQMCIhjXFMVlFVKpAGnUk0ZRQ8YglSpk6R6eg8OaICHYGjAolAWZxgsepozMAqonokslqIqywKpIVsSBQ7woyOomu+paYgAfZGhZSSLMVQAwMeKQ5JVP+nQm0lcuooeSwS7CAioIVQ2Eo+KDqLLEC4r/hgKCVL9OBR+Ro1MgLAiEZCYTMjyaHZLzBDFpisKKQcCkYXXYgu4tokumo10vsy1IlMwmHHAVpPeBzTUAwEkMHCzLwlNUVJDIBsw8UDFoKiQ9KlSlMTCRAog4aMDKgccAa0NUJggXM3khbgM8VyJ2MIGzJRIwgQM4ODYFYzY2MhHDNQUELxlpGZAGEq4VD/8+TEWHVEOcQo3nFQCMQHTUQYzwKBAEZMNEoyXnNGGBqLMiAwHSnGDQAdWIigVMAmzZaMhE51Ro423gUgto1NhpUCjoviYJnTFuDEBB9YpeiEVCBKU2UmcoyhDQteYggXSBXLgitgGdHnWspnDqoMSQ1LKgYUadF01kRcxSENH3B74cq6Btxm8PHRaQDPHEOXdLwkRRfZOZWxBCHVMb0glDQcAGBG3J3IclmlpgtMbuoeX1FrM2LwiFRjeBvB8FShnSu5VW2VEYa0VeoZJ4GcYKbAigrNwUYGXcZIwgmCRmMAhmdBg0aK5Zs1GEMEHgQIQgBJmqBU4NQ4RkSAHRI2rSVLSGsx9KOEHtmUrAm2U2EIETC46HSHgrEFIJGF4UkRGMLFQuhwNYxxB5YaAVJhAAxxmMr8vWTRQoVOIipGMeLTj0guFSRKEZCmiITsSVWTuLMgUblJrJFIakrkFEmnPYW0tLxf5I5wAi8PqNoqLEcJAQgDQDo4p9txQkMPCyF9kSoYYamGXvTVCoIH+GWbGcYKGAwWRHBYaRNCoVf8y5gwIkwQQyIUevDpYOHmZJg0UYMAb+GioJSoKiU4ogIPDRJEbaMAC8dksmDtzICOU0SFFTAM0QwBQQQaAbQIqAT/8+TEVmesOdQq1nDM+ZIpqigAgWILrNSB9JgUvEyVLSgkTzl21+q8NDh4QiS9hzMB5jVCYUeL1BUKkEf0vEVGKhD0Y0XzKcUmAoASQVGmEnWUEfcHWRZVEhIM1GSFrluF+ANxLwYMxIvCj4hYOCEmEwFH061/IDxCBPhciu1noojw2cqplzS/pCcaCh8j01dehZUQjLtuRApe+zSpmuuAFQ6WqXaPHY4r5VVsoWQ3yaSPhf1MURHW0Dk1VzOgIAypPMu00tXSd7rshXepmtIaO5Jets6i0KdZcheIsk7rDkKC8ayVaUxl1xcaISlU0HgEoVzuJQEJBYkzIdQMyBpq+ww7IlIr+bnNMtg2JqBu8mMiqlg0tuT7RBYZQGJxWca6qi9LBVM3aQ1lCIsFDU2Bt4wNSDTXRR8flQ9B9TIvAsEqhxrcvZCnK2RnCAUUElyxJB5GeT09hc/5kzOAEBjDojkBhYqXkCGhnSQdHOQLBiaEkSCRPAyYFhCiJ8lHU6YBw80FQW4lKBISLTD0ASpgiiYbRlhjdzbMxIEJikrYQI4tuRqlwGEr9uxuOrYLsIYpep6jURIjWAAEtKnkXcL6CxC55hAUKIZNTUFIbuegnbcGkRMl7AlgCYiFpUDE0o3/8+TEimRMOdgA1nBsDopwHSp0sB602l2IRqkFQgUrlsHVrKgx4yKheNu4YUuIttJaLTzSm7BZDXUC3AVy1tF1PRnRYGmciau9eyVqBjFDINKlQNfLTEAaPiAOlhDW2vIlLBKxrQLqsqp1zsoRuZQMiTzDxMZSZQ4o+s3a7anHjRfSGR5SZLoJuk1kZl7NjHmDxS3b6MnQ1l6woQRp8GxFwH6XIzBDsmopB3n2UTQvcaCRYaAppiwq5mvo8PYtRVFpqi6ic3SK7cR2HXuogxlLlYdNOCmEOOutqLYQUN31fw62FxHRa6192VysqZUoIyF1ou9bxwywxkS6pCzpjqZEBv2zhJ6MrqkqYDnqHl30/HtVtaUqTEFNRTMuMTAwqqqqqqqqqqoIkSDaA81aKNkQCcYYqAFwR3T4S2BXQ1IEezGHHm4dHVCGzQAKgbZGCjHPGUDHEauzAFCJuCARxAumcBhuAIXgp0aBDDwaUXqEYimxngrJMAEt3DqAldCTxCIgIFkmwBBYQsAm6AirioMcBZAULMEAMwQ+REQeSWDoXBEik+lhVkp7NIf8taXsf5ckEtMZyXifpDJD5BKoisZb8NJnJtJ9umnotVLR0YFjgVBLPl5hEAkIudeyqKSsqZP/8+TEumOEOeFo3rIMMDeFTtIt5FQKKr9WDbmiisCtJgyaThsgaSoKuVCSvpOeCX/Z2zle6H7yF059gzW3oW8VRn8V6z5oTjJiEgJZ1Vy6qVQJlCczlBBicKWjYnzWHTBWLJm4tNZ+0VfcASVvhYJ4Eq3QtM4YWsV/QoBI2As1c2WNeLuJ5v6wFozM6ZlzXWTxGLtOYQv2GmtNOTxqNu2VocNMuX8vNcqcrFYNZ2+7/QY1lZ7vw9dXM0Z933dllmS+WXTStkkfWu5Swrd34iDrQBA7oLTYO3CZomtRt/o7OyUw2xkzH1FDMn47g0EkZDUsWkNhpP4zSihjGgF2MLwHImAJLAERhgAzGEYB4JAdDoFBgcAKGA8BAmgYEwEQ4A4YBwBRgVAPgkAQwAQBTAJAJCAFQaAqUNDPog6oZdwRbDbEjAqy8Q8JAJADODFDQwKBBohIoaAACgPGQJnCyThii5kQpizpjBZrZZ0XRtWJzfYc7DioUFAZEFA4JClx3JkK3W5FvnISrVoBI1mTM1VkWUj5epQIxYcHWgPEmKICAIGJAxaQRAUE4XDEgwwwBgQ4JBSJuZALL2g4W0dh4GAyEwgADBkFi55QTLVBUABQK1kPlDywHIQxiwJWBpF4qVv/8+TE/3dEOdwBXtAAwIWuHaZWnuiYNHGCKAGDBRNRRTFkq7UwWguEXMTrRvblBa+BkOsGDRLCy840bAQkeEjgFnosMMUOf6GFCAhI/oABlowSRGRCIYOLqppOlCoiJJ9QBKgUDSTUrf8MAJWgpINDGQDIceBr3f1yHmLfixdlhbBIwYAMFGBhAEcJXD4BhhTFMlpKa4KBrsXeycIEsEXeJBIuv1p8IQTsuVJRtQl7wv+sO/EEKXsRQ4Q01Ve76WH2eKqzwiAVlBkZhoAhwLqCQRtmVOWXHVQTRL3uixVQ+G06muF4FCVLl6LskAkgBiPDWGM2U+YXiVhlDF1GPiBOasgWYjAMEYIRhJhUmCsCWYQIExk2CbDgAb9mC2CeAgXzEmB2MYkMdOBRpiZgAFBAkcszMYDQZRMqGxBMLB1n0vMLAYwoADFQULcGH1GZktRyglHXXD1/3gdkKgksANA8xaCQQEjDgENBFAwwRjHZUBBIFC2W+fKF1ZFNrNZehoLAoDABtDjh8NHDQxWCRIdGHxigArQ5LZ9scZh0vA0CBl9F0MWWBg3MPBodCBgwjGAgyBh2PEWBa16w98nilJQsjZuMAAMAD2ID9VXYT7EAGMTiQwcCgAHjFAKDgIWjUUn/8+TE9XmUOhwrnuAAmgmqGzT9isvlk1cjEvYiinC4fVvTDaWweRFoygVBAMIQ+DAMIwmQiIwEJUvzLgoFCsaMIRutVz7swfTQRYj79ted2NSuPWYjYLZsnFAGEBeOBAIrNoYJAafwOBiSaMgKAiKRaAzKLxYWmsj4aSPgoUzUiaHlgREoAFEyqDjIgSHA0ZOKxgoKGBBoYqAMTlOMAx2ii8v5Tymgt9jN/OWyyaf+KLUjSJjeFpC9E5LmCNcfuYZYGAdPRNR514KCOfRS8BDcaBIQGwEIzAohMSi0MFxhsGkwGMGAIxWFTDwqMDAILCoiCKjA0OX4BQDBIJeZNioIAmAAHRg7tCiT75g0hSGOQbQYswKpgSkWGLsbOZYwcZhgGGGYkIwYGwARgUg8mEUCYBAKwIDqYIYHZgkgfmDqBupwMgACMCcCAFGB0CYYLwAoWATM2MACRiAMM+LklQwUOLADRSAvufCUmrYR1XQfxEGFAJobWBl4yoODAUCh5gIGZKRjoMCBpR55h0YFiw0ISGJA5x6McMzQ6U3MxJBYzwiQNMGAgSAqSCwEYoJEQaIQdLJ9FjMkSfMXGSsJFAwyE/M/FzTycyE1MZGgUnmWGy6TFREWBqAwQCZco1DrImX/8+TE4XzsOjAB3tgA8QWBgFXBaMw8Ha83hEIO1Il3LmpMpdGql2XzFSKzszMySMv7BMVif7wmoajVNBUzLmnted6+thsiGSi5QAeCgweHTGwkoFS+I8QkwYYGMmFBxuBoYcvm8xprIyY8qG6NBgYEYQPGTBQjNDMA8eXzNzky8kUUMaDyIQTFCgGYeJovoBRYQEhFTddACLQSVmJkL2ooBYXMdKzAhszk3MZEwASBxhDaJg4KL7MGFDFAUWAwQKGPAjXFSoPIDBwICBheYCC2pwIXsS1V6xJsjzytrbeUkshmLQW0tgsIajKXjh+fUcL0MLd1pcrbi876MzUvUMeJoaYbDlMwYBNWBISYaAvOytR+PJWKDM4fhwH1f+UxiTVzh4K4xmB7DM1A2MIwCkxVRXzFSCuMLsRoyJVdjIbIeMFUO0ydyGxCjgQ8B8CZKSGdpJvYMQCJiY6ZcDAUqMWAjJwZFswhIMWOTAxQxIkhsxs3A08ZgOg4wN2SjBjQ30vNuqDbSs+hQGdoOfm5ImgNBYAh2CCKARSsKBKR0Rp+iMJCDO3j23zFmz8Eji0DiKCI+iCHHBGebgpoKlXiXSnSNG0twEFR2LgocAU7C442IA6R0I7AfEdAcYoscQCHNzP/8+TEwHNMOkQA9vR0p0tMiu4rQlUGICACoPAJgRw4CiRYHQBBiisBTlXK7LrFvOn7GKGckWMT+YaxZuZVLPce4faypInIpdC4eRUcgODKFjxgwQMwIszaMyohJI3RABKjWIhQ+YI+bWWYfIaN0fyAa9aIEgFVGTCmbKmkNmJSjpUajGMAiNWxsSO1mWFBYeDSsOGKAr9Ig6kVLyJQYcwLFwMKMcKHCaB40mCoYkAGEAgQGPDy2YEJmFHEoMeFqBMNLix1g4GBrMlCYjKIEYPHYy1yDXjhuz8RlersEWZZNtdeZrjyppAZK4S+4Eb9AAiOp0vVI9FJoxbQOKwymqDgscRxBRxliXY0zTCMCDHg8eSMSslLR1/vopgqgXBQEAJgQLBh51BpaMw8A5ngWZggE5g4YhwNJJkuJZiUq5mafBjGGJhmGRYC8mWww9MNAkbDSDlnJgocTO6MhAJmcBac5ggmHGAjCTDA4QiY4aGyBJlQMCWgBKgKTDBwQmADJQwKAyGSTIsHJeBQCX8VAFwVlGKi6KAcIqcAUQMXHx4JMMlRKYDBAKgYYCsYXgXJIQNUr3NszZ+27oT2LJHIcmypgiECFSSIIhFGDOGYfgwaRAEIhGALiGJAwCVRrE1nkwb/8+TExXlsOlAU7vScaeygzRw2oMANDsXjrLDBIzmqwEbIAxWKMsaNQsAis4rEDCggo15XgFNgao0wx58aLoyjowygAClX3MUDNWPXo6xCbN21JkyAAsgzMy6Uy6UvGhWFgAMFIGmNQmaPChk2bUAiQQQHlJlSoFBGmRHHNjSdaRgw6FQtQAywoXgZ8AR4dCLdA4a00LlzAADDDDGDmxGQBAAgk2gTQ5goYOgBASKpIziIADHce1TdGAaBumiIPAn6YkDhK733FAyRyyENEkB4InrAKv066CG0v3UYpIIfVjkZeAvm0RjqXgjAhwd1kxENFppXqnbAkJADnuAwNhKCdNZBhVlI1FE9Jq0o4lQy9bLPl1phLwTPGgSgiABvH9cXll72HQ3IH2dwvA1yzQD3CgKF6MYFDXTkeGQsLkyKBBUxoPTCMPHjGQgMBjCwwRhK4W5mBAio70HsDZKroYD1Iu0IAR2W5sXXfH1NUWn3HAJzA4BdZH8BByNTD1IpCFwGqJMrFqxNgr9sPHANOJbkaV3GoAXOkks+HVy12ZufepoGZm+j/OEqoyBHl3mwKTVqQEwxF0BBhwgWfYWFAZquS3kw1KEVQKACAKAw8BioCDBkwaakAGcBRsqSIUIwVLP/8+TEsm5UOm2U3nHkQikz87MEGzYrISNDHz0QmhlhMLcmcabYZtOCViGRDYBqEXwMwPFhCToywwBwrAZyC9QM4BoTUHtByZigG6AkmADTSNHjRLExAgAUIAwVKeBxprAr8RiGGMKRjoyMRhlAikRUGkuZhQRmawhlghlDicLDRPMymml2EKBqZUQIiuGbmGfIhELDBAS/YJyhyhlIxQmMD2S5YNAyZKkaW9SM4GQnAmurNEIJDiLVWcztJBB+CGvSKHFbW4UBcFla4mkpXPOu95I4zpbJf5/XofhHEGBKQr8FUOSKBRALwsWR0KomLrdhokUhGyklYUNkBQIsw1ktg37VlQK3r1WiDYiogaMtMgEYoXIVTEHBG5ZCt6vWIxSHmvRFWlo7LZO7rtshmXZcpmMyyxv2evO6612jvenBipXDUIQlo9QygMSFTTe9Gddq4mbvsoC1CNxxiLFlprElFxMhI4SCWO18mCQrttwVG4793M3xb4OLeJlCh4hLRPViFg1VgcaWZMFwwFDdZC4hpymAELAiRAdEDCyEoFRhAACbER4wZMwhA6jI2hY4As0a45482PYEFz2PRQaYAmPfDkARlCDirDBQyYcag8BgbhBxISGJTFtE6E8QgEHHiIX/8+TEyWc0OmgAzrHIJoDR5sYjHmENhx8DKgMXkgNFoZrpc8iUmkTgIEY08YxSYUwZIGDAYJDBQ+wUCJBIEKtEshIKIh4VJmuBGKLAJecAIZoEdwkillmUhV8CABJmip3mIIiAXvMgwtcvcWYVjRIccmwApL8JaIjCgBLDSYqqupbE2oiEDGX2kqPJWNTOAJFK1gFMVUUq2ELTvNuy1nCwqqhatzVAHWb1w3cZzD1Zpa9lh2lQ3Q4Q1MWkOyw99zG9KBT65mDz6XjR092Hu7QfL5bXSofhuC2HySTJBOg2B3GcaImQmeXIWDZMnKosDhpwhykOQUOsInUvNVS8Cnl4gccuKq0HHUBeZSCQcEAIaoDYlYgV6MjRjMDAmbcxUpfoeC66GznkIhYMBwGqIvkQHW0nU/KmD3msCNJyIZYF03RfxWJNEmCj4r/BlQIBX6L8oSEHGekxEYYIgEgBxKEBhhZ8YycmCqgkCmGHJgwSZSSKWmTCKXhgAKYYCAYXEkwKEpgYIZSbGvlxlh8cWNmlBZukSCl41xGN5CjJQw3soFDkw0PEA8Oh4KGQEHDgQCAys0BSABAGDIGVBoADNIQ4qZAirA/SapCPQ2MaIFAwELKhT0C5A15gy6ABMjLiDAj/8+TE/3XUOlgAxvWIIVFGGNnCfgUAZsgHCihgGVzPKzTNTimjFviYIDkooXIvAdrM6QN4hNUREbMFQDKhTBiDUPSaqIARlySYoGMkgZBRXhh2gdKLREgcwokSBizlH4GDl3FBEx4osG18hhAx4xg5aceQmVDKapHgEEr9NZMxV4NKByJ2oBUGaylSKBzFAQwi5AKFJxJrUihb2qrkAJG1/U3TCgIpGlPrRL2rlkbKguSQqdCSZpUKAygDAVEU1wSDLURl4wYFIjo6HEYAaJXHxWmjICjYMGPgX2lNVlSi0NkQVM51lUBoBsdAJFQyDOUQ0MVQVcwVwBDCPExMekicxYwADCPBMMTwdAxeAwACDSYBIC5gZgomBqAEFgEgSBAYA4BpaRYUWARCAFRoCNiq1xkBIzZSEKyAoyZhOLTztElgzJxwELBSYiUpfQcQFy2RCBMQJQjYwnmo0wtQF4ldKRV8qMAmjBBmsGQPCwoQDjQjjFiF5SxroCCr4YO0lbqKSWpdUsiKijFjAUSTaWuAgIssARgxxcoQjyAwAUxpoKFYkpAhAmFIqHEw2LhAgxidNIxpAGlBxycgAclgZrOcwiYpiZ0g/oJIDzpBAX+UlDxnkSEAZnLgstEYFhDUqFz/8+TE+nOkOkig9rD+whCrIiaoJGDIcvgW+LrKRYwPGAhzl86PSBSRMLlikIouYohzTIVeJk2djghoGisEF5AdRkgELOERDgACXeAbGkCBFWpVURHLeqGSxsiTwZZ2TccvyWhPsDWwFWT0Q+DDCohp5eEs8k6j6/JFFOcu60xVZpSByCzZVV3CVWadm3JfzQnJ3Aq73/SpgIu07rQ2NvKl8XelSuVq3U7EimnNag5JJ91Dkm4zD6RwkZzmJSosDABQQN7V3wLByUcYZ2yxCargFSTHL+vY/q9oUzxTJczrx9yVTEEtCBQQggGE1RyNjIGAEMDcCEwuz6zQvOmMPoVcwmREjOVG0M6YDcwawViYC0xGAhjBBAjMCQCQwDgSjAnAmQsDgAzArBgLOI2oITcilJwwc3MTSw58VCcq1nG3hjRsa27G0vh3ywZOohcGHUwwoDL/I+FBSPDSy11p0s7XMyh4BABGAABZwwcJEi8yUcNUWznSM1NGPxaSsRMWAwAVBBSkmIQASAB4Ghpijzw+sEyBXSuIRDJhgMW9CowIk0FKxkYsaicBYfUWASeYOJgo4IhgWHHeUYGiUOJFDkjQYiABaNpxcoiDZrJFmWoGaSvWCoGoLcxGHakcO3IdgKD/8+TE/HPcOjgA9vLctsLLZ12ZBIpTeiV56IHhDlOvKXTkTQl2u8glYjFmZM1YaxYKiqzigBAEqMwSDwaHmTKGHSElQ5hEAQVhtRcFxwecYTp0jnsSYgQBnCzwKSCdScgSebmwc0q0AiAgyzgx5CwAlmAMmUFzSI50QAQZKppoIBxZIiwQQBAMCLGa9Fmx14rAdeG4/RSWneKH87dJKmVP7KpTZoY6zGHrzJlyOI4IhAUbZm4yyEbi3IwUQpg0MkWMUOeFBUewIVBAKJRCCoQ84IiAKSyVkCCJXGEKR6YqiupMQU1FMy4xMDCqqqqqqqqqqsFBQEoGAWMDwK40NCGTDaBfMD0IwxZjNTFQDPMFIC4wXwbjPAJRMPgCMwAgYjBKBRMBAAkw0dM1ETOAkMHyYiMwISJEMmIBkrMYLTCyMwkkLvmSj5k4QZY2isKQIpswQaaSGxpw4VmJB4cDmDAjdR4ZUtY8jOzNlaqNdjkOvjSvyJAqcpbUdNS6AWSAcVGhiAOACIiBAmwB1Vbo++KxYlPQK4TsOa1ld40+MhgVcyh0yDrtOQcuwZ5RkBvuyVRQSLUkLAAApXhfcvWLMBYMzSzTLcpQBIhQRbquEeEwIOTnU3i8PrIDi5lG8HBodhL/8+TE7nBsOkQE9vKcISHIQE+TLRUmo0YgyvVM2BAwgOQMxxBUAjmfOg8YxwOMaYxMvAkJYbqnm463nEMAJItLtToso3Iuwg3DCcIBLMUwKkCIYuA5IFglrXxoA+KE8TAdIVyd8DHD0JpPEQacylwCVMgUSAER4oSZA7ktumEX+RsSoVWQDFgFPguCtGPv3Cad9XJtM9dyYnqSGoekL0vszNlHOYTsogdkEMSirDLB3LabA9M6ztO3WdV8HJgJyGXrwh9oy8FV25LtxBQSYyYCN2UjWkgNYAs5qL8yZbrWWs1MQU1FMy4xMDBVVVVVVVVVEYAoECAFJQBMVoMDiCAIbGPB5GoZbGDIRmAYpmsiumQQBGAg9GBISlmQICbWC6RgkBwYAaQCJBQGyDaSYYBK4g4FSISBmRUEGoNneCm0ViwkzgMEBVVisM3MVAKiMAQLVqyo1JfsJLbx1l9RrapFTtEftAQwgUKmONoGmKAg4i0NaLPX7fCDG2cd03uYYyFkCwrHU8yEYydQcQnBJMRDS+IWBl91sJdggCoOtJDsl4uxJ8UYhRYm8SvzNFzxmiZ6ZFoZvmbzMbQUdlabaIZQsZ4SbtCTMQQGloCiLwjQ7L1nERyTySgwGkupMs+oWkn/8+TE73CMOkxU7rL8MxKhRsBo0CrIouaWqA0tYY6xM8oISGmEKZwQyKOkmiqZhCP6t4DfMoAzwwdWYxwBNNIxjJ2CnuKcbp0VipBjQEJBSMY6o2AKLrhNQsM3MJk2wRGGFJjIGWFmAQUgBTxBQwcgJPDoIEEVvVE0AdAR3dh+U4YPZGsErQmuglToZC2rPnjaw5q/ss0V4LaerQ1lLMhDSChKlDpslbhIncU809/30chTUvm4bpwNKYkyyw5sMQ8+71uoXQdiH5dGJU+DWGlyt8YfZPEolJ4EbSkalGH/kCpMQU1FqkTgEJpnzLRlIFQYRZr+CxqZSZMQnP1AHMGS5AYGYoQx4xpZcJENlq6F/MWRsSDEAMUDpvFzh1ubxyTlSqBEKQBK0ZwUxCo9MZRcwokwgMzQRfjHAhGsp5USUE6cCQTcAIEcpLouCoe0UUECQ5Q8vKOBlTRCaToU+ne70kd2ZVsQva4+bLZG8JdphizSIOpoouDhCc7VQcWk7nITwuCTZAQUFDQUBCAo6GAgIxRkxhIxJMxrQa/ITRUibxqGVgaICAQoHvhwFTyvlTN67zAk1vbRljtPmiq/sjdh6pEoSW2KAyIRbYxIxZZgAphh5oAZjRBiSKthlzggdmr/8+TE+nNkOkAA7vQgGqUpkTQjZBBoxhgBJSUWOHg46MqTlVyqUEKkDnTSLQYHOQfBCQDSQAfM8PdEeIG4kmEFA1mctch4Yt8btEEKgjqavYN3zkITEMzEHzHuDOnRVIOEVjjQ8MLixtXq6wcEMoBT5XmBA40QWopclGv9IWGBQBJWxoNr5V+oA9TIgAHAwpFcsEEeysEyAvaoYNAUrnDTuGga4EBSwIKECRRV6CzzIplmAMQdxty7z7q/BoVLpgDOVKgAAQ/a0/6sSOIgAkoJyXURRLVjIVZ0XQ8L/GCHKgpMQU1FMy4xMDCqqqqqqqqqqqoFADGAGEGYhqAJhDAYmCCFiYTQgBql5tj55zrXT15TRrzlghENMEGIFl1pWgQMsyXDTmHy0qAWAJFGWkUKAwUx5ASsr8eHNY4wIh2KdAVxjni0S+AFmW0ERqRDWUwR74hMR+CAgEArHKFXFsEdiEJMUZHEJBaA0wRoFQRrCYAcinSpCVhcFJZf0GM2cRJZiaKspRRJgWFLiblDLBGApgP8wulYFIFNaVHISCZy2gheCKkrgglNOGV+tZS9lETSdhDPoGsRZ4JHRv7TPnJ5t2nvaW/DkF1o6l8gnSqV+0STqLqZMCGl4bbsBWCIddr/8+TE7XAsOjQA9rIoHIhQULmLDLrBBLggpUwrRm4x3ACCaFRnkiIEFOi0AdKYTwsui4D5Z8kNL5n2EVbRBCbJAiRWHBtR5BjWpnjCTh2SmcgaSRpFgxAaGA1QUVMZtNgQniAkxgUp2QlyC3i70dgSKIQ0mzFHBBg4kDFBoQCIFlCYAHWh4qxy05kgGyuJQgkNSpNgSKLcF6EqBgJXJadaphkptBFkoDlBESWcNJQaKfQLAMEa0mcmWaJoZkYiLhjpgKSADMUERwKmNw8BQhZsBkCqyjICVHpRpEDChgK52dVW4wLHc0wSE8nQkWXwyoR014SQwrJczUoA6jYMzlPExOVY+KCITAxtREYgJHxjAaYgbDIUYaYs5MDDTHCcxs5DAc0BINFQjZTcwjePWejDKoFSJ60JRDMOEGRZeMVDGFFF30RiYQo4tAwQEzAMsAR4q4C00thYEPBWAFwFToRgESY48HVDUNDKPzhKjHCwaNhLU1WMXeaHlJuq6CXaf9xUoWCMbYy27cRQILAAwKUB4Ma0quw+FLSd2JPS+ygLCUjF4s1CoFlqmCKjqOens/cPQ1dhpkc7K2jMvWtCIFi7EYF23ZhzLplgs2p5AUyVI0tC3VrqLCSpQHHgBgwaAJf/8+TE/3UkOjQA7vRwKJEVGwgILFCYutEFAWQGAFqblyDGtiYwcMmZ8aZd+GuwSPNY2MQJMoJZmW7RWBw5yzCkk+Ah8LIjHkh0MGQx0CMlRkAXfAowHGyYITJw5KNC34WSQgSqFGkgBBohhcEqcChVNS9ycrxLLCAkkbqnCtEKAy2JjgIYNARlrrSSwDStZispIYiHpyrTUuBQJ/2SK4eRSktCglAoJbAOLAomAgK5lHxwCoQtqBQSAMOIYkAQxhxBjQxjQgoLL4l8UuVWrneNl5YAA4iuBCSm+yUBGQQDBgFVVUxBTUUzLjEwMFVVVVVVVVVVVVVVVVVVVVVVVVVVgACBWBCQQRgSgmmFmDqaJoP4jA4MKgVozjhNTCFBpMOsMQ1SipAUMsYDYQAVDdMAoBgwMgAjchUdAizRh5KJAJCCmIHZbIGCwGOBo6MGFjBmFPIxIYMCqDC6MVNzXUU6dHMOHjER0IRnkRrATOmA7jXW9YmutkjqPS6jLGKq6f+jBQIsgaEQuQCoYIVY0INM4HgUeM/SHQEl9KjlWkh3pXQXTYG1SCWXDwwG7DFjpyPL0KsmReIZAwMLGABBgYECEYMoU2LKqiQEgWNdzDTOQAp6By8A4x3VqMsfCBL0sln/8+TE4GzcOkF09vKcZSFa1As201wcaRuL6U9JreFahpqkhZlFn9rxVr66XqYHJEJjbO7TRJliarCSAQxgxY0BCiEoZCA3BlpJiAhIUALPmYCKomIGBhDDFN30ipNtMADJ5jOooYIAWFhkBsliBcIyCKBCQZ/I6g04MDMRIaNMAFCQrYkcDi0CCoUg1OUfnBaDNwbDt6OQ/dlOoehqGqkqlXwE5UNd5buy2WO5RQHDLTIGZwRAJ2oYp7vtLYKX0oS2FqqvUqsnPLmu24SlS+W7v67akW0aY0eBG6stlTtQRmowPAXxEFYZHwwhojjUGDOKgY2YZhhigPGD0NGY56SBmxESiEJ0xXxOjENCuMBYE4woQhDQXIIXzNoMyMNMmFzHVgHIxlp0EGQsCGVjxihyPDZgqwa26Ho+AeVgoMNJiDeTIxw7FgJCUIQAw0IMeYDhyRT3omqmaW6Eqn34Ys8r6PxD6/DHlASNIlphlpqDYjkHIVpmM/WawZ2DCjAEWlAWBhw16IPcZrgNAF8oZBAUCDwccNnCNSgNqUNZJFkBimIkDBIRJMBCWzO+qFlUtMMbMsDb0wJQyJwoDigNH1IVG9ChMZZK7FY1wvE7cib1czhsVUGdFwEzk6n5p5Rn2ij/8+TE/3VcOiwA9vSQ08LosoaGpau4uCh4Mix44ZAeyUwQsCACIMgUr5WRHswooBEgEKZuXlMgnNwvM0dNA5Fm5kAKT5lBpmioBKGLFGXMGhZAp6YUKb5SaW0AsRiTwQyC7ABciUyCpJnTQWNmCIGxNBQ6aIuYwyZEMOAx4AXbNA1FkrSzKFy5A8FUHMIHSwQlS+CJE9Lxvk+1HYqyiSU6gT3QZNuC9T50r9q6j8Ja8/zzMNkMYYDCS/zT06WlPNDMqdJ01LWHLDrdfd+X2nY1YlVtpLNU5ldOi0xtpRF28hcAuhUB6wgYwIsGrMABA5jRx0coxtkSsML7GiDK7xNAwrsG+MFrBpzBIgdEwSMCcMB3AwjBdAN0wEQDXCAQUwBcApIADgwE8BOMAfAAzAJQCoEAEZgAAAQNAIZgCgA+NALpMAPq1ggAIMi0I4AzQGAAoZwbn02dwZcAZCAo4k6xkzCjbaEQ4gAL9IdjdFNw0xhCJa2YR7mCMJlbAE3lZyS0HgG6sZQJq5GYYLFmQKvlNEGhM1DCUjhIFmJknLXNg1K0wSh5pOZbydoOJWIz8KAmGQWzEApmpER7zNInGuw4WiQWflzkXQiEtoYoCC6IJWMMkqCA0ZQ53nzpEFkux5f/8+TE/HVEOfhVX8gAGQJmQyyFpdFtk/0c06IWoYY5RdIwygcEWaTxfVUDts9pXiiruICmJLER6Y8+bpLDMOjzbOzDbX5oZCMkAKAlQkOJAgoQABogYOs1FVEkQgKmh5SlNJEdK0CjI7oS2HEgJEI+q7WtKDLVcFfQFEAITUjCLDjYBetlST6KrmqaqQWESSf9FVpLwuK3BoU430DNhU7dVBph0aVcj+ACVnOm9zvWWarJSNT1SGJhlt10dmESpeaKLrv0BRC1xe1NRryj8rWs1JwkjsXpvq6Z1KxCAuKxNFqi3y0UFTYy0zUwFDHo0DNlZDSBODA0SDKEBwECRiEDgcZRvcjB2/HoVBRxQcAhb04Nes2pPFnqXsTQwQmK3HEzkGxSXGQQAUzXZildRG2ntmszXHC0gG9x0HWM/2amUvg9GYtY1ltgMBhxOx5oWQJiir5u685uyi8Fy/kkmogNAYicYCAENAgCQBS7OJl4NGCQMsTNNoDaNJm8N0j6c1+pRG5qXPuEAO5jOxYJyyDyqdGv5omCZgGnhnGr7LnU+FnO6QnKjERueftndPKZuml69QwAxIGhoATB8CwgC1oNBpjAwszBkXDgTdj6KkjeZKj5ePzMMLAwaDO1Nc+WL9D/8+TE+niEOgwBnegAclNBR08jdh/H8g2XVHkhVbB8WDxc1HPUyDCcxmAIxjLcy/F8zUJ4w8FEyRE8ziPw0QQwzsHoz1KeH5NOZVKXecprOzLcdRio6k/EHIsNFn7datKIbfqAKtYxRAuKmIoemI4lmHIHmJ4wmMIagIOzHgYgMJiYhhOCZgiAYGA8wkBgwUBixXqS27Ylct5LYdq4R2XTNWYlVelvVLtNFHd7SZSp2JyemtT8KkWWE3KawkChhYDRhEHxh4BwCFALAQDgcMGQZMDwNMHwRMTAKMGQ7MQwXMDAwMRA0MIAGMKQBTLAQRgoG0M0RwpK1URxAKxeKiqMKG4qAYaJ92mU0F0A60DJqUmiUPcp6ERxeAQtRFJJ9wEckyCQhoJKlipapQkAkUEAQOjaga8w4CDChkSIKIgJGFga2AMCXOieiEzpmzMmsvk6jdGRJzR+uvpbSomFoQo4P44cogGIN/F2mWclFUKW9ctxWhMqgphYjBCgBK2NpvreWFLVKvT8CDStiDxapMAWHIJAEDKDsEqaFowQEMOADAIcLjSsDO5I7stfltFOW6Rl2XbcSCX5a1JnmYisZWhl6lCUIYGQfGjhjRagINEJbGICGGMA1KYkcEEWwmUCrBD/8+TE63L8OmAH2dAAtOHvprghr1ppmANIm/Rm2fGbQkxwBKxGXMAYICoODG7gmuRGKSmtOD1gxiQ0kc2pAzEAdTm9FnEdG1DgaAHVT/lR/iKjjjhTaEQdeOIeM6ZCxUv0p0DnLij0YFKYZZC/gGSm5BCzhI9LZYq7BgCDQZigBiRpgBxjw5UAMtKgEu2HD0OJMgGnQCGgJkCgpkxwKqhDkzIgOAl2QhHLAIBDHZmDwNRA0iZ5YFxcoR6RtWEMWEQBGsCBlNYZTVuLuKFuKMoTAMguXMwUNC5NIQCIYCCkhZCcw1WLZUMARiFykoZ6QMBQuBQHmTafHyBrHR75mI4fmDgAmVqEmKprGSoyCyCG76NmPKeGZByGUiRHCEjGmwFmUojkoIGKQZmLAVGEITGXJJiokZ0HGJCRqrKdEWGWoZiJYawOAKVMjKwNTGAFoQpmDBZnqia/gms0oPKzW1c7GfCxoZgRIPXA40TzMRE0Wi+5iY+NBRhQEQjpnqaaGZiAYNEOjB1s08jLZBB8YcXmGhyIYoSgkHHgYwYCWIrCXMesKgJcNgBfRLBMR3VsiQmFCYcIzBD4x1NMBKh58MnGg4AQVZ+Y2GpFs7S6MIoaPEYfFQjwCjiIzU1bgAGnCqj/8+TE8nk8OkSg7vLclrYAo3Ri7TtwU7cErWgdXjwpbJTKbNVcBqa/Y4LFOrKUhXkQDMDXyYRoYIYIhe4tWGCsoYAqZNks8Y4z6DJKAwHNGYabgwcsabogfJUGVBCZuglVFBUQCFkSqEZigMkMIMhEM8M8ezThIoiZgBPmEmZAQAIBy6VoqODRCJly6AuykqGRGjGa56cZbQmbKFkrAVQYAwQIXXEg5U1uVRmQQIUGLCg4stOrCmI811YdewcAkurcsRW8v0r5NOQvg2VQdlKwLO01IaCwDf2VjFYBexOtBxMtTdB9pc0CR1dwEqJOd4lAoQpouJaC1GirXCE0/YlnMBsC4wAgDQSGEYELMhkShgAYJcRAymC0XGYG4LoqEWYHIH5kkJkmCkDGYdYfQXGjNmtG8wcgKDDODcNMjsDe4xmNTOwoMIKs4QIDDgEGR2YQUJtAEmCxeY7FZUZ5gIRGSD4acEJkWNGD2yYWK5smQnWXoaTrZmRPGcHGZSBJkBLGAx+Y6F5nAiBx8IQ6OD8ySMRYnGHgUADIYRGIiHhgxNmyTYIgIBnCZ8XJnxPAIvCQNMbEUzwPDCIYGh2sc2IFWoAAjBGDCgVKl5gIYAAAXDhcIZ0iRAQaFS0OSnFIoZL/8+TE4Hp0OkgA9zS4DKLxaaFAwWAJHhjAVDKvGSHhcWmIFiiBAdAorF/ZdNNch2WXb8Yv0dPRy2W01z4tA0r3BLtSyhtvFUZa7LjUMuqZyiepolapp67A72x+Ou7WlkWW2mKXzIgoyGFQAoCMUFElIgLoKCxohBDiQFIzEFSyRqbwXEBz0QBTnH1bxU6Y4GNYUxTNhzAADFjEKwIEfIkDiQZgjPUvVbEclipUgZuLJ4q9YwRLsq5ZmSAlvtwZm2RWBm7dDABYELjJ6IZp7qOwUhzYAj0v9j7OoZWy2sPs7ZpAxcpcTHVLnRexnUbxXM2QwIYCgiwLLzloFN03x4MjaiKW+fl3nABwWFMrQBERSNt867PHqnVMogDVJTRoMDwaMBARMyzCMJAISDMFx1MTzMBxlAEGDHYdjM0migazG4wjKSgTXABDGsSDRpJDVtQjNkCRANJhmLhxsIC0mBBs5NisMsXNGxMICGAIBeirAQrzVcTWnTQiwOVM9eIuB1zJjnpzgxtFYKPCJSDj5iAarUgi3ZEmARMeCGUQCMQZoqYZCCrKVSGZEEXinsWdaC/LZlhownMh+k0l84EbEIiUBZ1+nINJ0BoutPsFqCxTGcALUoL8LvLOgwmmRFwhqLf/8+TEyGbMOmjW7rDWVWNRdaUPOcyuZiC5r+7sN0k1PRxt0Gkx5Y/YgCsKjivhLdu8PJroqx2GAqBMKlf9ubdKD8/5Vu2OfX5nbma1BNwXHqV92fq4jLiJOxhyWFkx6GdQSoiuK9hcJHJrz9O0/C7oLkLpYObNVq9NFq85RwBBKHFs7d00mprFjL4r4iD/LTU5Yq7KAtwJc/cCs1ZyqWHVys5byHYlm/1rGu5LysueFlsCPPFZQ/S7VAVTNXYEupMstCtWXuOtZsipk43NTVQ1FTGcQXSv0QgawyuIRdNhiKpMQU1FMy4xMDCqqqqqqqqqqqqqqqrAFoEUjDBuDOMwgqcwdAWTBZBFMIMhExLgbzA9B3MRYNoyxRPDE/DFMckmMx01ajSJHeMYMYUxvC+jHPCVN4jIwogDIkPORKMyMBgdczPiJBBFNIFwwgPjQI0MMlIAjk1IazLBPNNiwycvTKiXNDXswoTDgJ5N29M7g2DIKnMBHg6dSTDbSNisMyMkAy3mbCwbuSZhlMGBieYKLZggnGPAuYFAxjsXAVcmULqGCApcLBSNTyDJIMFRVIrRAJD1uIxYxiwoaRADTxvBmkOIihQ5EA0UDgjK0Qa8bLLEnJAwI0GsEl8YgzdBUoH/8+TE6m98OkgG9zK0SI0VAQIISHVUirBqTHC9euXafCW2pA0Sy3dpLzLFaorG11zFJpuJDLSeVijB5W5ag9HR/re+Z5WruNbV6JUsca2pa9i6lgUFVsJpI/SOGVVh4N+kBibIyKsIqdL9AyH1jQ4zyaWwloXQiLL1a1/QxAy8X7ljQErGetzZ6kwo5VftrkER1WJMAiELNq1KYyyMui5MsaQ2SwtBrcXooHlETjUZ7lSQJEHHbJFYtBduYmnUmIzBbY1V3mXotyH1F4xNSiVzLSvpVME4WVIqq5YFFYq2JfFMQU1FMy4xMDBVVSAgAJgPgYhcN8xHUkjLtHiMKEFEwDw+DD1BuMIAT8xTBgTF/FAGQwTDmDLMXAfUxnBfzEgHJMfQgkxTgKjDBCcEQKxgwg+GEOCgIQGjBDAuMAwD8KANBUBMwAgLDKBUwYRjYsLDxgYKcGTFYYfG3eptJ+JIpjBGbNanYZ52iGao9mKxxnYuZFhnHCRiaacAtmBCxgYMYyPESEYIEmGhwYRFuTAgsHCIhAjCwQFATixV9qy7mzrph6WNtat2G4pit7ASpkfmRJ1F1jEyAyEQMJEAaFgYlCwKVA1JhVEvCYQAvSMhRioMsZI1qDrNrAUinKexYt7/8+TE9HHMOjQXXtgAEpppdT7bJJWaum1FPqIKOq9cZHVAA01l7N3ZBQCrctpJhM99lMpVEaleI0terC6ly60VyI47bpS1Q4lAVZHhL3MqhKGysCaxal1UUVvDoGHABg4AvsCBJhQSjgl0whXqgRe5HNI50kJTW35adDL8vYAhZSKO5fwaCktWsPm3J62sKpsVpGcsqQS2J16YxArzS5rrwIrMuftgi+2qSh5r9LAT/MCYWx1WF0X8bC8VPOw27tppogAXARmSiVhbjD2b6zF6FSiHrsFcSFecvji0hSTqTyoyP783KtkzwiUy+gMxICIzgYw0PAAz1I4zvC0xyLAxKB42KIw4cWUwpB8xrEox1EwyrO8zXI8wOAUxbBQZC4wKAcwMA0smbQoqYWMMbRG0CAIMJwuMPw/MEgPMHgABoJGBwBpbHRzqCNOzaUyzUkqzBQRzCwDTB4MyYJCIKjBgLlsKSBQDoAzDQdjHYCDGoNDBEMzBUC2dMYTzRmXFL2kuLD7X4a6YihaDQQBwkGAwGEQGmB4Av9LaeEtURpAgFuq6TuuRFk61eJfwBDiepgqBaNRa8tYimqancVBCyheagUvnqeHpDNWLd9IsHAGEA+YIA4BgMMJAACoJhwJmCID/8+TE/3wcOhABnegA7L5x/Yk15xlnsMXysIAQJRTt9nZqjno849aUQMxlrTVizCgKSYCAtiS9C1BgMAyTBhQBBgYAKo06mhtoDABDAFFQICANMAwMFgLRmepLJdy8Xca697sTUzIZCFAGYi5TBYEZS02CTAMFwMDZhKFpg6BocB40O5hgHRg0ARh4DzDVhhIKTAkB3WXUjgjtATFn1o0AqqC+mr3UMWNQMgKWezByXScF+mcvw5VRpUAyN1XYaFFnQeidn2UvzFmtP9IH7hjbzmAYDoxA4EFhDAoBkBgcBpgOAL1BwJhQAkNAUHAjAsMBcwZAtVAvQJAYMgOHAHVoBiKwYEnGPE5iY22giezhgoyVGMcg0TgsPnvFRtqIZSZG2rBl58ZqFmRCUZ7axo5omQBSZORZloumBxgJCkSMxukYi8tNtjA3GADCQ2NwooaQRhwlGBkiYeVxm4mmRA8YJFwKSpggPsUEIAMxAcxOFiyizRIPlZsByMMjhseCAjDi7BIBAUCl9goCVsFyyYFIqt3SUZaFAWYQEgVBgEAQhBA0BYPYgpYkeXcZsIAwgY0tQxhgYCE+jCgGMMgtlQKAZCDzG4vMxAEyYLgUOEgwaCHZSpLaqGpJQQIQoLBww4H/8+TE4XzEOkABm+AAZSsSB7XlrQ9FgU+DNJ/M8FQ00VjHwuMzlUOHbYlft+yt+3JXhki8xFP5lqOpg4Cz060OP0yV62m7igAX0MgBCUhmnsHAMwGETAwYVIXLMcgkzATB4ABYKBQIGAwGFgQPAFJtI4w+GFug4EjoXJAMRAEvqIgJLy7S6WyMujDXUwU/XRZoo6wVBIIwKvGHE+VMDAonAw7BgGEiYYPA5lwZBYQDABMLCILg8FB8wODQcKwwDooGAAQjwmCIwAo6zp92goAUqAUC1Ko63FfqRKRStida02ww6zJyH9oXen4ckcbYu38ENOZBSP1poajzLJ+7GVwBgALKM4FQULAkWCap6eJQRAD+F/FF3zRUJAEtFkcLmrd5rtJQEm7ekwmnY7bgoW2FL5KEQksGMJMrUecGLoKoIiJE0iBHODjRIYMBMEOMGADihfQIO0LSxGHBJpqBfgAkQMrW0nYAg63oEFSBgQYiFsGJlIAHsbLfgZMIyBWKfEAkAENMKER6bC3YEtl8GgQgIoRJ34NsEOCBBBxFAeNriM8NMeIGpwMDGLSEUBawhJkA0yw8w5I1oo7M8UFmfcmpJGeWhZsMpDKB0RjKEQuVW6Z5KLKDDFjegTRNBCXBEsX/8+TEwX90OnJfmdAAiavG4L6wGGZEJOSaLLA6AaoKWVVIr0w70YRmXNEz1DB8wNWbEmCvtfSaDbMmRyKgECEjbHzks4EIjydoYEWGQ4jxFiCfAcjETcRsgWCMgNHjxMGMQEBwcyIQcCB141w4uiXdFPypTJYHzFNxpHplj5BLBTtCkybcSLHBDgZyyMSPMXJSQGemCoClcHMjOJUlAQnNkLAJg0I4waQHSCYeYdQiuX3N0FJiJmlJlhZUNojILmeAGmem0CCQYZTBiZPUFDi5g0FMWPHSYICCBE7Ja4BDy/SLqv2flBoYJA5QCQIOIJKkIsgBFyV2gpOIgY6hMAPGRBhwCAEAASUUIwi9k9RZgYM6h4Yw6FiMCmKPkIA0itm5FDIhwWQDQAEBwIZBxAhCCMkXLGmcPDh4vmFwBpTpqxAOFLeBpIv2Vh0DQYgEkomEBdyWlBQRfphcJvuhgAAAFsUZobcGBrACGoeA5LGBQQg4qiIusNZojkh40pkxhchGTRgYaAoMBZaYaDS6gaCJMs5iNMYnABi4rkAbMYCcwUFjBIKbcaBMApuv3GIFVNRlowANTKAZIQkFgWYWGTQ2AFUCJ9oyiIAO3LW4wlNW6YyBhhYDGD0SZpYxkAbGt4z/8+TElnTEOiVhmuAAFQiOKMgswMBQ4SGIwUvkLipVZVJSpx3EMEghZIKbI4WTKAUV6HAswuADAAdMOBcxuKjFopBShMCgoHGIYCYoAELXSipg4FgIMolLFh1/4IU/MqoGCAYxgoD5gcKgkKGEAOYPLBgEumLACZBNxVB6wSz55VMcAamrLmnI8pwStBWIPS8VVrsxanH0h53oIMMAwQicwgETFQbMYAsCAkwoRTIAXEQbMJCEwISjAQNCAUYaBrIwSKDBwNLoAwGkQRl6XqpUbUxnRcaWsEklmAHSgiUTcrlFmG3uZ8281QUdWcMQgwwQGSIKgoLAEBJ2AkII4mCRAHBYHBYWACylUU7wAJ25ggGIJjAQBUJC4XrPrWlsiR6garXZkwF3H/dNdKerUVVgEFvo3j7nGYBlFqR09LVobWVLO24MmXZzmaECCAQFqS/b7gAMY4MQsEi0JphAxyZ5qcZ1/hb8WPm0hGgdFIk5t0xcFL/CwQZiinEh4wBHfGRhr6Z6cr+MSGF0mRChpZaBwcKEpUHCKSOlXStQKJeDn8HhtABXLAWYyDB2kYWqmLqhi4EaYbGMD5mSKAS0xkDbA8iDi00T2wGYiggAC/K+gSAAQIMBBERAYQjIaBQlZoD/8+TElnaMNjVhmtgAQMFA5CCmJlpnpCaqwlgHMAOjJSYUWDAhQxvAEiktOZOCmQhAJAzJjQhNDTxY2dHFho21rNZK1FDIRNAfLkewDpGZMRzMGcK/AVJDE8xsXUeVVLrmaM515UYKJmTGIkbmRDYCCxAEJFtvArS2dy1t7z+ppphphjAYmuvNwVtP+6C1QwUEiQRBDbBA6FgUIDC3jkDweLC6cAONwqFCQ2ZMQWnYgOVWKe3WkM87jzxqMTdcxUJgQMJAYBBw5fRQaskKoQBg8tIhY6wsAqmMOEAqBGTAhgAMmcDQsqgkdDnQgBDGAAEgbKnwMYCmbYVZuX9jcLx/5e7bbtLa/MPvGnYgak/OTN8zppj/tOcdTqFo5J6JiAkRBw8jg1BmxbdGpPVY0sdtE+eSvFQtWp2BEBJnJ8vCAgMCCZhYKMA5WAGFjIQeteLpqnFMObjxvQ8J8M0KjQCwdKzLDgrTjdpQzQYMIZjKBpIlYwcXAoiLVl7SYcC4ALAxhIEXTfQmAgKBA4OgeSjRRGZEuZpKYYmUBEhl3hwBIZbyNi02ApIphKwsBL+rtZq05JEQg0DjAiAEEMoKHgCbbPGqSqnhFuDpZDTvXpS4MUcZoTjAgC0iI040DMoUEQD/8+TEjmVMOkgB29AAbVFRB5O5pS5lfOZGUPGDjgOwDkpr2CSRVECzsKnjDrTfRzHFgqjIoAFHpxo5hwQxYRRt9m7OXGX+49rd3ghyF2ZS4DbMilTNFV2VLNgNHpkK609FTAIMh64rdxgWRCGRKnrqqRouOW9U2kDKi4yE0mIMMaVHBoAWvcQKBTJkhkCwVWdaiIKcg6ES/d9lA4BtjwNdoKBGIDqYu+IQjtlUSxFFdgrX4g11fbpZQCqo0JQVcLK2cP26FDhI49WbkmctRb8YeJurhPC1h+5tvYEcB53Ia/CIrbfJOWAy0qcjxZNwWDS9VMuZBM0hhMWm7bhQLJ0AzhKUr5aO8jIXaiteIwLFXeVNE4xVTEFNRTMuMTAwVVVVVVVVVVVVVVVVVVVVVVVVVVVVVVVVVQCVGNNgSGJwuYjD51+xm5DuZqKRkNKmDDCZ9Apr5VmzV+Z1ThiMFGaguYVAxhEWAIGsVMEgxvhkENVSrMBgJBhKdHwQAYcCRAEaIyoClgY4Z7DIxYJRdc0FKopVLKW287MJa+DD44/LzUDKX8MQAOOEBIalmTKsHhKYicy0ZevJwb8SsQbyVwEzssuigZRgMhQBgAEwRGDXpudl0qm5bi+0kcd6FHC1ZCf/8+TEqV8kOlmXXMgAoagY1GoHDjIKuFNnGgZdzOX9kmTv3H/fu7LWotPaxEGJNOWgw9zm4q/gp+OM+fRo7Qmzv7F4nPyWON/Wjrzy661+FxGGKGV1nIaare2jdFUIREW5Po8tmCWmSlLaHmKtaWM3jAnmRGvMttRpdsAtId183prVJl0IClKDqlMbL3JHt3dJ9odsT1DGccqWal8tt34/nTy6NPQzqZjb6Ur600Zb9l0+uZfiZSdUOQOyBqCDqDy9whRfy11KliIboTlY3VZSr5rTtrlpIZpIeoXxk8TiUvWAGbzGm7YcGd02GloQGbcIGZgZmORNGc4AGYQpGDYGJKCoXmMAXjoIGAQAkoAGBgBw8JCBMFmDApgYGhyIgQOHjCg9SsEh5VDlNFM2lGBEgBCCzwVAzAgseGkjVwq7ZRIWJqBN9CH9L8kQ8NASSq0kfTBjkGALLYHjMCmPCphYqoW1xttmBiZgQkm76jqZcpIRUBAxioqv5LQEBi/gAdCESMaBTLRgkIzFyYACpookakgGbI5iR0aIYGejgGAAaJiMGAoW3BOVQd9V+mFGJshccMamMjBioKIQ0ZHAqFo6GghxgqCe0YmtGAXGzKgkWQx0NDBZOyHZYkmnYn0YMDD/8+TE/3xMOlAJndgCUGh5UBwmYSDJrjIygIMSFQQQAoDMrBDGwcqppny6aIbGaj4WJFOmdhg0SCxipmYgRjJOOnAc6nDlYJPzSXsdAi64YAQklA1Zi67IB0ZBQ8l2JFQVBHsjKORl4qCi0wAtMjJSYXIA9CWBDADNBVBzCxYykoMfBQgAYm8Ztz8cEPAcYNHhzXyAwUYMpIxAImPqYsfsLMKFh0SMRGTDhJI+ni8XzlUQtVI41yBY3FmIqOssflprrWYjafBRtkTrqVQ6pNuHqPtZXY+78MYdWiZxK8WgNCLkFy0OjqYu2weD2VsFXahKLsoUoy3WWF7Uol5MdW4qTEFNRTMuMTAwqqqqqqqqqqqqqqqqqqqqqqqqqqqqqqqqYUW3OQ1MwDb1pzEoPfFqbEonH4KiOEBW4dfhwIi5qstrF83ojjSGdymBGZzqt8PJhvEre16edG3BdNlAspkc9VqwEjfDS5UlIwjTA7I2sTUAzTTGfOa/bcXXUPLrJvqEGRYjoI070RrjIHjggjD9TMthySa0+AhwWKDQkZFQAJLzjBznmjajwVpAYADAjRjALDFDRnygwBFkgUIAAZDY0hBSMxQgaCDIJIEtsyNaMjBQdRRTMQgEyB0OwJQpE9T/8+TEv2S8OmgB2tAAtd+NhBUOFMZIBoIJAoYVR7KAowhQyfBQUvoUQkJphBYqmMyAFr4OUGRZB6wElxGtNOOLBEQwjKISIkEFhhaY1ANMDBizUEjAp0HwMUM6hMwITHeEzYsSFJuoHAoIghMENQJjg5sBhQQKJsQAQNtAUkTyLNgIECA4ODtLZGxqq7TAX/bA7cdmobYfL4Zh90GMvNNzMmfNulqMu1S0rNKaXzuE+9TUYeppXRL8eyff2TxNsEVlrvsrhl24u8EXrM7hiSs4dzTcJBu5O4xt43KpInDMWluyviD2VPczaEPy6zE1Ki8iaxfBFVK9MFylVHRSSkDNUrl4oXp0qsZ6EMNQUU2DiWnnEQFiFFgcFcrhjx0xGLLgaQpUyFNSPxpdkJQwRvi78KCYgOIWACAmCh1mvYwET3EHAMUBULAIGYcYDR0a7LnEjR1FwDfs7NQMpJTCqgYEzfFM09WMtEjRAsmihCPhjiISQw8TEBWaWZGZBQGCzJDQevgIRBUrNSGTLRMHIgOWjKh8zwfMRIgCFGUiJjgCYqBl/R0EXKY8CgwBY+DhEAgxeqCQoDvSmimRAEIcMBBpgIon0oEhWUBAyGGPiRghmZKAGblwFAAsPCMiAwwYAGj/8+TE/3a0OlgAxvWQjKTQgA1gpBIubFKgYuM6RDM0Q2kyNJHgCEmPEAoVmtJZlCyYIXEouYcAjCaaQiA4yNKCDfSkUXzo1CBAYcwnkZYSRij3JgOOWCAg8xBYxxsLBQo4FApizYVPEwljIwMMI1aKYk6BngiFAbAYAUn0xIwogRDIEAQoFK3XfpBIJDUbHSfiTylPVSotcyFZS1WlsNZ4SBhIOlst1VjGEgE5IOZAwt+qzXy+6FS/HYlFuUvoMilwo5wwoOW4U+tJS8uGAQbBGkM0fap2UOgwRBuWw0KAC3DdgcXThTdTzUxBTUUzLjEwMFVVVVVVVVVVVVVVVVVVVVVVJAdsuWBDDeIQ+NKo3mC7pgOGyaYjBrABCpZYMdQBJViQyX6tBd12nZgRg6iSsT9IKqalmkRVEEm0PGbLQf0MOZAt5cSqFao/DPn3ib/PiKAgoIIBME4sybIotZAJsyiQ5JE1Qkwo4zA0VOBUiBghcYhKDBEBEjHIDzPzY0j6/DnnAw+bi2dhSpAwooRBGqQh7HBk42RhgcOBWKt4HGoZKSABJoNhELXlktjjhCIBjlBm4ryV2kjDCgzd1ysslz0yZ/WflmWgppJXLCtNQyZe8y5cZmON1Lwo2osuYlX/8+TE3WwUOllAzrNkGGE84MLHifdoGhKWipQCTORURCGuMsGZSYKVhsvqkwAhlNlgkfkkwciIARwQz0hZoyITsnAVLWoEWwYJQ8kjyECmLERXIQmCIQmG2hKjJgN8RSauDkzC6xjFpTGqcnKNGgIZYiI4JGTERyRyWGaQIRx5FnTGZGlqlomsBSAUkMErIRMoFLKN40NAaIGFuaVDRKpOmspBkI6iTSKco9iQ4OFir0MrQ+QSuGWWS9dNlo0I79GCC19BABb1Qifct7UGhZEBHo4JEKvh95UJRc1LgQGiERUwxXOo4T6rs3pTNopTnk8yNwNpIjD0A27bPyuzUDQ2E4JicLkhnqAaCPGEG5ErAwAyZRK9igOBOCwoKhDFD2cFUSZxCEGDIjE9xEKNW2ARAz5IlGhxAxYAwRMIKgkQZEkAhJVCGTAO2uQyKAxI81g8xaoEND01jEjwAIBQoy6oxY01SMOKrCmBEBZacJ+ageYOMe2UYheZF8YGgaOOeZSW+MstM8JYKiaBAJZ4xSgU0CARGoaoyXThM+MIdJRNdegFARnHhWPLleZzUTlll6WVQe7BbJaCZy7RACCiWxM/UFaAiq/LSVSyYLgIHP6/rOoGcGUS9GYwwkhjHSRJZ+r/8+TE/3dUOhwA3rK8wrScdoIVACAmtJCqHLrUMAQzS3kXU4XrRgRHUxhVaW2LUp0rDNeQTIpOEg8ssFCjoSVBlmA46GoagIvchssEDAQMSosYJgc8alZrBHi4ZXoKnNhMzjUIAgYtqYrQlEFBQCMLDIFjxJjnF3wMa9ij4BCcNHYBFP8YJQVNOqcxCjUPUEMEJYcgIOOIDTI7m1CISTSHMAUKBG6kMKkTg8MbGIGDDiX2R6WHEBh56C1ZoMhhQMROB8tYWuL3FtzaRMHI3g4Ai5Z0wBQIAefQROgqY7BEsy1cqEllhjsArYzF1TTCjMVXY51PTURpNKEI02GQKeQgPmeh+YUO5vYmmHimGQUwogQYRBoBGIBSYTDZi0sGQQeYxIwBRBhMYhinMKhEEiYwABwBeiQ7gOFWeYIJiQm8CEnAVYw0TXcMZAv6RNCwhnnAgkLAgwUygwFScPgC2GeC3xglCRgCPGT0pDFABAIJKBppnKgIdYpIwCQhEmkArKSoDBIoUHTGQEgaOHETRfwcIMUQHLrLC4qsTkA8oODQyQaRuTjGQkQSzi6UiC1Kta/AEwjAYApfNNFQ1szUVaw4owRliFzXEbVDuw5NZNAuCXiAJb9Jks7DCgsAn5ByUIj/8+TE9HJsOdQBXMgAzS7IIBTBTDWYuxSpBZXcMLfAxI1IrWX2BQ5IArMNVuIwpkbA1O1cP+oyVAG4iMgKCjIpEW/xZJPNWhmScJVICo8oX+0AOUYwrGqmtgYMGkxoNYJEZTBKoGnA4UzRE00FlWq9MkhxDCJMIUx1EBwChGlHdLAaQTOGvJUhUYwwWQszQiUrBAbBlbJCuoDRBxaG6+i9osO0xj6KhcmFpetATKdpeCF7vIaKKjgCwSUyYzR3OfgFAqrAYZYR/SoEhiuQttSobShiCYJbVKdn7kpJBQlgqo9QcgQwggIh3UWGJj0dkrxsI8CwCBwGS5RuNpoU3MyIg/bcUMjDiBNgllLVFJz2vQEvcxAhHjFoHeMhISpuzjuJCwcBHByz17mw6lGZeYy4sJcZF4rbv0U5EG3hLK1L3iVYUCFmCgCEYt4n5ini/mL2GnUizWI/HZaogkm+bUpmBTHmFiMQ4M4wngSjClBpMDUB0IAfeVocJttZa/IsLd6KwLPRswBQFTAdAxMD8BswIgGDAUAEnDBsByqwxUn7sibSYaxc4792Mv4+ub7mEAEkYQwHBhKhFmESD2YMYFZg2ArGCIBgYEQAwsA1KZHK5PGsIZr0s3IKWdlUbtxDCAL/8+TE/Xa8OhCxnPAAJySAZ+2YBABgQAYYEYD5gQgUmBWAiYHwCAXAFDAB1jpGGAgAIYMINcT5RSq9udzrRWS/Pz1fOTxlqMol8ToJynf6v79y7mRhChNmE2CeYeAXxhIA7GC8BEYJ4F4GAnnjAQAMMAQAJGgwJAAhCAKTABmA8BcYFQCFJu9blluVVvrT07yP09eMS2fidaxVnc5VYm52Z5hOWuX/nsMaa7d01ZvU0wUAWYIgFxgMAJAoBgwFQDzAXAlMCsA8wYASDA8A2AwIBgBgKmAyAenmuYwAABgMAwYHIFpgWgVmA+ALgAgAhgJhlmM+YiYRgB5p+EZGBCUYZUgPpjyhTmFwEQZYiGxjpjImUOW6YmwThhJALGA0AwYNwEwOCtMEMFsMBEEgkYdYBg81AQYqxjhQGAKPBpnJhejHmzcadeRmEBmAxEFhKY4O6MKwIwAobMCAsZC5h8MGDhCYYG5kQTGHwsAgwZXE5hsPGM0U0QwILzCxBMvr0wIHjG4JR0C4ECwXJQOoCUJdcinAcDSQCggCmmwkCACHC8eD4gBqcYkQzAoDIhMhoNA55SYYAoRAgKLXLwAIDjwaQHmBQQYcDJWHxYrmGgQFQ2YGELBDCgXAIKBQKBIGXKz/8+TE9XUUOkArnuAANe26YBAaMMSncNX7OLXiIQMFdvLO/ys3GUz6wq9cFMgaAFMWgl3gsC6avarzGsetilT8Pnr7ncKvIvG6d02cmEAGhSwNh23dZykay5h4wB7SfYYAgaAwYBYKgRtoFgViDyQ7AYoBAwKKZvqgjTqmnjfC+6CzFY2SmFQ6jKDgIYvCJhsEmABk+xggCBcClrXKYGXpfhkCulylxUcYw0kEANfQJAgGBS81my+5DLxNT+VQK4kha9EaWNUkvlE5DE1JZ/7d61CX3ZdOtxdGFPdDEYmWRt+lakonC9sde+mpptUwGgSjClDqMSkFM3SyujGQAXFAMTEABWNO8ioxJxFjCQDdMR0J8wngMxQC0wPQuTAgAcKACiwAiYCoAxCAPSjoFavWblwzARAEXlTlxQSDF8kdFXKqqapUxhOXJrpemA05CzxCAkQi+ZfwBIRipUDS02ahNQxTnngXvzS5gx6OB30YcKGUKhhTCY8MGFnxtBsQFJgwGZaMhwgEFxiZOZKRDIiIBVCgGjDQxQZMPLAAgmTJ5kZybs5AahAo4HbJyZCZ6LkweWvRRXsJDxMOjQYKAI8IA0UTfLdGAArJkrAwjCgPJYega/MRX9ztHux+Oef4XKv/8+TE83REOjAB3tgAnk+lqplV7ldjFTUW3SUmUrksmZEwhXjbAQAagjoWQCgUocpcpBzzBg0FE6gIEGCERTNLINhToexmUNsMKgKBRcBCgOB0LAcPDgWACAhLzJhsvoZKAGhIZa0SDzASoMhzAhExk4MCBAKTGaBZmYgGGgjFDAxMBJAKFAEmBQHMPETERIsA5MJK+U1GgBuA6BmAgocLrB3aK42wWAiEIi6S68mXJhtDlFNFaeH5qQIJ4iwxaCgqYKLyONKFwBj8rexbqwb1NfTkXKlTDDstfhqch2w1+Ba9mSxyWWLsQfSYMAAEkdByMRwUk46AYDF2BXMEISkyRzyDF/COMCAKkxYAJDAZB9AQPJgLAtgoKoYATCwF6RCSJfshAAg+HUWFFmSTosACm4XwQqmWUw2qJWOKLFdF/WYoOopwy5I8EMVa4YIFF7zBAsywjMaZzfBsAyxngwYIhiAjMQDzF1QwEQM+bQsSDyEARwBPxhSQACYzsDEIYYIFGYgoYFhyIaCOmCDBjoQDioxE7NpJzGYICh5vg+ZZ6mPoBgJKIxsWVxEFmBAZdmItzLn2G5FthYDWQMgRQMSMYBxIJXsuRyXWl7WoFfSWT8Tj8uv97nhNcp6e9F3/lfz/8+TE9XQMOiwA9vM8YdxxGuNpQtlYAzacmVPv6ouovIkDDDQADFRiAwOFgMByEjMRSyQUMGFBQLMyMBphMIDRpcFiUSDw4uZSlOz5hrTmlF7IWXEnk0gIUho7KmA8UWYMxoOxJTgusbLYs4PVjMR8lAC8qPmO4VazMNHgTbDFwDGQAJ4sqOig4owUzDUBypAAWI0rAEkRPjxI0GkUZSpQ0sEZYodetFPZ3mgo8QC3ZE95GtP/Bqe8PsSTpkZe1fbnRJl0NLuYnVWALMw6pZOswWM5r3TD7uhGJluCYywzKFPtpEL85DDnKjCcPDHQszl8ZjaoHpML8FsyI07zJyFHMPoSwxygxTQCI6epMCqDiT418XMeAjAwVBEJAqX40HoIVKUEBQLsGWKrgv2oYn2w5w1XsCRlUdYIlQ/zXkVS7rmJFwstwpwqAFFiph08MwEQKVG2rRkZ+ZALmQBYOFSYSMfDEIG5mVnAOHzTBQwk/Cg0ZsbHEhAERloGfiQshmdFBnYoDC4xg9MYNTWioydbN+LjpRQ5BWM5XTZyYiRBUZmAaIpirVQ4BUATzeECAK9kP0z0DioAAY9ep/kmV6JoQwmm47cWTw248GS+njcfiD8PrbhtuqzmTv8sSUqC0av/8+TE93YcOigA77YEC3goBrtWOYMCN2CgMBAFuphQMWbTZCAYwgNMSBAUImAn5kR0XEMCBjBQsAiJlhqaMUmBk5QMGACaACOLANZgNsTSn3UDEgAmDFis7TBZOi4BicGljwA4vMEDVFS0BkIwYqGBURWojiBAMxIfISYwMfDi0BExMVGNEIUHTDQIx8UMNCFljwQGA4KKTCgdtFMkJLnkAA/bImtKHJDKcsgkivwECKnch53TlDxOKoQ6Cu3kQUl6eKdbN2OJhJhKTTmclv1OYeS2VSZNaau2ZufXWn6d3X5mYjOzL6zbeOLTRC7D9RGB4GMYmA9houRLmQcHKZTg45orgXlANBjGilGISDUYLgeZhVAimCqEGYQgJ4CAlMCQCUaAJcswIgEwMAGIgAUOClaAFrCElYrzM5omboMMbL4ItJ7u8u95WdpVAkMhKCgUZCKXCACIwRlVxgwpiWBlwSJY4NMoTMQBBIZCsCBRoSABJkhLJhEHMeMApY0YgtUY08EGwueNvCMaNMOBBQV1C6isZkyRjThoVxp1wQVTHCELOUKC9YCAiyEGjhkYChzMVuAkMRC1NU9ASGdwxpZX6gCYwcKR7GioFCOSBRQOBg4qlqmUzNaKHBH1mTBi9qf/8+TE8XN8OiAhXtACACgTU2IptIagkAnUoMqsn1DN1eDKFdpqN+n4imkwYUI19D8yRsSKl4zNJTTHQgCZZOYoIAiJAIBTMeMLjAgUeCqNF8nQYGJAVLkXwABVoQDGAGkIUyxMEBB4eYo2ZAOqoSgTECRgWBgBiQiD40JRSVqAAFkjTQuGAwIRgR4YY8Qs5DFlhfVHBj6tr8PQtaAW6Rh3nHeSepl2ryX2uqXQe/NC02JltV4NQUyZdD03EW5Ou2sS7cdKD2sw7M1puBVjNZUeUGdd1FjTDXoJgR/qWM44w9KIXZd1c0FwI6xMQU1FMy4xMDCqqqqqqqqqqqqqqqqqqqqqqqqqqgAICEEIEEDDkaCMylIYyEyBjCiCzMJQg0xuhRzFtAgIgXA4PEDAAGBsAmGAoGCcAqYGwBNlOEwFwHDB0AyWlDUNmDwOYWBhagxMATNYsNHCh2mEtzlsLa6VgEOBY9ZDV5jNHJQx2cFvXWxs/S6JgIPAtWtTw0CyA8mARsZJNxl4mmPwwpc6IhAi/VDXRSCWFLtkwHVnAwTM1n4z4Yw6DGkSIPQkwyFlMYrE3XfVPR0YCS9MAgEmJBWFzCgGMfAo2S2jjDbPpwk8HDzo2cNJyk2YvXjo4fbgwmD/8+TE2WsUOiGRnuAAaM2JOX7AQUMTABGMwYBAcKH7XY0wRowzKsTCLvFHUY4N5uAbgJjAIyBBIlW5uOQNVpHXgNlNdYGcpH4ktqXyunr0l+oskBBMBBtyEf1DgwEiQLJhmCgRF05oqyqrIJytPynCCoBytX4VnT2KSnwvS+gs4UNmfyyqlpTCYDYGXsZW2rLGTorxt97KJjd2rfKqa5Lre+TVqm5llqryfvc13XOTWMgt6kFakkFuYypaen52bpcHbdtdjK4NgFMNgaNie5aFm11kaKaXheZFEaAaLZdxDOpsK8ActAmATPnVHaoAVqHtZhWFkAggIkDwm04cdCUvIutaRoESWhr5TWSsSaWYr1yC3DXVMGZKAJgN2LcGEgYQAgwkAEkwaDzCwATIayFAQUARgJIDAcCYCWwgyYXHZlknhBXIB6alaZps2mQySZyJQEEJiEWmIRSYBCRhwJJboekICMaiQxUKjSyINPGwEHoxkzjlEaOIMo0YEzDRiNEFwysHghGmAwyLCMwIJEUQaLDBYtAITMGhMUEgqEzKZdMWh0oBxgoSGTQkYsEBphgAZ2CMYGAB+ZDHpo1AmUQqZAIhgACGQAYUF8xYDDBQYIhSWSDCIrkaBZhAJAQCCwn/8+TE/3u0OkAB2OAADBYTDAmKgoBByVAkJmHQiYVEZhEJhAzMHCQxIIDDACGQGYZCphEJmPSuY/DphsUgIVquMKBAwgQDGwcMZEwykLjBQGYoOgUwiIQERzCwsMhEwx8IkTRIBpoAgBBwEhgtmy+Jsrf5+QuAS0bJ1hGgRZrJZsEgEBA9FdkRetGcwOBQEAy+cDImOLDTcjAACL4JiKkYhAjwMQhVJQzzOI6w9Y89bgNnblyKKPuy+PNfh+Ych3HIlt+WWKfGvGGGRWG6zcAQAC3kglHWkImISGLtgZLF3lf9u7N5Q4bA3vibQ4i19h8xDz1svh+cX2XbZeyuTEFNRTMuMTAwqqqqqqqqqqqqqqqqqqqqqqqqqqqqqojARiAxhgQJQgZuZRkbI4MhztPhqQLHoGSOS8Qn1oAVCzF7HXdiia01pf0BX2kOtVd1jkAqqv9OMSbkluYAEj8nkKkRgG4K6ACGRNWlMpatXMmEMWYMwdAqgYfAG85JtHAayWo+AAvAxIudi5WAgoEEhMSJASDmIhRh5ELExkawaTIH01BlZEYuMmgGqJYqYb7xspIRlql8DRSIowCXpC5hlgAUY0tzaPEpTbwgUvi7poqCJkzATIJVK1glUO9ovsaMR2v/8+TExGXsOlQA1vNkgccsM5RcJA12y1IKJVaCRE9xCAseAHWXMqUtqFSACRD61l8skMEweeUeFQACUbYhhRnOov1AiAnVMgKYDTw4gt8BBDhIWyYw5UABwybplDtdRSLjNjQAtMYS1xWtSplMEMLLsuS11kSDy0kuU6l1ISkfmZFmnCAID0VXd4wFcqxYq8LjP1UjTgrthNDATuz9JWsO7DsxPTc1NTMORqWy5utfGMslhe6RmSzpU/zMcqsGQuHnelK7XYdaQ8ZEoMu54FrOzRPK0liLIrc1f+s5Xv0zqX0cAeMA4GExJQETBGAzMLorsyxxfjFfK+MPc4UykTjzBJS/MfkbkxsQWzC/BTMGMAQGAvmBSB+PAQmBeAOZYGGQAQXATFQwvQMgJggYleYuHJyFgKTGAAMAAFkQAEDGw1B9EIMVBYNAwyyMyUuIhECgRtB8aeHhEab3Lm9oZiaOZCnlwjKykiMzCykxMmM7GzFxE1NQMdwzgH8BDoy8mJDprQMYYBO8DlwHCIYUGGAhEnmCCqNANTQcTGYkgwmmCDhM7GFiZCQQrNdBBAgCUoBjDSjGAGgwSOIAwsmApAys0hTeiGBQEmbcQG+XW47YgcskqxxDJy1ZkRnhlMqiy+X/8+TE/3aEOiwA9vK8MJy0HXZcpuQsNKGXKrKTTlZzFwoC2gCSVrh1fDlJGmAC6Bb6TwQhJWwXeRyTGMcYiKZqGZCIRSpMRANRphLmgJroiHM4tL1xG+eNMlL9TcEBAIQyhkUAwwCCMheRxkuVayspMAGABY4USNApMwxQ1PpXgpcBRAI8MHayw8qgrWW+kmnfAaZ6C7lymA1fOfAzvKqu2mOtR5G8bhNKdMSdB+KCRJLFwoPaa3Av86TJ1XIpKLvPfZtRP2wxkRZyiTQQAFwC+CyC76V741UXk64vVXdIItSYORIGkXm8TIGDARBgLGjRrmMpamCMShFvGdiTGfFiGl0tm6Vxn4FWHbEHGCZVGHBxmTohmJYCmMwyAgBjAYHDA8BYcKoBsTJQpXYGDiQkMPBQMKGPBhiQGVR0xEJIhQyQWHjVwlImEgYQPg0qFDwLhBspuAuI0J/DuI5VYNzBzfxU1GGNmdACCnWmIK+TKG02E7FSIz4gKoG19I8qAZgYmY2BA0UMcIkazJy0zkCMMJDHjAgLjFFIeWDMzky8VGBgyAeEACY+Ig4sMFFTDwkqjhlRIZEIAkxMlGSYCMZDWJrQUNCoAl8W4RjTrizHoAhi1LsLN293VTW6Pb7t/B//8+TE93KcOjQC7vDeBE5DkPpvsXLdoTQSEaMYkKgbmztqqV7+vrXjNercmp7dNDE9DUCJ+qVtNZOrp76dYA0AR5NLwVdAsxvQJoiAojK2Vl2izQEKYqmAYPCZmiJIkUBNBAUdm9fsBHV4YkBYoCWBRGcrWRNhiqZfrjORh/IimBFJbMyR7LjsPTEBwE8EECgiPYY8RiChFPTKw6xIk9TWmbI3LBN2cJzJDGKSaty6RxKq1x+Ibiz+xiJQ8oKh1UPWBWwXgChS1bBXuepWFDUuC0VpsCpftBYfJ4Ejlyem5OpMQU1FMy4xMDCqqqqqBAAkCCMBAwPAJjD9J0MVAAkwwBYzDaEsMEQEYxZx4TAsB4MM4TM0diFDHDEUMckAMw6gOxgH80U8BgaNQYk7Ew0YCPjQqOiIGDgwDAxUYEClkCQXKBBA0FC0lMFEwwgKoAYgCkIsvNQMxoNJBcwUAACYHSxi4SZzCGkhRrseLRhlgWceSGZEQJXzP20wdHNASDWVE3srHT0MIyEQMxNzEhMxMYFlwGEJgglNAc5P4yBQwsKmBY8CNCbiEoxtkdzMIK5QhEwTU8QP2R/C1oJRCJi9hQKr8zih4gajXQIFYSXDAyL1oVRto7NXkdCG2NR2khr/8+TE8nF8Ojy89vKctRiXyqvDU88zIYOUwDggqgoMnoVmuwi7Twwn2oAw51Mcb9TtSG5XFmcStzm0TfSKcYvQp4KhITlIm0CAiBC8VAgVeCj2xpMq1O6hJepY12JS2df9/ePUzx6HuedYFWhliSSG6nhoItiBS16gpM0wACCu84hRJcgPMpVD5OkSbHUCwes8DPhAoVXMkImBM8FKEGBs6X6W5Y+iZKUTnEX42WA45YrduQ9nZsSuNUUTnd1KeAZliLzMqR/SuUNdNxVaZWW2hKibuOi5T8tQjkki8XfWq7GABF0jBbC1MalhMwmQRzB8DiMpYU0wOwHTBZL3MHcRAxWhNDFsJPCDETBJDbMH4HEOB9MJOzDhcxQyUMMFEgKQgIcMFAh4MSpCwkoKYGJAogU8EDxbwLhxhI2QAwKEhoyHAMICjCwwGi5jwMQARgBeMhg6lmEqRkooEB55peRdJgD8XCBiaeAEGAJBtuOYiOGaLRwCoaKDmGoIhFjEl0DKabQ0wGXghnToeANXEGqcHABCYYGoAIm4cMBQ40FMy49ZB13ZKfMoUZcaAudVQYMSEEEHwEAERFkaEsaGp0okqDoaWGhQ/JInFY03GmvTT908SjrW7FSNQiOu1PN4/KL/8+TE/3WkOjgw9vScG7aeSo2YRG/AzUIdgNllVhTewhvmRoZkyBzjDgx0KIxRZw3BRC0KrzaFAoViiGBsm5hRRhUJzmZhygFEK+JiI4JYOiSoLDDrIeRqDZK2yV+LYGgNaUVAINwlyPa+oqBBIUFAyoAQRGFOjQ8WEESAEggctLLjocx54xolWwQlBIYoKuEzZ8waIIQCxEOZhgIEAEtk7UPS/C4i8ymKYz3I4sQR/fqhnL9I7sLfeZdyD2x26kNyl9IbgKWM2ftLhUqulb2Ht0oXXddtZCjmqBY9IvKBIAvxOfplEAC5gChlGiMygYTIGBgGE/GG0E+YEQcBjrGSGMuDeYk4hhmRgnGCEAwYGYP4OBNMA0CgAEIaFxhYcFAALiCw0UDEgwPC4tKjWHBlnbrsZZ2oCSAIZBBb90i8THQQAC4qOAiBJhQDCgREIBbULi8KCg0aEDAoAMwoUyATDMhTMXicIJBmwAmvRaZvOBieBmYUOYIJpoMPlsTEwtUNEAVMCiRB8GqDFAhESASkv8FgRbgww4sKwCZNKjN/gKIxnk5tyA0MOaLVcGBgUFICagzaILBjYxYdGctqtxMRnDOXwdTGpWpLcNZ5bzqVpZurEKmFyu6DestZPDjBWdT/8+TE+3U0OjgA9zScCw4ouqJYVmAOCLXRvjosYRnAQVpAADCAWIh5hiKqxkSQFABCslLoBFcmAAALQZdcEDIYAA+MA0OCAKgkzWcV/Iafd+X4ZqjSzmGm/dEuEpsxNYxf4cAKDDQkieiAKBRBvhpk0MRMWaM8SARJFEabGIAggWBAyqo8bU2C4gIHDRohGjRgMtIpkRYvOYAmKBG2HhgcECwVL1oSJjytFZc7MVZc1913DWGQpRCLshAkOBJukoRHB5QCFddm7Um0bZmMPNRTkssddOWuJCVBcJVBkPMNaDKeRa1Dv2ElApMBEBc2Y2RzBQBJMCY8wHCgGB8PcYGxGYKDUMJoiAx1wnjAbBPMFIGgOADMEUFkwRACTAKAaAwEYKAHAQGyvYdMfDhkADgyWJwFul6GAA6NrikIClfZLoy8wYDZeOgSrUdzEwQwMDe9QALlJgAQYiJmkv5nQibMvGlcpsSafNdHNgx4NuawwGHvBlB6au6GthRoAqEBwRAwyYqSGMCoGRTDQKOg4HDigLDY6MIlGDmZohIZc1DD+DI0zgZNjMjKQsmQTAQVhwYGpwNxT6hagUNgwFBgCulKl+ZHUf6Caalie6XOpUpexnOGKsMvvKpyEvPBLQEAr3T/8+TE+XVUOjQA9vLc62NpjFnMMEQlDM4durpgFJl4oCZBJIUicbRplFApEyVTeAfc8TSEA7ijZPUyDnTePLpEhTdDPCBoTwrMZAyh1VOXWeVoTOnnqO23B/GfQ8z6NEBhpKED6KR8TJVEURkSGQ0aZhqRmI2ZpQKGOac1DjdCO10/7AqIcCZnoG4sZwhb0ecDIwUiGJmAwTJsbFAm6FxxRcdNLohhCH7MBY1njB3BS5XsvFZzgv0os6bSnaElVmDRbIFLWvskXiygQglx2suggPbdKxkawq1l5MPdncNtkgX3ZjE5n2klNlUwWQzjC3SVM8iWoKAmmaaPYZUgIxhzIdGiGNAYbYRJlhlWGE4HAYTodZzAOYqej0gZ8YmfwBCImaMhQkUXRMsIwRjUpkihgR4kAMASLhgYELDQUWM4IMinQeBTkMOmNIGKHmpGGeLGNHhwYwCkVOAEEZyiZ4MYNIeOAYZcP4jZNBEzNfwA+c1ScBVTh5DpsBY8Yga+SQoJJGXEAAeYwuaY6ZAqXgKBaFyYqAkxrJDc1pwwbQwNc7zk1pwxgVHUxhGEr6ZsBQC92zNfLeshhlW1MqFTD7MSa9TTcplkutyqrXn4Blk7D0PRh7o5HHHYE8b+RaQw3Dj/8+TE9nP8OiQA9vRkxJ9WwPm8jnOeprGEMkBxfZWohBFBIwJg0poQjTPEUcU9TLGyzAXJmHDAI0OCTIEzKBVeKroolwVBn7UxvUUw4TTqVkTzMCYkuZTaegkEBzCjjEihJ0ZY2IBAFGGlGGSGqFBUMa+gcEEYE4Cm4BLBUeTGBkIBmpiUBsYwRmQNAIAUFgoKBAJhQy+2kFmkOpbVHEvqYo2UAlSuzEQABXg8bdmir6e6PNeac+s1C3lfyUs7QAtBXioKzVOZTVlIIA3m4MPRRazIZ5rrsuC8DOmHNed6xFrWEu3OWapMQU1FqqoMAmEHgQxhiyEmcDcmkmN5CoxjF4bAYOwEyGI8h8Bg34GAYOcD2mj3ameCmGS55moSlmch3mXQjmJIIGCgVmDpYGTRTmSgsiMWDEUDTTDAiWZQ6BBLAKIxKA0rA2I4xQ03ug96o1C0OGDJowoIy6AdRijI355fZhAJmlJjSRmShmTxrQw8ZNfYM3lPwVPjwMHoPOANMVUuMABQdaanCVAYQCUpf1AEhjAKboOAgQCzoFBhQyEJDUmgQVFCAYfMcBMANCgQBIl/q2uoWyianZaaXsuWHdVQFH1MB608y6q7ZU6TcJEthtnWnUyVipeu24rClfz/8+TE83GUOfQM/3RMXfcAAy5SnK6ZYqVwU8l3wJGkCLNFhyzURUBLwszbndvNef5e0WerMtE19P4CgjEikW2HOuWlRRhxmSaymz9PtbduhVdL3gm7TWouyVzKKOS1pjjJOI/LxR5QEBA5/TBmiEOXvGRRiwhhRAXBmWDpeiw0w5AKABIOoImc2rIn/R9quW8TJo8/0MorNbisEy12W1h+BFPq5ZUvhk0cg+Ms+i6pXTQFKbPC5tDGo2zqVtOSqYsmig63cuiu1eq714NfhDeym9co4FLyqwrCsFSFaauZS6ozyh8TewntPxgpU1ZTljH9A7NKgigw5yIzF8IXMUYakxYxijCqAXMVUWQxBQxBwCwwMwHDB7AQMDgBAKgHAwD8wQgEQcEOYIQLYhBaEgLjAtACMAcCUFAEgBcyAQS4GSF3iKUGWgycqIDyhnIm0EgGHzBwhrJdOWiEUVGX8AHR9EKHHBEZ5Ik8ZlhnlkzIGALrQsBCgUESLQQhzaJAgDZKrsKkKbiyAQaABzZGUpAr5c9HYBAiMMQCt0WZKEaQScPEFA7KU9kuCEgICRvayrEMEQgvQoawcUZKKm4F/0jB4pqxM8zADVCEMtU+yFIoEQmQ0NGsNLAgsUXNSDTRITn/8+TE/3UkOdQBXsgAzX7EIjIRIFlgsaTFCwywyZ6VAjZa82BIcAgK5UUIiQuMBSQQCWbqkIiHMs0WxX/AiQKPRexDULgJbpRJll4yEIqBKBP8EJiRoqSkkkTZeyJM2LtIeoZMjMktf5fRJcHABCafy/1FUkkxVkF1qJZTgOWtJNUKgAAFnLcVTL2V+yBmgsWlmTFF23cTcAwDUlTJWhwRISnQ8S6h0FrSl7WW0eADEsiaK3yNqoGn2V4vAudoijbd7KaK2AsAFBW6sHWMLDLfexL+KrWS7ZbBaE4kEVuHj2sSmjQkYDBsATR5ADAsgDKw/woIpggABgOCokNphKDJnIMB1ZN0GJ4GDoMlAHnBTfGxBjJ8NEeAiAUSIRhMZ8O8WB7AACMvdeH6Z0meM1TwM6dEU0z0ozNzGPML0RGQ25VK36EQAQCAUToHAAUFzFhHDMesSMypiEjHIGwMaIPKU5xyQcnBYBtZCX7n1YBMkcMkwxBVjFYCsMUkKEsAvGDIBREIYnn8lc7L1glLJ145PEHlMFkCceBGMCwBYwmQszDNDNML0GUwqgKpi7YmJRD8PSubl9hXCwCGkJdeYkBghgwmCSAuYRoaJiDiAmHSEGYSwAZgzg6mDSBeYBoF9mf/8+TE/X0EOhQBnfAA5dLpXDFLD8xRT/3YfylGGo5TUuLfrvMDcAswBgCDB3BpMEsCFg5gigsmCmB+hGYOII5gMgLGDACMYkYgNLTxO9P3JbVrSa7LsrVNcllEyN33cWJVpXDgeMfHIcgWGzDVCZMGMCEOAlMDkFUwbQQzDICcMH4BgwPQKTCCBMFAKzBTApMF4DosAamB+BGYOwGRcntvdNes2q2FqvWm9Sqrdt6sZ37Mvw5MUvbVm/RyjVzCnz5akVBREQA5gHABMAQgMDcDErAdMBQAoIAzMAADAwTAJjCBBbMD0CsMAvMEoFYwUgRDAoAACwAQQAI4BgHANGBABIAgQExBTUUzLjEwMKqqqqqqqqqqqqqqqqqqqqqqqqqqqqoKAUbYsKBR9EQKTSVxEZCqYxjc6kUzp4FAwcySeL7GLIEQpr4XDKGonslAwUwgEwhUxg0ygktiDRRoyhmSRmXRy8B89R59h2aBtZRvn5sk5oB8gYSa6aNODZrBh2LPzRCzcnjFmgSQMqGNOWMmsNaIMQpMeAALcsuYcGAEhhAUEJsNkBwxdiOMlUtSgDgAICl1AsESGTAHhaiq5R0CzFoiZ6lb2SFwV0v6mDTU7H2tFApIYvIVRKJa8lURJEX/8+TEvWQcOkzN2tAAtnIedcsRXKpkxZTZ+m7P12vDLvRqxLYxIHdgVvXfmpuKwSz97W0Vy5TdJJAtPRWmkwp9YdeFkK8VVV+IDGKw3LFeuCjanSy1rqgLJnSjz7NeWGi1exAr7OE4jTnqcd72dLrX2uJczOldTaRT3NzWFXG4i3HNjsZYSwKmcpEpK5p0La1B7g0rdY+ylgjMX/iL7RG7AmmuRSHpuO0jev6uVrrXVDXrWcnHBD5smZVDzKkumkpGurIXjhdZmHIcfO1DjRmtJRKZOE11rrXXJYK+rPXJazUEJgJgRmEcGiYtgnhpmoimCOIYYV4f5lfj/mBACQYOYSZgFhimIuCwIgLTCCA2FgiAqASBQFTBlAIAwMAYQGKBIgCzGgkCiKloACXJDDoycUMVFygOEIoYKVA0HMcLzCgkwQLLbINPsswIBjFwsw4hQAhh8VSoBD5hBOCgswEuMUFSZ8QJmZk7LTNjsy4FNGZzgnMo3TLyAw0EMhQjKlQ6EdMuIkojkFxbpigUYARmMC5poeZkVmRkQ42AUgMaGDKQ4zEOMICgMS7BrGlyDNfgMwjQQsPPkQSvUB4iDMI4WkMRY2zwqeICgkIGIkALLDCBVtERKaaPya6pFG33fjP/8+TE/3w8Oiii9vK8RlJQkIn1jcEsNXIn8oI2FKVL9J+W1kRAMQAj0al+pcpcxswS014WaTJAYlWyQtgmGCBm4muMYIafQcEpqISwywhOUiJMopRaD0QVTISwUyo8lcXdYiClQuKzwyx3kAzxRIc1wxKY4YMcLsA0k82SjtMQyH0lDIENdcEnmPEckhpqC0JkEAYhWwMZeIsqZxrV0bm4QxVjKiLLICEgSz7IkaGqLNdZuKWYqKKFpYtKR/Zwysugl/MvAPIhBieaLCtiE0wxSIYojaeFRRwAGEhAggPVlRTcdW0KgjxT/CgypF1KuTRRDf1lbruHNOqIwE71h7AEQU3ggXUxlxPzqnE4BQixg4DfmnQagYHwA4wC2f1rQYZgw8mmW2HIEKhAyy0OIppJLJwszHQaDCAFbxkQDppEmGCKnWuCizXhIMquBmZcNO9fitqwYsDKDLsBBIOJg4ejoOiTVlzGazWSDrRDkFgqQR2MWSQnGEABUoECi2hol51Vxj3xkwZuLICOngkBTMZ/+D3ZolwBMmOtGHnGVskecy001j4CVyjyDBJgSIoNYGAhpkQjdgsMYHfcVFtrZYFKCpuMqEAMxgswgoDJA5kBhSgbCRIIXRS/ljn1pax74jD/8+TE4XhEOijI9zRESy2Ft3h1pT0joRYNhw4CW28LeLBM6LmompRDACZKgBFwFEHEAgkzY0gNCISBQBpBZkDJiWJo05ggpqBBWXIDKM5myoFEIDizF4eES4iJq3qZsEeNlEYUsCBZhBYsGMABGBRKPS2M6CBBICjjLmjFMgIHO4XNYyOUcBkw1YYw6MQJwAWMQSJBw06FhhnkhmiZrSBIGImZrBZnjhe9nYVFAAIHDy67jKws4BAgtI0lXghDgYe3IlJqDoviQwWLq/WzCF5tOV/KEX2nMDV+qoBACCpZZOTMOBJWCgoMACAwYQaoCCBQNBITmvp8qpKCLElT7rVYcuNfcFNUqQOzpgV5/wAxGAMBwYM4PpgcJZm8SNwYiwURhjh9GzIS2YfQtBkxFEHeAIlBBWtONbgQPGDMARWBrkx6QIEGECIIWBqUixQebqxkwQFAUKAoFa23wcAAwZKsgANwVoL6ITF5onN+m+3hKNMOdTVBII07sw7gIYGqlG8MBAcWUIykAULijKgyonMCNNQBO2NSbFFABilywVAPNUADk6uEE7SBGB3J+EhzaZk5pw6R6Bht7QCXgYaZUmZEYawIFQAKBomKSdhFFVZDdsKgzCliF5QaARaBIISIpxL/8+TE03ccOilg9vRELqxWzOu5KQa53sgtxloPs5Ugrv84UNZNiXyvNJBaqI7jsjXIXka4sOsUuMjihdIl6GSBlQKYoYIBrLjNOZoItCW0CKDPPTuwgqWMqjMIYEBoxgEDNpeiYFADCHTS4o5Lfl0Oo5O8jBZh0ZENqZMgYEOZgsCghn3BlQ5maBpxQRIDAxqGJxhZtJwhdCAQSQA5sCh4gJhRESpQQSFnKJBE5SAAItCYXCbKCj4VAltkEjTisC3qgA4PSuMyOByl2Gsw8/kNOgz0tCpUvNIJHMtWPAy2g8HQSGWIonAgIiCwUt8ICbc30LA1CYpiBnJKJYml4rmkY2oCgEclpSlyHItKlcydejZILf6aYBUwNgATAiE4M/hjwxnQ9DFQMQNFAo0xdgujGoQQMNwCs17VTkb0M8hIB2z3BDOHBrgMBB4yEDDBAGmtZQmvqPAwwIlo1tI1K5HBRRpDpNJXitpMwiAJ2iECXnYspQYIEjeIU4VNj0I0YMx5QybEJ0LCjTsiSgAAXJEYEWQAUyY9KbsAZAcdxUYm8AFBx2pikIN1mZaormtKlSmaGyOyQVbE4hFrNZcBWIyI9WRbwCINCLwO86rsQhyG9hlrbcEf1XpHs9TSTDcZ2X//8+TEyW88OjQA9zRAHHl+Wp2il89NVX/n5fWpKWH3/lDut5B2mVyN3Ki4Im2y7U6kjVL0eQuCUsVQQFszAgQRhQ4sOjUBwOhmHGmABmUDBUOPORGDRHFjQ0MfJM1xGEOLppdZ+YXmo2ic111lol9hQiypBtGAkRI0GBNFkQEqMWnHDRrC5KLOGiMUvMMMNwEUHNkDdQLlzHHQaUAxABABYrBANChYMGCVNyYWASLlJOF+H9epiC+002zCgpRIaAOm3dmDOGuM5XKnonmIQA6BS9TSEgUqHQK+EkxkAHDy1Lbs6LnvPBax25KNJYNFpGEv08ked96Xjuyqdop6J2LsMExBTUUzLjEwMKqqqqqqqqqqqqqqqqqqqqqqqqqqqqowAC8xDFg8Fxsw0C00hf4aigwQTgz8YEyEEc7Kmox2Hgx8Egy6HowRE0WBEwsAYwJARDupgiYkgrWycGAC4iPYhBlzUObXnWZCn5C0vF5Ibt8nUChAqDL5F+S9aCY0bUzpc3DwxaM4zEQHzADQAHSqdIwIMmTg6AIBRpzpm5Y2uDoQDDmFGGBTOKGBzRhAaARFEYtQYiLp0mmGgE2I6Y1BICBmAaChdFVEiUkysRt8X6vtaisZV/A7THImGTNpedv/8+TEwGTMNkQA7rC8uzGcWra7vK1nVlNyMQNNU0Mv67WL6PPalEtyhhyIAjEuf534rBl6I0rKom88hnEM2c6hEGkSEziiQ9EFQVOn6xRtoCp3CqXXmfx5YXNRp2ZZDzFmCrlBzi/aXYtwcAy8EFL1JAhMVLQfksGN4QYcdULCEHVOiodFIDGN2AaEgKIgMMICoBkqVCErkyWtKUAhSE1OZWNdqciPzZ5a0ulVLNtVgpxpU0h5G/ZDdfRnMuT2rsrdtpLfpCNhc4uPJWFNVgJuMppnfjr+OHGIDt01LSXsa9VMEGAC+JhKlSmkiQYYLYPphNDpmHsBEYqoWKJxhEA3GEQCwYHoTxlBk1GNSaqYFQdxiVD7GMUK8YQATJgwgymjhZohwZMhkSuYSUBgqMkpgICYsAmLAgQipdjogBgoyQGNABiANMDGjX107vVPx7T3305w4OLJjMGs0oQCEAwMcMEBBY6XoMBIgEY8JE4CXzIQQLJQKEBxDNfFTUSo5QdNECTAAlDuY6JGBmgCNk5yhVVADhZBctgYcEtLCwmIgghQjCzcyY1GigO5cQQDjIC6AaSxJkTgu2n2tR1FBE+2dhkKwSdLXC8WTi0chma1mK1uzlFEodafA7HmyIogEtT/8+TE/nSEOkAs9vK8sMqQZIMdEQnFQ9CW3FOlB8UDnyI9nKzXAdJ+n5bPKI0wF/lFl/Q24r8KjZkW6qqna6pi/ihyDijaY7tA6BsJVKLQgotCQ1VFFBdTRhbcpM2R318A5ZWxHu6HAFBxlTEDZhhg79HYDAohgwaSET1OYhIqkyxS9daoWmvy/cArvZa2RTdXKtLgpuOGl8ztisBpGrpQBNeUbQI2yIVVVH5liVbrNmQAhBKE5TQlFQDsdXXEIdVmHBm4LuZol6pcsxX0OuTI0kHBjq92NM3ZpE5dUk0NzF5MQU1FMy4xMDBVVVVVVVVVVVVVVVVVVVVVVVVVVVVVVVVVVVVVVVVVVVVVVVVVVVVVVVVVqQVo1KjEKZsw+OoLMDjAgLpmkLGDwaYKExAFgMAhCKTVi3N7I01CcDXLdO6OowiPDKSQMpAYRB0zKQjYCgQFQQmIIgoWboGZlWaVMdTkEFztzTSCTNPAaEAxY1Cs1SsDjTDjDYiCEAMEwUtLTp0JIl/XllUaAQ6FCwUxIsWWAZQYgwbMCAgJlBAQRDjCO4iFUUPlY0HSFYCIhsBoiA6SgNYGbRBEmLERILpqKFzEUzKdhqNDHoJcq8+7ww4+RcZCkvQUDdxZccYK8Gf/8+TEy2esOlg+5rDUTfD9NL6drbxSGK4x1vC84IAMBFzLRNQRAQkmsOsosk+qgzTZU/M7ZlsqtZb1NTcxD0afaHqeHn3mGbN2e9aj4hCgsEqkMaEFE0UAIqVXbO13NOYKrHSOu3aNJz1mvr1TWZ8gGRpZKj0ghi8BNUxZqwLGsxx8kz2sFvXsZY+0qp5+UwNQyl6JHckcufySw202GXmdyJxOEwVF4ddKIuAu5lSlwUOjir1urdGvIS5UkUkWAiLDnRA1sAgbjDiHyPZfFVqDC6kJyzEYUqWGM5eSJwQziVowBwKTEIV3MBkM8wgwszAzAcMcIHMwzQajAkCTMDYAowrxFDA2EIMCoV0wmxHTE0D8AouRimjJmQWS6ZdAVJoLmEmKwTkYhhkBikBHGKmNyYHgGxiaAJkgTJhGDZGIaSyYR4ZZhnGIGQOFQECxMrM6NTZ00yZZNbHA/LNGLTdlEyglMiNAhrNZKjBRYUBBI9GhItsLCqEAcJpyFxBkPGi4y1oMVfjbRcyFTOO1DD5ozNXNO3DOU0yk5OQNzFC8dJDGQpBGYAQsSROQ3QFgURHQ4yAAMNAxCLGGjxhoYQnIYIjUiYwDCSehWLAUMJCMsqK3wpHp/UhZVBTuxGKyqXT/8+TE/3UcOiwA9vMUslbvzMXkMSfSKQU19P1TJynMQtV0GJAUdcyJYkUAAE+0c0zr1Hfob36u9uS7ONSh5o0qlGlto9AAwGBFuQ5JOgKgs2ASpAynIAQkqjIXNjE3hTkPOFAzYgaETcD0kYFAFNnicggJaAt0uiY4BKcRDigiIIUBQCI/RNW5iTRS9NKgKdJTpLqgvuTIZC9MZbK9jNHGa9FWU2cspdIpmduymip7U1hlrKAoCoJuXWI/JY+2CksQ877gw9DVO2FhrAmkvbKmVx6KsXljzKrWmvMFhtymUMPl1UxBTUUzLjEwMFVVVVUIHGFBHG7CHm9YMGT6ImaTDmr6KGjZiCAOBARpgQTZjslJhOLpikMBlWkhmOExk8052EfJow1R9Ekpm2yxmyz5vsXZpkrplMmBvu4Bq+spw8rZjirp0k4ZiEtRm+hgQwRc0wuCwwzAYxZEBvxIJiEECIFxQGwECjXh4EgCCCWAhBYBAssOXtGgISpQPXcYCgJEQuApgqEhVAUwOBkwhBgsAoYEhEYZhIYTgMYaAGGAMYLhMAg5MBAVMAQPY0BgGXCxUQgSsIYBgwkcYJAOYCAmKAeYOAmAAMMPQUMGQIMKApUYBIIGAYEgUAkc0aXsjTj/8+TE8HEEOiwNXegAzcVmxl/X+duMvs88Rx1SOzUmn0ni3Smai8NtaetvGkt3bAoG1xDuXBTpZkx+CHCkX91//+eeGfaeluPE4jyO0uyYhcER+VsHhxghdmUqHPUYCAMEAKYAgGHAKYJAOWAJAoECwKBUAX6QSuyg42N91TMVdudf1+n1cS9DENyGXzEGxtTp4pq1z5p6neenBdLWoMpYlEqOXQmVymzXxxrZVKfOW3WHLmZVC2BMmvWnSbZeUPS9uM1I5NEnOl0PvLKm0jLL5lujlrbajEVqw7SQJUacy/MAgEkmIEGYfAfSZxAzzmgfM3dI2GgjFkCNJuo1cETKhBMhhswUSDVxiOp0s3HFDb6oMEjsyGOjSKPsMdYVUy1zFzEGDHMXcE0xXx3TBNDcMFUAIwoQfjSaHaMAIPEwzQTxUB8x4g4zA4DWMG0DUwIQHjC2BvBQCkec4wFQBgwExG4sqAgHwqBKiGBQCl4vaVAABUA0wBADF3CIAVowCAAMBAAowCAQjBiA6BIE6xEdjAVAKRSIAHTALAyZpCFqGACAQBgDggAIBBMA4AswDgCDAbANMAoEIwKAFiYApQVLswCgETAaAlCwEBgJAJsBfpl1I+oKAJTCdYsgzNlrL8b/8+TE/3ZUOjQvnPAAqocnwh8vWhVND7LYo4zB0koakMech2muNVR1T+S9CAG0BpfNv5ZyvKYipWq0WAqSNEgGRIACHLeWO443WJGAGAIXCSnnY7+P0kvi0UZsoAMgLGAQAAhgnGmSOgCsvXItRZTBWvuJwLgDA0AYRgZGAAAigJMBoBYs0oehgsxrypi/TQ0jHqiyXy2y1qMqSTKnisyiWx6hVXlMMw3Ebd7PPXe4/+UsmXLbK1RMRUamC6YZtwy+vKuPeWt6ttiaI8EadppbclmozZ54frmP1r/NVqCar09dNFdzwNLVNXy8MEa+Mhr/PRKTMcUMMpq5MSDZMDSzM2giMSxaMZS1MeCbM6zrFpyM6DlNfs5MPRSNCCjMg1xMIYLO9VpNw2cM4QsNI0/NT09MgRlMuy9P8p0M8AtMUQNMJwWNyULM1R4MbxiJAnOk3ROByFMHggMhQzMSgoLh+JBCYKgyYHA4lMDAFL2K1mEoViQLtSTldAvS3IeBsxAB4waDIWC1b5gGAg4BIECIwFCowvEAwOABI8tQZOjaYLgwYKAQYIAcYKASYMgSYMCEAhpQ/TAMBQoMEQOMGQSBINA0EjBcAKAwZDcxHDMSEMIAswTBMOANnykFMEAi3Fz/8+TE+HWkOiQBnegAbhsoVniTNExmBM+uMAhhMZravLa/4Pb5UDuJ0GDIGiABiYFDBoHCgBWcL/sSvGGYpODIDGBoBCMAlEWw1LFPX1flZgaDIkCYQC46AYYBZggAxcRmkr5GpfToSBwCGZoptujIWgh1112Mqh1/qeUSKJJ1IfqBJeu5InqYJLHdmIXJqvGHu47DnmBoAgoD5FPQqYUg1xyYpORiXSyxR3b+6LLWEw8EEMEVWQ0XiXwXa7dLS1ZTTa5luzXuxahpaV9GdKoNYfVrO5REJBT3btJ37F2ZijELxbMu2pNkqqpeJTTY0D3+JjMVmDDdVzIBAjXZGDHgfzJMtgAHYkMhMCINDAyRMYzxkgwzDIyhKgxzEcwVPYyndQ7hmA6D6QydFIwMDYxhFACCeYUh8YdASZcQQditACjXMSxsMYxPMUw4AIDmAwhmZwTGV4dmTIigwNTCMEDC8IDAYHwEFJbUmAcu4MACvJtxYSzBMDzAEAwSBqQwXAwwVBgBD0Y8lMZXjkYjh0kFbBwSrzWM2pgMAhgIFxh6D5g2GZMHQBD4CgaYOBQYrj4AAnQoMBgGLumFoFhYAEJgGBMwDAGMNsFQOMBAiMAQGUipcozKkNXaacxaUU6aRgT/8+TE9HOcOiABnegAhUYJBjOTrDonCIdgpTdoryMCeVWCIuxH3+X+YQAYYfiwYOBOpaCgQXLIXJjU92IrUe9sLvw251Wxnn91orAggCE4VFkwI9O0V/lR3WqSWARAAw0BhgOBBgaAUBo+qVKlXK1aGXJnIlRtVZkNAFJ0DEV3HcOhkMXgT5+CqRYEucXNMGwEdaxCnKa7Tp8OruGa788ylNnGxbjMMqGsORuLjU4yABgiDgiAswOAcwIAG7b5r8dcpreV2moMKWduPG1h4W6X5bTZ3ru+8192KRhkaw6trAlyAYB1epaKGAmMYDGPt14MWNHNSHNO8juNPxuMZQwIkCFBbMSgjC4VmCQhmRwUGIpIGkIaGXZ+G561G0yZmbLDGnq0Gg47GQIuDALlYamIJCGDgimGpmGR5xGRoGGVYTm5VznTyDma64GFoimfp9AETTC4TzAoOAwGTCgJTCwPhAEpgeF5gkDBhSBxgmCSGC+AME5gGDCj4GA4GgEoOHBGIAkBoUBApmEoLmEwMmMQUGBwbs+MEwYMbwWMKAIAgHAohzBIEwuHxh8J5gIKZhICAQCYEAcZEQLgqIgKMDQAAQimDgCoWg4GkZVBwYBCCMssnO0lbiP0ysIsZEVHpgb/8+TE+HrkOgwB3egADAHMGQQRMIADBIEDQAp4CgCqCQS42Uihq49kYVgAgBlmS7peWeHAHQaaqoMFwJKgBmAIFjgVGCoGlQAzBoHQ4TRoAQuBZMAjvwfFHOf1sV2VzlaWzWGHcd57lsMt7HYzFIeZhKmDNuyEt7AKDq9TAQEg4AxwHlMiAAC1hgGAZgECAgAkZAYaBAUAFDgqvPIxtIciQMKTfawoMuVBhdK92xtefmy4kq+eg+7FYtFpVI5yJ0dWrDsp7Yw7q/fw1hnbvf+8aaYl1aSTr3IKsnTFRsdJTRezoOGyWFqwhwHP6q4MBAhAJIowFBAWAUv03FFQAgwxCkGLoRGktpH0i7GpqanG/bnloGGL4mGTwWiMKjDAPgQGhiAGpiwCRgGIJjWW5iYqxlwyhoonBp0FZjGbhgIJwKFswVJBDgYLgyHGOYRAoYNA0DiAMTgyBgdmFBcmRhuGXJRmWw5HTY+HDo5AlSTREyx0LDJWCT+BVBzFBlHKZAGPqEAhYIRKpg4GbUQAgJkRaW5kQZr6Z1mZhTRqqRqdwrNPNPFngBLBisAgjHGAcvCyUI0i5gw0gxVUgmGrHGaRg48DgYwAFHhIsqtteR4auX5Yym6gIeRdSw6dS/kxoBj/8+TE33MsOgAC7rMuBUaHzzKDQDAp8wDE5lh2aq/gaApG4z+Qt0HNXQvyHyYJEhQD2LEW4cOYkYF4NesUGbkI0gIa2AVKS7LoqVCwRa9CXD78rRgxdreOVLZmzHNXbE/bZfK4LWuo2+EeUqWQwuXrKhlElCQW6M0QojYwowoCYBJd4s2RaiNYyXRyelNsEtapEKBOEWB2ggZJMkElh0jytIS9d1U0KdWWUzgsqaSyxx1YHekMDus1mrJYhftz1PnrueWf9zu1Io/EosNsoJKUpiUEYCc4UAMMUDKExw8KkKuxzFY1F36a4h4HBBwJKKFRBZFAWg6tpAQonUxBTUVVVVUJkGCgymCMMG5L9GtNiGt53mp5RmYg1GKAEAEFjA8L3wMDAPMFA/MHADM5ClNQBGMJTSMng/MHkymCYkGRxUDzFCwElxgxULJJj5YBSEys6MEDjDl0xQjMPfjJzQ8KCMrXDOQMzvmO8TAU6HBLBgYgIgAWHCUDEIQEJo4PJymkkJlAorKZiEmgCJhgaYqJg45MQKTLXozq9ArMDm02smQRAZnIAIugjuMrMEiVkdJaEjXuYY5BlAhPFQKaBnVwtBQEpXIcV/KNMlZ8/AKOXKbCy0ukpaIUuIgEhsvK4qn/8+TE3mxUOgAM7vC4U666Wv6jUxLIIbErU2J+WCJ7sMYFF1YS8KVoMCHNTRclHZhaDyQ49ljsoTJZwAAp3BAkhlxQfWbI4jv3KC5Jmsyl2WhMth+Xx1+Wnx6HndkFO7MAx+NJRsAVufFuQVIvEvebaF8oHctj7eB2XeU3FzFlUeUALTU5F1DmWQixh5qw61XjT2UujLFwgT5I6zTXn7fdp69XGgSeo5POxSVQ9GJTyZpamdmxnNct131cVxIKf1QVmrJ3adZ+4dXbxhr30UGUE44Lgp7LXayrxtqRXReJVZULDGPQbjSsmwSzmAUmGWLJHgpJmBKEmTo6GEYjAUGhQSQUKIWC8HAaY7nccGp4cFukaMjEaijcY/JCYECiY6DYYjDGUMpoY8ZGGGcEhiCOYcYmfmZkq+bNknwFhkmOY2TGPuQCaDFGsSoTKgc4UPOHgDY1o8luNbCBldbUxA+Dwk2sgNVIgADgFtNiOjCB42g/AIeZYCmQphorEb6jGKL5uD+CnYdUgCegptLckIUBRtNQxMPMBEwwVGAowsBaYYSONxEJE3I7TDmoMCrBlCYZb1oxWoCHQSiFTjAQ6Y71KYgBJRcNKYBrqWEhTAREZurzvgsFHmsK/ayqNN1Jdk7/8+TE/3S8OegM7vDYrKXhvITAg7lNnSKFgpfl8GSgHwdpbDFlG1ePMl8uJDubSLRLJluk8VAERmsLoUXRCUNXTJ4q6qMgkBVZXSfb9PeDjLxfVzXVaGz9pTsqWw4qZXTxK6ZCnmgas0oCvF4B1zNE/YPdxpSfQO0oA58dCwUBwYN6HzZM/5Fh+1LWnrkYgjE8Kq8tcxnSCXFLhc02sAmCy57YEZzIIBgaSxmVLkjbXbLwigFoMkWMW4thda6zc00ZgxfyFJNBOZeT4pUHYYHEownkgiag2eLyZhiQooxrKPxMQU1FMy4xMDACimYRDGeasGrxEGORJGicoGnbamhwKlAPmA4FGFYLmCYhBUNzEIATEUcDR88DRMbDIohzE4mj/eTlWxK4b5AbMYW7MnRNUpWECps2jc2xExZIcdnKhm72GUHm7KGIUGfXGRTHFFm0bnIimKlm8cm6tj2czCc3wkwxo3JkxR8cJGfMgwcYscu40BUABVKBYGTEQUVMgDMQCU6GB5QpacMDkJogAmKRr7KgFRyyy0mKI+twC4o3oCGgdCyQcYVekCABOExd5wFRAIjMWmHmNdEHAh4gWIDg2C1wtczYVrB3SgKe6UiaQHOTaGBu7Sgo5Eq02URBbRD/8+TE9nJUOdgS7rC8Ckw0e0MQxECgx7cVD4mwptGCq+EjN6W7BIVYVFwySQDU1FGluUl6Agg4bO0HGxqpF4XRL1PmrM9TBFBWavUzEkA5I0IAFQDlkS1xQgOI09RJSCRwjED1KACzgxwOYF0K/kyMAwAmAjPTjDkUlzKqvvByCFli0m4LLS9fVeDFZWv5YBWpiNE1lurrjwkBcYSCYqjK116Z9NGfciDKq5FjQ4jCmI1QZA0uPgo7GUuHpHjphF5l9odQuFTNrCVDW1bCITsllX2VepozJrqHihjbtCTEcGpMQU1FqqqqCbQDp630mkB6DqgZTBpyNoGiwaZDJiyzPgz3ljtGzYEzFTDJmDMQTCHh2oXDP0EOH7F4hr0Rny4GKhKU5k8FfhtYh4OWoYLFvQfaNZnHaCEBEEZgwEvFfReApEMQ88CBQciJOCFfgEINo8tANKCTxQU3gtEIl0fA4RPQ1AjEHTVEmSxSkCRNl0w6SPIEjPCHRiEkRCjg4YGhGuAmwJm1BkXQiJYUQtJUhQJBwAGBUdB41wFBH3f0yi0T3TKznEA1SV4tepUEPIjF/mBGSghMUyjLkl2ULBwiGgYaHBlkRIJcajgFLQjAxyyV2mYaPIFqxQ5QpqEgTvX/8+TE+HL0OcwC5rJQiggBdKKzJCAVaAcIX8RmMQ9MskXHTTICaIBoRAKPYDwapG8RsL6CwwKVSKZyNEqPk45njFowYeTHiy4EMUJLgCoqEDcTKKCF1MVyovscacjuNAEWLgkBCwxhBiANYAlEDkDCBDAh6Jz08msKRWaLEmAADUn+QnDgbEV6KUI5PwnSrGMEByCQkAtQLkAUADAumaJLL4fngMUgTZEY4LaLrZy05EsVCLsGEKpgl4g4gCCAEQkdjEDHlytBYwK4clDcABp7goiAxAMEFEIqBEeWBwqHi6JMQU1FMy4xMDCqqmGykyY05hlxOjzMMcq8yIVTMQJMVCQIR5hgRmExwY7FZiwrBzKGkmDiqY5KxYAphIaGYh6SCQxATDBQSMkCIMAShgGAIdCe6Zzrm0IDRDIPEBhVGNMQw0hpUEWmO2FxhwRI8AxBGhtCBaBCgwxRKBr4VPElVMA7AwxDEGQ6kFJnkFHAuGwweKALJjmPqAmTWHCy5UxMxAScMhkHMBJZnGmKyuYGhhU5qiC4JczIiY0pSRZERnK9EMwV8ETNQk/wYZ2QWJMFAQBkAoKhxc8DLe5D1IFOoI4LMIZAFxsMyAL9HjLlFXkqRYpdIOWYimwIqZIdRYP/8+TE9HIEOcwI5nD0ElsTUEGuCyS7UvYgECRwIECA6I66wiSoUQmHms5iCgeZkpWgJqBgZM2bIlloyUyHrbl9w6CitMFgGVS10Fwd1nCYA1RYDFH50XqFSoShd67mjnUalpjGFjIXILmwAcJCav1HxCokC+wlBS5Edh4GGp5nyKJUKlcBiLsSVSbTvV6MSLipaQ0uwtuiK0RJgkIMiV2jaw5xo4HXZOIlLyQCsvdFLBryXadaPpfGHRRyJ9YtmxdHJcpKAtCACjxE+UqWdqgQXVsLQMoUHbiXmViU3Hqv0uxMQU1FMy4xMDAQThQmOcfEycqzHqVNQnU0CCzQwJMODEyaEzBhHT2MeDsFKgyuIDDpBMvA0wuMwMQTJ4HAAgLzGIziYdFwGGYoRx4koigag0Gyz5U3MVwwbTZXNxQDCmG8T4DpJmlBSYwXCcsoWL9A0A1BFCwlgvgYYQGGLYEpJfQgiKggC6miFAuKW9LajzK5lqAYMjFecQFFcxAvJzGLM1cxiC2BbgiIM0IuQ18orZ+nkBDCh9tgacrIgy1lJ0LCGauZqCf5nEuiCvRWYBFEUYIEANIqUIhIBDRzfSQlLPQTg0EaAMUIAObRYJqIiSimJHHAI9MjRDSGHiIzggD/8+TE9nJcOcwo5nD8jOebIhB2zLIFKAyyIy/wOA7BaepakYEdHSB6FKAIgrCoWLBd0OoYJkjQYORpCgY5dgW+rsmECQCN5fRiwlNdjkF1SOJRBpZMAMmpuIQsjZAjyNaCxAUktwnIzMSUyxgCl5lH0RlCAgwpQZdKW5aZNhwQiDoJaJ0PohYWjZ0pQhagkSsEkQKCnKAJ5FzELRGdWdJ5dRfVMst2kKgiLsIhEIWUKiTCeSG3OaSpersAgVa0GATOdQVE5GlpjTWJtaAKQuQQCT/U7X8y1PJB9w1xlq4GYNVMQU1FMy4xMDBVVVVVVVVVVVVVVVVVVVVVVVVVVVWZppBY35aO9oTKmUMrjIgsHdZi5oFwEwwZDBEzAYGnswtWFiozYJMiGgKThxwYOWGooBkKGTNxmoF+zjJBQ6YqPgWdAYo28ODG/gYwoJfKLx4QLHmoWYTQUDCzJsgmCEGXHQGbAxhFF2BaJE8CZBpl8Dbg8J7wWmc2yrwQnKgB0YigMpAhGSHXamxieiCB0I+NaTfBEAMwIKIEiCZ4cAll4By6DpeQzHTASCMKA5zWTK0KHHql4VdG1YKQMmb80mKxAgBYCWugNQVPktKkmLbplV1RphJyCTUNV8tyV+SDTML/8+TE4W0MOdhU3nDM3aOMNOAWqUsayo1Loku5qSKSeyAgt0yZBPDClDup6pEkgmCS53m8gNFJRBcC+y0KeI8VSRflMxca4yyRfZJRaCZQiQGPRyDkTzipEvSmCWiMSUl2OGASBiuQ5rD3nIVLhbiRWBQ1DU5Y6tMGiBxG5RKDEOKZLTlh0+0Rkz2tFwWtM7ak8CwDBREAFBTif1aicTbpIL7LvKiiTRUdRJyVcFBU6lRCgs2SGRxWUq4LPGhglCYQVBI0lHoRDgRirME+mvFqVrpCtbLtGGKKz6sxVIr1dKpMQU1FqkLCM2EbDslXNhFA0WRDJ44MsGQmJ5h8AEwhMUDEwcYjGRXASAMCkoxkGzBoGAoWMCk4w6MTDZSMXFIyOBzDgEBxnEYTMHBAw6WgcaKCBRw1ziKUe/B64KDC/IgKNxUIXLXKGA7k2ikWR8NR5LQxV2wmmUc8Sj5iSmCIPHhyIDRMd4SUL0F3QdKYAxhsAZMx9QEYaZJiNgb8apK2h8Y0xQuEZKBfgzSDLRERoGOLwA1RFMO84QFGFUDIGcF5EWE3wNxSbQiUZmkDEKLA06NBH8GEFsiMoyQAsAyi+wI2CZgiawttK1Q8UKlaO1MJ0AyWCQg+VypIMfTNZQz/8+TE+nNcOcwy5nD0NF8ITxYYslBdN1QFOU3kC4mahYoUipNLhy4wimt1DmH6E/qAAIbKTYAQgZfNNOUMU7MkEqS1whKhLI5FuwyA8JBRM5KwbaKpKrGHKrhaCmKApMVhDxOgtBIoPEhsWeRKTUVZIRhRcwayNKI0qHgwD2NqNDSGLVp/ConnFgiSlJM3lr3CrmjBQrDy6DaFUCQ5GQPHETSdFZQSXp8MOWDNkWzVEWhGAi2EbSDHxtYZY09prQwocHlLSgVYOCsCNbXlIkoFnJRJpEx0Lk1Q6AOa1NWwuHVMQU1FVQmeQ9HMaAmWpcGyhhmCGf0UgKdEns0Q7AgkGjhwoGYe2GcCpuQqUHRsy0YiDBRHNWLzeykAj7MhGqdeZBqdTxj1j6JEmcRAhhSMOO0g5L1IADGdLeGKqfgZg2GsABHxG2qgY0whiKCQ+wBahZo3URIs4BkEwGQLrMOIgizpiTrHMIIFZmMMF0wVcZqRI055f0a9M4guEUMCFsLKpnoiiiYWVAw4FWBSbrI3gqgBDMEBUIwkXGNNBiNqTF3ktU9gUWWuDjQM0qIuOoCiuRCvAFQgNWx0xQAUQTCFqDGMqAwkqCjiRAC0seSGvTrCCxElKjTXzAFHQFehUt3/8+TE+nOEOcgg7vIUt2CwIKikMLGVXF8hRIoFLyhAIXIMtkqipGkQY8eoKIyAglrCSRdmFhcRCFnarEQzHNRsQFCIAsoRHMDGtQcSOgooroUpXcsETBpmIJxocEklv0zzJRREDhwsESghYVEsdFlRUMTsHSEihYKDHlXcIQWmylE4GhR5WhKkifeRPtNtpSASHCZ8xSkkBCAFVUAgqU9KH4FILRrqIQ0ESJrePKCSjABaqhmkQGYJirtCxinkn3aRFBAQoEiCODvWyZhTuqYr2lDJ1pr/AI4RUPBPcn2zhE5MQU1FVVVVOHHY/ElDPq+FkMYmIZlsNg5umSB8EDkxuIjFhCBqLM7CYHBcxoCzGpTRyMTFcwwAjNAFMCIMxGIiIOGPwWYPDpjEBBCKOE8w+SCk5lTpDMwow3jYBMDdTEFmmaOZHoWbCXjjHKpYl4IzA7I5ywsAHfBIZlGBa4t2RGmWKITTAARPHAhAa0ks+BjiLQyHDFJbgSQgYQSFM400w1lhQAwQwsCTCGcsw01jwySbQmsX2HGMATaERDQEo2jzyLQI6mu0IgCQ+AslUxJAhADoAUgOMSjCMIPDygwYZAGqOKChyLCcoheEG4VEheIOkXUbCKmS/es1uRpbEn3/8+TE+HMEOcgA5nD0HAYCGCWl4S+JE8nWCpBqE7AWsEBAH2VpcN+g0qFKNUZsCQmYGpvSgQw6JUryl+HsVma2FQgLppWVBmUpUWXQMsSOymrFjyViwEIkMgDEAkaUAxTBEQCDYgwEuIqkWiCrkDlVhJRAJR9mIGeQEDnMgVwkYWYHlmdogAGOLiuuBTiJa/0I2lO2mURBFiIkuMna4qYABKAQUA0pmCRTThMb6aDluSNAS6SqYumGkvkXWQraUWHFkGeoWFzRC2VKNBEYzHWBpmqAKCqVjRi1KBgtBWBXKABMCbUOx4Glmk1MakFJo5FmbQ0YpARkogEyWMHkIiIpn0eGFUkZuCpkRACodMojsyAITA5OMii8wCOCAdqxiMEmHxiYMFcbBofMjh0vCDjmYXChiwYgksQXgogQwhCJ5rGGaeaQEFMkIwTAWoHzDRw9GI0VWEQJRcYygCKNN8uECjAQIJNBUAItMwcUBQeZKRZocAh0awFHgDMZQBiAggwhDS0BRhhgFqQ4MgBNMNhoEQLcvQoEbIhMqXEI1hlkDFkiySpUHiyFJ+ShKCioUUGf0oepNHkwjMBH8CROEpcFnmMKUYMWNNCRjL13mFBdkm8JNNqAElBGXDEQCg44UQH/8+TE/nRcOcgC5nEUgPgDJY+MCLOpJhVCgKZ6WxgNDqToFETeCjAKhX5qCRpawVaECRYaaxdI4hAp02mdjRmNtmDQpKsjcYKHbVogs4wuBzkzV3siRQEnp4Jupsg0yKRAURkLBmWlDEM04EYxYDvgmKDKCFgLMGkM6QmJmgQAqEhIulHyEEIUDCoUmMoMu99p96yqN9EQTSQQLLOMDWeF5Nu0wtA7wGMkjfNUE8lHmEspBIlvmQBlSOKJDFAQCcuwpgZQggYGWDnFDxAFiyjAKQTNQHKhUPNZFJsEHDrvZGohdJm/C4aWwhncUGFiKERYwMBB7vGOSeaPG5ig0FugCkTQhsMOAkyUWDMAdHDiYnFRhQuDxKMECE0kODYIAX3ALU64wLP0+QIkOayNyQMweMEDMUCMKjMAZMK3L4GaWnGIEBI2S0HSVY1JhQqcMkCtxrjwQNACMGCFWGeQKXmWeGKTGYFjIUxA4wgExoYaHlgKBRhd8KCAMFCDwGTm1IkJ8qhQCQMEcDwBagHPjGmSoKAwEgAKOWfGmOYo4Qgr1UTbIRKqwYNLgRAxHBEWXWBo8tLRAaUuiLEvQbIKMrlh1YVBQRFZKMoYQNHGWUS1AaZW4FYhiokUCDjMCWWk48j/8+TE/3n0OcjK5rLYGAIDDUEAoilYHHMYExEiVRoAR4LYCQYAAAqS3AYKwMRAFYw0aQAJJKgc4HGF8QU+QpxkEhFtGyiQ6tZnFIZNkMINKpLhM4AAsNQgMJVixgh0ZeRgCCVKUtUzYAkiggyYYqwQk0hlwGdZUi44SQDYl/l2QwAFEFhtkCZ4YGnAYiStY4WX0CgL3qarEMYUviJLFv0JCOIlgKAAEVDiLLoPsqCAQ4gEEhdQGnLPEKwOFBA6lzcFLlbwqSW7UzQhXqEHBhyGRKyDBy+5aZqjP1HWSoJXSkohNLYwaABzCBCoblKAuMkIBk11lnbKAn+NhxkOcy9mRKJsfkYWNmJBpwrqYiXGLDQhNzJWg3muOGECZmMaJi/5pIUaM0mCQRlR4Y+NGmPiB2DxwKHhcyYhQcwMbGgfAuPaB+0assTaxGOFG7DDfqQUgMpVEZIxSEOmApGDWRux5nS4hxMMefIXU0wECaW0CAa8FUmQ0CDiMAwCgAibIoIKOwYvKcqQWFaOZuRNrBJgHG0SaZaDZjBgUgOVEkQSARSAZgxFQw9iZKWnqCAweaQGAgAMBM90KOoT2ZkzrwGSKDCQxB2Qw4ajRQElzASTGRPL8LqGTgMISBmmmEPk1xb/8+TE6nfMOcgq3rLMCw4cXDHjAa2XoUFQkqQHTEBqs4JPRWMoCKkgwOaYEJWMFMl8wF1FkiEA6c4CuNM0BFjSoKUXyzNdhgIGCuRRgkAt0ClUJAymCjCZUiGRJNpFb4tOPPLRJSgi8HMs9Z07RhlMuAyoK7EYAVDJDQUKAkTDQlbLzEUBQic4hMBxbyJqhyEoiqjSVQhBUk4wKhL2P2nwz8QnocWaGMGIiy/yGRASvFuyo2uCINQ4oERHSg0u0ElNAai+r8DgKCMu5HmHD1BglJVPGWkSoFsBxUsCg0QzzBoi2PjmECLBhcNLkRmL2LJEg6XI6AJGgQdRFxh0EI0RUWNVTEFNRTMuMTAwVVVVVVVVVVVVVVVVVVVVVVVVVVVVVVVVVVVVVVVVVVVVVVVVVVVVVVVVVVVVVVVVVVVVVVVVVVVVVSprbTjdVg5A46CF0+nzUFFgjcDBwSOAWCDCgpeUQmISFCQEIYZiCEAbCCoEAQk4JBZi9BpUsllCTRZ0MakSi0JNi6h6qLY0FCyRcMKsRyZ8icYopyF+oakbSBIS9VltdXyIRC20yVLWmpDQKspMNVi0WdJ6ZhgkU2WtTXOtBDugJRmBQVlLIXsg2QgJ3XElBAikp8Ackrjsx8r/8+TEmltMOfWczh68uCQsIhIAeP4T8IyJ8NM9QHIKkA2TJYkEAYgnTwbi2he4UaFGFRnL6XVWQzQVRbwIKdN4+kuUZqHyWTKb5lwS+HcP88DXTyTZVEO9IFyMI7lceqCDRNAb5oIYRaNO43RgF3gMyEv2FOi5FuZBck+PSsqk0xd2GEyqxUHcLka57q48C3KNyVitJouWxghM6WCpNqdcG7RQqQ8yWmShpciaMKiPI+S6nCMInBrDeI9VFJLY9EYXUxRZiLOcgjAtErViKLEihuFOPodZbz3Q18voSlWwZCo+7nHQVvxxGMNGTEDswgMZiOhhlgCTI5igSIAQzMsBoOYgBmJAKAZNZpQgBDNUgy0KfOGjAwQvGYCFFymTmGiRi4EYkPjoAAiIyQRLmmHB4WAgEfF0TEAVQQHFRbhMgwgRBxCpcgiMTABGBA4aBxECgdoBfkgOTTkUz4TBAmPEAjAFFDCBVAQBQBLZXSJ6uVrGKdBIADFkxpwmKZaYaCCZu0oIhkDTKPGRkGg4ZdSCpIIZpQGiLgGaeJAmUCYKwoEIgwaOCADEVShQWBxKVgsYctAxKehpmjCtwTWDDT+fFlXPNNAtygDEjSEMzih7MxwgquPSCgRviCFa6e6Q2Kf/8+TE/3tkOagA3nWUUqVUlNwaKEGCBcygzRQDDWIDoKFAcUvYUMDBk+yYlDxFdCQYypiDpQJFNeFjnpYGzRE8BGopDoRkrFBQiVEAgJIIgkVi0gXLLerES5XAChlqoNtsg4NBEpJEcXqCgYwYgTMtJW6qsKDAplgpYAgYIW5Cg2DUeEeRYiDCpiRCUBkQwcGaioqYIADgpdgWPjQxmgiDqVmMJCycMYg5OaAyaWQmActKdYeaAGYUeGBx0uZ4WYoGX5LVJIl8lIpCAYcQHjTjjDpTVMBnyaBMPBi/RphoFHmQFhxVrBEWMAKJCbK4LdxcosNMCaDkxnygcopMQU1FMy4xMDCqqqqqqqqqqqqqqqqqqqqqqqo0OEGrMzoxFBAxUWMDBQUUw0wYEhheNQmLo8qat6mM3FEFCmGrC5lTNOh7sGIJkNlDWaLGIAm4INJDjhNHLgoihUCFTcR0CXK0kHmJO9BrPFNzVFHsMSXWQIgpKnS81uAEzFWdMxeROYuM89K8riiEQQoLBV436VJa1aUZqBYKsDQnJTKLpOVSOkrE9gFEn2ZDsossAAyhQoGqjcrOrlhBaJrspZwgcpaDTD0jgkwoEKhpygqeyHdcAUGxp7FiCpRqKmzGUfDmYwH/8+TEyWckOYgA3jMcQDBniAot8yNWgwQEPzKHTIVUV+3rPQACsQvk6KE55FFVqFkmpxxrTJi5qpofgyP0JdVeseaKoeECuwzcviFwg4J/VpM4TWgxBMoiAAWQN3Cw48GXRQxYIy9B1xCzyAZvFNmMrMMUpJoLBkwBjgA04IeAgrAGVl4XVZahkzlsQwGlCFwho4syQiAJoRmBjSSpQoccQpKBxTDMEZ5E0DhUJMOPSyVE6nLvTLLUpAFMYyIq0UXmsuFiAwg0xFzmMG5EnCgqKACGhyH0iZMvIu8myDjTJUoJETkSWKoLMDkExyEgUaCqChoCIWGEwaDQamMYGAy7S6ghAaRbHi4BKCB4KgIJrTFgGFAEEARgA6CzFgR/V5lo9mEipe52QIAAwIaTSr+LsM/AICMCAsOGAAAEAksCwFAosU3eNFdJ4iEjBgBXig4ADkfQKGhBWYMBJGYqYF1EKFVEcEEYCC0pUtkKIqputBrJZNsiQhf9rhgIOzp1HwLWJpgQADARHcWB0BJj4uhLAxGBAoy8rDA8aFzFgAFDZhgQCBYyIALPmJDgsUEI4Z4DGSiJEEjLAdErGDAqMrCgwsFAZbcQjiJyPFgwIZ1KIEgIHgIuWqMwIWos8zyYtsb/8+TE/3lMOaTI5vT8JLodqVkoGBsH6u9Pdg7lsDLZgEKBh8TAIMMAFwEcFoKqphF+I25bMFmpVDQgYAEBMmPpulmzIBh0KCi4IFJkjgIABDLCoAJhZEATjFR4OJBAFGIRhRwgECmFgAQFw4gDJPvegncZtlgS5xjgRgAypVVAaHcpnA4AHgpe4SIM2SABQN5A4QYkLZTDBIMLEBgSWTMqDg8RnTDmjQADPKDO5zfhTRrRQwIxCQhkCDBbj/IGGTOl9gYULagImKAGel9TdtUdDNozDADPFDAEhZI8wNFrWBoddSPZjTYkrAQTxkOLCh1CasPVCAaAmAQcCXHMCBsHAJpIWABCDGiiMBvkNAaHkfmmoLLDOKgwGBwaBqMrJWDpoPGv1WBQNFYSCHCLaR9PFHZLp/RQODhRQ+MKao0sPUZYtCVuLHTiDA1ElPFooFBmiCoqvseB4qGBYcDDgAYGFtIaEl8EAjOHDa2i+rlTdKkYAUU3mS4TOftKQMHzEA5ZjAUImSsrDAEEBq/TERkZBXbEkdMpPcEoIsNGXDgQnDCqJIBlYeDQIxQQEAwCjwqh4YYgYvAIKZaCH3mIOQg4kZsEbYyZU6AmSkyzJgSZkgRggYK3ETcHHDQEVPhBEx7/8+TE7HCEObSy5vT8TMqnCB5CCIiQGNrvTKaWroGCkFlqIJVM3Ta6+bTi8YhBKcyllaxi2c+oGX/h5g4VGTkuCgZTsiD0xgAqHVuaq5eZsDPUwRkIvpY7O5clozZO4MGO4XtgJVJTFTF1FoNIp7KFkdSyZW3zaKGiEEyBrbOG4J0mECIqpoIgEQVHtkD8pQK1ItpppVgImYhagutMKAjpxE10txIcJGRgKYcOpwnIHA2ZipVBITLwcGYkjwIA6m5rn48KBwBOEw4tVNtV4GEBKHhguIIHxoSBM+jhf8uuZQwMBExBTUUIQs4CQgMBMOBZgABg4RioFTLVcLAVOgKgMvAJANE5bKSyMBdQq2QzEAg0CBzY07WCIUJwpKr+EQVDUJsOLrgl1y3gBGXvS6UqLsp9LAsndMGAXGWmTja+xxerdkjSyR0oF0MMT7RwM0keiy5gSqomkIAIggaZgKkMuEIXFRG9gCWRjE7QcRMgOFixfUAFzAjm8gASJAqSYQwDnJi0ZtDgQjMCARZFh5EZGiQKGkw0BHBpMgJT1LC9zQE7CAxtR4oIEA8Ltz/rho8aU2ZBIaImZE6lWSFxpMI14GBg2wKBjByTAGTDnkPggmAiJiCRIMBysu+ZEIJD1ND/8+TE+XMMObTS5jS8xo0cCCIEFQIOeAUeIBDKBQAYQMnUgMSUXUDAhclBKskiIryJAF0uaAQAOLrrHgKdKbJCKU0VImUypHMWHjIAoAJJI6qWQEXgRFQRoSnUVdBSK8GpCp+tCROQAOhNgkOsGNAEhloqAQcxBQRLZpKmxEbEkMPryIBK6BIkEB2IioEuEXaBAVL4qBBVcW5Woh3K9iqZaYLA1SlxyYOXgkaG5dxDqXeBp8YKiMCXOCwoQFATSflGYaEJAMhBwRTeNlqy1EMhBoGAXGIgiggiEiEKATBhgSpMQU1FMy4xMDCqqqqqqqqqqqqqqqqqqqqqqqqqqqqqqqqqqqqqqqqqqqqqqqqqqgEYTE0nK42iUzELXkeJA93UelNXdXoxhCNKYYAtdaCz5dqYCWafUSxdlqgsS0pdZaxkbKKZz0rlAU6y+6wZZKPOBIh49PhnUbp3XWy/z0RRsaE4tHiygmmQwCoYVDUScl2n4XWrhX4YsQFjT4UCEh3RFBy5wXQMEcuYpuwYBCE1QgXHzjBXZKHPg7gKGijBUAMBUkfM4UCug2JL0RCywCL4CSULA31FRAEMBA8y4xaQtILcmAYApwYIGDaJoBI/HA0sx5oQGQIuIABjVokKTAL/8+TE0Gj8Oc5e1nTcYiWiMUYKH4JCorKTXqABwOYugOCQgWZYogHcpTVhq+UBiRUgclH9k7qJIJFPMpqvpHxFtcaglMXJdkAgU1FpK8gFHRgCZUIJBE8GA1IM5Tdagw8BAnTS+Jh6pigWjUxNk6mLDFoDwNwGRFvkkHBdpK9azAmPO/Srdm2QRW4lgwiGV5qSh5ySEIgBWBXrGWWkgBrDjECl2AsBBpA2osLkUTxwGpUyV06WAWBKNg0LRN8oHMLLKwLKwuVdhSMNuBaTDSGVUYOstgSolSxJ9X8lZaxrqZs5YVjWBMMUh8wmQAwbGIBiSCYoEocCA4IIZGJgEOcKLmaBkEzkBKLjG9TqmgcaLOhoSI7AjDdPIvIMiAozVU0HJ4GySIZkibHspIoDDKMOKIimdQGsKkUoAAECFwYNQYWkDURl1RkQgYCHgZdt+CYINASUWjyFQCgfQCOUktEwAgw5csAzEAQEMAqYwIwLgGdGMBkw4UCgweABL7lBIgCmSKvCPIAECDGxoyxoyxiDhkCAEPiIaKjkfDqHxEDNSdYqEHy75gWjXWCm+NmOUGDXIrGYcnKXkwszig0YwGLQoDNCRAAUHBDEDQU8AJ9N8yw0rHGXNGxQGjKFZMEqS2z/8+TE/3zkOaQA5jR4ASKazwLYBIpZIWNo0rLMISAgQdBlnRo6zNAGgPLwMnMCGAooQBSyIksaoZcSW/MGNAIgONCxJfgCMAEA+Sg78kAlg6DwcMXOISoYQAo1PEaAmBGppDhgGAY8jcqiCoqpEM1NE5zJDQgQpcnyYwWDhoKVDTpKBQAWPTQGJllQUZAgVMkRjUUwU6BINwkvgwkqRLoDJzKhgYMMQeDhhEgDjpmxgiCm8CEgIy4so3rVNCHMWMCohAKTPggGaIaZJmXoCy1CeaBEZYIHUDhZDbHhqCZpiApwtOBWkwpg2ZJgZfE2pg6yo1BggSh1MygI5BpG4RlQahVMQU1FMy4xMDBVVVVVVVVVVVVVVVVVVVVVVVVVVVVVVVVVVQJEDZQSg4IXkf8F0zZMOa1mcZ6BAq0AUgkJVVeswj0xZE1qCJzQlbVBVzF1i0yDygzhggZmGXFQTFki7TbMKhbC3E6IKS0ogMwxlyQUNSgA4Q6SZCZM7wtyWbBXRYTuR4truJjPnEFMWsFslnK2oSSyqXIhMZjpwoCjGY0mQOQmlrX4ljWos8SQzQk0QAU0NMYENmdLDISi5SRTLoDS+UuXyXJQdLgqhBLjzoBNVzCUBRjAhs5T9LxTGfv/8+TEu2OsOagAw/EoR5LKmI5qaAotcU2bEismMhKR+etIVgrGi1JdmBar+tZUBcwLgAgTAMzFCAuKyltXSZ0uVIVgsBM6cp+qGcZS02arziVRdpRssi9zGjGoHOn0ERnIgOL7GJIcVSpoagMIesEDCCyVqhbZQ8zHSBgMCJA0W6tYLLMnUFhh0yzqoWuqHGMRa5MZs4UGaBroWKvpS4QFN0QNFtX1Yi9K6U3jXY+8OqgcJgyjoBMZwFpjCQIM3VmBaZWJmJgSBow5K1HjXY+8POjUlSCAIYSdJoGGVRnABQJMOdvsajuIcANlikQLVRDqC/kwXoQ8BDfCkgEtREwGHpDMBtcw1QRRAa1CyQLmRQoSmxxEDUpgjwMIBUKiAoeqopWsIwdii6WlQXUjLDk0Ulk315s4gezOuU3FwFxIAi5qOyqa+FH03hQUKmGCwFmyqkKkjghAWMqDj4rIBaBScgcEaI4YOJjrxDOKUDMhC6MJDJJIMOGlVQRsghILDIJ2ANjZkoan4oGiwBgQaIQBogKZsAUTFQAYWYDIhaIUwoMW7QQEopCYIlQQ6MtCqYMGLZoYINkgxAWIESU4VJLUIpq4Z2zBR1MlNpVdXC4lcrmbC7EhlUbe1gymKwS22AP/8+TE/nRMONwC1nUc8Ud+HXKaS2J03YlnZc/rpPTAEBukrcpSnsoqo0ttWRDiDRBgygIMipYlHjgoqjSEsIkYBXGTfGAgjLYQqREgJFIq2EUkC1DM4jAXyScBXYMYEjsRzBzCIdRk+QU1iCsYV+AGg69IZw7fGMxg8xJdBkgw7MwSYKqxRsF4IUhCsAVbgxQYMyYQUYEOCAwNDhYQOBBkGXkQBlAgHDjABxCMJRZKBWAeldQKAmHHAA6VEABLgECkA7zroUgEAIBIWBDx8y4wxRsRmhCRBgQRgyEUCD5j2VVMQU1FMy4xMDBVVVVVVVVVVVVVVVVVVVVVVVVVVVVVVVVVVVVVVVVVVVVVVVVVVVVVVVVVVVVVVVVVVVVVVVVVVVVVVVVVVVVVVVVVVVVVVVVVVVVVVVVVVVVVVVVVVVVVVVVVVVVVVVVVVVVVVVVVVVVVVVVVVVVVVVVVVVVVVVVVVVVVVVVVVVVVVVVVVVVVVVVVVVVVVVVVVVVVVVVVVVVVVVVVVVVVVVVVVVVVVVVVVVVVVVVVVVVVVVVVVVVVVVVVVVVVVVVVVVVVVVVVVVVVVVVVVVVVVVVVVVVVVVVVVVVVVVVVVVVVVVVVVVVVVVVVVVVVVVVVVVVVVVU=\" type=\"audio/mpeg\" />\n",
              "                    Your browser does not support the audio element.\n",
              "                </audio>\n",
              "              "
            ]
          },
          "metadata": {},
          "execution_count": 12
        }
      ]
    }
  ]
}