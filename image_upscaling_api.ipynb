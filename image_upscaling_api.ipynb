{
  "nbformat": 4,
  "nbformat_minor": 0,
  "metadata": {
    "colab": {
      "provenance": [],
      "authorship_tag": "ABX9TyOr/9Z7NsCYkkWfW1MwcvLF",
      "include_colab_link": true
    },
    "kernelspec": {
      "name": "python3",
      "display_name": "Python 3"
    },
    "language_info": {
      "name": "python"
    }
  },
  "cells": [
    {
      "cell_type": "markdown",
      "metadata": {
        "id": "view-in-github",
        "colab_type": "text"
      },
      "source": [
        "<a href=\"https://colab.research.google.com/github/dercodeKoenig/image-upscaling.net_API/blob/main/image_upscaling_api.ipynb\" target=\"_parent\"><img src=\"https://colab.research.google.com/assets/colab-badge.svg\" alt=\"Open In Colab\"/></a>"
      ]
    },
    {
      "cell_type": "code",
      "source": [
        "# remove default files and download test image for upscaling and background removal\n",
        "!rm -r *\n",
        "!wget https://image-upscaling.net/assets/images/test_image.jpg"
      ],
      "metadata": {
        "colab": {
          "base_uri": "https://localhost:8080/"
        },
        "id": "dVwMu7NAPqTj",
        "outputId": "768da1ff-d65d-49b1-ad2d-51903b962808"
      },
      "execution_count": 1,
      "outputs": [
        {
          "output_type": "stream",
          "name": "stdout",
          "text": [
            "--2025-06-23 11:18:52--  https://image-upscaling.net/assets/images/test_image.jpg\n",
            "Resolving image-upscaling.net (image-upscaling.net)... 91.216.248.23, 91.216.248.20, 91.216.248.21, ...\n",
            "Connecting to image-upscaling.net (image-upscaling.net)|91.216.248.23|:443... connected.\n",
            "HTTP request sent, awaiting response... 200 OK\n",
            "Length: 28794 (28K) [image/jpeg]\n",
            "Saving to: ‘test_image.jpg’\n",
            "\n",
            "test_image.jpg      100%[===================>]  28.12K  --.-KB/s    in 0s      \n",
            "\n",
            "2025-06-23 11:18:53 (240 MB/s) - ‘test_image.jpg’ saved [28794/28794]\n",
            "\n"
          ]
        }
      ]
    },
    {
      "cell_type": "markdown",
      "source": [
        "# setting server url and client id for future requests"
      ],
      "metadata": {
        "id": "RAL6Qy_6WLQl"
      }
    },
    {
      "cell_type": "code",
      "source": [
        "import requests\n",
        "import json\n",
        "\n",
        "serverurl = \"http://93.210.149.31:81\"\n",
        "client_id = \"1234567890asdfghjklqwertzUIOPYXC\"\n",
        "\n",
        "# Cookie with a valid 32-digit client_id will always be sent with the request\n",
        "cookies = {\n",
        "    \"client_id\": client_id\n",
        "}"
      ],
      "metadata": {
        "id": "fyqcDad3R5a7"
      },
      "execution_count": 2,
      "outputs": []
    },
    {
      "cell_type": "markdown",
      "source": [
        "# upscaling api"
      ],
      "metadata": {
        "id": "Iqecdc3UWEpn"
      }
    },
    {
      "cell_type": "code",
      "execution_count": 3,
      "metadata": {
        "colab": {
          "base_uri": "https://localhost:8080/"
        },
        "id": "jiwkZIYaPlIM",
        "outputId": "34c0a477-4bbb-40ef-bb6c-2086b73943bf"
      },
      "outputs": [
        {
          "output_type": "stream",
          "name": "stdout",
          "text": [
            "image will be upscaled by 4\n"
          ]
        }
      ],
      "source": [
        "## uploading an image to be processed\n",
        "\n",
        "use_face_enhance = False\n",
        "scale = 4\n",
        "path = \"test_image.jpg\"\n",
        "\n",
        "url = \"/\".join([serverurl, \"upscaling_upload\"])\n",
        "\n",
        "data = {}\n",
        "if use_face_enhance:\n",
        "        data[\"fx\"] = \"\"\n",
        "data[\"scale\"] = scale\n",
        "\n",
        "files = {\n",
        "        \"image\": open(path, \"rb\")\n",
        "}\n",
        "\n",
        "response = requests.post(url, data=data, files=files, cookies=cookies)\n",
        "print(response.text)"
      ]
    },
    {
      "cell_type": "code",
      "source": [
        "## getting information about the images on the server\n",
        "\n",
        "url = \"/\".join([serverurl, \"upscaling_get_status\"])\n",
        "response = requests.get(url, cookies=cookies)\n",
        "print(response.json())"
      ],
      "metadata": {
        "colab": {
          "base_uri": "https://localhost:8080/"
        },
        "id": "kHHFwsC8PrGf",
        "outputId": "45eda7fb-0509-43e6-f61a-6a5feca8182b"
      },
      "execution_count": 4,
      "outputs": [
        {
          "output_type": "stream",
          "name": "stdout",
          "text": [
            "{'pending': [], 'processed': [], 'processing': ['http://93.210.149.31:81/download_upscaling_data/processing/test_image_2025-06-23_13:18:55.010269.jpg']}\n"
          ]
        }
      ]
    },
    {
      "cell_type": "code",
      "source": [
        "## downloading the processed file(s)\n",
        "\n",
        "while True:\n",
        "  url = \"/\".join([serverurl, \"upscaling_get_status\"])\n",
        "  response = requests.get(url, cookies=cookies).json()\n",
        "\n",
        "  pending = response[\"pending\"]\n",
        "  processing = response[\"processing\"]\n",
        "  processed = response[\"processed\"]\n",
        "  print(pending, processing, processed)\n",
        "\n",
        "  # download all processed images\n",
        "  for url in processed:\n",
        "    filename = url.split(\"/\")[-1]\n",
        "\n",
        "    preview = False\n",
        "    delete_after_download = True\n",
        "    params = {}\n",
        "    if preview:\n",
        "      params[\"preview\"] = \"\"\n",
        "    if delete_after_download:\n",
        "      params[\"delete_after_download\"] = \"\"\n",
        "\n",
        "    print(\"downloading\", filename)\n",
        "    respone = requests.get(url, cookies=cookies, params = params)\n",
        "    with open(filename, \"wb\") as f:\n",
        "      f.write(respone.content)\n",
        "\n",
        "  # if no requests are pending or processing or processed, everything is complete\n",
        "  if len(pending) == 0 and len(processing) == 0 and len(processed) == 0:\n",
        "    break\n",
        "  else:\n",
        "    import time\n",
        "    time.sleep(1)\n",
        "\n"
      ],
      "metadata": {
        "colab": {
          "base_uri": "https://localhost:8080/"
        },
        "id": "nFHaQrasRYjn",
        "outputId": "7f21498b-ad8d-4f5b-89d7-037c3ebd3d6d"
      },
      "execution_count": 5,
      "outputs": [
        {
          "output_type": "stream",
          "name": "stdout",
          "text": [
            "[] ['http://93.210.149.31:81/download_upscaling_data/processing/test_image_2025-06-23_13:18:55.010269.jpg'] []\n",
            "[] ['http://93.210.149.31:81/download_upscaling_data/processing/test_image_2025-06-23_13:18:55.010269.jpg'] []\n",
            "[] ['http://93.210.149.31:81/download_upscaling_data/processing/test_image_2025-06-23_13:18:55.010269.jpg'] []\n",
            "[] [] ['http://93.210.149.31:81/download_upscaling_data/processed/test_image_2025-06-23_13:18:55.010269.jpg.png']\n",
            "downloading test_image_2025-06-23_13:18:55.010269.jpg.png\n",
            "[] [] []\n"
          ]
        }
      ]
    },
    {
      "cell_type": "markdown",
      "source": [
        "# remove-background api"
      ],
      "metadata": {
        "id": "PEAVlxyjXc5q"
      }
    },
    {
      "cell_type": "code",
      "source": [
        "## uploading an image to be processed\n",
        "\n",
        "path = \"test_image.jpg\"\n",
        "\n",
        "url = \"/\".join([serverurl, \"removebg_upload\"])\n",
        "\n",
        "files = {\n",
        "        \"image\": open(path, \"rb\")\n",
        "}\n",
        "\n",
        "response = requests.post(url, files=files, cookies=cookies)\n",
        "print(response.text)"
      ],
      "metadata": {
        "colab": {
          "base_uri": "https://localhost:8080/"
        },
        "id": "BaL3PNnJSTia",
        "outputId": "63f8db88-ffea-4691-e26f-6be1b4138c5e"
      },
      "execution_count": 6,
      "outputs": [
        {
          "output_type": "stream",
          "name": "stdout",
          "text": [
            "image will be processed!\n"
          ]
        }
      ]
    },
    {
      "cell_type": "code",
      "source": [
        "## getting information about the images on the server\n",
        "\n",
        "url = \"/\".join([serverurl, \"removebg_get_status\"])\n",
        "response = requests.get(url, cookies=cookies)\n",
        "print(response.json())"
      ],
      "metadata": {
        "colab": {
          "base_uri": "https://localhost:8080/"
        },
        "id": "I-RI5Q5iXbAG",
        "outputId": "952e27fd-8c1b-4239-e098-45b1181a668f"
      },
      "execution_count": 7,
      "outputs": [
        {
          "output_type": "stream",
          "name": "stdout",
          "text": [
            "{'pending': [], 'processed': [], 'processing': ['http://93.210.149.31:81/download_removebg_data/processing/test_image_2025-06-23_13:19:04.302519.jpg']}\n"
          ]
        }
      ]
    },
    {
      "cell_type": "code",
      "source": [
        "## downloading the processed file(s)\n",
        "\n",
        "while True:\n",
        "  url = \"/\".join([serverurl, \"removebg_get_status\"])\n",
        "  response = requests.get(url, cookies=cookies).json()\n",
        "\n",
        "  pending = response[\"pending\"]\n",
        "  processing = response[\"processing\"]\n",
        "  processed = response[\"processed\"]\n",
        "  print(pending, processing, processed)\n",
        "\n",
        "  # download all processed images\n",
        "  for url in processed:\n",
        "    filename = url.split(\"/\")[-1]\n",
        "\n",
        "    preview = False\n",
        "    delete_after_download = True\n",
        "    params = {}\n",
        "    if preview:\n",
        "      params[\"preview\"] = \"\"\n",
        "    if delete_after_download:\n",
        "      params[\"delete_after_download\"] = \"\"\n",
        "\n",
        "    print(\"downloading\", filename)\n",
        "    respone = requests.get(url, cookies=cookies, params = params)\n",
        "    with open(filename, \"wb\") as f:\n",
        "      f.write(respone.content)\n",
        "\n",
        "  # if no requests are pending or processing or processed, everything is complete\n",
        "  if len(pending) == 0 and len(processing) == 0 and len(processed) == 0:\n",
        "    break\n",
        "  else:\n",
        "    import time\n",
        "    time.sleep(1)\n",
        "\n"
      ],
      "metadata": {
        "colab": {
          "base_uri": "https://localhost:8080/"
        },
        "id": "O5q3nq19Xkqi",
        "outputId": "6ff6b555-1627-4bcb-d84f-fc9799111627"
      },
      "execution_count": 8,
      "outputs": [
        {
          "output_type": "stream",
          "name": "stdout",
          "text": [
            "[] ['http://93.210.149.31:81/download_removebg_data/processing/test_image_2025-06-23_13:19:04.302519.jpg'] []\n",
            "[] ['http://93.210.149.31:81/download_removebg_data/processing/test_image_2025-06-23_13:19:04.302519.jpg'] []\n",
            "[] ['http://93.210.149.31:81/download_removebg_data/processing/test_image_2025-06-23_13:19:04.302519.jpg'] []\n",
            "[] [] ['http://93.210.149.31:81/download_removebg_data/processed/test_image_2025-06-23_13:19:04.302519.jpg.png']\n",
            "downloading test_image_2025-06-23_13:19:04.302519.jpg.png\n",
            "[] [] []\n"
          ]
        }
      ]
    },
    {
      "cell_type": "markdown",
      "source": [
        "# text-to-speech api"
      ],
      "metadata": {
        "id": "j96qBi7YXswe"
      }
    },
    {
      "cell_type": "code",
      "source": [
        "## submit text to be processed\n",
        "\n",
        "url = \"/\".join([serverurl, \"tts_submit\"])\n",
        "\n",
        "data = {}\n",
        "data[\"text\"] = \"This is the text to speech api\"\n",
        "data[\"voice\"] = \"am_michael\"\n",
        "data[\"speed\"] = 1.1\n",
        "\n",
        "response = requests.post(url, json=data, cookies=cookies)\n",
        "print(response.text)"
      ],
      "metadata": {
        "colab": {
          "base_uri": "https://localhost:8080/"
        },
        "id": "DjuiroC8XjTy",
        "outputId": "0365b3d3-0fbe-4c84-83a9-ed9f9449aefb"
      },
      "execution_count": 9,
      "outputs": [
        {
          "output_type": "stream",
          "name": "stdout",
          "text": [
            "text will be processed\n"
          ]
        }
      ]
    },
    {
      "cell_type": "code",
      "source": [
        "## getting information on requests\n",
        "\n",
        "url = \"/\".join([serverurl, \"tts_get_data\"])\n",
        "response = requests.get(url, cookies = cookies)\n",
        "print(response.json())"
      ],
      "metadata": {
        "colab": {
          "base_uri": "https://localhost:8080/"
        },
        "id": "SnxlpIp9ZMM8",
        "outputId": "990b6393-5260-449a-aaab-e260616d6470"
      },
      "execution_count": 10,
      "outputs": [
        {
          "output_type": "stream",
          "name": "stdout",
          "text": [
            "[{'req_id': 0, 'result': '', 'speed': 1.1, 'status': 'processing', 'text': 'This is the text to speech api', 'voice': 'am_michael'}]\n"
          ]
        }
      ]
    },
    {
      "cell_type": "code",
      "source": [
        "## downloading all results\n",
        "\n",
        "while True:\n",
        "  url = \"/\".join([serverurl, \"tts_get_data\"])\n",
        "  response = requests.get(url, cookies = cookies).json()\n",
        "\n",
        "  for element in response:\n",
        "    url = element[\"result\"] # get the download url here, (mp3 file)\n",
        "    if url != \"\":\n",
        "      print(url)\n",
        "\n",
        "      params = {}\n",
        "      params[\"delete_after_download\"] = \"\" # delete the file after downloading it\n",
        "      file_content = requests.get(url, params=params, cookies=cookies).content\n",
        "\n",
        "      filename = url.split(\"/\")[-1]+\".mp3\"\n",
        "      with open(filename, \"wb\") as f:\n",
        "        f.write(file_content)\n",
        "\n",
        "  if len(response) == 0:\n",
        "    break\n",
        "  else:\n",
        "    import time\n",
        "    time.sleep(1)\n"
      ],
      "metadata": {
        "colab": {
          "base_uri": "https://localhost:8080/"
        },
        "id": "5kLl0khUaJWC",
        "outputId": "501ff202-0042-4eb6-d97c-72e488ba3c92"
      },
      "execution_count": 11,
      "outputs": [
        {
          "output_type": "stream",
          "name": "stdout",
          "text": [
            "http://93.210.149.31:81/download_tts_result/0\n"
          ]
        }
      ]
    },
    {
      "cell_type": "code",
      "source": [
        "# prompt: display the mp3 file \"0.mp3\"\n",
        "\n",
        "from IPython.display import Audio\n",
        "Audio(\"0.mp3\")"
      ],
      "metadata": {
        "colab": {
          "base_uri": "https://localhost:8080/",
          "height": 75
        },
        "id": "r3nTfiRMa47d",
        "outputId": "90331cfd-575c-4b96-acfd-91cc1f3a0e4e"
      },
      "execution_count": 12,
      "outputs": [
        {
          "output_type": "execute_result",
          "data": {
            "text/plain": [
              "<IPython.lib.display.Audio object>"
            ],
            "text/html": [
              "\n",
              "                <audio  controls=\"controls\" >\n",
              "                    <source src=\"data:audio/mpeg;base64,SUQzBAAAAAAAIlRTU0UAAAAOAAADTGF2ZjYxLjcuMTAwAAAAAAAAAAAAAAD/8+TAAAAAAAAAAAAASW5mbwAAAA8AAABuAADQIAAGCQsNEBIUFxkdICIkJykrLjAyNzk7PkBCRUdJTFBTVVdZXF5gY2VqbG5xc3V3enx+g4WIioyOkZOVmJyfoaOmqKqsr7G2uLq9v8HExsjKz9HU1tjb3d/i5Ojr7e/y9Pb5+/0AAAAATGF2YzYxLjE5AAAAAAAAAAAAAAAAJAPYAAAAAAAA0CB8rTxTAAAAAAAAAAAAAAAAAAAAAAAAAAAAAAAAAAAAAAAAAAAAAAAAAAAAAAAAAAAAAAAAAAAAAAAAAAAAAAAAAAAAAAAAAAAAAAAAAAAAAAAAAAAAAAAAAAAAAAAAAAAAAAAAAAAAAAAAAAAAAAAAAAAAAAAAAAAAAAAAAAAAAAAAAAAAAAAAAAAAAAAAAAAAAAAAAAAAAAAAAAAAAAAAAAAAAAAAAAAAAAAAAAAAAAAAAAAAAAAAAAAAAAAAAAAAAAAAAAAAAAAAAAAAAAAAAAAAAAAAAAAAAAAAAAAAAAAAAAAAAAAAAAAAAAAAAAAAAAAAAAAAAAAAAAAAAAAAAAAAAAAAAAAAAAAAAAAAAAAAAAAAAAAAAAAAAAAAAAAAAAAAAAAAAAAAAAAAAAAAAAAAAAAAAAAAAAD/8+TEAGTsOZji1nAAIAghxECAQBEE5wQwcCRQBVBQU1MARDEQxAAAAMACAMyDYw/5O9zq0BHMJTOcznNKQE8FAQcYgjwgAgRTAhCGPcsKEHgJjtkLOF2F2Pauhu7L3gZZBqx2xIOJrq3qxykEjSjTEdFTdIRAIyRYNAe8D1uk0AtQkhmmgrBbZRLYKLLr2SIawXAZy1OKu8YRmVpvKydh8XL7mcK10eDJA5IT4eECjTWMSAUQvGx8KALoOQ8iGa7i+EPoJ1nyEKjLpsPTDYQXregtwBiNmYGwdkbF3PTAS3XspZG0JifDcEc00EADSQKEvm668GoF/GrQ/ADOGGLEbK2xeNl6p3+XRSoTzKNHNnqP8SZQkI1Zx1oNAWEgGFP5SOxFU52bsrhTDHZTHdIuoZDJcLkZYxssmvd91h13rDoOPzCl2Rl6i/jHYXCi/i1H0dSNsgaBNLreMAtNo2PBYBqQj6YwmhRsAShASwKMDPT8QolaEwzEUsAiAcwLCNgEt2BGuJvSZ0gJ6u3bCowM9E80EAwErEJhmA5gWMbCJ8IyDnhOa2IBeAkJxGBZpMqmOQ0aKMUIqiCEQKDIAgsMNPkCSE8yURCAXsBA40+ZhD8jgUkDhETTDBQloKp5Czj/8+TEP3F8ObAK5jIApQu8RjDwoMCeoYCKkYG3SYLjlzzJDEq0bFCWtLmDi15IYukY6JlLGQsnevlc7UHWAAZqsgBwKCCZBxopxlHQCcKzAc2VBS2Cq46KYJ4HQNMqVM8MUQBoF8zZNGFg7AxewFkw5GkQhG0ePJN3RMEhjOEOoJL00BCRYQhwaCjwqouYugVASgcMNCJgoAHPFaRdpL1+QYYusznkKwYoI3w8MGosFFQy2BhlgghuA0mYxYaEkKKCILJatsABBIoIMMAlQUrBVmYQFz0CBQwFEDMKXmFnCKwLhlUgDAGCSmUFhhCeqJAkxUiCZ2AiFnrsSLbqtBfDNVdvI/gNDVjn1FS965qaB0OQ8Cw5eTMmjCg6E0OHFDy04GbfpVVPtGQMTCwKeQBFX2k0XkKBAgAAGJ1ssUTMkEwCFF1/ooJqGGKhYQiIlDSYYmDnV9K1BZsZbVOXvMxIzx7pbEkCBR68zBeCKRkgz4zYUGlwcCDAkcRIJwi4AUNDCzbfLyqUDCZghCFsEggo5DiTCwG4DGgvMJhAskYYD4NEqAgBD9WYSARKERIpgoaLEyYoFgCHIDIQKbARdohFPMeLNmGTqU2QLQDiAYJIAsbAgUEAzGhQuCNKUKBgwND/8+TETHTUOawA5rJ8FNd5GUgAFgKvMOFuQYEiVmi9woBGpCdxiUQ6YAkV/AciNLgPPBAT5oACLNOUegHm0jgsANBp/Fgo5xTNHATEEAHQewIQAcyasQsGJNOiHFIoEyJUbLRKHyJMQHNyRWEEKlIwgDBSYjeBQAw+a+MQMJAxDUTwFoXdEyAw02UjxtCzZg5GG8IwQV6DoBpc5BlIgpYACDoIBLM2gK8IAS67kKBBUIYhAAZorhcQ6ygSgDvDBMC6DFSJstsRIId1mQIWoSkEhE+iwAmqluQxonl7lUQKKwIwhEkgQC1VgKbAMKUPYimeW5RCaI/gGDHAUaWrAQQFBgpJAI3BD2cYu14OCLYiEkyTEojDMIQFDxZ9jqZqBMrOL+FhZTEspAhfgonHEVUU3EhxQcuWjebAQEEaCYQgooxiEpmAI4yQCZlVxCOF6xIM20gVCg8YiY1ekPEBoEtOSjAUVTAa9ZqseQCFELIGCMe1BklKuDKzrRB4wjBCiBwDmcQLToxmSe0BABsEDhl6gBtmyNU6UChEBVDxEIWngQBExCMEAkuSYHCAUAJgIApjEwOHAG4wgBoYAAgEGJAMlOjcCgeIgARAAMDxegmAJME48DQG0JuQMBayRoCpEJr/8+TES3VcObAA5nU8BicApjphDzpYGGlTJAL/oHjhD6CJ1WlPpJ0ZCDoRCut8+5igxBwDWgwMW5KGFUiEYWNIny7gs4gLGRChoKukQIKTBCyIAVQCqY8OApRYRhQgLQJCNQt0HAAgYVBJVwAGYBY4WY8ZYJEmkwjABFLhQUHKgY4teZzSGBhilQ9exyGA5A2mRt0xUoDA0JKSPfmYeCpVxtdNkEypAAcKapMgtJMRXYCECgCPBlDCwhgAGCOyFnEBllyKsVMXuWbCoowWKEEALsCEBGpkqZwKWfk8CyqCXLQ9ZQtwcLd0MAQyW0kIq0tq6pftYFIQwAUiAixdmyv0eFVwsAHgRlwamyC76jwpvQEKVVLtIc2CpFPUoenuj8vpbIMBJLpJjBYuyBgDnvSniYgE1BSCCZI0LCAwHDDAAMiXqWdbopQMliqaKAAUKhVED3pINDCgROEZZiBc0CgjDBG6AYigaW9KxaAlZIhFotgIWbMgDlCRTSx5CssyoAIHg42VQqP48xLPKlHgavTABkG1VQubYeoEhOQDAgJCoKMLCcQgsQgBCUAAYXyGASiaFQC0NQRli6Vyr/ERi5IXSX5GWtSQALoISMjVVAQgApGFWxLRYZIoxLUganIUETT/8+TESHDkObSo5jS8xFL8sGKhQqVTZYclMMjVkdtCxdYWMWQZOX1CFs5KLIgA4aQ6gCSIUCzs6IKAonkQzmkDFGrp2iGAsRI8WAXPS6XyIh6Hia6GalinoqlCpQjwFAoIAGTSllx4kzQAATBnkeAUNFhIUNio0YJA0IhKSMCFaSICFAQaTRQwMwMdGlwi+gJAlunpLyiMCKJAggIS4FEA5MAkICVpXlxk+wCOITMUMKBaeWhYSno5RiQ5EULvvA9aiq9lUQQDaSlC1tBGGB3aVAyovVJRIFAKPiYaJhbBui80RQCHCoNH8WCpQA4KsxnBfsvoyUOJu086tYKKwwRE2nrCo/gQEiAsYLg0fRQComCgapMkJxZxIxAHA6QDcAcWBAGYV6pUoqIAwVBtqnBTrCJPL6QeRvBCkcBlQEYgqfcWGKjEA1pDoAeFBDcZDJtJWqVl33EAokMEAUEWykwEKmcXoBiUAYsUAgaPKfg8AagJCwceFhICRmGCiQsHAG/MMHEgRiig6AoBuwyIEjFYFDXDdWShNAk6xxREdMAKA9YAo2Cl6RGEo8rocMCJwMXOClYyhGFEC6hd9NEqImCczUOFBRlH8wAAiLmLBGJLiAMXAMSGZ8iUg2oOm6wkYDL/8+TEV3bkOawA5nQcOTfF9FKgwSplAyRYAdQAYFCYwSFhpeooDigQIIAUAEJwckBAgKkQUCABEvGWpQ4mPFgIqWXMeIRSMaHdyKjwtRIxocmPLmaKHGDOHGIKqGuKlRyrsIXJLqmShAABXAk4dwUKmJRmXBkAUahgQgdEYug6qYKEyYwCQJjSKOwACGUHQhIIiCAwqZgaYBgCiKNAJAIPhiAwo5S8aOGXChYCW5EiRCLSbARYcHiECEJFbSQHFkEIMSKkMKBTqiq9xCUMIIMoMMSNBoF3FVggkqJDZUyCYHCB0iW5SaGiBclHdh7H0LAcjCDTjkw0YBBx1HMtYlgMiUM1Is7EiRc550tE1goOQSoNo2GDEMRcpYkIDA4FBgwqWWCASF5EXT+SmFQYsKHgKxYeFDZeESKEwoGDyEkZ4OPAQasKCLRAcTPtSMIAHmY9pS2BIBHwdCoJpYmMYk3DKHcwQQaSGXHEh4VEDM4dHGbJGLDGFRDQVK9GsWSRdfpQHQmgpAFwNEk8HCxokMyACAoAIWYC5FHAQEB83aRKMHSIwh2ZIB01FkhgoNXqYhe9G5BIj+CvxMAAwFdJQoUogVOtaRUCJbiocthDSe0+vNLptACEX8IwrL0SmZrkaaz/8+TETnL0ObVS5jQM4UBBowYAhgph6YqqgMBioFSRjVYCDlzho8BnZlDKYCdYJCMAQoXmCgcEjAUQk1AXGMYJBJlOsvEnmWyCqhNKDQ4MJEzQGkKjHBgKFMqKFYBmRBjwh1FZgqpiQIKTPGlCYBeMFQYZUGBRcabgJoDjLJBk4ZwyboQaRmICxryYsgUBC5UqEjCDxQKlGYAKPBDAlTPkwoVMwEL0GPFBcSRHmIrDmWKhYKAAkVElkUQvIib0EgwEhXiJQ5MIagjMwhdbgMAWi7Y0BFgeSAdH8vySBllEgZlbdjCApSju3BBhZKRzOI61p44UvcMDvquxtk+0cwwKtdBIhmWmL5sxZWtUv40eWs5UWdIKAZcwAtIgISvAwBDgyVSoSDkohXSdTiKWDgtEEaEoCh4EJDqYZOOuVDZc0wQQyBAwtcFCwoOCpsILjwQdHEgVpC7Fluw18BCRIWQBy6oBDiEKZ9unoBAosTMcFaMpyguIQYQEHhgJCDyBDN7i6KCMkHAo88RWQghqkAN5TAiIRi4yREIGqsgsYMDEIEyotoDglCtN1NRrZVHMjo3ZDAJwggpMBeyp2rPI8TVBJI4JJJeaOa1E+y9Rwym6HYXKxVjrstIW21ZpCg1CnLD/8+TEVXCMObi03jScMggS8KBIVnwhCczzJqM7NoS7pd8FXeEyAATNEowIkHAioTDgyJQVAAICAowYZMIFLdF70gEwEkwAeSoIA6Pb8GLBGHYgqmCSRjkZmnqIRhww8EQljg0s2nuZU2DUJUOmBPlAYOBDzs17AytsFHjmSRU0ZcSZQ8UEjBFhIAZYgJHDHgy2RmyxkUQNNo9goSHIgwcAmJmShhx4QXCxMoNmRAFoVcIqoiiMeChoKGOcjuTD2aGNBl/0qi9IhDICkjDBDAIaZ6QhUSwsDLojINbDvl9EvFD37TCTuHQSqzOX1YSkOvJj0QbOgkTqTLVWdyYYw+sZboy+HkELB1xwy4C0V8uexpgDN0PRIYsKpaXYWFVVREQPIQiFDbOwk6lGgsihDzqgomnCCCyBrfAUOb+EUAi0oKJL9JAoUEqSl0HOUSi3/QWTzU5BwlIleZlAC1QgsXuLfJAISUeUz2Qt0bYFGHIWvARdskJDwUQnRo5VBCVsqj9jDped4hoxEIALCrdi+MEScGgRZ1dzAiyq01BOEyIm9DZWADQ7VRpVVXUjegITEdVb7/q8SjYCkGNARf9AAoAJALJICX0Dghm6eicCObklQARnTGehkhzRIkKCgAxoYeL/8+TEZXFsObzU3rN85gBgKKQMYMKm6hxTyLzBgdNMiFBxQtuKlCRA8ogFhwxEIOuLOMuVDMTGzDlBUIJARCHApMwARYQZhG4CjukzYQEgldpFGAEEJ5OhDJQ8wwAMiCS1IYtkaAGGOiEUAm5rigEFGOEAwGPEFNCZaMCQcrFgKZhhBxg2Rjww6RMeQMWBDNQYdESESaBhIFGkkAMuZo2iwheZgBKHaE4JcuCIFaNFUqFyl414gYCsK1QvYyQHAkwUOrC5WDQpggjM2IQEmeu8DBRGDWCQSqCyElDkAVPlpwIABwxbqbKciY8UDgBedM0v4CQPUZIDR+YCgGVnWcXPAABCUn0j8XzfhE8OGISEqZIkFEUKYkp0UC10BBwZGKYggAXSQGmADBgQ9h8SagUFJxpKQicoBHJSWtLAsqDmwAQZQZhEF5AKAYIwDCMAIzhwgo4C3kjSV4ICSaC4LawIhmMAgA4RBgGQKBgF+XIDogwaHDIwUFRmUAcaGAoBzE4LTQMIBwxYODGAtMmnEySRwgRmFSOZRH5i0OmMSmZDJJk8HmNxanOKAUwSLwgvsffscC5kEWmJQYYeHxiQGFVEbhIIhYOYGNfmrRmXPnPcm9RruM0IUtCIBjBAkoLAAGj/8+TEcnnsObQA5rEccqAjGBiICYciWBKIpZkSEv8FBBqDRh45jQ5kChjBxMgM6TMuHCwaWhc6YEOXAVpUipoIiBlB1UxgYaEjhYxw5/gYQMmd8xgwFWFJEwI0ZcxAARgAoJMgXSjAIY0AgSBjwAvnAK6QuDAAMyRYwAwwAJfIJfjyguWCzQc2M4BCiwBTzGhjLiRUYZIgHSSZQaQUTPAEAGBwJJtCLJmDCmRFozA4YzsyJEAjTHgxjAAAcgvikwJKLrz4hUXMTUT9RzICgm6n2LhVpRKbT5FAF8C7zeipRIwIAwR9kljUpK5MEKxTmQwDwAxKe7WCyyLa2i3C7GWAaAOYxJLljYgGm8hgooYkmIC1gjgws1nSnZkCAJVu0pevUvQiqv5q6sBKk1hWc0kHCLVSBHQHUCGNiNxBQB4cZ7gK4WAe8F2TF4FcRkSTBw2tIYsLRmZYzHFI4UQAQgoZsKYLg17HjNiWAW6OiLifDLExgoUS6CQsJAX1ahoo0MCpGDU5UEzOAXMNkEzOJDAoHMAAExyITDIUJi0YqIAKCJkcOniQmlCmsYmvPktI1zoyL07xE4AE5MkAXAdcMTKNsYNASMULNHkGzh+woVgAJyHEQuINSHFTRMGME8CjkHP/8+TEXXrUObwA5rJ882LsKFAoINAfBj8148zR40IgEgAEQKKJkEYcWOGyChYkmnyOXuMcYO8NoQWrNssURN5Et6CSx20wZiRENmQ7CrxNseN4oeYzQXOAxiIh8JgwILpEwwRGaBpACACyqkC8gZKPRg1weiBzI4wZQyVryCJM4yQIgGdgZYMINpQzAxQ9K8SDNBZWkBJjV4CwMkUEJGWoQKoCkwRGGiKr1UogBM51S5S8IXFFTFPCRgcahJMQ4wURAclwhqdSy/TrHaChgIAEpQQ+ChJUAgg6wMHNCURNpOCwqY5yLmiAmIDHgIMXrO9MQ3gQ1h4YGXGHijMQGtUDWEwhD9CcuI3SCqQASB4UGmmw4RRl7JcY7oNJKzGYrgDhVIgFZDNpRjkspIBEuXPYYXuGSn2MYRBENAo9lCgEFDIwSUX6dcv5EAcMv4OSYqicITCEgQEgwEMAUXQ8LsGGbKEBIoGAQSgyA4mHLRkgIeYGnBlgCXLzAwD0tS9gGJCBjQBTAMEEcATOBwCK4OIQEmOUvkCHhYhkYiDVPoBTTUYZJjBxEzUPRRISozAdMJFAEtAEUGpUUqTHxULJYKOgCaGKAgKtDWiQMFzPZADVBmRiGLZggiYuAGGBhmRYawv/8+TERHL8OcQA3nEwBmRkZOJGfhZAdGVhphgQIEBAUYMBmbgB1FBABwGEJ6O52HE5QlSE6jRRIcBsxhQ2wDFDNlwwGTVJVcZKAcAyAzmiYELirJDITAYCwAMDK+wpKnMVDh7Q10mcigYOeK1TIAEbAHBXSWLjGDBTqEtB4ZXMYxJkIBBzIsyRrMQpQCZLiJi8ysDxGmZsC3AM4HGPBUyUvUmh0CwzCEEJFExvHlJHlvAAUnkjMjdCQFYKTKZuyglHvruAwRlQBaCrBMEfQVkNmMDUVHjDZirdQJoJjCGZTgL8rvLvAysDDCBBECjMYhWYLKBhoJyyZqIMuSiEBB0AjQmkBVg2F0wJBBJQa0ocRAA3iA9wRAeWbRsqV8j0oEu4DLEQKQwtB0B0gQFXI6VD1AdBQbRByAkxnbWOsQe0CFBAwy4Y1JBXZUGoo3YRhIhofp9FgIqtVcZSsMtBJZDUKjzQBIpJ4iilPJZItOaxljTcxiEMAJ8HtFRsR8d5diZ6la3Ua1hVhIsFlJ3gacdXykW1Ngo7AOMsXDLEgRABgwmNHg8WlC6Mj6i5jZUYiFmMBBlYiNPwjLAURmQjYNFDARQ1tvL0BCCAAMSNwITBRSOVUR0hxJ5AL3M8sBrmgUf/8+TES22MOcwA3nDsquPMDLxuiDvQiGAmwG0BVQGbM0k1yTGMEkBNM2Fg00yIEVTOfMIcyTGfl41YS1hkgkEOvZqZ1HkoGwRHeoSsCXiyEw1Ui+CeJvCGDHIm95UibkAiABKpkW/RIZiClCQVJAYBikioXiXYHUPgi8gMYnsWZBzBIg5ANgUFQmoPkQgGMLqRhQAIjkSkURKbEUnQAcs6OPBUSoAuEmyuA2DAqS6aVjPxGFxKZZquzZp3wupWEW+kAiUnqvMAUVejMXwEAVIiJ44ABNggvUmkAHwQgcJGVvUGFBqjLOqVlly+wkeZBQ041Dl/LqYAXKAYk4UkgxAGWXnIio5F04GFqFzwwBNhVNAWsSCirAmgmqrx7JhRZ9UnQy6GS1UzpenGv1gcDgEKvy6wKSqxL9wlhm9SGLmsRg50FAUyVhWCrecdasrazwa+gnYgnulhAMuXIkwIxp1s+LwM6ZhEYZpl4qOv2oIiaQiVA4yJyRbr1T0Fz/mzN3jABjAoAeMCEqKgGiGdLC0c4w0EJl/S9SJ4OHAL4gPPc44nwAcJJBcNTsjUGDxpYPQYKgBqwgCuWGMnOcTQ4hMUsZCAFFpybzEwMJZ7KjYVeBXYdmkKmSVmDgMMLIgIKkj/8+TEZ2PMOdgA1nBstohMJkICwEImMO2X8kKM1aGqd8y1SEiH2RKOFAEKUOcMqjTcQtFrXESCKUqUvSPZwjuDYtDbdZxUSJKTkSLcsSCW8UNWk/c2wJZAUM3FN2ccl5xkKhjXiqNVxeVy1TJ8p8JwAQaerI14sELbooFv1ouLSs6QiWGTXa4FBrDO0z9aBc5gAjIlEJmbCPBT9T5ZW6NqXR9J1DIRDSZLWKKjTk7lrMDJoD0QuVljB0fZSvkvwrU+8Rbo4TTGVFUCaisC+nGYyuOjcNEsLiaAmixpa68IQyxKdlqy1sxuEobuA2Zq+0eY6lC19YduD1LvWuvWuWja+1O/EYwzl9WvslclrTJliLxa9RwHBa+Yw5TTnBYk2ZMiGYfZIi9gtZubXGLq3ioUpGgLla0qN+ITWKA35EAUyYcqDoEZ+IhzUJGgCYyZ+MREzYYBdRsnGkATkChRntjKhmlLeXgAgCAAGGLEEa5zFHAAPBgKUWNEhwuAmsKjK6AS6s5kBhUGHQsCiIg0SkBQQaWdAHHg6IDPsOFw12gh4JoACgYwSRDknwzpDsHdfUOEkE4qMojIwifDkgQS7k0JWzhYpZJkxe4lAFApZrDLeaQhcOASTdFDBQVIxpLTX0H/8+TEqmVcOdwA3nB8GMt2XWGCIBF3q6TRQ9f5dTP1H0/1L3lRoT1VyieoekSoaqZHpIZfatjEV2pElwVlJlzKw6ma7VvjJWoA4bfqbN1dJM4sMjCoV5MmUGTEHDgQ6WS6o6j0oAhObYFUShQmJkMvUzUtTBbxkK8XjUbUPfaUt8PObEluvCTQ40tTWMhQEPrxXq1aGWHFsCIbZlVVZGBy5aylKl7qw2p9bSoIedZqSTMugdhLNnCcp5kZ1hU5UuJK67pwE+kAo1tThcpXc3R/2dxFYSkYa60DLAR5kNM3ZnLxuo/z5s8ht6Ev1Y2sRGItkZO+DYYOaXVaDDLFVMasU8xMh8DIgJkMxY5Y0EjWjI4HEMSgR4wlgajAfAvHgKjB2BAMGgDwRgDBYCAwLAEjAWASeAwGgFhAAoYAgARgNAHgUAICgCmAOAWLAOiEBMWIGDQAJwYFAHSDVCDArQuCIjBgQwc4MMJEipgAJIPAwAHEURy85lihKCMMNCCZgRoKImbZm3UGlLmrmjxceMiAQBkxbkEh0H14w4oRQFom0ZGt0Lg19NxYwlCyOULADoFA9eCbKViJhagqAEHEBK00BQ6GLkN2QZBRJ8S+qgqG7WW5l6YsCgBf5TZYdGNCcnv/8+TE53CsOeQpXtAAKZuMncp2h1Q7BANM+yzFn80njBMeaq2ViA0IeRSguFeYA1mEOSrmERZQxg6mb/RlwFE1ZwuBXmmmRAy5KVq0ZSiIYYQshLxmiQD1kAEveBRqIS0wcDbmtsoLolKxSSAEN041V2Rl2GghAxEhjCO6v2PwdRydMMmBLsQEKqIgLpHAiHmbiSQSANZZi11h6RamjW36L8uQ/6aldqMXexU7TmsP22aG4Ld9y4hiv+GVDJRGW3jEYiUortITMtLuZElYnYl4rBGnectH9mSwq04zBzxylvowyBXjQmgPogIIDEaFIMc8p8wnk1DJ0OCMWsOY0xByTBPAAMAMFYwTQiTABBxMDMGgyQhVjAAAXb4wawTTAvAFMTAGoxcwwVWLKdswcChYMLHMoCI0ySTMB0FQQLClh18DBASCBh4HBYAGX12Zcvh1o9Hq3rTvvBjsg0BjgHBwXMUgUKAgDBgzwYDIRkMlmQCCosFNAM5sH0sioUSIfSsQqBQAbw4chDRw8MSgkaD5ikWgoEallWVvTGYygAgV5mfIacVwEGMw4DizRh4mGAA+YtB4cRYTQUVx76OWWLrM2bpSIDIQXztx93AUBwoCjHYUMGAowIHDEgKDgIWnWRT/8+TE93mEOhzBnuAANBTUN6bzls/eklBSS9lqRcLf9lax4i1970FysLhgIGQ6FAIFweMCALC8wOATKwUC5GNDEY32s5G7MLtwBSR9+3Kd2NTcqnYZsF31L0JKUbEAgCV5AAgWo4XoU3XgXYVMgEM3iExIADUB2NGHYsFE1AjgcuCIZGAy2DmMY+CQXCxkwtGEggYGGgGKsTpePrHaKX096nlNBT9jNq/LYpNQ3FGaW0vHkQcTUsTzqQ5D+TiID1gFYIHbguxoeHTDYDGgiYRAICDZg0TmJxKHBYwuDRoBGEAIYrBZhwTGCAEFhQJBRbpMLWsg4BgUFr+MAAQwEQIgQCQYgK5JmngAmCmG0Y3hfhhoAUmA0LQYYZ7plDBzmHkX4ZUgbBgKAJGA2BuYTAIAwBuMA7mBCBWYJIG5gygHjQBCNxgEgSiIAAwNAQjA6ARLSmJBxg4iYEGGdCgOCwcMG1lBk4QAgY6UWOGsjrOY9JEMLHzV10CjRlAgRAIBBy85j4WDAgUAA4KAwIIiJEMBPhiSgAkMwIDNDnzbSkQCBmAUQgo8KAILUyMGEgcMJapFuhJi4ClYVDTDQEICwuJmhk4YHFhYOBKQSABQ4M6HkUAcLtUW0nw6jkIrsqQ8Vyj/8+TE5HqsOjQB3tgATy+ZhgQYOAojFrEHFgXWd6AmdVJ6mlVSrbqXIrdlNLMYwzKZDG8damoajVqSVZ5s7pPs7bRFFEpG5jQImWnwAhB5iYRKg2tsOBTGzVJw14yMeRTYXc0sTMcTDZlgwsGMOGDGhYYHB5FAy+ZCRmdiSxjDBlRhvUVTBxECgrEQcKBgbDbkhQLBI2WfLWp7gETBoaVSEycLEYGBApHdgBgQkCAJAGYYIGFAqF4ADjFABrjEUuk6EnAwIXmWvbeUo2KUr9a1BUv28beXqKGZdK3TZbJmzUsfl8baohQz+BXjtujC30etp6qkDp9snaMucEADygkHBQnI1ppVvsgATCVI8lSC43IZZO0OAprCwSZi5DDGWqAcYMQE5ifh9mJQEYYYoZxjEpkGN2QIYOIWpkmjZg0xChwAzkx0aMvQzXwYsCpiJSZEGCEiMWAgMVBwuFjgw4vMPBjCBSBjFS00kGMqGRIdNqQjGjI3U7NKkAF1nZLQIwmPDmxNmKMDgJbQkZL0M/GA3FARZuhsWcNTgOrXMO5CWpxwxskhVAExUBABxMDgkOGBMu0UAELRYfH0BrAi2qlBjQbXAxuAtoGbhqc2w4KDB8CiUY8mXWLttqt9lTkKlaH/8+TEzHPMOkgM9vR0shAIQRAFyiIRASPSjskhN2tXl1i3nT+/jxto1KIq31nQLgQmJQ9AEZl97OUci09IGFu9Hp+jUEbAmsuImEFkQKBMqTMiETjNgEBSI0hgQHTAEzZwTBzDSrj5MjXqQuWJWhjwZly5oj4qTHB4k2AwkLqU3xYi1xegcLIgUPA4IullicamqkxIoYMUXTL3AooDBrUx5EWuQ7BBEtaJD05wYLMGMRfGgbAmsoSYJU3LJtQeBMRnEhafQ0rXJTAcbvfKafDccsyybcl1mWNqhkAlLAmBtAX+WsQPUWTNRDL5N2MAADjrKUUQURkhbUDKFBEIyJ2XWMCFGibhCAAhROsLWe6CciowCgBTAaB8MGRNgxmwiDAZALMUgO8CAamBkH0ZWhdphKhCmC8MuYmYoBg7ghmCKCABATyaDGkkyEQLKG3KrhmHiwKowsACAlNOES+ZiRKJJgVCzDCwwURHTw5ghAT4BXgyQWFnVh4CRTMxoYHjCwoeARoaLmAAKT6TvclmRg4SmgXxZICRAxsBAwaZRnm1AwYahYlMUAUMETAMCiMJTFb9dSsTD3LBIFVybxUCPuy0AiQKWi5gxgjDGulp2l7EakygcEMaDfUcGuGrWViV/rD/8+TEz3wMOkgA9vSchnjhtQZgmB1rx1lxgj5y14CPjAYoGmUQGyaGCTnDYgocEEG7MdBokOOSAAiU82kp/BwQLg8i2ICTwiLEIUzJcmDuo4EpAIcwYtk6WZhhxiiwkVM+1N00Bi06tMzJcAHgy6ZtCYsobJweVSGU0JRiTo0SEtBlBA1aNSMM6nBXICjgEhYKFz5iBxjDxnDihxnCRhjw0DKA44FBSgLhBQ4MIDUODFHkBiuS45QBFi7DxIQNEljIpGKCo9vGICSE5JxBxKwiAJavqpNIus/6Q7yK0WHnT7i5eAt+2BiqJgqDDBbjIBENF5p1qDtEQkQA37SGBs9QTp9IMLclDUUE6JU+1RIxp6yWqLDqbMwVGNBlNC3jQIi7N2y/bKn3onKfwvA1zlUQlgQCQKHhgmOJUSZVMAPR6hMGJzKh0tEYyXGUigGGjDRALgrFYLLYMfomzqrq9V0KCKkXKCwI1leao1A5WiqRBzljAUxQIFWbF2wEHIjLvUikIXUZ8kC127NuLI3LTdX85kuQ3h5siY4YDJxuSl7K1U2P3o08yy3AcppSICehblylHkIx4CBgG5DrhQIMeHjAwtP8ECDG7aLZaMQABbEwUIAgkY+CGPghgxUZwIm5Bhr/8+TEsXJ0OmWU3rHkoKHGtZga8YG0m8BpqquYUXnDdg8umbpI6lGgHg09McNM6FM4aDFiMw6uAyhD8BHCYeDjUB4gASIUBjCi6QMgByUxwltCImY8UascJAzFHTQIxY6LVTLBDHGAIJA0k4x4zKQBXwuQMaOETEZJDRMx5QwTsYiGcVmYOBF80Qoyo8I4c0hQKEsyIaaXYQoGpkiBEdpZwcZ7iESQZbEu2CejIJSjoq2QDUUA5e5ayXo0+PINgZiTCk07pRERYivVnM7REQDvQ16FRRW1mE0XBZWpyzFK5qa73ykjOlUS4TsvQ/CapZ0rgrwRmcEvqjIXJU+joVSN+uCaKikD2UkrCiMCFAyyDglsG/c1Vit69WAhWoygGjLZF3GOFsFMQcKhe5PRPdSKxZZLnKiLFWxu7Rw6/7SaF9X+brVZY87YYHftk7Y4PUh604ag5QNTKKpWKAqVvOoezlT7bwEsK5lPMNdakyNdkouKKKrIjMTd9LJK++4Cv37fupi9bfF+4CcBZYjKoGuJGtmRbUviBaARB5epUadgQCTIsASsFCjqAdNAIAlQ8SMCRMEKOUqNYQN0NMqqOCNNDoEA88jMgJmIDlbIDhRU2HEXAFGTHNSGLtukLFDQibz/8+TEuGLMOmygxrPAW0awnihsHFEQSwA8c2MRkmAqLJg5YDFwwFRUe3JfsiYNx0tEYqhhPmCkZQZc0QiCJVyQQ0kEF6l/l+RQkQmgcQyEgU2A4ANIENkgjxmCAQqIBAcs2FRstqjol+AhRAipkgEU3SAfsoQBQz+EhyfSWgsY6N5fa1Y21Avs2N4o+nKjGueAJPK14LlWytNmDA+PO11yGGrQL3vaphAz2vu5DWY1WdNkzO3SjdfUNTFpO5h9M9j2pZUbKmnz6mDY15tbf25ufltdSh+HgZ49ia6LkAPQ/CqcaIm4k2XIUPZMl6osW/UiHKQ5BQ6widS01VMQM8vEDllmVQg46Xr9KQRLiACGpA3HUsCvxU6UZgYEvaWKlL1IWv2gOc4hALBgOG0+i+RIdR5OqHVAG/NYksTkQywLpvDDi1lKSIKYCz+MCBAG4yFKDhfBeI8PmGCIBIAgdHhgws+MdMzBUooGTCj8wgPMtLkTTKBctwYEEgokAw2JIgEKTBQwydENrKjJlA5EdCJ03SLGnM2BKNtDjExo30mGEMw0TABAOCZhQCYOAIIC0pE5BI4wYAwpIDKy1hlkIkRMcRVw/yNJYHqSMWGEAQwBRPlLQVHGtKGPQGbCGVCGBDD/8+TE/3UMOlgAxvWI6AMMdOE5LNGZGBgYrNA6uZxCaBucMwYd4WgBx0RFyLiPbzRjDgHTTBxCzCHAGTmFDGgbh1kRADLkEvQEZJBBfBkhhWg1OLTEoUwYUaBkT1CoKEGdEQkxoYgOthDhhjxjQyyZMlMqGTpSXAoBWNSSaizwaUFkTpPSqZwU0RQKAjIYVdgDDlJJJSBQp+U5xwIja7KTphwEUlTnrRL2rlk7cguSQqcCYzTQUBmC0KhafYJBlnJS3cKBSY6OhS+wsOrNhVXS0BxsKDHwQRVarKlDobIgqXTjVUxBTUUzLjEwMFVVVVVVVVVVVVVVVVVVVVVVVbyAIA4LsCgrkJQx0vXjGYok+YiYRhlitJwzG5qeGhkCGBnYqRn8ORh5phRpn1pjxgUDCEoYUKCgCh4OGoSRYUmop0KCjClFNEBAAEjCcMhh2kzp00b+NIBhYaoE9JUAodlHQEFVewBT7SFps5gJrSuWhLiCoxciGAOAGhAiIsGIiAY/UQZSiimg47stNZ0tlG1IUhBGDCFwngXuoKPJEWAAPAAkLh2mGBDEAdX6UCHdBdPRKBhicAgMqVAEYgmEKUFZDcnjGRTdBwIbMmMRWBoYoPJaInLOlxgQyNwKJP3OqmD/8+TE4m1MOlIA93QkYBL40DOkq3YUVYZmXZQ0TqUyXq3BREKATDDzDBVYVug0IxFP6LAQKNAS7rKQYNBQ0LA0BrShGGCBwABIVmCBhUYXsaeFRBbZN1obsigFOllEv4rckM2oOGrNSFMSEAIJAczxR4vkiEiWqUv8o2prGSYKyNIl5GRPsn0nU9bM32ZE73YCb55nd3FWtxNW2VKbRV12xvyuZU0001ltVfCxn6hqDl7Q2zJZ8tja0kkoPd7JP0u6XVkzlxWTLjpHLdxVVnAcCXel7IIy0KRNgYc0qH5LDqpMLQiMEYFAmGreTQY7QIQjA7MJNEMz3zQDDqF1MQkQA0ESIBZjQwZQUjAeAdMSwGowsnMOIAIrGPjSOACEzN1oCAQCBSUBNsIRGDAkzMbSxpkZ6cjCnE3BlqkZ3AGjwx4iQZKkmEhhgaoYYAqfUsKxgWIlZ1B01Wvq6WEU6GAYCCCAADBYkjmalRpiWAvszVEPtfSJTAxyMmQKESzbXiYoTC06mkRd43ecRtlhElFKgEMYaZVgYd2VnTXhDquAoNFgpm0ZmyYCaCS0OmsSKgAxQZrAoGS3IQaHFD1laPSa7LYKW5xxm4r1gx+tQzSvbKp6ga1D0PLAu/Fa7DXFoaT/8+TE/nR0OjgA9vScf5rUteh74S5TvwC+8PMmWLJy/rXYW1pgqtrniEOnuKBiQMscCijcHg4oYgAgmHQYsIZECVpNuCwlCeRWjCGwFPNwJAQgVWgRABiQlwCJoYKdcmHmCVpqLUAQoMPDRgQjTFChwUKhRIc1Axg4wpMy5As2JEihoKAAcFhCgzXpE0X5yG7b/wHOx+XwE/+duklTKn9mpTZoYizF+pQ05cjLHRC4BMtkbjMgQnFqRwQWCZecsFgEHzFAZfcACHQAwlEIKhCY4KCAaJV6vBDksSkkSGSzUU5MQU1FMy4xMDAOCmAgAWYAoBxgiBJGhcQaYbgNJgUhEGLMZaYpgZZWEQYNYPhnhEjmHABuYDALBgpAkmAwAWYSOmbjZngeGDZMTmYD5QgmVDxIVmLF5hJOYaRF0zJx0ysCM2aQTImCpZrBEaCQG2pAWLzDg0MDzBgQvaUFgYCrPGQlWdStD2naBDsG0L2jQKkKCgEdNRgIC6kY2FGohyAwrEQQKrwbVaTkvSoDHpPCXadxmrOVKxZcZHMFMyhSAI9azUHRMNVYBGsTUtUoBw6UQ8IYhiEAjHBxYRIBBzVJNlFb6eiPiQieKsClCREHK3qbv3F1DAUfD6aaG4wEGGL/8+TE9nJMOkQk9vKcPaOymphlq/X0YgTLVb2vBQYWMMxZHkAimbGhKMhAFKMsU3LwFwHcf1M9U6F7WDAGRXQXWALkM+LuF92uJWgksxzgqIhwEACwoViagnWLAHxMX5MZ0gVD3wUMJQmo0hcX+RyATJkCl+BhUUJMoVeLB0Ui6xexIxW5IpDupYWlUNjbX3ttuy13rPX4lFqxKotIXhhpn7WPxmIRKIHWg/lJdhlk7/trF6z9OU/9NArZHFgJwG3Xw87Rl4Lzbsu2qBhkxkiEJ3Z9gSFLAGhOZDsmXC1lrNUIYA4GUOpjtWhE4wSXjWFCPbvYxqNTFqBPvdM1cDDCCcNG3MMJACFMQFBjQHAEbHhA8NK1ojCoVg4qzYMIkSk1JgUPG8Vg/abyGiKClIgBruJhDAxkAtYwAwCgVE0gkA62S28ErHpFzo8I/qLO2DBCZQgTmgXjQAygsBLV7KyrZedujclYldrzaEsIpSpQg6rQUChkwx8u2CWAlGJlAOCggWFxKbiB5hhJetSoZEF/EfCqJHGYUaSglcmeFnjPFZozboy/U3XQJAHZWm6kGIDGiGnBQjzkLCJsxYIv6UC2TqxEQ5VBZAiBqzq/C4FUaEUpHRhnA6vCqdER8yTFB0H/8+TE/3SkOkQq7zQIxAy64WXoSBxGZIWaAgIRpVLmfTmcJFn0MzlizJDDNjQFDMwkMOdM8aEIE4g87Jk27c5UEZJGIVEhwM1GDTk0kgZssNATBWMyCk2oclJmAhGYFIawUBDQOKkQ0IRCSgFNhGNMESQDkQ5GgQjBUOsA00eEuu3NeSrU10TUcHRcVmTS3Yasvb9l/4Db9JhuKMZKDTOgVNCG16uhPO40Ft427DuIog4Wztu7vPC+yuIo0F2H+aWzNtAgY0hy4tGI00RcilbtvDG17uk+z3tovSILifx33sVMQU1FVVVVRuKwmM8ZkMqg4DiTNhwoNTLTGCU5GeOgSMVyJlxiBDUjGlFmlAW+vRXyfSaCsYgDjAVLYvcF15uGJXKUDAqoBN0ywMtEJFMZbZhRICGmWBKWMcCEa8nVSZRvSgUk6AMCO8rEglUrbKIgwsKTLEAEYCJDRSgTUY8ne71R3aFciI7XHma7D7SS2zdFPEQ5ciqYsQZ+o+CiznOchmFwiTZggIKGg4CHCSqAAQAxxEwhAxosxq4M5EAkQFzdOQi8iEX6Cg2JIUuIt5dzqw8rcn1t1GSR580VYdgZ2G6QpQktsjGiEXiMKKSfLMgQaaQKAiwBHpyGTLCjc1D/8+TE+HLsOkAA7vQg7TbMaaCrYHIjGEDJASEKKFgM1IGp0sJKQBqkJIGoTpanKPmAKGmGmUQmcJjAEvQbiKCigJZnPaA0kY+McE8HJgGJNHqDb50kJhF4ALmLdGrMjJ4REXLEiYcXDEa9XLAQQywFPleYICiRBlisSTa90TX0EQKOsJRnYy0NaDYF5AQGDiyYZKOSrKBi+C6qqRMBR+eNRYWBrhLzKUhAQeIMWRSgZBctABhj8NuidAavwqFUkyBxVVgIAHQLlP+rEmqjaSgH9h1IksuIQ63oHQ4IJjBClwJMQU0wDwCBEEWYp6SJqgomQW2bQixkAimUB+Z3Ga7DR5lMXjsyyHAoDzCAOKjyfYOBAA4GRQDhcAPbTECSCJoyWBqUgFNGgwaCgssmbTAImHaFmm+MY6Y9UIAjfDBQAWTT0YilyPnEKSA4MKMIBM9yCYMtohOKoyJoXLHSgUQbo5elDRpCYAYygNREuhcVGZST1LiaYhyTDLcvGXZIkFEl/MYiLTE0UUGBLzlqq0UR9lpfIISYa7AhiBYRdIDIoT3tdV2UjZRG0PYEao+chhppFNLmu0zfSOJuM87I3EawBQoZQTFqy6yk1EoGQ5o3NaFo3pT2BLhMOtEFMggsGnL/8+TE/HPsOjAA9zIMYxdswDX9B1JjahX4z3DFJNbYzVzEDNgEDWFHgUeFkxgAHwtxEAqgZ/pADMwIzXQAjK1wrsfgoaSb6A1QdVZlHGwcaCYooWSOEYGMmVKTGiqIWLAyqHpe0u4XEWOhOMEUVHKwTLJCiRUaBigsQDEiyhEIArQGqjejeZYhsqh3IVDJACIAFHAwAOERkGCE6QCCowZZpAMBuIQGMBYswBDYeHmm4AwRdDlIHKJmiqAvjOZZ+WGDJAMiWRhRIM+ORkzgwtKA0BDIk2aA4tqHMmMCGEpfqrUELUjBMaTT5Gzys6RZcTI5ITYRKjBcjzOCkDqNfTNU6TFhXDN4gB0NjCUVxwHgELxhQC5goGQjAgwHDVJEwDA8wcCUwjDUmBMwyFQxDDoxlD0wCNgzYHQwQJwxCBExpCEMD8wBAIhAVCWMgEYDgIXDSaJiK8FyFkTLAUpx4i3Rc6RwsGIgL6JeMPVeARJhhgQtMsYEU05CYxQcChVAHeW6qN83+T7b19Ez029pihYAstoqx25iIQEFAwaTB32dJPdd8nWGisNQW8SQqioUAIypcgkOpqhILKQ4r8QgnHcp/qsSVXh22zJdbBoEis+xGBbrMlzMumVqytjqApmqMoL/8+TE/3TMOjSo7rE8gLR12pYIcSgWPBACHLbOYRFU3y+AkMJgamIQBZAYAeX/XCYdwRLTYlTNiTNswmGARpomhiCE1dEArFhBDk5zbRKED6IpGuSHYF/SdAvUbgcMGuCLlBCb4SEWW1xjKHcZCPgMo0MwqRTMEpQ1R6QxgJRsIJSPSrQ3EvKhJA2Q5oKzDK+R0KsL4pbF/iZ6yWBrWBRobXosR5GQl4VbSzyqgOsBlmILAlsjAUmGNPaWqMqHaApjGY0iNIBw6PqPqrV+rDviycqCBVVuISU72WgaoMCW5ZCqiUAxGBWCKYWYL5s9hxkANxiOD3Gq8L6YV4HJiJjEG+YhwYX4FABC6MAQUkwAgKDBQAYNdC8CggwiBjDpBGgaMhUxUYTAoCMDCoxsBiI7GFBMYgVoYAzFQcMKQosO0ElszGUzep5MMCww6OzHYAVpDgGY/AKgi5FbXNZOmG2jLFG1qI+JMo1NfgcwgBiADCQdBo4FREYJRBmQWmUCMAj4KAEvuIASFA0FM6h4su1VEQILoZrALrYMJHhJORBzJsDKQQuNFGIoiLpgAcDAzOy0CGcrYcglZsqiDSL9OmYYACQ6vlkIiRlljiQZFOUk5ZUBa1AtC4r641HhiFfCt3D/8+TE/nU8OjQC9zSclVetUkLcpE7MlZys9ACw4uW0gRDFLnFrPgmoJBUbRwoZgqPIDSCwKgGRQKkGdZBcQYhUSnBVKZoiYNuPPDBAACBNbTHpJsy5iCBMCLF0QGiqBKoUIsG1KkDk2IYOgEB41eEKJhIEEHzLJhZiYwuYoMloShgM3FAg0RIi5EDAwZfKfMEtldWWug1+hfWo4zlP9KI0+2Tcl3NavzsviMVijXJA3N0W0fppA0ISdQEpHtKjLxMKUQY2z1JFG6kbOFgLW3iTSXi4cOsPQNaA1xR1+GerpmnCgrtMQU1FMy4xMDBVVVVVVVVVVVVVVVVVALAICMJg7HR6NtkYPY1aMN0ANPSEMaQoMdE3Nb+IOyHtMdCxM7ToO7gjAjg3NcM1Wh5XMkXTEQcxoJMRNAwSMhKBIWRsMhDjFCtFMwdCM1RjmbAI0k0TG2g2MiMMJUzmBKVGAgBw1Aaowwk4kAqtzE2MKmbdXCBNSLKGCMDLWGKMW7KxjAfNIMsQHMuni3VmrjRQEhA4aYQmoiyijfpxC/y1rKJoWJAxh11GigAzjq3HjDGhSzLrL/QCt7F1cwRbBg4CRdQEiAUpCJJVaq5Vb1eLuZ6zhk7mwEw9vl+qZLnTxQDLxWj/8+TE5m58OjRU7vJ0DwSA5ps/GK9+Qv0yFpKti30KXeUBUcJQR4QwgWugAFDBWpVJizMFzgUQFDIbOmjyYSpyPmgma04Q2ahLKTCFNI0QhIBjJSNuQMhLTnIibvwtkAVCZYVkO0AsFg60zThQ8EEHCgKGmkSYRoCOVlVgTrNKMMVXiZRagicLOyyqrVApfHItBsTg6Gr9irMVrrDpFHqGGZJIsYu06hkL/RqROTIYopS8gBAWOXRZEzZ9Y8zJmZfFL5E9KFpbatak0PSGJUa8VelzkBy0VcK+hh52KN+3FuAJDAvwiEwFAHINoPaMDKnxq4xL0nYNANHUjDrwqAwk0ItMHCC7TBzQQowKUDAMJoBVzAaAP8wDAA4MBXAORkBYMCFAgDARQA0wEUBYAoA+FABoaAbzAKgD0wFQABJgEcOACzACACAyEE3AA1ZIaYAouarGdQ2UOELE9hGLGjKqJhhRlxg4BSoMCAUMMuFMgDMEAKA1MCBL8ohLTbRYBpZVQgpIZMMBjplVxihAsPMMBdFQEKhIoJBXCQNXiYcM08ywtJEChiInHiIUKCwhCiYsswxswpIwI0QBTMph5ugsnInyu15DGgi7TosfGBYRJMAGMqGMGBBgcmWCEygkMGb/8+TE/3wsOewpX9AABkMsZTnQOFLPIhaHKfdl5XnTWLRKOprroeZQwwoRNYChENkFluOix1x0lXtaI01egVEF1kMASCTZaG3ZFZTKdac2rjpFw8KjDKjDBCSqbDEJhBpigBnxBgCaIpZEeGg0Yg9AxbkQghYmWtMGUL7gUKhKKocSMJUlpVAizSFK8UGjDjjEkEIjGGzLAVVXpX0SgS/ruoapMKCIjP+W1XK3Faq+GLS1f0WbuoasVBEw5/k4i7ZghqTTI3udaKMVUVWSnaoEoW0faizPIkwNUsDsuLdIPI8rEacxl92TM2dJN6HILttOhqG0jmPPrPIBkNmAqW010rk06EgyKMIzbVI0STYGi4ZTgGCgOMOgeDjON5EYO4YrAoLPyW8DABN83ZNnzrbqpjJUtFKFTHHzvGySWGRgMUzkyiljCNrluuapNUcHRsb4HkdSzPVrVp+FIci7DstsCgIOE19M8xzMRVdN3XbNvUBg2f5HJqIIQKBFsEmAqAIkAZxEvhn8KRlqV5s8mBrc3xt4ej2wqURutFn/CAHeR/xoAwsAAkABaw2nMUwkM40KJw27es6Fqk5TTs4yRx/59x2t08zQ1p9+XnQ2VaYJgCX7WEd15zFU2SsgzlbWD4b/8+TE4Xc8OgwBnegAsQ4kTI9XjEDOcYnBEaFpXjYsW5i9GZVR15G/jsO47MWlDaSegwetp8jNMTtMkQ5DjUMWyhMrxZMzCOMKhVMjRLM4D0NCEIM5h0M1yNi8VvXKlXWUM5P7FbuUowg6B445E43Gj7TU0YfeHn0xuAoewUBBj+MZiqJ5iKDZhSKZi2FoQEZj0MBhUAheAwVAUHAmCgDMPAqMIAepM6lLM3qeU5RmM48iNaZpZiXSu9YuZ5Sx/fqT00/k5PUGFeFSfnyuZvg4IDCgHjCYPDDgDjBwAgIAwQChgiB5gKApgyBpiEAhguHJh+CZgMFBh8Fxg0ABhKAKb4GB8IA9Hsv2TEFNRTMuMTAwqqqqqqqqaqKksGjJAYQslZKLKA8ZAMNE+bTOaC6A9qDj0jTTMK3kBDzO4tqZgau16EuE/GozEZM2FujSX9eWfehgip2SrXdGSOVK4bgKmnpqls2JimiV3tBNRabhMOYV8KtSftzn/HYFvU9LR02pt0oAh3sG0dK7UngJtohDztQ48z+OW2bOMO+4DXnVdfOWU+rNLOxR84hSymVxiZnYlZl0Mu85jvtIbMtZd6IhZ99UdnCQoLaCMOXKR9owgC9A8eInIYkMmPMYSFQJmRL/8+TEyGbsNoFH2dACZQwYUORARIeIQIUBEAVDY28U1Cgxik1ZgSwGWTGchmvDGSjCNKbUScBwAuYRcB2U/5ET2lQgAxZsC4CtHKQGXJgQWRAmqBzl0Rp8ELYBVVbAZIKb0QPQEBaMzBWUF9QqDMUAMaPMIQMeNKoJepYBl6xIukaTGRpkBhoQyBQkyJADUQhyZkMLBS4oYbqFmTWgTUNDBuDAoTYQAaTrBUAIAKRBlRgCFHEKAL2j0nSvlghEHaaIWJjJAJSmmSG1pm0TAKuYYSOKAuISpSSmyBQYCSBUTsUwBC4wbAUyhTA7aLw35XUwTCEweAUzDS0xXPYyPHQBHIcHraZvo8ZeGwZOJMcJSQaTAaZLiKSAYYsBOYsAwYQhUZMqmShBmwUYMAGsrZzBEZWfmGkxpQIBoUx0rAVsYgNjxOYEKmdo5ls6afVnai5ta+dvOhQ6MwHkgoHEjQSBzFxNEZkZho6X+MEACEfM/RTMx0EBxmhUY+7m5oZhIENJRgxyYeFKViAjLnoLGEASgC6QYBQ6XPLrsAEQIhAigwRVUaEzBi4LFpVNjJU0wMaDoAzEeZoia+pjoay960WgAYUHEoddWlNhZCBy/2BAAVPFfZdmMX3RjbJrL7OnBLD/8+TE/3kENkQA7vLcaLq8bihOSmVMz92HPaDBg0U8sEomt6X+WOskwiy0BhhF1guCHAuAuhnSbJZYySG4DpaGgREZh5vCA441YQpKKqLKCFzbBJEUHUpBEKQjGcoFogAGSiGaWevpqthAwOsN0kEImcMYiCkh4UqBhcYmNibgFrUtRaY16TbTRHLSDU40+nQBrDCICCC64cHGnLh6MzkCFBq6QwsuGrCoI51VU6ug4BJdSpOhKsv0r5NOQvg9Kg60VVWdpqQ0XMZvMqDIwlzEw0iEy1N0AbhxwGiqbxpM5OdsSXzyK4ZMrYrhnq1wcmn7HjAfAqMAABULBVGCCzEY9YZwYEOCAUzCkLLMGMH0wEAkTA3AjMs5IUwNQmTDTDkMDQas2g1PzC9CBMHQMImkRsEFGRySZeBwieZrYMGGAECgqZcJ4lZTBIVMajEw4zTIYFMLGw0kTTXbWHWOYoFprOSnuUIaFqZj5BGinaY7I4odhGQzJRNMVCIHGAkFIUBJjcTmNweLAAxSLioLQCMjBCZAYiMSiEzQDTRDPMjJoIJTWTGxnMpCowOJgUJxCMGl46FGQAiOGREl5h0GFiBliwgDhU0IxICCJ+hRgZ0qFpYCAmmTgoSiAgkJRKVoJDL/8+TE7nskOkgA9zS41jCkgcABAl2DAhAoKQVUkNEH8n2sP7LLtPSX6POeistoKmotC4bm2yvhFJmq7VMzmHXGu2qmdJPVo9apqOZed7ZuHX9rXpIneoCjWUBQuGJQiqhiAo0hBBFDUSLK4MCUJkxiiY6INmuNSADJBUUm6AmKAA1aHGChSY4MaMWMHCqWMGNAAYvCMiyIkuhI1BCgkUlMMtM6BDj8BPCICJfFXLcywAV+1h03gXo0NmAAByEvEtBHtPdVN6kP14F/lvue16ZWBabG2dtMgYuMuNqyun1e1nT71VzNiAIAChCoLEIEswrtKciBJGpwhAJ/WnNYLMydTNB4mGXXWbdZD0XVMBgAIwRQYDBAAnMxcw4xRAbDBhALMBEOUw1SEhIg8wHQQDGwG+M5EpQw7QbjCgJYMOKZ80miJDDtEyM8xDgy1zDjH9BjMHgHkwBRQDx3JNuHUwKRwheG/5YZwc5s+FmXjkZFGZjtimSJkYIqpxDgmTT+bxCJ4BKGG+wagMx1kWm4nGd+Sx1BZmDzIYPYJn8fmRDyYwGBiRAGBRCaZPhjIIGthSZ+cg0yzNifMWIU2sEQ4lGFSuBlqQDMRjAx4QxYyAIQiwABKodEAacMlQxmkUCQBeT/8+TE1HfcOkAA9zTUMcMgcSQmIXCgQCCxAVA4owco15wx5sSdmOAtcBxAINoMgwEW7WWvZACDg4UAgpSDBjgNemZbEEhrXKV04cmJPBF+ajeuxHO9cfe1D1qU26kStY571rtPnSSmAYRe3E4YvS99Wnv8vsVCq+fcLhQKVLsNAMYCEBVOwaAIITTiS0I0ABw0mGhYaGCDBkkR0bi3SRwYNQeQ3V6DQiWSEK/nXctsStzCWON2TEVnIAbF2FoIlXqlnV9rabo2yj6FzQWcg0PEH6cdtVIqaoqu6oCqVZj8wFbd6m3Ns5isPR13ZBF5bhLn9ayzqD3SdZmaYLayKB2TRxlzF3yYazUkBDQIkAsZQFMEXnC4kvVkakxBTUUzLjEwMKqqqqqqqqqqqoAVTa4YmEschQGY4CCYbiGY9saZ8CuYRiyZfC4cLo0aGlCa5smZV/IfRtEaYmybVRgcQlgJGmYTC4FypM3CPMgBU0KEjIhrMFCE0ELCg0mPwwBBIDRSZ2M5l48mPx0Y6WJnpRheImWhkAwecva4PSph0LmNGcawgplZDGZy6aUDRkchGNisZ2RZkQlGCyOQDUmLJdAxuKDGouDhehMbkpcWuBQKf5p6ZKNgkAmwP2IQAs9dKtz/8+TEtWI8OlAE7x7ewl01IGDQlEAoAxQEDQZQCioCEQtFQKWYCAWLAhQV2W2T0HQIlYvFBEAThBzzBeiTpIfLis6+pqwb9ls4NWIba7etzOyHihS6WkU2KhRw1ede4WNZv/95zbGLaeIsfqhQokImJ0BVCHHUcwKYF+dQQgHuBJhHShGsMweJfstp7JIwCcJ9D0cdSoJ0iZ1IwHIX9Vym0kHr9DIidRxiE0FjNY5cRVKraJxdRT8V8eKz0hvq79HCBHgV3L8YiYrLK3zuDq67pjUF7hWoammBDntEOhMSeXUwKQRRUS0xRV7DPdKSMOsHkwDRJjEdBuMJwbUx4CNzILGoMBISsxkhkzJSK1Mf4bExeilTLOK1MXYLYxJQzDAYAyMFsLIwzwjDAvBmMIED4wSAiRIH0wFAKQKD0ZeIJiAMmGxQZLGw6AjBwBNJGkySPDQUpMjpcyIETPS3N7RM2I6TgCnNLIUy+6DXKwNuXs44ExY5GBAkZFIhhkPGJQQIQyYSAZhMPBg+Lwqopco9I5UaQqGSn0xU5UxVmoPKVJxOUqaRo2lkVYACCjBoICAkAQkYTAxgcAIXJCioIJRCYoBIUBIoIwgSlqUCCmQ8ByqDgcKkwXHUOLpLpgV9YRT/8+TE/3dcOiwBXuAA9Scn60zlLrecqzvSuKy6glctoYDbRrtt1qNUtyAGov3Enahpwam3pqz+bU4hKqrG2sNkZeyKdQ5CoHTcVVEYEX04pbZLwHAoGAdOkwQBWJhcEkQYBQKEABMEBUwkCy8AcCkOyeBgMDGCQgCge5qBqE5T9BAzswl0DDIIV6SgUtILBIvK1yFtyeNgCO6rW7KCqZBYA0kVaK/j8r2h5UrcEVljNCX4qmtqCG2n7MBOUmko+t1WF0X8el4s8Ybfm000vK4CMyUS1Xhl2b60l6Bo5D03JKicsDoDaVrCkn4iyjOHwzeajTQySzOSHzEQUDNpiDYcNDPcrDRMBTIQwjEYHjYwnDg5ZTCUGTFMUjIcVjJ82TOElzCQGzFsHBGGBgIBJhAB5gSAptOiJh8yxtMbwEAQwrCww7EswYBEFCIIwgMHAHSqOlnWMCUpNkS5NIyVMFhLMKgPMHAzGggFgqMIg8XwpcYAgCCgDMPhyMfAKMbg0MFQ3MEwNcpTpM9EJT88yFyYfcd9qMxHC0KgkECIYCAUTAQCgXdqMz8ONGRpAgFuq6TuuxLkU0uILcCWImmDIIjQFAYCyzBfNMaH3VEQArkXmmNDcWn5dCYlZl/VroLhAHn/8+TE9HzEOhABnegAgYCwKAgHBwCQRFgPMCwDYnef2aac15Z7DFDUqACBaC9vdmVUcugpx5qOO8xlymolpFSp9gIB1/M0LqGAQBMUMHAGMDgBVeg8vdoIUAEMAUVAgHAaYAgUPAejM2JLJdy0WuMlbOwCarwmQAgCFSteZaxBdrLX1MAwXAQVmFYZmDoCrfIhWMLg2MGgEMNggThUuDg1MCwJacq5MBJaAl/ODPoBVFGZMeuoYsKeYucs9fDOXSdF1l2vw+2DcnRgdtWsM2hToN0itGw2BXWa07UHO+/mEaMAwFSbCAApjAoBkNAgAQMCbABICwsAiGgODwQgWGAuYMgWsAhQNAQMgOXreQwlaMCVDHicxMda4BYc4YeMlQDIIkvMFBk+QQN9QjLTA2tWMtOjOQcyUVjO7WNJNUyAJTJyLMxGkAioeGocYjcJLPJCY2GJBLfmDCUbjSAcijDRCMCHkwYkjPw7MeAowaOAEnTBwhV4W6MwA0xCIi2CvQ4Piy8CEAZDD4QFB0KLkIgMBQGiEIASvBQMoA6DrZU3GIkAbMFCYZBgAAhUBQ0AXnXQpYhPLIMmEQcRoaWopFBYAF8jDAEMMglTpSYNC5jUcmPhCZYDBh4AL3C4Gf1SkuL/8+TE1H0sOkABm+AArZS6lAhBwkDDCgQWHEge15g0PSIIaJmc5mfioZ8HhjgXGYSeNDNsDV2/aW77urQ6QABlpUAClqbYGENHFW/m5UtdVBuYiAiaQhASE5G9OYv2CQSYCCSuDA4NMegcy4TjDAAEQMFAMYFBYICCBo8AmZGHwgkgDgKFQiMAYmCgWAIiA0vQWbVuypoFWKiikqwFmisqYKGAhAq0XcTVVIYBEZiEBmAAQPEQweBTLAsEAeSFMLCYlB4QIzB4LBwnFgGW0MAARExUoqAGqsSctjiAFIwBAtYKOtxXqkSmErYj+yNuMpZk1x/ZTD1O/EjjbH2/gBpzMKR+smhsaZZP0MZagEAQAABlgjAxQCRIFpjy+JQVADuFqE73ORULAAYayN845XJnW5eA3HQkCk41LKFhwWg8gSFRuMYFj3XuBl0AqE4mKagDq0wUzkkQQGLbCQBBgFIazpocwaOVYGEDCnzOiUliUAYsOk1ICEEXfQZQWIkgIGrbLfgpkMjh4zAYFIGODmLGBUA3dsgFaJOGePgYwUH5ABngRTEA5iA8Pb4DDQUGIkSCQwJISStOEIVJ8ICiogBPjkuRgyat+blYZx+OxjIuDEC0ujGCRQyiqZpGZ4KYwgf/8+TEsn9EOmo/mNAAVAm+oAlGZTeEJ0gGfKLXiVuLBTenC1wOWGkElkVyK9MG/ESUxIAoWIYS4DTpIw1MtP5GRUTEiYUSizGIDoNTyzYYDnQ4BBxRTIkFhylVhEFBT8yE0QxA+maIiTCiYOAhgODgIkQggVKM8KT5ZwBORhg5psjIjCaDSLQorHI5owqd5iYJEnDvY01UTGjzzlgkagKAJw5dMeAMYdIRQgXgLCBTxowBhzwZAIhxhViANBGEXSYCZRSZwmKjy9SP4OaGiemwABwoZMBBZYEHDhgAPETOowalABAwzZRcBGjJhQ4kOB0I1llC8cQAqYAQoGUDAklLjgoFAUNQUnCgMVTmKLiMcYcEWxBgMgFBUEuJRUMWGDKpaGMOihNxTFIUQjULWnkzciDBQkTCAIDAhcHDCUIIxxb8eZw8SFkJZc4zps0YIHCmng0kPAzCgAEFiAFMhEFMHLMMFAxBbojhmskAQEYQanAqA9pE6QwyAkcCGiBuIOC8BHkCH1QFOgHAYcAiwSsRh8tGbSQYgAYED5gMABwyTGMAhCWpnJixoSMRkY1jgjMeDkw4GDCIUYOUBWJp+uu7j2oSoWBgOYIIZmQQiEQEANMKEZV6Xg6DC/YgAoWATK7/8+TEiHv8Nh1hmuAAWsxc1A2uY8BhhYHGIUGaDcxmYZG36wYgLDLQuEzCgZMJAYx2IBoBmCyIX2TeTSXe0wwiDEtTPAxBiVMpDBwwMMjEYKMJBsxYHzIoqMnikzcAzAYSBRyFAyFAILAlkUHGGgqAhKRAZasIh96FGZSiYYWBiZA8MzCIVBoQMRBUwueASfzJgTMxqAVBqWyBOXINiIGp0rqUuBABIgLwSAMENlZlEV0zEukDgOs5TZDFgSC4xMMBcxgHTHQfMDB8xYWTKQrKgfMJCkwoVjAgVMEgAxMD1KwKNDCQXDggCA2UCRs5d1MUvagmYXAzWUrI9VcBpUMSivK4Ylr/tOWUweamJ+UzhisKGEBGPCEwuBDBYQHQQYBDRdEwqLisHgYVBwQWAUVIQCYGHbrgAKF1jBgHKAQCRDNPrQRGBy5zfUtCyJKlrjX2dqajABXAhOMLgirI3Tv5xl4YYtQPL6WZj89TUsmtvhEWs15SAAwLkoVuGAAxkBAy0cthIIDG9nmf0np9GJAhz82T4zz4XGnJrmNhJeIaCDMUE4kZEIgd0bGAvZnpihGYQILhMSCDTycNDwAViggHQx0rWJUARLPIywmDi3kbQmg4yB2cYCsmArRjIIacaGL/8+TEa3XUOjVBmtgAg+ZYfgkvMXBXSbRYRW9IdZpmYwlIqGgMBCAYEAkCL0AgjHQsAh7WS06P6S5g5CZiMmmqoiETAjwyciIEwIADD74xgJAQWZODmNggVDTKiYLmxp4QaydhwMbGvmmkKlBjIanXPJzhXMMmZjk383uEMJRyhDMREVFkyRCDmgLp25wAA8xgvBxeZEMg4HCgQoO88tdNy5a496HU00w1NxgKRrVXbKtJw4AYKECg0SCAKacJDJeUSBAcANIIgsaF0DAg/C4gND5kxBfhiO037t2pDffx556UTdOYeBuINDAUAhIQkadDaI8skBQOXcTgd5A1UxiQgMhBlAEYICK1gkJGQRmYY8EoYBjQKgbWl0GJAzQqSrNy/KVyPHP5e7bT3Td+YfeLPpFrH3YS+bLlcPu05r7GIUjkmgmIAREIGkBjytsBgNGpPVYzqO+hLpk+xGFpRRgQASeRfluoCAwQMmEgY4ClAQYaMhx61oumwupATsmCLR0mYexDGaFBoxgIykxgmBzabpGGYCxgy0Y4IJqtOEh4IGkJaCUmDC8yEQCAkN44lkW6LXoRlgssOmaaajZiGlAipmdl+FAmhJoLncFPldTNXBRNYi2rrJ8lz0ugCEW0M4b/8+TEZmFcOkyj28gAQsUdZ42DKneTOQzkafr6V2ZA7zfNeLqtIjrpjRZmFJaPKmImMo81puTQnMh1VRlaUt4MNOOhJoVGJsgS0YcZ6amYcIXR7AAjpxsTQ0MUJo8Sep25S73HteuAIpA9iIug2zSoCeRabSmawarc0ll6tipi0SqbsuiMCosMyWPJVVKNB9BVl0mZUXiT1JiHUdqMIiFx3EEAZknIC2KrBskVVXIh8sO/7SElb6XbTS+QCJYzL0EThlUVrqp2CuW+j+sjfbsEp6MXSJXCsOwxr7KJvkLiVAzJC5NRON+GxM9Z06KwjzwG3r2tIddlDB4RFZe+SlMNoOqYQZg3BeamK7mHJfNwZ7LpXbdqBYPRWgJaLPW5vwzF9pbXlMCy2Hl3SuUVTEFNRTMuMTAwVVVVVVVVVVVVVVVVVVVVVVUIRxCUgJDDoNMNiE5fLTYxvMyEAxqfzBRVM1gE1MkzWajMtoQwqCDIADBQKMBhpB17Sy0iQ+etlYBACZCjaYAgAgwAiAITxVIFLBRY0Ul9oRL7ZVBTG0bkykl3vXxLWyKnlECvNWZzMFmBIYQCgtpupE4guwVAAnMvHJYJgOU1jBt2NxJrZbdAAYQQihW+BBzJIYdyA5BGoej/8+TEmVtEOlz/XMgAnGar7QA09mCqBf9JdcqIrXki1tsQa8/U8/zuymgyh/Url+6WEv2+kw70DNIf+TxFt5JY5AUQg2FQfLYvE5+Oxxt6aUwPR13fgeOwxVp7juO6yuBIIYRCZS6UohPIJbSPqHQ82rlLueRgUDJrYMRvv8zmAW4PzC4Jv3KsAQFLUxVyxdHpNN6X2hqGb1+hjO8qWan53O/H926aNQYzqlp4xSvrTUr3suyWGbxQ5Tail7SG8TBLjL3DDGbL/ZEwxK9Kpi8JYCrE5Tts5wjNiNXZLPyuPS8zeZs3TDYzqmA0hB4zNigzGC8x4KQBN8ZmCwYNgYIQMHAzMYAxEYJAICRkADAoBXaFhAoBjBgMwMBQ+KwISHjChFOcEh5IIK4UzbkYEQGAhhbIKgZgAWRDSWq3V1uBAqx0xnOgR/RIBIhoaAkpVpJWjA6jTB09jOmQDZhYmuNdDbdMDFwAIJy22Eozv6SjIcVGNjrNkjAYIKiMAOhGMBBaZqKBYjMPHjAhU0kWNYPjPEUxJCM6IjPQQtAFxMdCjAQmSJUpFvqv0wArNmIDhDkw8SAROFw8hHgqFjAAAn4wdBO8LTYC4QjJlgSJI5KIhgsn48sgQrR0TWMOBAIQCzT/8+TE/3vsOlABndgAAIPMJBkFxGNl7DFB0GEQCCzLQgFH4WVTRm80g8M3HTAipqjJxYqIB4w8tM0GzCy0wJKM4DThQcGp5mcaSgyAsSFHUFQNjCQ7RhkZBREheJFQVBoRQobGejoCNQIemRkpERiERL/mDGwOeBkLMPGjJywyMJAwAydpZtj0cQeBIYabAmxkRgo4ZqOhQdMNXQ4uEYGYkHDIsYeLmFCid9PF4vnTSi/cjjOHVjcWZarO0x3W1dbF9Z56FE15NPS+gVSbdNLZYaux94owh5by7IbxaAzYtgXjT8aZDThsneZw10s5QlIAURUGcWuICU8l5MVW4kxBTUUzLjEwMKqqqqqqqqqqqqqqqqqqqqqqqqqqqqqqqqqqW0JAziNTNA3NacxKFvi1NiUTj8FRHUBU8Ovw7ERc1WW/Ve96KBpDO4zAjM6Jc8PKDvUtNl0ieG3BdbKEymLy6rZgJG+GmGo6Q4jTA6+3Ijjw0DiNGbM77wwOoeXCTvTwMatIQBqXYVWGSNG9DGF3mHdA2ea1KClQIJBwUlHM4IlZvgpzThryIRpNwALXGjGA2OOHDSlBABGmgUIAQU3MeQhBsxQoOECoJJEtswNVWRA4GoooGX2TIGQ7IlC0E6n/8+TEv2S8OmgB2tAAa88vBxUMJLZJB4IKAoYQkYACzKeGU5gAI4EFoxb0ADSBQZEARWwcYMu2DVgFMiFSakcMkwrCMohKDYKFCJSYlAHHDCiTUDDBo0FwwoaE6ZYIie9ZmRYkGT9FgwKCF9TBDSgGODoAMGACCagBZNfgGQJxFmwEGBAcIDvuyNhUdcppLvtEduIzUNsrn4Zh90FO3um7sHQtul+ldqU0raU0vncJ98Gow9TV7K9HskcOyeG2wRWKu+yuGXbh94IHrMTlEdZw/mngkGdSW4xt42vWInDMWltMQU1FMy4xMDBVVVVVVVVVVVVVpWYSJ2nzbaQQ68zO2BI2LWRwUBV2sV/l4OyrFIGgqxMxS7YKpw3EOABirHZeNOgdCYsQoUW9XK+6JapGhKecBaTAVeR+XMMkyaCe8/SLseEBhQQF1QQw3tb4s4nOIqBgoFwUEgZgg8JEZq7+buBHBRxg/CcqgGbmZj08AQk9jc48g1pgMsk48dFkVQQnDCiSA+b1MagYX7MswIyQAJCFCcAaaEWHKBZ8aIqawqYcgFxRpw4QlAR9I1N5roCWluVOQcFCoBAdQhYC3FNFPSAnsd8FBQaMRyUGTPShGRBlxRgFICfGvTIJhwwDTQH/8+TE7G/UOlwAxvWAhAEFg0+bQQdI6BTZ0vYkuNlENmwOmoOCULPmSNEiM4Ts0EcGJhUmEDQtBN42CDwLAHnPik84cILFgKURWMUDJuZ2jQK7LKCwcwRAxBUQCREsHAJiyoXLJALDjgIwS2OmFMgpYIAgRMAAZTZygCCFBD2Fmgcfft7kvBIKlpBUOWpStFaSCzcWZMlcNnLYCUAjWsEx1UDCEuFbIoyhu79VnLRDRyaY7lJnKYgOhmopryhdaGDV2RLXL/ll2WNwZpEqmdI7DBEd5bDSCAtw+AYPWaqiq9VMQU1FMy4xMDBVVVVVVVVVVVVVVVVVVVVVVVVVVVVVVVVVVVVVVVVVVVVVVVVVVVVVVVVVVVVVVVVVVVVVVVXumKmZmmmVMBmF9GEsdUxhBmNUdbpmUHMQArTJEB3KAJSsSCTnU4Luv8/sUa+p0yaBk6WmoPK9Y6rWqg6zgPyX6dBVzHlsU1JDjco3NxqDVDUik6QaMIAQhMW5Bp5lJHmObgoJEMwMRpCEVAAroqBhQSYEAYIccRCaVsdO8b8wChZqn5vDKzACESMAVl8uEKiB0hEEviy15wwK5nmLUmR4c12mwvTUT+L5M6iLImnq5iDLnhdl3KaO0UZbGg69rAn/8+TEwGTUOmFgzrGAgzWX5Uyd+FOzurJHhSJWirS9rAi5ULEAUme5IZPKKgLLnpaHABWZmYlgpMPporcLxMSbky5d4YFNFMgxkRKMEz5kHVdKkaIDQIlLlQ1BMh6ykS2RVAbzTIFkcxKxsEOXRVAECo8aRMBGglynIV2FwLoV0rprT6IhjwYebDPrRZAwYKgLpIcW6LCVGWWn3WogKRHfIqDFpNNlTHGUkJyJjnqVpBl8ZbJHbVSVtfdCUuWPuSkA798KBeJDRFFjl994QosNBLtr0XYxenkKmSVK/BENEJUwxxPK4z2K03JXNwqznE8xtqNhHjAy42TPPqtTTjQ180Bw2QDRm54Z+QAAxGk4OEGPJJ9tMBQaAV9BcEYoivQlCmWPg4oZMYkuFhRrXQKMGfLDIsSIGJAAAeHCQqAMWOAwUqADHgHnYAY88Ycea4iY1UInR4XggRgAgDixk0xhR5qkYGMqqgkMKJTdNTQDQDCPTEMkzMrCMPaNa/PElAwYyiszwtmqtoEAlnjDIByRakQqGmIgOVM+BgDpSJhp4AEJBsiFWc0lp0HI9LzSRWGe52Czy0FRLpQZBwrdmfqlaAirArSVBXlLnJdRWldqFNJkGZfYxwkJRkpIssLT5Vv/8+TE/3Y0OhwA3rK8mtsVL3F6phL1Q5YdVQDDNLdxdTtVVKX4TtMYVKFgxe1H1xo0hkkUypFJhYQCMgJUGSUDjmdOVGk9i1zAgoCCiVlAUgMeNCk1AjvaMrsFRmseZQ6SAQMXhMNgaiBBJghJNKokQJjnF1wEjAjGyyz/ohA4aNAEoKlnRKYghnErEAIS7yAY44AhpMs1nxCSaQoABCwRuqEC5FSEFGhWWnHhWvK3LTEBh44B0ZpNhhQWLNpsuIXaRuLlm0mAcDcFhEAgQMxiQAEefQZOj6Y7REs01W1FVpBirArIyE1MQU1FVTXzfMrWA5hCTRBbNGC41iLRAaTFYAMsCMxghTdgrMEDsighh49jhCCAMYaGJg8ImISgZBCJjEiGCUMYfGIOR5iMJhUSAACgy1BRaRb1f4CHMaEFeg84ArGKmabRiGF1SJtPg0SjALLUoSQciApTZ8DFhH4y4wRAgAFFjJpIAYIAMBBIwJHNJcBJl8RhgEhDCaMDTxlYqGhYYFNGAAnyFkiZougOjGOMLNqUiMFm7yhpxZtDJDklsxZKQuaXgbVSgvqjXNAoxfpgCl009V2rpYKxcaKMUhCQXlkUUQIozJFPUWxLxGGWvZLVn4cUIgEZmuKgIT3/8+TE9HHMOdQBXMgAB0CCq9WOxBtHoSuURWIxMBGk0KSRcIFFpoIfDz8QZgyVu7C1qQGydAqOkJhcEEjoxQUDREV04U5kiSUxAWvJ7mzDRkQZunKz4sIEU5EElUXqSMWMBTgUKAnkh0AS/FbTDAcgzDTCBMVJNY0hyhFL1DqvaGF1JKiEIDFp/szBxSq4CBgpOS4z4HLDyaOaHJHkODWEfpBQu6wZQ1S1DszhgCI75qCMxSkT2UOUGdGBnlLQozAIZUkhKgiPK7C0TYVLoCVwoKiaVQUd3ZTOLcrCpxx9hqoERQLENpyYRMnzzWQN2MISAwGBySIhABsVDm9GdDT9r5LzABZm9TqghLtNDa88S3zE2FYMbYkIyehZG7NPZZA4GAvg5Z6vzcDU/MzkakMEyMmUXtr8ghyGGbwlh6a7pKEBAlZgqAlGNaLuYxI35jdh6xCBmUQHHYq1Bt5HCqstMg4YQxLA6DCwBWMMMH0wQwJQcBXCXzkFG7Lv2piG7MOubIn/JQAzARAxMEUCEwIAGjAYACZ2YRARWb6Ukvm4WySUMorVHfp4Zdh2ZW7ZhJBSGEsCAYUYTZhLhDmDaBiYPAMBgmAcGBQAUEAPSmFRuFyrB2ZuWzcUlstjUP14Y+D/8+TE/3mMOgypnPAAB94KgGX05gIALAoBwwLQJzApAxMDMBUwSAFguAKEAFlr0dDAUAGMG0HWJ4XoeoqeQ77FYL1L5HT4wNDqnohL4LmpyXu1N337pr3TCRCpMKsFkxCg1DCgCCMGoCgwVwNQUBXKjAYASMAYAQSAAMCYAACgIjQC5gVAdGBsA1EPopfGKempvuT0m4+NPTw5LbcN1r1DZ3Erk3Ox3CzJpdet5xa5yaxr3FWM5L3gYBMwUAODAeAaAQFBgNgLmBCBiYG4Cpg6AsGCUCEYFAABgBgMmA+AqiWrcYAQBhgKAAGB+BqYGYGZgSgE1TAbD3MeE4EwngRTV+K6MCstIzXggzInC9MGwEwyeEyDI1GzMhs2UxWgujCcAYMCAB4wYAKggN0wRQdzAkACIgkYrVAVKBgwahUFjJcTvFhukCYxxx+kYG3YIDl2YZGQAE5nJVjwZL6jgaEQIBAFAATMOigwgGzHAfM1EoeS5hsDmQSiZVBRl02PcYoH40TDObZM9l8yuGUlgSDAoHxkHoITIYISDHgwGAwRAEqiE0mFAcFDEYTMQgNYoXCI0BjAYDDgcX8UuVAEAkiCxhESFpDAgUa+TEMoAjVwg4mNQ6YPCoAIRggAhBBihhr/8+TE63h0OjwBnuAADoFCQGCQFBSmK5Xyqg0Up3wdXwqW72IkVzBQEZcyGXZ2uVm4wzPqAqwzCXwJAicrNS2QUB9NXv3Zi9v2fPQ2j9ZZVsssarruW67fLBmFAKXFYGsNF2crtLyruYmOAm0r8HAYEgkGAl0HcgZlMmQcaC4atohABhoBAoJqaDoBQBOgwxnkhZgx1FdMwwuNzBQfMFgQwaFTAYTGRYYEBhhgJBULoAXGa2la6jcGTMNQdTVjDSS1LPi3QKATI2KzdyGXie6ggqEsEkzEoBlsalE/GLzsR6I36Ons2mnq3qDQKw1usWe52IYj6la/0FUpCsANRYG2zvU0bUxBTUUzLjEwMFVVVVVVVVVVVVVVVVVVVVVVVVVVVTAKAiMGUJAwrwDTTXHAMQwBUgAdMG4DozYRXDC1CuMGAIUwvwVTBmAVEQCpgPg2mAgAghUlOAgBlFapCAi9jnqBlmnS2u0vcr5uj5rxcFutRYWijKYL6rkUCXyixD46ENGaNG0DFZroJklJ0MR+05rfQUgArMaAEZQkDW5nDQ4qNMIFUoqHElaIpMvMWPMOAFQ4iBsZFRzcSEmDRQXWmGSgama5odAcaigBzoSOUETFUvSQQ7KiRJkMNqeDAxf/8+TEvmSEOjwB3tAAPXoDArGlYUm0VcX6oPqWfxs3+Yfjnv8NbzylGWtY5/uxrCmx5hqvdk0PQEyyeYZIExF6pPL+UeQoXehJQPZaFhCBbipgQa7lJBl12FFwqHQUVG1EMBI7hQMQjzIBYECBRmlIGAkw4GjhrEh1MSQBAIAnAhKY8ETFQsCUrCDBfwoQKUmBCmDAJ3pRucxFUEsY2hLRraX2QbfpVRJ6XMLdp+mXvPU7O9p604w+q7D6MpZawpevpVPnTxRszp0D/tccFpNI+sPy6ks4Q3Lav1aSxY3UiFQAawEBFCoPxiLBknJAAWYuQL5gkCRmL+e0Y4ITRgHBfmK4BiYBARpggABgALMoC+MAYCURAuhgHJgHACotEoATtsdL0rEW5HC9JVChoBLZSIhA3NFgISD1EEUV4sFYSxFH93nJKwSBRoAMABEhy7JkxSYsamqIJqhIa8MAaaAIyYQMmMtxkJsYOkmOExr5cLFAGejRhQmKQxeEgEwYJImIRC5MCAaGV4PIYjDjN00zkPNQNDYxciaThbEa3DDy8wc1MQBwUDrpMID23TbackG+iGQ0HDoALgAUdbxTFBlkCYCqcMRuVSB9JZRwHBcav5ff1NYU9vCLw3K8ZY4jiNf/8+TE/3Z0Oi1g9vTcH4pYBZw06s0Vi0bQxAgN7xgADgZQONE8DCxrDqBoNRmVTAQELHTGOhqSY4OArAkRLLiy52REDTScVz4SIAUGlnG+T2LICAI3N90OQkkMwcYcLEFUCtqABoFFgCIZkgYVSZlKYIYYcqzszQ0abgJIBEBgyochRPIhQFImFMAo6MBBAtRkMaAEjYsUJhbHjHExo8iEY0CHN1MUQlrM1QSQ23JMdzHKh+CUt3fYkoK/5dVebV4MYlDTDl30qwBZVxUrJc0hiTQW+uO2+kAOio4mMic7jV2aR6rIIIedMIQ6MaixOdTgNmIY8wmQITINTxMmoXUwyhFDHgDHNAODkbEUqjg0Y1kZMeBgCBiMCDA1OseGxgDUpFAIrC1rLFVwPBadifawzc0+1bi9qyVYEMIk7yAVCS5qg9GXsW4lCYoAFmgqcGfBJhpkb6pGan5lAyAk0FAo0LGWhyULBzLzQaMjRBwwE9MAEjLkI4kGMCPC2hoZIHGZlhoaCOGCCxlyOY4ampJRlbac4UBKGdMyGhp5voEPPIoMxsVHS9LNU/i5yz24mAAKsSDaFZMFI2BiimE/5MENMT0fxI9l7cVdu21+PS+njcfiECQDTvu3FUTN32VJRK7/8+TE+HcsOigA77YEZcvVpgwArCrXMIBGBBYIBACyMxAEBQmlmYOCGDCZhwEGGJhqGY0YCxCYEFAUHMRBzLDM0YjMHIx4ZBAiWkeZgDSYq0R+omw9AwoDVyrnStfNO4MEwSVTAYXmDBrRS6hj40BiYVD2OGCAZhQOYcNiEiAI2JDoKIh4bMQGxwfMLBDHxQwUCXmPAgcBgopMIB2OK3KCqcjAE19kSwyeyYyz2YO0t8wACUHdR133oICa6og6Cm7eIKP+hawdf7Vl3KDKvS+a636n3eRmUWXtLmptmbn1+qOnd1+bsRk1C+s22ji00AV42kxBTRIMEAMYxPB9DREiFMkIPcyjh4StDEwZgGDGTE6MP8Ggweg9TCqBHMEcI8wfgUxoBUwLgJxoAhnZgQAJlpwoACoon+CgBVKAIAGhq5zOZ1v0yGeoKItJpu8wNvWBqZAUZHoLBioSugoCDRjRoBpJl4A54iCJDTWPNAcCnFBwMDJgAYOahbbCAkzSgqgBunAMVwMjFWDz8Mk0wSwcq+CljdTZUMlY4dDrsBRpeUiURlGiB4MsiJQgFAVMAxy8VwA0QiOUFSoAJTEDRaRTQcQBCxSIZEqARJCASi14KVSNTKZ+tFHRH1kTJi9qcAH/8+TE62+cOiBBXsgAgnPYirMhqCQk6lBl5JdRmUr4ZQv9XDzpPI5pmGOIzshBNJEoBQXNR03FUBppSgJgyARQYOzIkFvFzULWQF2n0cNClS5F0tKsxB4wCyUU2FQQITJmY6aAKbxYBMYcRGgYQyQEhxolH5i5gBr0eUKiFohUMWMNEhi6CVnCE1HxoamMOPgtaGWqP47z9wJIsmIqrLBrGi0iltO02NltV4NWXMy6XUMMtyft5YKt0jcoPazDtWVTcCrGayp0sZ328XVQOVAMIh6lpccZdEIHjLirmg2EP1UACACSQxTJsDQnZYMycyowlhCTD6MNMnggkyQwUh4JgMGUJgATBuAlMEoBQwgALTBiAdaaGAAmByAYYUwMCQzMn3MDwDMEgEQwAQomTokGbwqQQlqyN/VnpglARgoLzRIEDQ0sTNA5jHUsEYs15o3hwJDwSDQVkQDpQCwRhYvTBMXDHUrDJgcTGsIkcmQhUCFWpas9HgKQmgIDysCyEBTBkCzJ8tjMQiQhnzM0YA5eTBsPkEsHQMrG8IiABgKxgIAJgqCZQOhWFJhIChjMDBoypRsIr50isZyOsZvxIBoW3po4ja24uxNeCqL3P7SQsIBcweAwxEAwmBcwgBQwqAT/8+TE/3tkOhVpnugAXukIrAKGkZXoiYiriAFsMYizNWhfMnwIMWAQMOgEiXx96HmmX8ZOzNSmZL6xSMM0guRReG4flcYp44IADMHwLMJwLToCALCoCGDABhAblA5mDACTwNAKHVbpTCIElUvdmkbs8Na1PN9H43KJZD9STQ/HJbcjs7F7lqlMCALMKQRRvBADLnX6hojmYAgC47A50AAInuqGkiUqmItL92Y9al3LWWojqfscrZWLE5ErLmU+TyS5/G8l8QppTL4bvWn3lNIudh6ARG9qrggYA0J4MAQQgKYGAOl1JU0wMAYMAIGgYYBACLA+UA+YDAECQFUJYNWwgPTyLVPnKSVKgr2G8IJCX0L2CBAY0DHSvVMzJHrNZg4Ft2wsmXQt5oDNX8S8f1hjxMMYJKkqDCAIcAggQUmIQUIEGMPCKACeLMSoBIKx5mShphZSaGegY/EJqcPUm/rZnJ2a0bAQTMZITFRsCghiAQp25JIBGVhhhwgbUsGzJQIWjEo497YO+hgFqmEIhrhoZkJBi6AQsSBwYNIoiMgAIiqmu8wIYFQczk7MTAVZDCBgzMOMaEDcIoHUBCPBQpMnHzYVUy8BMmKlKDJgIiPjHgICAxMIoBgwsdVLswAELUD/8+TE5HPcOkgF2NgAsIGAgqFYyABAY/ghBTCwUwkRMDBwgfMCFjGBQDDiO5h4WYOCmRnJk4iYmPgInY8YIAGDFRkgcY0YGaDCKDCwaCmGi4GLzDhwyw0MqFlAUz00AQAIUOwgHceJuWvJioNCzBwNHMvApB1l2mCgZgISYeCl31DggTIQEw8PMHBwcDucXUZy7TAjBgoIBEhETFBHkeBlkH1KGeZxHWVrvnso+5blyKKPu1+SM7fus7DuORLbUssU92V0jKIdf+03AEABbyTUl9pCJiJjF2eMlh+BX/buyeYcNc7zxNe8RZ2sPQQ89bT4fvL7QBsvZWqGWZGGAsYUBhgEZjRLMdFwywOCqDzQheDjoHDZyhCAC3AhAtxmCFqirFGnsMkKplhk+m5WlVF7R1lqhDol9WtXkrk9hUBmCgcW+JgMDQ+VAi0lBQwOFAIA0Jz9l5VajD4QMIioxYOTBJoMJqQ0nDzR0oM3kcmEpgYcmEggHAtPIiCQCCgKEYCHBgkGmGQgYTFhMQjGZ6MzsY5+6DIpEMXh8yUOy7YoUNesNOgHh5gQyRgYmGgIgEhwEClgEeCowzkczhEWamlhRhS14jQpiRGZIOZQmu1WwdRHDXAkUaVwcdgDkyEpdRj/8+TE53FkOkwA5rOkYwkqwcCDmYCiQYJgjBBpSJ7VGDKZF3TGFBKRjpOmpJQ1Og0Xhr5fA6QZLh5qGNie8AsKOlnEbQhVQwVwUoBjjEMPNIcBNA0dKM8AgDNhFlpZIxQFHy1q7E7WCJ5oTlMXgT/AwrEWSqZFpkqh4EvkpsBQEByixihLSMkpuERWLUWinKmLArosGdaUP8wFMV7ZK8Tiy+WU1hrr+yiXQbEolHX4jUVh5mM3KX9Utc/OWKLJdRpylgb8pfB14ea9KUxWcMmgXiqyAJIpmCazOZM0FaKxU0qeVT/yph2TTl3ResAECBgMBgfBfmRmD6YDgKphTEsmUSKgYrZOhgglsmSmb6YSSFpjejUmMyC6YU4JYsG8KAomLo6zAg3MqBgcUKpmKgAGBCUDMMGF/GMjD7CoMs4RABcl1xgGMRBS5aigKSCgYHhFyDGyYBEBfQ1A4NLITOAY09nNTJSQnCpiKDyQaKxiJWZOSGShJhZSZ6kAG3Nygw5YHUkxYfBzghICA8WIQIaFAXRPMcFYmYcZEpZ41aDE5BkwSsOroTiEpiKqiLkCCMBk69GqMjKyAUCbCzTzOJNiAKAr/NNoFVPu87Ggg5Q1cCmTtsaV9Has1PNJWM3dTWL/8+TE9HI8OjFi9vKcMPNiL9QQ5ScyfalLDZegJeQFFLih1nkPK2lpW6ILdgJQVMpIZIpMYwRELmoA55DomMyhH6LqbMOfZ5RwcxC0pYDR/L/ocy/6V5dRFADAOKzlqgVHLVhgYko4RMgpYl4MCFQYyAluFm2hrXBw4KWBQaA9uKpyUFdStacabcdTPL5u3H25qIq/ZO0NJ1IctmgMVgWYrZHFGl1Og6laFocizz3stZ4kM+zX2PKDL7k99vrMPs4bkXAfhShFAu4govAu+mG3OVqLJXwPNteik9SYP5IHQsPJMHAkBwBGnBNmO53mJ8Zm8ILGfimGdmfGtUknTmSn11YHylxGE5VGPR4mbItmIIJmMRAGCgIGAQTAEDUkiQDV7iMWYyYeICpEYyIg4YMiEjGA0hFzGxUoJTGhIISFCiyABBzIQ0yMwMOVBQWNlWxrTNOEzYWg5OmOlVTy003+kOathQKO3WznAIzRBNnKTFSIw4+KoQBQQwEDEicwApEhtBAZINCoeYCNgI6MgAAIKGFlRgq4ZodGRkJn5SYyLGQHAYMGVhplAEKk5i5GlcZ4SGeDBiRSYuNlxwEJqLIbgkJRyBwAREAiGDRqmJjLBN0iT9ZUV2z3Ck1Vn9xOD5H/8+TE/nTMOjAA7vDcRKWRyXtzgdW9lKc6vi1DNH3cuDWDw7EeztPN1o9P1Z52LcihKLqt69WDqbSN3WAArggCZ3pXoJzKNTYeIngj/K0AQQ4GJAHzIENqbsklR5Ia0CHCxEzS95nG+hwgWhNLQc4wpS/GuGRpnuwY0KKWiizApDxwBUYBCnOXgA1ELQYZYhbMO2I0BRDVqZY6mkaZg1pb5dZLZnzKmovlDksmpfageGrrBHUduHnJlENP8g6QDTfQmsgBwDA0GrTpU5VuSgL0lqWqsFcVDNtWHwp+HilUPSuLKkxBTUWqqqoAoCEBwwVgNDE5KcMXwAEw2BnzC0FSMEQFIxfyWQaFwYcQ2JqDE+GPKJUZDYKZiTAZgEJM1c0MKDTMQMShhYaMJLSIZGRcFEwOCwclGGBoEEhASkQyPCACJm4GBkoCKBgEMkAR0YbYwEHMkITACUw8OIWwS4gUNmu1BqYsbLUmaGBmQccSFGlHQ4imT0pkq2ZBAG4uJv7KY4bmShRiZAZOmhAaYyHCVAYgOgAyERADqMQI5iTPNKgIApFZjYUBx5qTAh0LrAcsHaGemto51T7HNg4ySwzZcxWACQQIAPAGuGygu6lelWr10VfXYLdWWQBK3iq2JVn/8+TE9nJUOjgS9vKcWL9avD08/bgyxpCawhIXUtArHcBKWnawtdcjlRSl+jqfUfe7IlyQC2dliS6Kz/CQizAuQXWSAOgcyBhHojoBvzZBYCRAoDoOQVUeVuppdDshedwYyzBW5wE+n+RdQsXCGBF23ZGjgcKCV2aAo8BjFny/4KtHmyAUwk0OC1Q5MhMIR2LBg6KoNNAQSQIKTThQEve4qJrZ0vI6l86jTHxickwy7cjVvlJE4ekENyG7SW31lLOXOXcguhUkaz9gqrZkDDPKlO1xwV1QKvSPQBD8DuzdcCpMQU1FMy4xMDCqqqqqqqqqgASYRgkhRmKqquYRoIpgsBVGSAIiAgmzAbJjMIsQ4xMhBjGIIpMVwAQ23FNubQEuGAmJiQWYYXFyjCRQLjZggMAg4iAGQkgYuUGgwQMQKJCyYAVCjAQ8sAQQBExMIgEt8AgIdFTDAItwAC8RhQNMTETwIEgUjHNmpuQGY2vDRIZcUnJGxjaIazCmVkGeeHKnBJMx6cVRGSomnAtIJqoCnGLIhmw0a4WZs4Ch9NFB0KOWmtPNkxMuRAII4bMsDTBIl1AIqdNAXrLKI5goQXNeFBOv1TEmCpXqCW22lcxE5bGnRprNaB7cqoXLsXJdJpT/8+TE73CcOjww9vR8w1TSZ3Uq3/VrXu3R2c4W5shhtxKrcoq7kSZWhmRGGeIAxkWW2aoaoclwKnTTCBAPUsLuGoZmLBAk2cZCYkYDRC1x4CQBWtpmrFiEuVml0pmX6YPi9TaOEm6XHao6kB3kZwaFAIFEIRhAqRRaRwHkBZIBFS95UCmLMGHBsoEIxERYVvTMnQKcEig0JFk5eItQpkrOh6hQv5G5dqY0HqWtcUvh6Ozl+w/MXgOZfyRvXnMSuUxCJx6WNtD6vF2sGXO4b0ZxeH4FkKdbUXLwZFFJJfld+tVMQU1FVVUQADmAKGcaHTMRhFgMCAlAw1AjTAKDkMaQ1YxPQozEjFOMvUBMwUAFDAnCJBQBhgDgRCgKAkBmYBQGjdC+AkBol+GDhETgoFLlkQ4tNoroq7XqKhAXCE64UXGWoXULijwKAAEw4IFQUaA3QITMwVAEwYy8WMrjQAqG/EZsZKZUOmeHhz4yeSfGofZydaZsHnEpKHhjw2OipKCmBmQYBCEaMQABADBg4XkAwIJCBZAKEZio2ZSBmqsRg4MRHAlLFUaMxMWxNaSWKgarWpUWWFjYChIoEiwKuFHRMBlrWmmUtJcpL8at5b7crSzdWOXMpVNv4xVnLF3cVyz/8+TE+XMMOjgA9vLcOisoUXTyYi2IIEUmlv0WQUzMAGIBhhVNGRzUfUBFQjHWB3xqoiRCaCOgbwaMxjAYmAnLQEGABU6Hrf5hrdIaddrriOaoS5LvMnbugKWMydYZG4UCROFiSLQgHMkg/CTZhTiM1g2EFKgcKRVgYECGgwZbI8u6whEBRQs8Oik0IS0gPHni3YARCwDLiYQSEBgq0W2QwgVsLjPrLWvLvedlamSSKHxdkHCiQSMpVISQfIwR3HXu1JmjbMxkTUU5LzUXTnXUhKxeXIhLmGr9hm9FpdDvbypMQU1FHQKTAfBHNoNiswOgMTAuOyMFwBYwJB3jA1JdBwahhCEDGP+FcYFYHJgwA0NbMD0FEwSACTACAUBwF4OAzFQpprRTIRAdBg4IlCoEBS7AADl3XNQRqDvogrJzAgdiY6CMFTLMNDACBsHEAAQEICPDCxk015NYMzllYyj1Noiz6pA3cAPpizmAowaMMRVzCzA0cmM6NyI3NGCwUCmIlxhQiZsEiEKRiMTDwEMDA+IgwOCzFyc0ICM6TjH10yKTIPz9kDTgWaVEV8IGtq/8Wi6xptASXBXSorm1PKPROtLZXvHuFJS24znEKsRgOSYRWTzbUS7MLljR2KL2aYb/8+TE+3OcOjQA9vK8KMSjmgOwmNglJh5YBASoyM04DcmYMhQZ9YaYFSDpZVIbjhokllhKk5ERooZQTQCFjFAgGDFDGcMpURcZkrQmJND5PtgpG4QYnc54oQYyAgPbkeURcoIuM6AxDjFQMikGQgFQIGNas3lAM8esZ92CEI2jzTOOI4yBEUR5wIfBTIObADBMep2QCP8j2IGR1EvCEEIfswDkVOmvtZSRXsyFTllL9KHNLcLocyrweHbgrll7TF4soL7oA2AughW46ajA2Ar2ZEzt2dPu+EVydmWWM+2KWzVABhMEsLgwgUBzQQgyMBsI8y3x9DIYAgMN44QzyxijC1BZMnsoQwdAnDCfDBEyEwUvFoUzI3MtdC55iAeDA4SQRpmSkMdHTEBYwkJCBAwAKFgMtMgFLjAowMRFxUAAwaCgUAiQWDzHxgxYCMTBWxDBKAAQEhgAOwhATRMnLgsfHOoxgxQZJDmzwxu4ubQvm+Dm3rHFQEQIwg9JGGDCjjIiAsJMQRNEdMYLLqDx5GIAAQQJFChdc0cA3cIycU/Gk3KwLFzHBTJG1qRBFYwIBg8Cw2gBgFpK5VHlfssZUkUis71O8LTHei7tRGC3vVVcR5VdRqKQM9T7O+yp94xR0Ub/8+TE/3U8Oigy9vR84w5T6vQ90Ie571SuwkMvZYJz1UhIEFxBlSQNBmWFr8WsYQiJABkSAQBiQClZghZjAasC70VS0rToiu3UZgBlTEqV0oGYEsZnTLqeUhYOYUQYMMJLjFCVVEnjMgjJCy1wyAM+4GqQVNFEcAjhUWRDB0IZoSFSBoWgdOUYAwIYDl0S1JgwjS3kQDJupEp0pomEHqMrCuTMlsWkNjbo0dmT5xxpzjRGafN1W4R1gZa1zFgUUVYVKkxVASzrWlOlToKsNfmLNdf1uLwM6Xc153rEWy5Ltyy9QkxBTUUzLjEwMKqqqqqqqqqqqqqqQCDOGMG9AATCdC682Tw8zMTIEIDE9QpYwW4MKP18CCGLNZFlMxKzMqEMMhS/NBENMrCbMmBTFgjMKA/MGyGPZ3O07FYRFPAhQBOzJHwABL/OgYckZdIZ8EYYOauEbsQZYW1YdBAEMY0IFiYXRAJtYLUmMJmHIAYsYksRNg4oa18IaY+hO3MMLGFvwCUoRGEBo+vKhaOAwEKWBxLtKYzaqq3S9rbI5CAaCgAGRF4QqAJAaIA0ALxIPJRlwWYIBr6j6AZ/k6mRw6oCiiXETfKCQEDp0qfeBDk5RVDMXUGcUQDwwCiimmnSh8r/8+TE6W8sOfw8/3Qs7uMjAAFAEs9UssU1dlPpY75PASg1qI/lmoitEu62NkcTljBmnL2eZ6odAQZw0pjAiDFjiIOoEy8wQMu60xZQcCRSZ0zKnYfMsWuxyhrO1F21hNm5Su5J1Ol1OC7qUiET8gkUi6pmOgC0QFAF9zGAVhUDTAigoACA6YCZzqrmdtFHBpbRl7UzlRlIpudiU3V2va98UY8ulYZnjNo428Ot2f9TWHy+yumUtmn4errDRNzk0lvJaoaqdhAFdq6Vjt0ZfIG1qynkvfgvapatFrqcraq3JrULShM6Au83HIITweB5NcU7YxVQXTSsFGMM0YEwzBiTDeFJMR8SwwogCTErFCMNcJQwBAFDAzA2MHUBQHAYBQAUCgRmB0BGCgPzAsBBAoKQkBUDgRjAHAVBQAIEbMocVOCFEVhJkRPhRccQKADINAyiKRHKQDNeTnWBEZIhGUKMS0flAiB1UG+KHTGZkY5IlAHMBUJiRlImG2HRlUEBRiRAMVLSoBzDeLjkXIO5Mps4VDCDMfsCnjohmHhdMUJdxNRsQsSYJhEoUHLZWQjwOGBgQhHZirUICGmFxEjU4yB8W2a0BSUeA4ZtBpouoEZBcUGgSMOFWAIBnEEgXJQ4EQT/8+TE/3T8OdgzXsgAghS7SFHSG9htJRrKULOBoFJsv0mNTqyCpbLlgFzlxmaqyIWiEAKjlxSz8NoEFD0NkFU14ETMXMkokilslW1Jfag4iAQIL6h4OPRpKgaXSYMNrFhbtIBk7UblzmWKuthCfqKgQGrI36OqSTBVkJHNEaRADW4ed1AUW5ZitFbyukN32oB4tWNNlB91GQF3IWnMw1HJJ9ejXnGTTXkqejexTQFC0zyo5LZSAVjkqjsmaKtpWVctCwlG4KBAANlazy8SayG7QG5urIkh2SJzl/k7lgislxIgM8R0MKQPNFEAMJR0MkklEAtmBwDGAoLgoTTCcGzOIdjniVI4gSMHQbJgOOAG8NfjAVYxiCB4BRHxPExgQxRgDgSB5jb9xumcJmDNVQGc2g6aRqLJmai5mFuIXB1uVSt+hEAEAgEFNBwAFFMxWRtzHZEXMo4fwxuhsDGoD0jPZJJsJwSAbWQnO99l9TItCvMNAVYxUApDExCNCwLBgrAQRyGLT+Rudl6yk6J165E7DymCmBaYGoA5gLAFGEuFuYaobZhng4mGsCpMdsSipG4ep4/L5YlYshBRzXHlE4YFoMJgvgVmCSFWYeof5h4hEhgppgzg6mDWBeYCIGctn6b/8+TE/nykOhQBnfAAjU3EJTG5RO0/Lsb1MVORympbrN1hzA3AJMAoAowdQZzBJAfYOYIILJgsgjiQCZg0gemAaBAYNAJhiXiDzs3E5yX1IzdrSavav27WUYomRuO/CxKsZZXA8ObkkOQmJmGuEuYL4D4QAyYG4KJg2ghmGQFAYQQDRgegTmEQCkFgIzBJAjMFYDQZA1MD0CEwdAMBAADlbxpr1FPVsKavTUNyNUu7er352af7kxVt2r1qfpO2vldelyl1BODQB4KAUcdfhgbgZjwIZgKAFAID8EAWGCUBMYQILJgcgTiwEZgjAqGCgCMYFAABcxCiSGAgAwYDgEACA8pMQU1FMy4xMDCqqqqqqqqqqqqqqqqqqqqqqqqqqqqqqqqqCgFG1fAQiLsyqlNNZCx0QpjFMTrQTOnC14KfJHIJjFkBocvcGiktUT1egYKAhJgCZihpkg4MAgkUaUwZ0wZ+AdHEfPUeXUdWYbGQbp2bBKZ4W4KPJrpIKQGzOGAahBMyAc15YyJoZIGVCGpJGTUAacBE5jwgVZmBAmFAgREYYBpcLYAcIYgly+quUmA4ADA5ewLAkHkNBomm6rahzaSwhM9KuBJA7KxYBTppofVczooHInCAAQhx4OtJYEX/8+TEvGPMOkzN2tAAkxcpwHnYDKWGqZMWUGfpuzrdrxl+o1YlsYkzuvK3rvzU3GZKz97WmK5dpuExAt29TNJhT6v66LIVoqqr8QGMVf+WK9cFG1OlgrXVSs2dKadpnTDotT4Py+zhOQyZ8HXb9iS715qcsCcpa1Ol9AzhrlW+4jHHtjstXyyKs/SLSdTjQtrUjcGlbrE2ssEZi7cMvtHc4RgziKQ9Nx2kc1/WUtda6obAbFk44Ae9tmlQ8ypM5pKWrqyF44XWZhehx88ocaM5ShSwztOK4riuSyWAWeu65NVMQU1FVVVVgCtgBpLMEwlMlDHNZl2Ov6JMTSAMPx9NmU9MDwoMHxhMFBFMnwUIARMRAIDg8XOVQYeiCFg8kMoNFBJmAZhUqAUxBNS0IvGRGGFGlAcVFGDLI7mgWmMFmGElrhkA5SnC1gUPCglXIsGJSiV4EDorgEAKBR5YwcxYln5mi4YlM43N89FrBhQzKDHkDOJjhj0hDIiTcHkwDIGMAkBCjU5nKgJoq8ErRlEB0xRethCbGgMiAgDBTYeFiwsURDKxPY09bYiCFhDEUAVYFfAkxrhAR0dTY+BAUrQoKnunUnWuxR9/4RXR1KoSLTswulaSuRO5QRuqbamaUrv/8+TE+HMEOjmU7rKcNOlwZAAKLRGailav2ohmu9yzGPHAkJbmFnKYvYpWBni/7pJrMlY2HGEADHBYViTrSNjbKmHo4vQ05hsOo+p7wUg/EUckmTMQJCUexwZOhMM1RQ5N9AYKzAvAWbLzgkIyCgCIUEIqIKISAcrBRZ0zj2LoZOhHJ2Mq1NciRektOvpCBRpULjPinkMjiA9LFwkf1NGHg4BBPHW4DSoQgk2RELAICTDFKDiKda4XFHAAISGEDCab6C8DqYhUMmKgYUGVsTqUZS1RDdlgbbu3KHVEYCb6mdhUwcNgY6YsJ4XjFGF6D8YYA0ZrNIAAYWEwFQWTIlGuMBMAowPAJzCxD9KAtQKAkFgK0kW5IhFAKscqgIgAjAANWMw8Ea+nCYUELHVjAw01IaAkvwUTops9X4rKkeX7DhVoIOHg4XDBMEDRioWZSUmCNZrTMbUWGiCgWHiICMZBjDwJiojFAMLGDABkhubesGeoxq4aZM5mtGhxi0Z4sG2z5kIg7Ji5wasxGMtxs7yZyqGFKI02mcvYHEmHSqPGKEongEeZMEjsDAiaLdk70ak5y5hZtHQKlHuMMBAhJkYKLA0AjisCmYkisPKHvlVloWMRfFgsLcOAVKmikIxCesb/8+TE/33kOiQA9vS8IBCw7orUUycIuqFAKXZUALBjAQYFCRxqRhBZjQ5CuMQDEi5jjZlDYNWmphhxU3xo3IUUJqQCo0xJAlBGEFJGpqrwGh7C0V2WLngR6leGLAmIJkwYwQshFA0ugGAVoxRILiDQlBAaAK05UM0SA4hgEWDYqDPuQLLIRD7CEMHVjHBjULDVGTdlguEDmZuCJqEyJ60wKMAAYMNlw2vKhZYCBBeBQ1AwRhzDhWGEplIdHcIIDRNLtQ13VM22V/gVAbLmls3TIMIGRFBoJCZHwgMkIQChIQKJDDFUUQASAogQgmHpcp2JEJgQREU8V5KcsbepeD6Sdhy0qJy1ADEAAGDBPBDMCZDE2dxljDKBuMMERg1aB1zDqDqMhwmQ7AlMvIiCbPHSIBwEoBE4CszAnBIQWYQmrzYSRCCJOr9ElAKsIFgbY3zRoLbMjJQDTFQqKJeLLTmY8oqq0UFmBLqKohAlSAEySQjeGMECQcuwudAWYEURGyQmX7DDB1zocLMdGBBseDA6UbRMYpWbG6YvGZhaYAGcgsamGBbpu2x1igBuGpEhDEVIgUIAniDRatORDZ5VMY0qdkKJyjRdhkKfj5g0QwRZyS6xXNeOdTjWPAsy7zAH+h7/8+TE2nMUOi1g9vRAmLb/OE/2oIYyvtgjXU+42uduBexri62coDlNS7zjLkMYDQ4mGKAIioMZpumMDpRphQBOGganFUGRNGPIjB4ULFkUD1hURAoCZw8abEPwzYf6bR+iytLqvyh2ckwoIvWYIoHCTDmjCiwC+NaUMAIMmiMIVGpJwEwymIBxJINKGIk40DKpYYOgggTEURChSngFQqCRYZWcMJl70AyaD/JNtmTIJArvGLCBhV4H1kcUjzoPSXhWk2NRlK8uuoyiglmmgY4OoEFASqrXUFhELet/CqHS0dkHKSEKzNSxpsccNcqQj6vEzZRxH1H5k7BIIgmXXnYVMDoAkwBhODQCY0Ma0PIxfjCjROKnMVQMIxsEEjDgBZNp0s5O9jOoSPCDB+Q0CAo8lQENFQcMAQhrrOUQYBJgYOAJaOGkalcnQoo0iCmsthW0kwTAEpUEZbtb6DAAAKPhdaCS5NLNaNM+OMbBPoALiiTcoUFqEiVTiSgx5cw58pBGUQHOhGXxGQSGlamiKiDGZNKBjZlS4AomdphWSJcgkYPozURiKUJMzAgCYEGFGslvHqhl0Hthxs22/Zgg+v9DmxlVZFd/nJdh34vW5ZvS+1NVX/i8vmqSlf9/5RDraPL/8+TE4G5MOjQA9zRA+5b5uhpcENtsw1MJNFX6Xpe5XjcEe2eoTAuJHjRIJLtDUMCiQIJMkEEYEScohpBlBIaCNZUtZYyCHbTc6Z+XftrbSGa68zAUEQiHsSQno0CI4gMMGWDgIsiMmpGShsCJUEnPQGSYmCFHCFFqzbBZsKkzJHwaYAxQwAAeIs4AIkLBgwKnWUBgCTacokkg/r0OwvtebujAZhSEEBvWyBdDiNdXKoYnmFwCHNHlI4OBZoI18JXoNBg8tSy9hwhAtneFQduSsibDPajGXWcyJP++Lx7mp2il0Tw3DCowDAXTBbCcNH1I0wZAbTHTMCMaQBwwRh6jFCH7MOQFM0TDrDDoEoMTAM4xNAqDBTCFMDABAwZAJjAbAIMAsBsMAFKERAwGeowAKAQIYCGmCi4IFQKKl+lUkFUMlvgAKQICQGy5AMTCBgICIgYdLTNwkucaWvmdm5qzoYinm5KIgOTBCMxIZFQRZRgYmZmDgJYMKPjGykzt5CVYw8ANLEwKjGAqA0UmMgpqYQYaOGEARARjIoJEwEFzJhcAj5jDuZcMmNghlgO5YCZQQkUwsygEV3Osmk6czXXhTZctxWjJCIHIaRRc8fgy7A0qqW7tam7SwzQP4zZukib/8+TE+XTMOjgA9vK8ktJXNFFyL/jTsQ7PuguxmDXH6a8y+QtghL6xFeT7zzLW4ioqDsVW7WK1CJIo6GuQFgYoI6KgY5zcp5Q51JSoy6i9Vxx5xlyvIyomHQEr1NMoezGhxdghYR6NRsafJAQG6SCnUeKPG2KYCY5IHFDnaA4dPFojRGOjoy1SGMGJFwCVsAlBQ9IExwAoKrpPQAOAAcssjWiqFAAMM1J+Uj39LqzaicGJhSpmDaNsorLZQnK3Yvs9ap2VrxW+YQC21ajHBgFLZJ98FDYjFmJwyzhW92Gl0cajMMWZmb1VDADTCvLnNUskwwdQgzCYIRMRwAoxdw4SEAgweAzjDEBkMIMSgy/ylDFBPbMBUZoxsChjH+GkMNwI0wawbzSxs2BGM8PQ56MPJAcikhOYWGkxSY8FCSiNE5hIkosPJBkAYYGKoBjOR842/Ph1Ty7s3iQOjJTllcApBQwGRnwMIAcZhAiIAMgD6ABFZoIWEKwhLDHBoOcTfzE3srK7YYKjFkExcYM7Gi5SJaOQGLFjqHMJMMDDECcBAIICTKTgRqBiTiaAdkI0NgKYEoZlgFBI6GjlBTEYBTPUQXIIAkJ6qaNDXpBDixqaBZ+Qx3KUy2tlOUUSh1+4fc//8+TE+HUUOjwA9vK8ehgJbtlgIQQ+Bo4yMSBrTjbOVzo2v8jE7L2wBDTvOK1OMcVtiSbykn3dWcVez4KlS8venSuV8EGkVFspJsiCGGylUQtCEBpeS9MFg7aR+HGxoTGXJ1GqIFUAMmtUrcA1ZpcACM1yTZXXkJGDw46AW9QrTGAg4hcUsRXV2hCyWWKiWBTjXbGFjo4p4rxFBFY0xmDskccvKiiXKa0tsqBwMTGoypXLUTTZMzQtaDjQuAmoOllx1mKbwVOJbDBixEwlqISVakoFCmIrpa8gMVVgFX6jS/1mRue1JobpJ1VMCLAnBZCcwfQtAcC+YDYWRgOiFmJSDgYLoKJgnBHAgHAwQwJDArB9MbQdsypBuzG7EaMc8eMz9iUjAUDyMKgUwIFcMBEG8w4QmjqkAwwpMkCzRl8zMjOSDzS3E1teOq4DUS092XOoEzosA00mNpQjUG03plPcMzIyo2c2CooMoJowqYyKg4QDhUwoNGgVTIQAhkYUYWBmLCJkZSbMFDVQIEw7UeA1CbMDGSE4KaDDxUypEaqTDYkfAAVBJaZYKGGjBjg6FiswwgMJJAiPMKBwhVSsGimkYAQBkBHzqsQBIqIHMxZ1SM7biwRdKXyTJdhLKaaPYa7/8+TE9XIsOjwI9vDavBftbh/KXz7twFSyG5LXsLrggBfUjE5ICiKCKrVzrBF/n1WM7tyK3rNLKrXcdTU3MO9Gnak8ba1Ackb50mppqLzBTgQckYZZBwEeQEkE3RzRPU2VclyhXFVa2FQEWziSsZfkaMwoyoEmo0g0gge38GJuUylqW0OyNT0gTPfguy9jXH2prduhkUdpXqkdyTy6MUMNuK/rzP5G4/CYKi8VdKOwxDztP0gJWqzWCYIh5YeXM6ZehIa2BkEQ0A0pijGFpq5c1eDvKrNouBgL+P7IJuOP5NpMQU1FMy4xMDCqqgCAYwCQHzDMQpMBsKcw/G0wLCI1AFsyXDQwUF0wcAAxtNIwmMQwURkxnMEzQLQwONwyzS82VZM2sGs8zks0cZ4ymlw0KKozxQkaEgzGFkwKBkzYVIztacwMIMz2fA3ZJImN8DBiaQJm4h5IUmjiR14AY0ImjGJkA6ZUJCyOZuUGBhgkQAoJCBoQhCsLQF7yMiAQKKl+zHVIxtiNFOTEGc164MtgDIUswqMMpIQuDmyF5gxmFhYwkCV2yNuwJAFptPMBB1ECIoBQMIg4GjQyAAUhjRnwKLHg0bEQOlHQrwaxDDP55YaHS2LWmHK5YC02Hn+jETf/8+TE9HHsOjQU93YcfjrrwmHngfh6ofaqqtLmGpYKZDQUFQNhSZ6VxcRe6sazrvfx5/591TblVx+pczKYYyoEFgJGxQFA5oCabEi3pAGsQLTKZGDB5iBOCiUBGpi4AYWJIzFA4PDEYTaUGeKUEAC1ZqKPoKAiEGHgJD5bKGKViupK4TOmypWy1aTSm4JnRKecmWyF4aVusHNMcZl0tazj3sul12W3YZoqfKtUtZZRJ0oCksWqR2DYLapSTjvNfYC4zOqdRVL1CcnKx2XK3tiokL2WQeOgG17JIv+sZOROeLUwSgwDJsERMmMFIw4xozFcIvMZ0T4xkxADAABcMAwLUwHAxTCYGXAoS5hTAzGHGMIYnoLBhoD1mc8M6YvA+BpyDdmGWSsY741ZkiCNmN8QiYlgrRk0kgGQyKCZWA4JpGpZ7VR5kk9hqaxxpWDxgCA5jEDQ0PZi6KxICo8AYFDYMFYVCMwYABLUHA0YHhQPAwDQYMEQIEgKRfAwShACiQLIXGBYEF2Q4DzDcRBGDJhgJJgmDxg6KRgSDxjuNBgqCBi0GpgaA5giHwYLA4DZguD6WJguBxfhMUdCUIBgwRDAwLAYweA8wYCcZAkwoCkmEgxBCYxPEwweDcwcB0kBgDD/8+TE/3c8NiQBXugAZg0BB4D1CXckUWYC1aZlrjOG/sBPfQ1al52cJp2KYuEnOOgC0thy+VwNhVncRCWwAdAkwAAVDVaSebZFzPdl25//vOnqZ9p6XBhS7G8dpQSUNnbtHXTQ3chNQDAS/qMymxgYCgCCEwHBMDBKYQAeVQXMAwUDgsAIHt8YAACqUtYwNc5d5Qlh9hrrrPqxCcfR24TL4g2N/4MlVbvNZUEamdQ7GprGtNX7VFXxx3jjrus+2c4af5wp90nW5lHoGblGrcA1qOimoVal8Jpn4pXLuvA7bYYEiLqxmcnLj9OugBlHSRzooBgEcZsoPZkZORp+ZBhosxl2lhlACZjsKIKR8weHYzgB43pbk0bXYzVF4xBCkxhDg2CkwDIAIVNAlBcxZgyzJBDlML0tkwhRSDCpAWMK8Jw1sCMjAhE1MPUE8wJwJTIoDBMF4PYwlwWTBFAqMRwK8wHAEE9VngUCISBsTmJQDQcA2IQMSz5gBgKIMl2RQAAZALMAQAhrRAACikYBgAhgGALGCIDkYNwDhgegkoKCMAQIBCMBkB4wAQITAHAyVgdVFkwBQDjAVAGAQDQGDQAQBRgdAQA4FMwMgYjA2AeEgAi7o8AGYCgDZgWAckAHhgP/8+TE9XoEOiwDnfAAQCqlLbK6ehkJgJACoPLqMAYAJabDVN7MrQaEgAB0AZJF0UJTppqw4yZNcMAKjUgmmcO01xo6OqUyEkDAXg4AkMAHX/DnJXEYdSPKAASIC4QAAiwDIkAA/lvuPxxqsSMAMAQs8lLLYjrH6SLw9LGpNYKgBxaAu4HABqJjoAbJ1bE+FlMFZ26nsydodAICwAqgpbR7oJciERp/nmn30oJcuZo6KKqq1mtPtjUpZrbc6WUvu+tuznnruVXD8opALL2fsIQkIXo8Jqym3KYjyrvvL+9ZtiZ48EqfZkbdlmohV88Mdcx+mtb1NQRNV4/dL6pDN0VXNZS2MGraMfMHPRJXMSU4AlsmGhpmC5UmdweGHowGBpXmPhUmc5sk0fGdRsmv2KmDpGGkRPmVrSmHTZneKkmx7AAJqzRdOzVNP0QTLEgT7iajOAPTD8BzDMHjZ1KTNUdjGUViAJTtNvzeUVTF4NDH8LTE4IDAMAaAMB0wXBkwMBZJ4tynIvcwhCcWAsvWgRbAXJZURAUYZAwAgAAoGrPAoACgIiIJjBcNDCkMjBQClOwMABlSOZgiFRgsAhhQCxgUDphSBZgUFxhQAI6AaGhgKExgqBwCBYGg0CQQBQTQUYP/8+TE4HQMOiQBnegA4hmJ4YkQXmB4AmC4Ll+2dLMVsLaNRTza2xBRd8HETGYEwq4yiAExofX5RsXkTzLMa4poYNgeIgCJgFMGAaSZchv7Er3DM5eFQIMDwCEYBKFQbcvV6+U/KzA8GxIFwwG0CIcBZgcAheBmlfkqp76Kg4AztoPxdfBdydftiDSn9d7OUQNHldIvqBKYvxRwYwSMO7ck8mu6Ye/j+NDMEQFAwJwufb+kVA1xyYpOSiXUlifr39ybLWFBAEeZItJKxZJdBnMlpccaW1rnd2bd2XV6XGGGHKJNYhmGdyiISCn3dsWt2LszFGIXi76C6z2SrJLxVTFUFSNBcmYw9xnjApFrMJoNwxmA+DCmCbMK8MgAAkiQNhEEWYHIBBhUiRGJWSoYGIHxhNhXGE2BaYEogBrnbx7Tbh17zxk2KBhgLBj2NxkCOZgaHxWMhhHsB6S1BhqMJiKQBjiJ5jCOxgqA5gQJJn0IhkaERk6L4AEcw7DAxHDIwKCUBCSiCRAsWcEACrBJXmIINmCIQmBoIioJoCgSCxg2EwsR5kWahmuQBiuJCQUNmCgAo/p1KhMDAOMEg8MOwTMHwhAwRAESDA0BTBgUDHskAsEIiAIwEA4vCYbgmFAGRkD/8+TE4nlcOhwBnugAMDZgOALXGDAITgoFwhA5rIYAzH5Yj60pezF4q/RdYwLDAwWDeQSFOaA3sfl6FN2QvapUyVNR9YIj8uX+YPA8YrjgYSBiiiCggXi6rDX+ntRFWBv2qu/DbnVZz88ptbKwwOBRJhJRFCPUUgz7KHJZhALoiAEBoGDBMFjBsDG5l8UJygKwrHH9cmcfaTqPrmFgKjQkAiANr7A5uKxeKaybBHE0QuAST5hCBjXrE+wZrsrTUbWq7NeHeU0RluNiXwy7KOrDkBRa6nFQCMFQgEAHmCQFmBgC3bf6/HL6a3ldl1BesyGs3dlDotEvxmmznN77jr5mHKRW9IdL1VZMQwHAFYUQAAocAQwkGg+bZ4zA4818ak6cV42fOIybFox1CQwqEsw6AUwXA0ACqZOAkYclcadmAahqsbgmwaOFaaesUaMqsaLkYZIjEQByBhmMLxiMSh9MYT4Mx0GAylGTINm2l/nciymVbBGL4dmj6VGDg2mHwrmEQZK5MLgtMIBYMBQJMJwVMFAKMKQQMEwQVSdQSA8wJBxnYYCSJyTREGRAEAFCwwjAEwTC8xGDcx6CwwkDlKARgYAjOMLASEQWERLAACQKHBhsKYMEsweBgwrAJS8wFFL/8+TEz3qEOgwB3egAMBwRBAEGCoBGFgGgIMVwhwTKqqVigDLLBQFLTbiqBHKywxTZPlE5TNCaYNgYpQjKAQEQJJ4jACqaODCqW1GrjyShWAEACXFLqhQA6YYAUQgEzFW4GgCXfAQFioVGCYDl9zCAIRIUQwCQqBo0CMDwPIGru62KrL71SWzGNnuOO/pYZbWAX9hDvM8gJOpfzpl8YbL4oUmAgLEwHigQKmCwAAwAAKBJgABQiAkZAISBQRAGmgnPAyTTSHIkC+lF2UJXLRRkRRX+8b9O7OuJTdl0iqw7FotKp6chue3Qw7KcbGGeGV+plzudLzv2aaYl1NAE7B6DrjoqoYQUnQtZujP16w+r0OA6GU+hYEBkBi4xgSCxfkv08KghgGDjDAiAgxZA4xvmQ/AIY1TSE3L108XAcrIkHK4YNg4YMB4IQiMJBDMNASVKYDluYEqYYjNcaMHwaPBCY+mYFAYGAAMKSIBwFGAINkRJmBgMGAALCxCmLAVFUBTCouTGgxDI0nzJAljg0qDesiDEoyzM8wQuBxhLQ5vCpw3zAzSlYZd6VgiVDIVQ5WsIrFpQcHWWY0Ca+CchiFzBoqhiahgZ5zE5iiIMMDWsu4ZIcaUeAC4ZhDTBgGhhm4X/8+TEuHN8OgQO7rE4HxoxBiipZouuOBhAYFgZUIsuRMSaQVdlVNCY5i6mVqXNXTmj7MSQAETzCBUJQYfMEMT2THW6n25z1P+05yJG2B1WINAddM5OBYmb/ky4aBmAOhVMY06SgFYRUgIBLkCoZUaFKqw9o0hAQ2trVLcsKQSo0JFOTQyF0qeDZa+dxHN02fhh0d1HmfAoSijZXmZU6qTKXiNwGsTOZ0LFRtMAVBlNx8IrA11GNy8DjRxU8XsbsQhcUHGWiCSg+DTWQIJYdSKl75RjrcWVOixBl6fDLn5bO05lMdjsMSKbjUvzpu26bGa/PPKcfyksNssSlT8Q/Q4POjIWTBzCY6FqgLAHMWuwOLPwn8hUgNJQhcQklKtOllSICesBzRCYMIJlnmHo6Ubd5RwNpmmTObmPBjQHDIOMAhVVYCAMwkNzDgDNZH0JzAYyHAFZiayEhTumYhCF4UIASNGCCAsQmJkgJETER5AQYAemHDpg7QYWVG9OwiGgMRmO3xtyEZQHG3JBepTYeCEOYyBDxiSjDomYjZjAUpiZKDmXA5iQKCRMIGQEMmVqRl0SQGwOUTQRYv8NI6pELFVy3YGQQodQRoEC3abk7BcZdayloBnVYVWo8l8iAarmeQL/8+TEvWqEOggW5vCcLDRkteChNJaaEKR9Br2uFyG7gwsRQnNunSwfkWgyIO40RFpsTusQVvYArdB6vS/qCpdUSKka7qaSy0Hkex7LmxBVFnBmSjsBlFtkInuljRmaROAIMiDgOTEWQp5KauO2zdYFTzeJ1k6aK3EYjT1mPuAu6C3qQTMxT3MrErm+htx4qGNh5nZFJCSpinTAq5GJDDUJolIaqhLShX2FwILQWuIDGfkcLgrp+3TXWkSr6DnShU/CYo/ztQA/tLIZu/Q40l2auy6neFxXEkkZTBYqv92m2deGV212Ut/OR6gvODDKezB2GrMadUUuQWVWMhBHCFdNmmrMoH0MP1SOt0zMuFXMfxcMGxMMDQ8MAxDDBVBgjmDwFmPaFHDqUG/LvA59jVUZDHhFzAUTzFggDFX40BvM1DjHQIBQhhyGYoVmdlJnLGblfn0DBh2qVSgyd+AT4Ys3mjBAkUHFiZz84b65Houhr4cMt6dJiiQcUDmvjhuKEYcPg1xNgUDFCw25FMJETLAEyVINFbDhVYwRXNkcwdBAxABqGCmlYpKIF7QwQ1UTHXBUpIkGRuUaMSq4jceg1FRYkkAHSh0ZQMuy8RMoBB0vQqQ84AJYO2JrJe0oGGiSzsb/8+TE5m/8OegA7vLUmcPs3VBh4XnjDMH2eR+39bOoqxlx1sp0y5kCKc1B7DlWt3Sse0KlBwzYn7WStyNLDQpnpfJoqx25PY/jUsGaNza02GWx6BaVfC1IKe5z5HTqXP7KWzPKzZorxP6pbBygydTck1mqqFiwqfI0aoqygdOY4mTA7sM+XsEJI2NPZ6kas5DeCIPcaZHgL7yw+4DXFfRlmcVdx/ly4tAcKlXgy1/pNed29HdxGAbDsQ3GZDBrII5OQUuy+ke65ZkGB1IGcVEldzco6+gOFFgoOe9woOn6GTTD+qqOzAxMQU1FMy4xMDCqQJSLGUg3GZqXGmAyGOA2GdcFGi65mfwchgHmAoBGDYGmCIZBUMzD4AzD0XDO0yDOkSDIQezE4djwVzYOwMwNcMB1JBOZuiaxKyALjTVKzQBzHhgIzNopNPOMoPNWOMEgM+qMOgBW81Cc2zcwT02jM3lMOzGOOhF0AGDXlzHGxkoZUmIAwFDQ8ZgSAAp6ILkVQd05LBXBgAjWL1TqIFJ3hYJk6nuX1Z5GJUPIWrABCYAkDmhqFbQwQo1LgRIVud+yBmBhHQDjFaHXHIF3wYMRBFWKdiJpgYx8egTEC4W4JVAMaB7dZU7oOmUKiTYy5qr/8+TE73CcOdw07rC0wtqUKIQoJQUyDgY9hKacgUMb1FFOoMtAqH5d9dLZQxzQIsoYrPBSmqKKI7D0UGUqOIKvqldFlGos8qlLXIxGVOmcreCh0x0AqPw0RakWUMZojskcDvOQGKGlBBBCJc8kHgsgWIrLFSVClTShwLlsRTfSYbovpJdOmCVgGORpGpDAWEw2CWGr5VOPCEIXgTiXoKBhEzKEMY05EamS/iPUNIDC7jZBlCW7XgibD1KHFCFhcCZQjCX1Cp4bZqipNJGNTTVLqtfRjQwVWTtQ7ICK73MAYLVMQU1FMy4xMDBVVVVVVVVVVVVVVVVVKfNUjGhACcHoJkAhkStDDea3QwY8zIpCeEOD4CNwCMJi4GmAB4YFDBgATgACFgXOmGJAxORyYwmKQ8YfCYAAIciTHA/DoydsZkNNwAGi2gu6NVm2+CDElAE4IJQrOJmB3gMJOIAYBRINRkDAGUkcw4GAGkBJ4MKQcBUQUNQGCwDuA6gCEpMlEA7GhCTLBlykr+FYDiovsWJkjRSIstEdUI/UpEgmFBhmk2wvpoogMjgZGCrQgR3ImA4TWzRMFHiguUFAP5EVxv4jQB7IAguRMI70AgEJ2C1C4osEKKXmFohFwhIkpFJNACv/8+TE6W8sOdjU5nDwQ4YC8rlZJ0ePIBqQtpSSQLMy/qmKGDUFKl6IgtIQUUwTuAhRGEYiVRlpGAGoJf0pCoW+SvHgT0QDFpWtMJRJSdGrAIyNYiKNDQvCgFiq2J7tMdEsgnGw2WpywhsjwrcJmuiwKFKCpUyRbQlAFFL1FFrS9mkPq1xJAwIC7HwWMh/HZDJmrvQqBq4oRGhOh/7yaCCxelyzaN95W6hdpGt90x5tdauUTkgxGJyAYFpURd5SSABRplxZVAmCks8E8MPT7BwS5YGI5aMgKMjqVFoEx4KMz8pMQU1Fqqo2IkzCnSNKKM0UCjHLLMmF86AU0hga9GaWmNeGzWmaqAtuGizVBTW2Cy5lmx5IZVYGeoGOMHARCxZLYuaJHTgizOlzRBB0EZASACBQozyDHUGoAtear4FKGThGCBYBrQ2AgA8rwDFkSrAwSaUKuwLQGCAYwiho6mEJETgcm3BHMGsmGI6IONMgcgDGXTCAEhDERDjA6sxgQaSrchLFRGyI3g1J6isp6ENgASFyQykgdBwYEPMIARBiICkMsJWEuYkIAAXmLPhxbZxCKX5YsJWDzhCgCUDOKSEJYxoYvyFVSEcSJTCAwYIJBRoVIHRU3hYkWJAzoVKEAoX/8+TE+XMMOcwA5rI4QIaZoBggcAVRkGRodCWDjlWjIDAzLJBgY8mChUITCBFiC15mMgp9GoYAQ/XMKBgphseSEwwRC+ZZcHKrgSEGiIci7zLTdhDNYxNEgIUNNkGKGOGKGFvkFzOEBTxZWEq4QiHB1BgMY9CtalaAdWBmS4BUF1y0CiCfokFBpMCQIISSoE4zURCKrh6CYEREIJguGxtnyscOFDSswMIcRdqooJGiZ9g7M3MUFUEChSC7tgUeJFrmUqOAANCShQuVLVeakEi2cAoBjS13HAwSvkKxYFm6wFVMQU1FMy4xMDBVVVVVVVVVVVVVVVVVVVVVVVVVVVVVVVVVVVVVVVVVVVVVVVVVVVVVVVVVVVVVVVVVVVVVVVVVVVVVVVVVVVUFp76qVY1oANsszGjkGmJlZGPIYnKYRYRmFGYeNRUNwOcg0YQHqZq4ORA26MjjGHWabxpiju49qgBGlDAJVOOOiEQQqmCWBoA4ECmC4AyGDhhBwEoG7lbUNk+gFhOMMw+SQyBzME0WQCjkXgcpxSQDAVSo8pMvBDiYYtx30ZB8pIWXlqTGcFAZwwxigcJYRxyJUOseQSJxQ2XmYQmioKtkRAAJQKBW1HGRDRRGROZJpeAXGm0nY8r/8+TEt2K8OemU3nA8JPEhLGgajZ2wBAMjxOPtDqqsXYOtqNQW8blMsYfEINLtRZcZdZXyu1RP2nQXZl7WYAUtXkixLFoNSn162F+I2sZZTGn9Z25CMTlucpktlYSNq/giKMpRZaDBqnlrturfBdE4KWS0FYVSRiZYNhADT0x6VW9lrPWDP6zFnTVo+mBFI86mTeMvgZkD2u47i6I2uqUOuvhvWXv+3R2mktLXO3V0loKbJkxx32BSGXudGWvsHR+iLQVil/2gsyaa5sUet1kJaezOGjyVvqVb7L4i+aE+mkhMQU1FMy4xMDCqqqo3UsDoNBMhMcOgRmYghHHMhmQEiMxQOwEQTOhAFnmYrTRj8CGdBCZEJBgknmOAIYJEhk0iGIyCHF833Eiz1PCA1Ey4gWnA5pOmSiHHsbD5g4k74sQAJTcXNaQuyFHQFOAggiY6CTYGMI4yALelrzNMKmTaH5iTTzYzmXwu0IAF3jBiqkLOFZmaDXDzdWI4NFEgugkBINhJgIBiIWjqQtE8ON6QcAcqvURIBCxgCG5hMWaXKa1kjSYocVQY81NQByCRRtYThMRCwsIcsGW1TpLgjRw+cUKgxqQc4yIOwwiJUSXMFtgz4K4Y8gJLIBRBromBYQ7/8+TE83GcOcgA5nDMjlEhBZTLjWQGgMBgTYikY0p8FkHfCyQMkksX8TGUmmg/oKUTUHorBmxI9kjaRSA2RpCsQtM1sIXF9EwCBAxwDjB3giihUMo4pCoEgCIwXC4SIhoYho3EDtQzYeQQVhQ7i0zWdQ1K1laqZe4DAlU2zwkaoKqYveXHEpCT1AgIOXKHtfYagQL+hYxuKaROqyhIJc48AlWokiMrUo6iqPSQ3boDVv4F1Bkx0TFWVFrxh5dpJ5TIRggaORVBHCUtG4KFrSL0l61quOisDXhgl8lvWCNlaTVMQU1FVVVBupKHnracOIRqsTGfRsZwMRW1NeMHnJuIZnORttIHSGNkG2UmTGGHNGJpGnmmjxG62HXFm0IAruDSZjixmegYNCwYwCozZ4ecDU4I3gESFYogJGgLmTAmLDCIA6gTeECER9dCUvIw3Vdm+MaMCh5hRg0gFLoUBloBYDEEREGQ6kGGGWcguZcoCEMMcQCiy48KJAiVRadDkFylBAqABQTCDSCRUEZQc+JXMgBJJhgDIjXEGBI1P0DOSVdaL5oFImAgIKklBgdmhIRYISRkIxwC6xfYYRFTQQuxGBW6qLiI9UIjTMEULhJCpEBlMMM6HXygRuD8kYghHFn/8+TE+XMkOcgg5rI8cMNKw2qpCoYmmcYJw0aCBQo60NXFtHktOraDBQ84TbR4Q3RRNQpuyg7dG/gov+AClMS2QVDFQRdMBBiSCMSBhfItoHWDo4yckcpuKOCAMv84LLEilgmSFyhbpEYAhIlK4LUPKVBEhCggv0TMJpsITAbRMNS4EjqGMiYMrkiGT6ZOzJ+guEsokDYmnwgML2J1kSIOPbmHBtKUMbOoI377gAdqEkTOdBcYGXGhyg6LN5LEvU7UUQMCWZEYqUCwoc2vuFJmKuLZsyZOhsWhQgRxVrawX7VMQU1FVTOQcjoM6TM02A0aMqJT8j8SkQc9mhHIADBcpODDzF2I0ArN0GRovNeVDGwAGJ5qRCbmWgEZTWJFTtzC352OGriRolaJvBAF1wDhvJe0ByuDMbSWMFMDwiNgBOBZcKnjwwESHTi6Ia4GgiJo3UQuCDzC8wkwPHN2EjgcCAIwuGFhjTBA0AjbA0xpuChzNzGJJsTOOXcGGEq4WJSrSFCi4WJLNgVQt+8z6hEACOdgMRFDi6RljMhcJ5RUZO0RgFDQOCLeiyThI9qtLvlAryqVAo9vAMUXYL4mEYCEFMi2JKWMIIT2EiUQuKcJBcRNUVaa4W5LxI+iEVm4oAP/8+TE+nOEOcgA7vIUgSjoVlYGikw4xlkcAAGEIozGWuQjtLCFyZtySwYBlS4Cl5a1f5Z5LlMdjhcMKkrkL3F9AoAlepmTYmMCFxy7K4EELNi+yjJEQXnUDAqZfNZxqmrgEhwIIQCiINiyR6mwXMZ8MiLuGh0yFmsiGB1LS5qbxbJnigimo0c0xAm3FrCNilgdGZJRMQlIKmtYC4jPUPwKIDj1rEIalSJq/EqBCABgVkoSw4gDMISVHQIAmSoan8qwkEAAy2SqS+KHZZSn0wXOU0XO27smGSBlhopH4mCVw1o4shj5xyNAsg08GMiQzbwke/TRjQyADMpJDPEYQx5tgcYCFmeBpmamkOZQnhBgDsUwqFMbHhIUNBBTDx8ykGM/ADTLMnkZtOhk6xTMIMNwHcmRyXtB2oGPMrMLQhrQDDC44l4DUhpY6Uy2AtcUZGoUALkZyIEzyxGWYQAXBBwAMNeAuOGXFFoAeAUbcgJCX8QNMw00U1ByQoQioelBpmINfNo8MGYAGXiW5e4xjTDBFAUQU0UziJ4COoSy7w4WVHgasreGEFzjKGQRGCEMgiVAYMTDpng4wCqGWUNJF+EtRCWiM10cLEZoOWAhTzhcxjLlGKYl6FxFNgMqgeXfEQ7/8+TE/3TcOcgA5vIYWdEjiJ8aCEpETgiMKFgCFBOj4mmyJElXaC5pBg0Rt1nsxAgyylir1GhIoqhES5YdSZpa2whsLno+GKqLbLlTWNEVQoxhE+iy44A1gHDDUiBgYKtRG8FCJoBBQXELZJlFoiABReOhx4oQLJPMX8VsMQJEcyzUlEIlNW3MEERnp1IXQFPsaStGjC+CgzK3BUcCoqDywblLDPc/RMUw5WJa4MBQGLGWULDoVjArL3eR+aQg0DAlURoQuiQlt3GChZWSuKxdDVShsY6CWuCgIkQGGIoKWpCKCbEOh3+pmn1YaoF5pJLmZwkYnARkgeDyWMHkwaLpn8eGE0oZqB5j4+DIXMmjsyUHTAJOMliUwSMiQgltwaDTD4zMCDNoBKGTIoZMCAMoPZg0IGNhmFTxBGW8EbYQqdahihnuwYApggAE4FmBrwKKKGwa2TIkRBFMBFAgo04V5A5AGEBwSNwlaZg6SoKKU1KNlDAEqLcCBYzYjOGAAYEEGR0AhbQEgF7RYNPU0R1igQwQAv8lUaIhMKXYHzgayWbIGCAVDi94kk/BQeCiH+HlsFGnItOKZygZD7BqnGTmBiwUtV4MeJNDHhd6W5nUAoizi6JvUEdBoS/6AQIcIZj/8+TE/nT8OcgC5nEU4YJoCBqDKHIap9glSJrU0JRgVYSlQFCUgYw0uElhzQeVYAh4KrUvakhKN4xCFAUquVhYWxENS1lNdMYEFgkQiDDAmQOUW5V2yhghZOBRGtQoKkC4hxIXYMIXKLQHQp4IjCQGviHJUGhxR5ZEkI+jRkRU9C3IhImCXUZqIwpIFUJM9+lL7C8p8cW15aZjQIEgASi9OAaM9VIgIb4GiQtagcmIRrKLPpwiMEGAYCB4IcCDJAAUZdBRwBDMAzGMa0RfBI3LEgmYRZhIIvyQhMqEz0QAY1rbozUwTDMiDDL0EjBwcQhbmeAZyjDsVTI8JTPpIEkRgfGdZMGRBpsj4cUVks+ZmeGLPA09GTGp4jAZMAE28YWbmmiggN0BpgxsbahGrkRixcYgElqDCR0EDphZ+rAYQTmdBhAJGVE4OQVgGLg0XNDDAUvHQ0kyZT4WKT4NCAIKMb40MjobKpptNAKE0UiLcGJmPICSTGUGkAVEBpzrLGYRCSBVjGSF9AMQLdGOuAEAMKh0D/FUjlTLlnAELMl0i6Q0kQFq3BD5hKGZAZBoJQAorVTBEOAUxiQVC+wDjMBMHLjWwBHIEgzJB0OMDKjfYEcwGyWebgaA1dYEUMpZh4//8+TE/XsEOcAA7vJcCrDFmA4A1BAKAgucoJkCmwYFGF4BIg1gNVmMgBZAwgzEUlQAQTMj1AwQVhhAiV4tCjqJfheFogJYMQRMcMnInzWCa0pUZjKE4IceAvikuLIGhSjcYaqlQUcQoRlFTUEDfmSmZAQBYM1wBVNYJQjaTQiWUn0YATtJXgZVSBjCAg1dAQOBg2rGIMreVURkYuSitVU4BAZbUWPSjLal1SIyGDBDQTlBam7ap+o8F4RCQIVFRCMpSBgCiwyYBcIqAiE9orOwMay0DDCx0SEC5f0dFSCXxfVtelAiOBK3g1Eui0oDCspIB2Du4sEzhLNWNNhITghiM8Jkz6fTJRDMuuAt2YeBpo80mDRgYcDQ4OzFJiM9rQDSQOPRmFBf84ZA1kkQXDTLjBhjRHx12EcjChQaVMMqOMINfMPgHCMAfeNCYIuYhIEDVN43KUIQGSpkBIyiEMuBiMCtDfizHlSpiBQW4Cr4NBBTJneVTVJKAAQYICCaQOMCgYYuKDGoIvEyQiUdJU0bhMxm4okaxporpDgQULhBDI06GBEUgOUMYtCuBxkdD0QHibIWQAABeEy1wQqoenaJSNeMccEAgaC0Aih6NigdWBGFzICy2CFxC8AhEMTPbEn/8+TE5HdUOcgi5rKUceqJBUUw7ciQAp6SDet6q0sKGEO5YBNSKBADqkBAkcXzCMFwmHCADyqEABEw0nQFUBly35RANMLlSrQoMowwVxJ4GjA0ADMggAKpg4AFShxSJJtBpDix4k8y0cAB05E6zFyHjFTF1BzJuhl5iUcKHhho8wIyGml6wIQJOCMEkGBy70BAIYw3RgxAIuYIHdBm5pAlrFA2wtbGSSEFlgGNGQy9yRQ6O+RQGpe9pYJXcGApJpsIpJagEJbqvVoosioqe5dC42QexQyXdaRsVCDtBxEdRL3AEhtYWJZAIkumYKY0gCUAqAGDCpokYXgJjQsaChmnI/hIBeR31UGoCEcfphhOAm7EWZmIpikFGfCGY5FxhgDGBCYZLDxhBajz4MuHcxUbzIgqMlmYwIRTEyFMfBUQkAxgVzxQz5sDWGjt3gSFMAkBYY4VE9RczykNHHKHpVgVGIEpAFNYMNi2MqdM/AAx4GiDIljSQxASM+EZE7YMIO8gfBMFkFMgBs1egHmIFwE6hSaqTqFVYzQyhgKDgIoQFMeNEI0x0GUejFBTcFEzAHHTjODTmFgQYKvgRkgBeVQECDQyUMZL7mtCiOwdrAiLjhmEpgmIGargqEYoJiHjJwj/8+TE2XosOcQg5rLM2RESbYgUZM+BsoQkLDGweagZMIuwGFmMy1xY6QQBOTNWDTlFDVMFNQYA5xojnFCjKWeDqVnGKCJCCM0QGMUHRzBDTlERRCUZY4QICnx0Qve4oXCELZAMEFBcYLgFnk701jgFQEGOWIgC6BWuj4QDIygBoRqqkQqLuoyvGXdM0wRjLCGuIpmZiJEagNBIoXVdWebqowlAjsarAZGW7QWKGTJCAobxBgD6hBChqUDURGIk2kGZS5QK1JJwcDUteR0hY8DMpgp6lphphASHDIVFQMLHkQIjEBwhe8CjFx4AFkXRkZIMiyWdDETPQKxyUUHAOs4xCaosyooCHQgoUUHA0oajMMVgcONaXOGAtBgsRDIlIHtZIjEVZhU0AoWYUbiIIVtCocGGJWEmBCZCGGVkBdcwwJBQyocLAzpAQEM1OD+xjDNgCBC9BMyplhtgC5HC6CIBuOjW6gA5VMfTLJMw0KCZQWEz40TAYU5meGcAhIbVAOyw6gRREA3T/Zz0NwArBWExJ4gKGKShUQDRwsaAooMDy2UGDCRMGASI2GRUB5cAxJoHAknmTM3QgAR0w4AwJAaHK+KAhKKNSMMWAYAYEam2TBSoMLuI6jJEvIBhqlohACD/8+TEw3ncOawS3jTQAhwQUAGVTEB00wEyo4dVAa+FiZyFYCMprGHFGAMhBMWMkAcxhgalgY8Yk+CmgUKHBNGLWJcm3FG2Bm2PkKArBjocaMDpkMMmRCIDVcCIatQt8EDkJg0HWAAwGHESliBYWLDXCZ4p8ChFKGNiEErOWdbhGgSODBZAVCgZE4aFK3OgVQ6IqTyVrKDGhm7rRVMpgXaGA4kCVid0gCL3CohmeK5V4gpSg2lQFAYiBxNnjkoOiAGYUEpqBgyDySDAy4CAFkhaJAxrwWApbmSCGTBjxQWdmUJmTcAoCcU2coSAnoKJphjJ0zBEaIiwEDAlwKZCwELBjHgB08Z8AFyJpEhh9JqDCJaIwCmgEqYYCYwOjYLDywCMQL6SgVIKNpYDI4FGjHhAwhU1usKO40g7HBgyEqCDs/NgSJglgRaBkBJiGXhVhgtAaCHnALMktWKhcgCcik70OsyAJkWn4SGRvOi0qkTkvlll4S5LgOszFIwt6+j5xV4n3ReIhjALRDAzIFML/hhINERvVYW6XQCgmet0YN8vL+rVgFMpPMxCVYGVootYMEBnMICwaKBiiKFMwLTI5ITjFIKBlwAUBOM0IRJVDgWgNUAKIm8yXkWHdhPYxRjALTP/8+TErmv0OYQA3jI8AuEHJJqmK0AvjQVVWAKBMUooY4AgVDGQQO8hbVmQgbAYJdYqDkTBtrLAmW4qRE5H51hGIAmkOJkBqyDJAYlKWEmIGzhVMt6IwmCIEUWXGqxxE5iUKcKLxRTJjzEZhrwiBTTQtQTK7QpR6amirEGyL2cl8GVmAC1ijbuxMuKXdXIs5/Ehi/xcpoABGQJskMUhUYIJByMKApBMMYAbURAKZgajUWLZJahAIEDLAABGCHkFQKoDpgDACvhQMDKH3gAPT6NMNARsg7IvCYyocbxKlui+jTYUi4JIEDqjMJM/YTLOJscQDkDhgIlzIHeyoIiwFSDRl4KZgoFTFWFEIWGRFMtRCOMI4lAoFHpj0EERZBQKRILKA0Cp+jBDQAFEYa26t7lsqQDFDUchAUe2W0X4/zLQgEMKJhA12GfYJEhNReQ4BcIWFAiuQhafpaYWwDiBYwsEdDEQxRxrMNqbug1lDohoYIMwFBGLE0uFgRoGl4gAjtlRpDEOHt+XALwM0ZmiOXIBoVp4OGGFEtkLdtOXQpW/zsKyF4FWpNDQ00Jku+XiDgBlUoQXMeBMQAMSBAwQcEBB0yoELBCIgSlDVADJg0IBFKPw8MKJR0CgkKjg4aXjEYr/8+TE0XS8OaSg5jReGnAcXUsMqnApIOImBBoAjFCAMEGAxrkiDRgx660g1WmFFjQNyTBg1AUA6daqhKDMSHMaHcpOdaBihDaISGILoxqLkEAguKgsq0GDBwqTH1FTBhQEgEIkyItD5fgEDAAABiDdEFgwYgnAodEZXK/0J5AELxLlCwYqhxUAs1mD4paJDKaoNCwgRAkhWBI7p1lrE5FNUHjJBkJ7uGHBgAIugSHjQgaBjIUlHDhMSDmHAigIAEzKhgEoNM2MTbN6PNarMAgLlNaMcGYXAygCZJlTaAILHBpgYcK8zKjAAzdrZgzpktQaA0YokUGUAZgwKRgVDqVNCBpEiNDwBqS2WJAVCZ0CDAIa5AB8Sii04ECqG0STkGQCdQZZETBVxd8QL/LHiiIA8EJIsBUFXso0wueZonOkclCxBglKlbDSa0tHAgvwijBasC6WVtfRbTsaA3FkyYKkE8XRBIEwoVG1il+8hoLLRI8A0LVNVTSDCBMQsAaehYBWYDwcIAsVBxCAq1CwwYOFRhEIIDzCABNSJiwMpS/xdkwAPXoYqMgkPccBGbDpeFTkWDjLBgOSiwwiygZiBppGBARCLBCokORDJioKYSEmViB9J6W1BVRokHcaZ9JrjIL/8+TE0WocObz03vL84sCAUQEwaiInUNZBDgC9VnAyIJVNmctmAUhJ4FLsTQ6JPpLAxBG5WEgDdVLJmjK3CRXEISz13zRdIKgwpDuk2vZjKE6DI6XMaKiPTKUpuxdOtLZuS82usKhcreF+1VHvaUgMul5W6M+eVn7KOOhG6FRCMRtd8bVhYal9BUWbRdkEF7FuugpgqFYdjjAHyaGzeVszQXBj6233TkPnJZ8vRrRJGAQKOxBriOb4jpKVg08n01JOQYHc42pRYJHxkgJFUfcdVQu4p2NDydGuOKjdZehddR8wDl4VCENr0VEIOC5gACg4hgQLpvpDGAgOj4IwCDAMhsoszlmSuS4AqIhCCyULA4YCxQjBSVWEMoQtCXzJgxAmhih6yxLZOdNZNQLmmKGRHgkQFCjQTO0DhUkcCRTMkBOJIJfiEL7JVsCNZoZSnS8SkDcQiyf4KJVA9w4oMEq7BSojCYKChy5oVBdZRwtszhHkHaA5JWcADlym4qahCRxCmE0PaGC2cwgCzAW4kCEwvFAUFhgSgEHgAiDrAYIhYnHA8HFwQTA5fMEEgIAiA5OJNisNMPGwYWGVC5homnOSC4OLzByUDA5hKQkMYWkiIXIR4uEx4MATDCoQiwOP33D/8+TE+3rEOayo5nbcwKLxJgg4TLhK2O2TJIVB1kN4CAoUAGfqpFUES7SmMEAy4qrUgFWDoMRC4IARYWiY8FDRQHAKXxgQYHAoiDAsAIhBwWREZICBg4hWhNEghkYUDAQDoVpVSCH2jg0HeJeKoEUxkGRUUwTpAoSpQNCiCJBHGHkEAMXUQyS9AIEEHY8ctAEAEj2lILDwcNpIozrCGGhQEDQ4KKgAYKiAwTSAGAMXLRgDMRBAMGo6mIhI0NGHCSmLshQEIAkMCgSXggLEIKwgwoiJCIwNyRBQBAokIgRJcOKC6UUFQsLBSHUxsABgmmsChAiEEBpgoqASQxIMQuADWgcZXBMCBAxKH0tQQEDAgJFAGjwYABwYE1NAQD2GFtUyi9phgPFYVDh+FQYIRV9r+LSoiBB4EQBIsMr8eRMZVoKDR5KgZdZYrORkQbCdoAkMdaFAxASRHPNDCCMlKBSaxy8QPjU0GZyq+QlCSqczbByYsaMAIPhckaGiyXbIyqORBmCcX/AgTX1JAoQorHFykox2S/pMGBwCqiVBgwAUXMCk0JQKSFFGmBYTKpEPHplQmIAMoMBCPDp8NB5m4oggFmAKCJjjYaAGGTBY5MmnE5w4OZeDmNmRiBCQmQIEjDz/8+TE43s0Oawq5nbc1Ji9QQFCBhIoYMTCTeEDaeaG5gQAYcMAJxAQYFxkwUBNCFEd2QlYAttEceFWdLVZbDzK3+QMDBqGGSK3PkNBSHpgAA3MQA6CMuXAiHQeCKUGBSYxgIAoAFhgt8LAaWqYYIBWxolgYqSNCBoHCzXhIeSvDgceCgQBuAXkDitOhDRGJGhZL6AUBSjacj+84oBuwvYFAhUD1GkaC+SvlTsmReYCYSKBgijAiatUaFRCDIcEjxRZLSCAlMFSjZykyE3MHARQnBIwWVBoO7SQqlQhBQCcs/AIWYqFpmkpCClocBQKkoTB4tAoCYcECwUPCZgIIMBQXAyqHhUGGi4wAHgJBUDCCgpiQo1wmHXw1cPARDbCAxkBMRLBYWMSLQQLLkLwowqbERIYEHEQ0gMCgMwMv9GzBwhViDqF6JoYOiQUNARhQ5eouc4rUhwWYYOXoAxQuuW5AgddlpXrTEAqxUjjFhniaggRMENRVTqkoJEAUYDgREOQORzWWs0IEEgtSBhwhcdrpgyRmwSOoRIMONS/GCIkgLCQAhi4Rd0zQUZCihUUImKHhYaAh6H5ihKt40URyM6CNySNKOAjYxxQxikUOhUoEETtIQqBNapAQUOVgImIVyH/8+TEyXbEObAy3rL86pScI6ag4SnAEKMo1OszDizQUHkgQaCSTRdZoLEGESDkDJhY2BhTKHMdg6WjZGDvhC2EJCM1n7SgSIWmWSKDoWtHMohDsIzRIlLhu4QcYYqE5BOYpQFEBgqJo0gzUIHFQwgcFBFYpEkvQwhACUzKB5GDTWdiEpVAVBECYQYFyXWQkpOlrhCYiqjCCRGZIokwiCctyiEYxIRahtDIWBEgSIoaSVgagPHMoBRa/UkRAGhNX2X7U5YMkokE1tCcp8WGDmg4gEGK2J4pmDxQOFAVi9S15NlAYQmv5rEOjRanwhEyF0kAY+kuAGA6AMwNb43EihExESaoOiFsACMEdQ4jiJJHkQahA6mWTBQB0BF3BCKCS0xBTUUEPA1QYEDNEMj/YumaniSWsuSjaYAqsBIi/S0WgxVkTUkeVmq3MmcFiLhInF4lBl3P+DAmQZcVL5AMmE6zWaLAQYQoL0OUskAznP7GWUvIhihq2Rg116ljSd6C9qOMFQ2qV9FBnGWkkS0hAM56mKQpbFZoVUZjoirBAExrUJGRBLsvA/MSlzckhmbKqggJkSYQIbO8yov8WaQBLGhtOZmyaKAFUpcFVoBkfeGgKYLyBUACMj8l8rpYFTaA0vT/8+TEvWQMOagAw/Egs6Yjmg4KK5CpoYUCRWLvILP+oC3qRwEChrIZTLZlrL8BUAECYCmY4YGWR2BXCWGUxSJb1pSxl3Nel0BNZkMamYILdFrmFlpXmZ8YUAJzBi8xlIW+C4DEkSKjcpJcryQeXNBRYbZ4WSUzMhVaHvAiwFVhLEDCJWpdr4OGWxY44qCIzmBwkVl7F9TMFfjLVgkrhQJqaDkwK6K6XhZKIwG/B/4d2Aoy6mFgFRtMBhGEgKM/bRC2SsUGgQ4Gi3BpywRnoffHvRqOrgtsVBnKYsAzuNYC5SpMOdvsajuIcANlikQLVRDqC/kwXoQ8BDfCkgEtREwGHpDMBtcw1QRRAa1CyQLmRQoSmxxEDUpgjwMIBUKiAoeqopWsIwdii6WlQXUjLDk0Ulk315s4gezOuU3FwFxIAi5qOyqa+FH03hQUKmGCwFmyqkKkjghAWMqDj4rIBaBScgcEaI4YOJjrxDOKUDMhC6MJDJJIMOGlVQRsghILDIJ2ANjZkoan4oGiwBgQaIQBogKZsAUTFQAYWYDIhaIUwoMW7QQEopCYIlQQ6MtCqYMGLZoYINkgxAWIESU4VJLUIpq4Z2zBR1MlNpVdXC4lcrmbC7EhlUbe1gymKwS22AP/8+TE/nRMONwC1nUc8Ud+HXKaS2J03YlnZc/rpPTAEBukrcpSnsoqo0ttWRDiDRBgygIMipYlHjgoqjSEsIkYBXGTfGAgjLYQqREgJFIq2EUkC1DM4jAXyScBXYMYEjsRzBzCIdRk+QU1iCsYV+AGg69IZw7fGMxg8xJdBkgw7MwSYKqxRsF4IUhCsAVbgxQYMyYQUYEOCAwNDhYQOBBkGXkQBlAgHDjABxCMJRZKBWAeldQKAmHHAA6VEABLgECkA7zroUgEAIBIWBDx8y4wxRsRmhCRBgQRgyEUCD5j2VVMQU1FMy4xMDBVVVVVVVVVVVVVVVVVVVVVVVVVVVVVVVVVVVVVVVVVVVVVVVVVVVVVVVVVVVVVVVVVVVVVVVVVVVVVVVVVVVVVVVVVVVVVVVVVVVVVVVVVVVVVVVVVVVVVVVVVVVVVVVVVVVVVVVVVVVVVVVVVVVVVVVVVVVVVVVVVVVVVVVVVVVVVVVVVVVVVVVVVVVVVVVVVVVVVVVVVVVVVVVVVVVVVVVVVVVVVVVVVVVVVVVVVVVVVVVVVVVVVVVVVVVVVVVVVVVVVVVVVVVVVVVVVVVVVVVVVVVVVVVVVVVVVVVVVVVVVVVVVVVVVVVVVVVVVVVVVVVVVVVU=\" type=\"audio/mpeg\" />\n",
              "                    Your browser does not support the audio element.\n",
              "                </audio>\n",
              "              "
            ]
          },
          "metadata": {},
          "execution_count": 12
        }
      ]
    }
  ]
}